{
  "cells": [
    {
      "cell_type": "markdown",
      "metadata": {
        "id": "view-in-github",
        "colab_type": "text"
      },
      "source": [
        "<a href=\"https://colab.research.google.com/github/Tommy840602/CatBoost/blob/main/catboost_classification.ipynb\" target=\"_parent\"><img src=\"https://colab.research.google.com/assets/colab-badge.svg\" alt=\"Open In Colab\"/></a>"
      ]
    },
    {
      "cell_type": "code",
      "source": [
        "import pandas as pd\n",
        "import numpy as np\n",
        "import matplotlib.pyplot as plt\n",
        "from sklearn.metrics import accuracy_score\n",
        "from sklearn.metrics import classification_report\n",
        "from sklearn.metrics import confusion_matrix\n",
        "from sklearn.metrics import ConfusionMatrixDisplay\n",
        "from sklearn.model_selection import train_test_split\n",
        "from sklearn.preprocessing import StandardScaler\n",
        "from sklearn.preprocessing import MinMaxScaler\n",
        "from xgboost import XGBClassifier\n",
        "from catboost import CatBoostClassifier\n",
        "import plotly.express as px"
      ],
      "metadata": {
        "id": "6h3Nppvbtm9t"
      },
      "execution_count": 45,
      "outputs": []
    },
    {
      "cell_type": "code",
      "source": [
        "df = pd.read_csv('/content/heart_failure_clinical_records_dataset.csv')"
      ],
      "metadata": {
        "id": "Z0ko7sHot3SH"
      },
      "execution_count": 49,
      "outputs": []
    },
    {
      "cell_type": "code",
      "source": [
        "df.info()"
      ],
      "metadata": {
        "id": "KdOhsdYpt8Nv",
        "outputId": "8d477d04-566e-4c3e-f93b-908617322247",
        "colab": {
          "base_uri": "https://localhost:8080/"
        }
      },
      "execution_count": 50,
      "outputs": [
        {
          "output_type": "stream",
          "name": "stdout",
          "text": [
            "<class 'pandas.core.frame.DataFrame'>\n",
            "RangeIndex: 299 entries, 0 to 298\n",
            "Data columns (total 13 columns):\n",
            " #   Column                    Non-Null Count  Dtype  \n",
            "---  ------                    --------------  -----  \n",
            " 0   age                       299 non-null    float64\n",
            " 1   anaemia                   299 non-null    int64  \n",
            " 2   creatinine_phosphokinase  299 non-null    int64  \n",
            " 3   diabetes                  299 non-null    int64  \n",
            " 4   ejection_fraction         299 non-null    int64  \n",
            " 5   high_blood_pressure       299 non-null    int64  \n",
            " 6   platelets                 299 non-null    float64\n",
            " 7   serum_creatinine          299 non-null    float64\n",
            " 8   serum_sodium              299 non-null    int64  \n",
            " 9   sex                       299 non-null    int64  \n",
            " 10  smoking                   299 non-null    int64  \n",
            " 11  time                      299 non-null    int64  \n",
            " 12  DEATH_EVENT               299 non-null    int64  \n",
            "dtypes: float64(3), int64(10)\n",
            "memory usage: 30.5 KB\n"
          ]
        }
      ]
    },
    {
      "cell_type": "code",
      "source": [
        "df.rename(columns={'creatinine_phosphokinase':'cpk','DEATH_EVENT':'death_event'}  , inplace=True)\n",
        "df.head()"
      ],
      "metadata": {
        "id": "A3bi3-uHt-WQ",
        "outputId": "9e620d5d-01f1-4909-a182-0bb34692650b",
        "colab": {
          "base_uri": "https://localhost:8080/",
          "height": 206
        }
      },
      "execution_count": 52,
      "outputs": [
        {
          "output_type": "execute_result",
          "data": {
            "text/plain": [
              "    age  anaemia   cpk  diabetes  ejection_fraction  high_blood_pressure  \\\n",
              "0  75.0        0   582         0                 20                    1   \n",
              "1  55.0        0  7861         0                 38                    0   \n",
              "2  65.0        0   146         0                 20                    0   \n",
              "3  50.0        1   111         0                 20                    0   \n",
              "4  65.0        1   160         1                 20                    0   \n",
              "\n",
              "   platelets  serum_creatinine  serum_sodium  sex  smoking  time  death_event  \n",
              "0  265000.00               1.9           130    1        0     4            1  \n",
              "1  263358.03               1.1           136    1        0     6            1  \n",
              "2  162000.00               1.3           129    1        1     7            1  \n",
              "3  210000.00               1.9           137    1        0     7            1  \n",
              "4  327000.00               2.7           116    0        0     8            1  "
            ],
            "text/html": [
              "\n",
              "  <div id=\"df-39e153df-640e-4e5f-b3d5-05fc56683ef4\" class=\"colab-df-container\">\n",
              "    <div>\n",
              "<style scoped>\n",
              "    .dataframe tbody tr th:only-of-type {\n",
              "        vertical-align: middle;\n",
              "    }\n",
              "\n",
              "    .dataframe tbody tr th {\n",
              "        vertical-align: top;\n",
              "    }\n",
              "\n",
              "    .dataframe thead th {\n",
              "        text-align: right;\n",
              "    }\n",
              "</style>\n",
              "<table border=\"1\" class=\"dataframe\">\n",
              "  <thead>\n",
              "    <tr style=\"text-align: right;\">\n",
              "      <th></th>\n",
              "      <th>age</th>\n",
              "      <th>anaemia</th>\n",
              "      <th>cpk</th>\n",
              "      <th>diabetes</th>\n",
              "      <th>ejection_fraction</th>\n",
              "      <th>high_blood_pressure</th>\n",
              "      <th>platelets</th>\n",
              "      <th>serum_creatinine</th>\n",
              "      <th>serum_sodium</th>\n",
              "      <th>sex</th>\n",
              "      <th>smoking</th>\n",
              "      <th>time</th>\n",
              "      <th>death_event</th>\n",
              "    </tr>\n",
              "  </thead>\n",
              "  <tbody>\n",
              "    <tr>\n",
              "      <th>0</th>\n",
              "      <td>75.0</td>\n",
              "      <td>0</td>\n",
              "      <td>582</td>\n",
              "      <td>0</td>\n",
              "      <td>20</td>\n",
              "      <td>1</td>\n",
              "      <td>265000.00</td>\n",
              "      <td>1.9</td>\n",
              "      <td>130</td>\n",
              "      <td>1</td>\n",
              "      <td>0</td>\n",
              "      <td>4</td>\n",
              "      <td>1</td>\n",
              "    </tr>\n",
              "    <tr>\n",
              "      <th>1</th>\n",
              "      <td>55.0</td>\n",
              "      <td>0</td>\n",
              "      <td>7861</td>\n",
              "      <td>0</td>\n",
              "      <td>38</td>\n",
              "      <td>0</td>\n",
              "      <td>263358.03</td>\n",
              "      <td>1.1</td>\n",
              "      <td>136</td>\n",
              "      <td>1</td>\n",
              "      <td>0</td>\n",
              "      <td>6</td>\n",
              "      <td>1</td>\n",
              "    </tr>\n",
              "    <tr>\n",
              "      <th>2</th>\n",
              "      <td>65.0</td>\n",
              "      <td>0</td>\n",
              "      <td>146</td>\n",
              "      <td>0</td>\n",
              "      <td>20</td>\n",
              "      <td>0</td>\n",
              "      <td>162000.00</td>\n",
              "      <td>1.3</td>\n",
              "      <td>129</td>\n",
              "      <td>1</td>\n",
              "      <td>1</td>\n",
              "      <td>7</td>\n",
              "      <td>1</td>\n",
              "    </tr>\n",
              "    <tr>\n",
              "      <th>3</th>\n",
              "      <td>50.0</td>\n",
              "      <td>1</td>\n",
              "      <td>111</td>\n",
              "      <td>0</td>\n",
              "      <td>20</td>\n",
              "      <td>0</td>\n",
              "      <td>210000.00</td>\n",
              "      <td>1.9</td>\n",
              "      <td>137</td>\n",
              "      <td>1</td>\n",
              "      <td>0</td>\n",
              "      <td>7</td>\n",
              "      <td>1</td>\n",
              "    </tr>\n",
              "    <tr>\n",
              "      <th>4</th>\n",
              "      <td>65.0</td>\n",
              "      <td>1</td>\n",
              "      <td>160</td>\n",
              "      <td>1</td>\n",
              "      <td>20</td>\n",
              "      <td>0</td>\n",
              "      <td>327000.00</td>\n",
              "      <td>2.7</td>\n",
              "      <td>116</td>\n",
              "      <td>0</td>\n",
              "      <td>0</td>\n",
              "      <td>8</td>\n",
              "      <td>1</td>\n",
              "    </tr>\n",
              "  </tbody>\n",
              "</table>\n",
              "</div>\n",
              "    <div class=\"colab-df-buttons\">\n",
              "\n",
              "  <div class=\"colab-df-container\">\n",
              "    <button class=\"colab-df-convert\" onclick=\"convertToInteractive('df-39e153df-640e-4e5f-b3d5-05fc56683ef4')\"\n",
              "            title=\"Convert this dataframe to an interactive table.\"\n",
              "            style=\"display:none;\">\n",
              "\n",
              "  <svg xmlns=\"http://www.w3.org/2000/svg\" height=\"24px\" viewBox=\"0 -960 960 960\">\n",
              "    <path d=\"M120-120v-720h720v720H120Zm60-500h600v-160H180v160Zm220 220h160v-160H400v160Zm0 220h160v-160H400v160ZM180-400h160v-160H180v160Zm440 0h160v-160H620v160ZM180-180h160v-160H180v160Zm440 0h160v-160H620v160Z\"/>\n",
              "  </svg>\n",
              "    </button>\n",
              "\n",
              "  <style>\n",
              "    .colab-df-container {\n",
              "      display:flex;\n",
              "      gap: 12px;\n",
              "    }\n",
              "\n",
              "    .colab-df-convert {\n",
              "      background-color: #E8F0FE;\n",
              "      border: none;\n",
              "      border-radius: 50%;\n",
              "      cursor: pointer;\n",
              "      display: none;\n",
              "      fill: #1967D2;\n",
              "      height: 32px;\n",
              "      padding: 0 0 0 0;\n",
              "      width: 32px;\n",
              "    }\n",
              "\n",
              "    .colab-df-convert:hover {\n",
              "      background-color: #E2EBFA;\n",
              "      box-shadow: 0px 1px 2px rgba(60, 64, 67, 0.3), 0px 1px 3px 1px rgba(60, 64, 67, 0.15);\n",
              "      fill: #174EA6;\n",
              "    }\n",
              "\n",
              "    .colab-df-buttons div {\n",
              "      margin-bottom: 4px;\n",
              "    }\n",
              "\n",
              "    [theme=dark] .colab-df-convert {\n",
              "      background-color: #3B4455;\n",
              "      fill: #D2E3FC;\n",
              "    }\n",
              "\n",
              "    [theme=dark] .colab-df-convert:hover {\n",
              "      background-color: #434B5C;\n",
              "      box-shadow: 0px 1px 3px 1px rgba(0, 0, 0, 0.15);\n",
              "      filter: drop-shadow(0px 1px 2px rgba(0, 0, 0, 0.3));\n",
              "      fill: #FFFFFF;\n",
              "    }\n",
              "  </style>\n",
              "\n",
              "    <script>\n",
              "      const buttonEl =\n",
              "        document.querySelector('#df-39e153df-640e-4e5f-b3d5-05fc56683ef4 button.colab-df-convert');\n",
              "      buttonEl.style.display =\n",
              "        google.colab.kernel.accessAllowed ? 'block' : 'none';\n",
              "\n",
              "      async function convertToInteractive(key) {\n",
              "        const element = document.querySelector('#df-39e153df-640e-4e5f-b3d5-05fc56683ef4');\n",
              "        const dataTable =\n",
              "          await google.colab.kernel.invokeFunction('convertToInteractive',\n",
              "                                                    [key], {});\n",
              "        if (!dataTable) return;\n",
              "\n",
              "        const docLinkHtml = 'Like what you see? Visit the ' +\n",
              "          '<a target=\"_blank\" href=https://colab.research.google.com/notebooks/data_table.ipynb>data table notebook</a>'\n",
              "          + ' to learn more about interactive tables.';\n",
              "        element.innerHTML = '';\n",
              "        dataTable['output_type'] = 'display_data';\n",
              "        await google.colab.output.renderOutput(dataTable, element);\n",
              "        const docLink = document.createElement('div');\n",
              "        docLink.innerHTML = docLinkHtml;\n",
              "        element.appendChild(docLink);\n",
              "      }\n",
              "    </script>\n",
              "  </div>\n",
              "\n",
              "\n",
              "<div id=\"df-795ac74d-903e-4383-90c7-51f4893038e8\">\n",
              "  <button class=\"colab-df-quickchart\" onclick=\"quickchart('df-795ac74d-903e-4383-90c7-51f4893038e8')\"\n",
              "            title=\"Suggest charts\"\n",
              "            style=\"display:none;\">\n",
              "\n",
              "<svg xmlns=\"http://www.w3.org/2000/svg\" height=\"24px\"viewBox=\"0 0 24 24\"\n",
              "     width=\"24px\">\n",
              "    <g>\n",
              "        <path d=\"M19 3H5c-1.1 0-2 .9-2 2v14c0 1.1.9 2 2 2h14c1.1 0 2-.9 2-2V5c0-1.1-.9-2-2-2zM9 17H7v-7h2v7zm4 0h-2V7h2v10zm4 0h-2v-4h2v4z\"/>\n",
              "    </g>\n",
              "</svg>\n",
              "  </button>\n",
              "\n",
              "<style>\n",
              "  .colab-df-quickchart {\n",
              "      --bg-color: #E8F0FE;\n",
              "      --fill-color: #1967D2;\n",
              "      --hover-bg-color: #E2EBFA;\n",
              "      --hover-fill-color: #174EA6;\n",
              "      --disabled-fill-color: #AAA;\n",
              "      --disabled-bg-color: #DDD;\n",
              "  }\n",
              "\n",
              "  [theme=dark] .colab-df-quickchart {\n",
              "      --bg-color: #3B4455;\n",
              "      --fill-color: #D2E3FC;\n",
              "      --hover-bg-color: #434B5C;\n",
              "      --hover-fill-color: #FFFFFF;\n",
              "      --disabled-bg-color: #3B4455;\n",
              "      --disabled-fill-color: #666;\n",
              "  }\n",
              "\n",
              "  .colab-df-quickchart {\n",
              "    background-color: var(--bg-color);\n",
              "    border: none;\n",
              "    border-radius: 50%;\n",
              "    cursor: pointer;\n",
              "    display: none;\n",
              "    fill: var(--fill-color);\n",
              "    height: 32px;\n",
              "    padding: 0;\n",
              "    width: 32px;\n",
              "  }\n",
              "\n",
              "  .colab-df-quickchart:hover {\n",
              "    background-color: var(--hover-bg-color);\n",
              "    box-shadow: 0 1px 2px rgba(60, 64, 67, 0.3), 0 1px 3px 1px rgba(60, 64, 67, 0.15);\n",
              "    fill: var(--button-hover-fill-color);\n",
              "  }\n",
              "\n",
              "  .colab-df-quickchart-complete:disabled,\n",
              "  .colab-df-quickchart-complete:disabled:hover {\n",
              "    background-color: var(--disabled-bg-color);\n",
              "    fill: var(--disabled-fill-color);\n",
              "    box-shadow: none;\n",
              "  }\n",
              "\n",
              "  .colab-df-spinner {\n",
              "    border: 2px solid var(--fill-color);\n",
              "    border-color: transparent;\n",
              "    border-bottom-color: var(--fill-color);\n",
              "    animation:\n",
              "      spin 1s steps(1) infinite;\n",
              "  }\n",
              "\n",
              "  @keyframes spin {\n",
              "    0% {\n",
              "      border-color: transparent;\n",
              "      border-bottom-color: var(--fill-color);\n",
              "      border-left-color: var(--fill-color);\n",
              "    }\n",
              "    20% {\n",
              "      border-color: transparent;\n",
              "      border-left-color: var(--fill-color);\n",
              "      border-top-color: var(--fill-color);\n",
              "    }\n",
              "    30% {\n",
              "      border-color: transparent;\n",
              "      border-left-color: var(--fill-color);\n",
              "      border-top-color: var(--fill-color);\n",
              "      border-right-color: var(--fill-color);\n",
              "    }\n",
              "    40% {\n",
              "      border-color: transparent;\n",
              "      border-right-color: var(--fill-color);\n",
              "      border-top-color: var(--fill-color);\n",
              "    }\n",
              "    60% {\n",
              "      border-color: transparent;\n",
              "      border-right-color: var(--fill-color);\n",
              "    }\n",
              "    80% {\n",
              "      border-color: transparent;\n",
              "      border-right-color: var(--fill-color);\n",
              "      border-bottom-color: var(--fill-color);\n",
              "    }\n",
              "    90% {\n",
              "      border-color: transparent;\n",
              "      border-bottom-color: var(--fill-color);\n",
              "    }\n",
              "  }\n",
              "</style>\n",
              "\n",
              "  <script>\n",
              "    async function quickchart(key) {\n",
              "      const quickchartButtonEl =\n",
              "        document.querySelector('#' + key + ' button');\n",
              "      quickchartButtonEl.disabled = true;  // To prevent multiple clicks.\n",
              "      quickchartButtonEl.classList.add('colab-df-spinner');\n",
              "      try {\n",
              "        const charts = await google.colab.kernel.invokeFunction(\n",
              "            'suggestCharts', [key], {});\n",
              "      } catch (error) {\n",
              "        console.error('Error during call to suggestCharts:', error);\n",
              "      }\n",
              "      quickchartButtonEl.classList.remove('colab-df-spinner');\n",
              "      quickchartButtonEl.classList.add('colab-df-quickchart-complete');\n",
              "    }\n",
              "    (() => {\n",
              "      let quickchartButtonEl =\n",
              "        document.querySelector('#df-795ac74d-903e-4383-90c7-51f4893038e8 button');\n",
              "      quickchartButtonEl.style.display =\n",
              "        google.colab.kernel.accessAllowed ? 'block' : 'none';\n",
              "    })();\n",
              "  </script>\n",
              "</div>\n",
              "\n",
              "    </div>\n",
              "  </div>\n"
            ],
            "application/vnd.google.colaboratory.intrinsic+json": {
              "type": "dataframe",
              "variable_name": "df",
              "summary": "{\n  \"name\": \"df\",\n  \"rows\": 299,\n  \"fields\": [\n    {\n      \"column\": \"age\",\n      \"properties\": {\n        \"dtype\": \"number\",\n        \"std\": 11.89480907404447,\n        \"min\": 40.0,\n        \"max\": 95.0,\n        \"num_unique_values\": 47,\n        \"samples\": [\n          79.0,\n          40.0,\n          67.0\n        ],\n        \"semantic_type\": \"\",\n        \"description\": \"\"\n      }\n    },\n    {\n      \"column\": \"anaemia\",\n      \"properties\": {\n        \"dtype\": \"number\",\n        \"std\": 0,\n        \"min\": 0,\n        \"max\": 1,\n        \"num_unique_values\": 2,\n        \"samples\": [\n          1,\n          0\n        ],\n        \"semantic_type\": \"\",\n        \"description\": \"\"\n      }\n    },\n    {\n      \"column\": \"cpk\",\n      \"properties\": {\n        \"dtype\": \"number\",\n        \"std\": 970,\n        \"min\": 23,\n        \"max\": 7861,\n        \"num_unique_values\": 208,\n        \"samples\": [\n          86,\n          379\n        ],\n        \"semantic_type\": \"\",\n        \"description\": \"\"\n      }\n    },\n    {\n      \"column\": \"diabetes\",\n      \"properties\": {\n        \"dtype\": \"number\",\n        \"std\": 0,\n        \"min\": 0,\n        \"max\": 1,\n        \"num_unique_values\": 2,\n        \"samples\": [\n          1,\n          0\n        ],\n        \"semantic_type\": \"\",\n        \"description\": \"\"\n      }\n    },\n    {\n      \"column\": \"ejection_fraction\",\n      \"properties\": {\n        \"dtype\": \"number\",\n        \"std\": 11,\n        \"min\": 14,\n        \"max\": 80,\n        \"num_unique_values\": 17,\n        \"samples\": [\n          20,\n          38\n        ],\n        \"semantic_type\": \"\",\n        \"description\": \"\"\n      }\n    },\n    {\n      \"column\": \"high_blood_pressure\",\n      \"properties\": {\n        \"dtype\": \"number\",\n        \"std\": 0,\n        \"min\": 0,\n        \"max\": 1,\n        \"num_unique_values\": 2,\n        \"samples\": [\n          0,\n          1\n        ],\n        \"semantic_type\": \"\",\n        \"description\": \"\"\n      }\n    },\n    {\n      \"column\": \"platelets\",\n      \"properties\": {\n        \"dtype\": \"number\",\n        \"std\": 97804.2368685983,\n        \"min\": 25100.0,\n        \"max\": 850000.0,\n        \"num_unique_values\": 176,\n        \"samples\": [\n          297000.0,\n          255000.0\n        ],\n        \"semantic_type\": \"\",\n        \"description\": \"\"\n      }\n    },\n    {\n      \"column\": \"serum_creatinine\",\n      \"properties\": {\n        \"dtype\": \"number\",\n        \"std\": 1.0345100640898541,\n        \"min\": 0.5,\n        \"max\": 9.4,\n        \"num_unique_values\": 40,\n        \"samples\": [\n          4.4,\n          3.5\n        ],\n        \"semantic_type\": \"\",\n        \"description\": \"\"\n      }\n    },\n    {\n      \"column\": \"serum_sodium\",\n      \"properties\": {\n        \"dtype\": \"number\",\n        \"std\": 4,\n        \"min\": 113,\n        \"max\": 148,\n        \"num_unique_values\": 27,\n        \"samples\": [\n          133,\n          134\n        ],\n        \"semantic_type\": \"\",\n        \"description\": \"\"\n      }\n    },\n    {\n      \"column\": \"sex\",\n      \"properties\": {\n        \"dtype\": \"number\",\n        \"std\": 0,\n        \"min\": 0,\n        \"max\": 1,\n        \"num_unique_values\": 2,\n        \"samples\": [\n          0,\n          1\n        ],\n        \"semantic_type\": \"\",\n        \"description\": \"\"\n      }\n    },\n    {\n      \"column\": \"smoking\",\n      \"properties\": {\n        \"dtype\": \"number\",\n        \"std\": 0,\n        \"min\": 0,\n        \"max\": 1,\n        \"num_unique_values\": 2,\n        \"samples\": [\n          1,\n          0\n        ],\n        \"semantic_type\": \"\",\n        \"description\": \"\"\n      }\n    },\n    {\n      \"column\": \"time\",\n      \"properties\": {\n        \"dtype\": \"number\",\n        \"std\": 77,\n        \"min\": 4,\n        \"max\": 285,\n        \"num_unique_values\": 148,\n        \"samples\": [\n          215,\n          79\n        ],\n        \"semantic_type\": \"\",\n        \"description\": \"\"\n      }\n    },\n    {\n      \"column\": \"death_event\",\n      \"properties\": {\n        \"dtype\": \"number\",\n        \"std\": 0,\n        \"min\": 0,\n        \"max\": 1,\n        \"num_unique_values\": 2,\n        \"samples\": [\n          0,\n          1\n        ],\n        \"semantic_type\": \"\",\n        \"description\": \"\"\n      }\n    }\n  ]\n}"
            }
          },
          "metadata": {},
          "execution_count": 52
        }
      ]
    },
    {
      "cell_type": "code",
      "source": [
        "for i in df.columns:\n",
        "  print(i,df[i].nunique())"
      ],
      "metadata": {
        "id": "p7uapZW1uo6U",
        "outputId": "114dd782-adb1-4de9-9073-2b98fec179a5",
        "colab": {
          "base_uri": "https://localhost:8080/"
        }
      },
      "execution_count": 53,
      "outputs": [
        {
          "output_type": "stream",
          "name": "stdout",
          "text": [
            "age 47\n",
            "anaemia 2\n",
            "cpk 208\n",
            "diabetes 2\n",
            "ejection_fraction 17\n",
            "high_blood_pressure 2\n",
            "platelets 176\n",
            "serum_creatinine 40\n",
            "serum_sodium 27\n",
            "sex 2\n",
            "smoking 2\n",
            "time 148\n",
            "death_event 2\n"
          ]
        }
      ]
    },
    {
      "cell_type": "code",
      "source": [
        "#EDA\n",
        "#Anaemia\n",
        "ds = df['anaemia'].value_counts().reset_index()\n",
        "ds.columns = ['anaemia', 'count']\n",
        "fig = px.bar(ds, x='anaemia', y=\"count\", orientation='v', title='Count of Patients with Anaemia', width=500)\n",
        "fig.show()"
      ],
      "metadata": {
        "id": "8l6M9CSsurmj",
        "outputId": "934e4695-fd0c-430e-b57e-78127fbd65a1",
        "colab": {
          "base_uri": "https://localhost:8080/",
          "height": 542
        }
      },
      "execution_count": 54,
      "outputs": [
        {
          "output_type": "display_data",
          "data": {
            "text/html": [
              "<html>\n",
              "<head><meta charset=\"utf-8\" /></head>\n",
              "<body>\n",
              "    <div>            <script src=\"https://cdnjs.cloudflare.com/ajax/libs/mathjax/2.7.5/MathJax.js?config=TeX-AMS-MML_SVG\"></script><script type=\"text/javascript\">if (window.MathJax && window.MathJax.Hub && window.MathJax.Hub.Config) {window.MathJax.Hub.Config({SVG: {font: \"STIX-Web\"}});}</script>                <script type=\"text/javascript\">window.PlotlyConfig = {MathJaxConfig: 'local'};</script>\n",
              "        <script charset=\"utf-8\" src=\"https://cdn.plot.ly/plotly-2.24.1.min.js\"></script>                <div id=\"fab184d8-6f93-49cb-b4b5-b557a01c9aaf\" class=\"plotly-graph-div\" style=\"height:525px; width:500px;\"></div>            <script type=\"text/javascript\">                                    window.PLOTLYENV=window.PLOTLYENV || {};                                    if (document.getElementById(\"fab184d8-6f93-49cb-b4b5-b557a01c9aaf\")) {                    Plotly.newPlot(                        \"fab184d8-6f93-49cb-b4b5-b557a01c9aaf\",                        [{\"alignmentgroup\":\"True\",\"hovertemplate\":\"anaemia=%{x}\\u003cbr\\u003ecount=%{y}\\u003cextra\\u003e\\u003c\\u002fextra\\u003e\",\"legendgroup\":\"\",\"marker\":{\"color\":\"#636efa\",\"pattern\":{\"shape\":\"\"}},\"name\":\"\",\"offsetgroup\":\"\",\"orientation\":\"v\",\"showlegend\":false,\"textposition\":\"auto\",\"x\":[0,1],\"xaxis\":\"x\",\"y\":[170,129],\"yaxis\":\"y\",\"type\":\"bar\"}],                        {\"template\":{\"data\":{\"histogram2dcontour\":[{\"type\":\"histogram2dcontour\",\"colorbar\":{\"outlinewidth\":0,\"ticks\":\"\"},\"colorscale\":[[0.0,\"#0d0887\"],[0.1111111111111111,\"#46039f\"],[0.2222222222222222,\"#7201a8\"],[0.3333333333333333,\"#9c179e\"],[0.4444444444444444,\"#bd3786\"],[0.5555555555555556,\"#d8576b\"],[0.6666666666666666,\"#ed7953\"],[0.7777777777777778,\"#fb9f3a\"],[0.8888888888888888,\"#fdca26\"],[1.0,\"#f0f921\"]]}],\"choropleth\":[{\"type\":\"choropleth\",\"colorbar\":{\"outlinewidth\":0,\"ticks\":\"\"}}],\"histogram2d\":[{\"type\":\"histogram2d\",\"colorbar\":{\"outlinewidth\":0,\"ticks\":\"\"},\"colorscale\":[[0.0,\"#0d0887\"],[0.1111111111111111,\"#46039f\"],[0.2222222222222222,\"#7201a8\"],[0.3333333333333333,\"#9c179e\"],[0.4444444444444444,\"#bd3786\"],[0.5555555555555556,\"#d8576b\"],[0.6666666666666666,\"#ed7953\"],[0.7777777777777778,\"#fb9f3a\"],[0.8888888888888888,\"#fdca26\"],[1.0,\"#f0f921\"]]}],\"heatmap\":[{\"type\":\"heatmap\",\"colorbar\":{\"outlinewidth\":0,\"ticks\":\"\"},\"colorscale\":[[0.0,\"#0d0887\"],[0.1111111111111111,\"#46039f\"],[0.2222222222222222,\"#7201a8\"],[0.3333333333333333,\"#9c179e\"],[0.4444444444444444,\"#bd3786\"],[0.5555555555555556,\"#d8576b\"],[0.6666666666666666,\"#ed7953\"],[0.7777777777777778,\"#fb9f3a\"],[0.8888888888888888,\"#fdca26\"],[1.0,\"#f0f921\"]]}],\"heatmapgl\":[{\"type\":\"heatmapgl\",\"colorbar\":{\"outlinewidth\":0,\"ticks\":\"\"},\"colorscale\":[[0.0,\"#0d0887\"],[0.1111111111111111,\"#46039f\"],[0.2222222222222222,\"#7201a8\"],[0.3333333333333333,\"#9c179e\"],[0.4444444444444444,\"#bd3786\"],[0.5555555555555556,\"#d8576b\"],[0.6666666666666666,\"#ed7953\"],[0.7777777777777778,\"#fb9f3a\"],[0.8888888888888888,\"#fdca26\"],[1.0,\"#f0f921\"]]}],\"contourcarpet\":[{\"type\":\"contourcarpet\",\"colorbar\":{\"outlinewidth\":0,\"ticks\":\"\"}}],\"contour\":[{\"type\":\"contour\",\"colorbar\":{\"outlinewidth\":0,\"ticks\":\"\"},\"colorscale\":[[0.0,\"#0d0887\"],[0.1111111111111111,\"#46039f\"],[0.2222222222222222,\"#7201a8\"],[0.3333333333333333,\"#9c179e\"],[0.4444444444444444,\"#bd3786\"],[0.5555555555555556,\"#d8576b\"],[0.6666666666666666,\"#ed7953\"],[0.7777777777777778,\"#fb9f3a\"],[0.8888888888888888,\"#fdca26\"],[1.0,\"#f0f921\"]]}],\"surface\":[{\"type\":\"surface\",\"colorbar\":{\"outlinewidth\":0,\"ticks\":\"\"},\"colorscale\":[[0.0,\"#0d0887\"],[0.1111111111111111,\"#46039f\"],[0.2222222222222222,\"#7201a8\"],[0.3333333333333333,\"#9c179e\"],[0.4444444444444444,\"#bd3786\"],[0.5555555555555556,\"#d8576b\"],[0.6666666666666666,\"#ed7953\"],[0.7777777777777778,\"#fb9f3a\"],[0.8888888888888888,\"#fdca26\"],[1.0,\"#f0f921\"]]}],\"mesh3d\":[{\"type\":\"mesh3d\",\"colorbar\":{\"outlinewidth\":0,\"ticks\":\"\"}}],\"scatter\":[{\"fillpattern\":{\"fillmode\":\"overlay\",\"size\":10,\"solidity\":0.2},\"type\":\"scatter\"}],\"parcoords\":[{\"type\":\"parcoords\",\"line\":{\"colorbar\":{\"outlinewidth\":0,\"ticks\":\"\"}}}],\"scatterpolargl\":[{\"type\":\"scatterpolargl\",\"marker\":{\"colorbar\":{\"outlinewidth\":0,\"ticks\":\"\"}}}],\"bar\":[{\"error_x\":{\"color\":\"#2a3f5f\"},\"error_y\":{\"color\":\"#2a3f5f\"},\"marker\":{\"line\":{\"color\":\"#E5ECF6\",\"width\":0.5},\"pattern\":{\"fillmode\":\"overlay\",\"size\":10,\"solidity\":0.2}},\"type\":\"bar\"}],\"scattergeo\":[{\"type\":\"scattergeo\",\"marker\":{\"colorbar\":{\"outlinewidth\":0,\"ticks\":\"\"}}}],\"scatterpolar\":[{\"type\":\"scatterpolar\",\"marker\":{\"colorbar\":{\"outlinewidth\":0,\"ticks\":\"\"}}}],\"histogram\":[{\"marker\":{\"pattern\":{\"fillmode\":\"overlay\",\"size\":10,\"solidity\":0.2}},\"type\":\"histogram\"}],\"scattergl\":[{\"type\":\"scattergl\",\"marker\":{\"colorbar\":{\"outlinewidth\":0,\"ticks\":\"\"}}}],\"scatter3d\":[{\"type\":\"scatter3d\",\"line\":{\"colorbar\":{\"outlinewidth\":0,\"ticks\":\"\"}},\"marker\":{\"colorbar\":{\"outlinewidth\":0,\"ticks\":\"\"}}}],\"scattermapbox\":[{\"type\":\"scattermapbox\",\"marker\":{\"colorbar\":{\"outlinewidth\":0,\"ticks\":\"\"}}}],\"scatterternary\":[{\"type\":\"scatterternary\",\"marker\":{\"colorbar\":{\"outlinewidth\":0,\"ticks\":\"\"}}}],\"scattercarpet\":[{\"type\":\"scattercarpet\",\"marker\":{\"colorbar\":{\"outlinewidth\":0,\"ticks\":\"\"}}}],\"carpet\":[{\"aaxis\":{\"endlinecolor\":\"#2a3f5f\",\"gridcolor\":\"white\",\"linecolor\":\"white\",\"minorgridcolor\":\"white\",\"startlinecolor\":\"#2a3f5f\"},\"baxis\":{\"endlinecolor\":\"#2a3f5f\",\"gridcolor\":\"white\",\"linecolor\":\"white\",\"minorgridcolor\":\"white\",\"startlinecolor\":\"#2a3f5f\"},\"type\":\"carpet\"}],\"table\":[{\"cells\":{\"fill\":{\"color\":\"#EBF0F8\"},\"line\":{\"color\":\"white\"}},\"header\":{\"fill\":{\"color\":\"#C8D4E3\"},\"line\":{\"color\":\"white\"}},\"type\":\"table\"}],\"barpolar\":[{\"marker\":{\"line\":{\"color\":\"#E5ECF6\",\"width\":0.5},\"pattern\":{\"fillmode\":\"overlay\",\"size\":10,\"solidity\":0.2}},\"type\":\"barpolar\"}],\"pie\":[{\"automargin\":true,\"type\":\"pie\"}]},\"layout\":{\"autotypenumbers\":\"strict\",\"colorway\":[\"#636efa\",\"#EF553B\",\"#00cc96\",\"#ab63fa\",\"#FFA15A\",\"#19d3f3\",\"#FF6692\",\"#B6E880\",\"#FF97FF\",\"#FECB52\"],\"font\":{\"color\":\"#2a3f5f\"},\"hovermode\":\"closest\",\"hoverlabel\":{\"align\":\"left\"},\"paper_bgcolor\":\"white\",\"plot_bgcolor\":\"#E5ECF6\",\"polar\":{\"bgcolor\":\"#E5ECF6\",\"angularaxis\":{\"gridcolor\":\"white\",\"linecolor\":\"white\",\"ticks\":\"\"},\"radialaxis\":{\"gridcolor\":\"white\",\"linecolor\":\"white\",\"ticks\":\"\"}},\"ternary\":{\"bgcolor\":\"#E5ECF6\",\"aaxis\":{\"gridcolor\":\"white\",\"linecolor\":\"white\",\"ticks\":\"\"},\"baxis\":{\"gridcolor\":\"white\",\"linecolor\":\"white\",\"ticks\":\"\"},\"caxis\":{\"gridcolor\":\"white\",\"linecolor\":\"white\",\"ticks\":\"\"}},\"coloraxis\":{\"colorbar\":{\"outlinewidth\":0,\"ticks\":\"\"}},\"colorscale\":{\"sequential\":[[0.0,\"#0d0887\"],[0.1111111111111111,\"#46039f\"],[0.2222222222222222,\"#7201a8\"],[0.3333333333333333,\"#9c179e\"],[0.4444444444444444,\"#bd3786\"],[0.5555555555555556,\"#d8576b\"],[0.6666666666666666,\"#ed7953\"],[0.7777777777777778,\"#fb9f3a\"],[0.8888888888888888,\"#fdca26\"],[1.0,\"#f0f921\"]],\"sequentialminus\":[[0.0,\"#0d0887\"],[0.1111111111111111,\"#46039f\"],[0.2222222222222222,\"#7201a8\"],[0.3333333333333333,\"#9c179e\"],[0.4444444444444444,\"#bd3786\"],[0.5555555555555556,\"#d8576b\"],[0.6666666666666666,\"#ed7953\"],[0.7777777777777778,\"#fb9f3a\"],[0.8888888888888888,\"#fdca26\"],[1.0,\"#f0f921\"]],\"diverging\":[[0,\"#8e0152\"],[0.1,\"#c51b7d\"],[0.2,\"#de77ae\"],[0.3,\"#f1b6da\"],[0.4,\"#fde0ef\"],[0.5,\"#f7f7f7\"],[0.6,\"#e6f5d0\"],[0.7,\"#b8e186\"],[0.8,\"#7fbc41\"],[0.9,\"#4d9221\"],[1,\"#276419\"]]},\"xaxis\":{\"gridcolor\":\"white\",\"linecolor\":\"white\",\"ticks\":\"\",\"title\":{\"standoff\":15},\"zerolinecolor\":\"white\",\"automargin\":true,\"zerolinewidth\":2},\"yaxis\":{\"gridcolor\":\"white\",\"linecolor\":\"white\",\"ticks\":\"\",\"title\":{\"standoff\":15},\"zerolinecolor\":\"white\",\"automargin\":true,\"zerolinewidth\":2},\"scene\":{\"xaxis\":{\"backgroundcolor\":\"#E5ECF6\",\"gridcolor\":\"white\",\"linecolor\":\"white\",\"showbackground\":true,\"ticks\":\"\",\"zerolinecolor\":\"white\",\"gridwidth\":2},\"yaxis\":{\"backgroundcolor\":\"#E5ECF6\",\"gridcolor\":\"white\",\"linecolor\":\"white\",\"showbackground\":true,\"ticks\":\"\",\"zerolinecolor\":\"white\",\"gridwidth\":2},\"zaxis\":{\"backgroundcolor\":\"#E5ECF6\",\"gridcolor\":\"white\",\"linecolor\":\"white\",\"showbackground\":true,\"ticks\":\"\",\"zerolinecolor\":\"white\",\"gridwidth\":2}},\"shapedefaults\":{\"line\":{\"color\":\"#2a3f5f\"}},\"annotationdefaults\":{\"arrowcolor\":\"#2a3f5f\",\"arrowhead\":0,\"arrowwidth\":1},\"geo\":{\"bgcolor\":\"white\",\"landcolor\":\"#E5ECF6\",\"subunitcolor\":\"white\",\"showland\":true,\"showlakes\":true,\"lakecolor\":\"white\"},\"title\":{\"x\":0.05},\"mapbox\":{\"style\":\"light\"}}},\"xaxis\":{\"anchor\":\"y\",\"domain\":[0.0,1.0],\"title\":{\"text\":\"anaemia\"}},\"yaxis\":{\"anchor\":\"x\",\"domain\":[0.0,1.0],\"title\":{\"text\":\"count\"}},\"legend\":{\"tracegroupgap\":0},\"title\":{\"text\":\"Count of Patients with Anaemia\"},\"barmode\":\"relative\",\"width\":500},                        {\"responsive\": true}                    ).then(function(){\n",
              "                            \n",
              "var gd = document.getElementById('fab184d8-6f93-49cb-b4b5-b557a01c9aaf');\n",
              "var x = new MutationObserver(function (mutations, observer) {{\n",
              "        var display = window.getComputedStyle(gd).display;\n",
              "        if (!display || display === 'none') {{\n",
              "            console.log([gd, 'removed!']);\n",
              "            Plotly.purge(gd);\n",
              "            observer.disconnect();\n",
              "        }}\n",
              "}});\n",
              "\n",
              "// Listen for the removal of the full notebook cells\n",
              "var notebookContainer = gd.closest('#notebook-container');\n",
              "if (notebookContainer) {{\n",
              "    x.observe(notebookContainer, {childList: true});\n",
              "}}\n",
              "\n",
              "// Listen for the clearing of the current output cell\n",
              "var outputEl = gd.closest('.output');\n",
              "if (outputEl) {{\n",
              "    x.observe(outputEl, {childList: true});\n",
              "}}\n",
              "\n",
              "                        })                };                            </script>        </div>\n",
              "</body>\n",
              "</html>"
            ]
          },
          "metadata": {}
        }
      ]
    },
    {
      "cell_type": "code",
      "source": [
        "pd.crosstab(df.anaemia  ,df.death_event).plot(kind='bar')\n",
        "plt.title('Death Event as per Anaemia')\n",
        "plt.xlabel('Anaemia')\n",
        "plt.ylabel('Death')\n",
        "plt.show()"
      ],
      "metadata": {
        "id": "gMfTsmGHuwU0",
        "outputId": "43d20cb0-c23c-4787-e92f-e889c7a15310",
        "colab": {
          "base_uri": "https://localhost:8080/",
          "height": 467
        }
      },
      "execution_count": 55,
      "outputs": [
        {
          "output_type": "display_data",
          "data": {
            "text/plain": [
              "<Figure size 640x480 with 1 Axes>"
            ],
            "image/png": "[encoded data removed]"
          },
          "metadata": {}
        }
      ]
    },
    {
      "cell_type": "code",
      "source": [
        "#Smoking\n",
        "ds = df['smoking'].value_counts().reset_index()\n",
        "ds.columns = ['smoking', 'count']\n",
        "fig = px.bar(ds, x='smoking', y=\"count\", orientation='v', title='Count of Patients who Smoke', width=500)\n",
        "fig.show()"
      ],
      "metadata": {
        "id": "j3DbhRQau0kM",
        "outputId": "0f6f0c88-79f9-4cda-b6f6-ae639d83dade",
        "colab": {
          "base_uri": "https://localhost:8080/",
          "height": 542
        }
      },
      "execution_count": 56,
      "outputs": [
        {
          "output_type": "display_data",
          "data": {
            "text/html": [
              "<html>\n",
              "<head><meta charset=\"utf-8\" /></head>\n",
              "<body>\n",
              "    <div>            <script src=\"https://cdnjs.cloudflare.com/ajax/libs/mathjax/2.7.5/MathJax.js?config=TeX-AMS-MML_SVG\"></script><script type=\"text/javascript\">if (window.MathJax && window.MathJax.Hub && window.MathJax.Hub.Config) {window.MathJax.Hub.Config({SVG: {font: \"STIX-Web\"}});}</script>                <script type=\"text/javascript\">window.PlotlyConfig = {MathJaxConfig: 'local'};</script>\n",
              "        <script charset=\"utf-8\" src=\"https://cdn.plot.ly/plotly-2.24.1.min.js\"></script>                <div id=\"18f29a71-b47c-4b23-9442-3d540c5d6639\" class=\"plotly-graph-div\" style=\"height:525px; width:500px;\"></div>            <script type=\"text/javascript\">                                    window.PLOTLYENV=window.PLOTLYENV || {};                                    if (document.getElementById(\"18f29a71-b47c-4b23-9442-3d540c5d6639\")) {                    Plotly.newPlot(                        \"18f29a71-b47c-4b23-9442-3d540c5d6639\",                        [{\"alignmentgroup\":\"True\",\"hovertemplate\":\"smoking=%{x}\\u003cbr\\u003ecount=%{y}\\u003cextra\\u003e\\u003c\\u002fextra\\u003e\",\"legendgroup\":\"\",\"marker\":{\"color\":\"#636efa\",\"pattern\":{\"shape\":\"\"}},\"name\":\"\",\"offsetgroup\":\"\",\"orientation\":\"v\",\"showlegend\":false,\"textposition\":\"auto\",\"x\":[0,1],\"xaxis\":\"x\",\"y\":[203,96],\"yaxis\":\"y\",\"type\":\"bar\"}],                        {\"template\":{\"data\":{\"histogram2dcontour\":[{\"type\":\"histogram2dcontour\",\"colorbar\":{\"outlinewidth\":0,\"ticks\":\"\"},\"colorscale\":[[0.0,\"#0d0887\"],[0.1111111111111111,\"#46039f\"],[0.2222222222222222,\"#7201a8\"],[0.3333333333333333,\"#9c179e\"],[0.4444444444444444,\"#bd3786\"],[0.5555555555555556,\"#d8576b\"],[0.6666666666666666,\"#ed7953\"],[0.7777777777777778,\"#fb9f3a\"],[0.8888888888888888,\"#fdca26\"],[1.0,\"#f0f921\"]]}],\"choropleth\":[{\"type\":\"choropleth\",\"colorbar\":{\"outlinewidth\":0,\"ticks\":\"\"}}],\"histogram2d\":[{\"type\":\"histogram2d\",\"colorbar\":{\"outlinewidth\":0,\"ticks\":\"\"},\"colorscale\":[[0.0,\"#0d0887\"],[0.1111111111111111,\"#46039f\"],[0.2222222222222222,\"#7201a8\"],[0.3333333333333333,\"#9c179e\"],[0.4444444444444444,\"#bd3786\"],[0.5555555555555556,\"#d8576b\"],[0.6666666666666666,\"#ed7953\"],[0.7777777777777778,\"#fb9f3a\"],[0.8888888888888888,\"#fdca26\"],[1.0,\"#f0f921\"]]}],\"heatmap\":[{\"type\":\"heatmap\",\"colorbar\":{\"outlinewidth\":0,\"ticks\":\"\"},\"colorscale\":[[0.0,\"#0d0887\"],[0.1111111111111111,\"#46039f\"],[0.2222222222222222,\"#7201a8\"],[0.3333333333333333,\"#9c179e\"],[0.4444444444444444,\"#bd3786\"],[0.5555555555555556,\"#d8576b\"],[0.6666666666666666,\"#ed7953\"],[0.7777777777777778,\"#fb9f3a\"],[0.8888888888888888,\"#fdca26\"],[1.0,\"#f0f921\"]]}],\"heatmapgl\":[{\"type\":\"heatmapgl\",\"colorbar\":{\"outlinewidth\":0,\"ticks\":\"\"},\"colorscale\":[[0.0,\"#0d0887\"],[0.1111111111111111,\"#46039f\"],[0.2222222222222222,\"#7201a8\"],[0.3333333333333333,\"#9c179e\"],[0.4444444444444444,\"#bd3786\"],[0.5555555555555556,\"#d8576b\"],[0.6666666666666666,\"#ed7953\"],[0.7777777777777778,\"#fb9f3a\"],[0.8888888888888888,\"#fdca26\"],[1.0,\"#f0f921\"]]}],\"contourcarpet\":[{\"type\":\"contourcarpet\",\"colorbar\":{\"outlinewidth\":0,\"ticks\":\"\"}}],\"contour\":[{\"type\":\"contour\",\"colorbar\":{\"outlinewidth\":0,\"ticks\":\"\"},\"colorscale\":[[0.0,\"#0d0887\"],[0.1111111111111111,\"#46039f\"],[0.2222222222222222,\"#7201a8\"],[0.3333333333333333,\"#9c179e\"],[0.4444444444444444,\"#bd3786\"],[0.5555555555555556,\"#d8576b\"],[0.6666666666666666,\"#ed7953\"],[0.7777777777777778,\"#fb9f3a\"],[0.8888888888888888,\"#fdca26\"],[1.0,\"#f0f921\"]]}],\"surface\":[{\"type\":\"surface\",\"colorbar\":{\"outlinewidth\":0,\"ticks\":\"\"},\"colorscale\":[[0.0,\"#0d0887\"],[0.1111111111111111,\"#46039f\"],[0.2222222222222222,\"#7201a8\"],[0.3333333333333333,\"#9c179e\"],[0.4444444444444444,\"#bd3786\"],[0.5555555555555556,\"#d8576b\"],[0.6666666666666666,\"#ed7953\"],[0.7777777777777778,\"#fb9f3a\"],[0.8888888888888888,\"#fdca26\"],[1.0,\"#f0f921\"]]}],\"mesh3d\":[{\"type\":\"mesh3d\",\"colorbar\":{\"outlinewidth\":0,\"ticks\":\"\"}}],\"scatter\":[{\"fillpattern\":{\"fillmode\":\"overlay\",\"size\":10,\"solidity\":0.2},\"type\":\"scatter\"}],\"parcoords\":[{\"type\":\"parcoords\",\"line\":{\"colorbar\":{\"outlinewidth\":0,\"ticks\":\"\"}}}],\"scatterpolargl\":[{\"type\":\"scatterpolargl\",\"marker\":{\"colorbar\":{\"outlinewidth\":0,\"ticks\":\"\"}}}],\"bar\":[{\"error_x\":{\"color\":\"#2a3f5f\"},\"error_y\":{\"color\":\"#2a3f5f\"},\"marker\":{\"line\":{\"color\":\"#E5ECF6\",\"width\":0.5},\"pattern\":{\"fillmode\":\"overlay\",\"size\":10,\"solidity\":0.2}},\"type\":\"bar\"}],\"scattergeo\":[{\"type\":\"scattergeo\",\"marker\":{\"colorbar\":{\"outlinewidth\":0,\"ticks\":\"\"}}}],\"scatterpolar\":[{\"type\":\"scatterpolar\",\"marker\":{\"colorbar\":{\"outlinewidth\":0,\"ticks\":\"\"}}}],\"histogram\":[{\"marker\":{\"pattern\":{\"fillmode\":\"overlay\",\"size\":10,\"solidity\":0.2}},\"type\":\"histogram\"}],\"scattergl\":[{\"type\":\"scattergl\",\"marker\":{\"colorbar\":{\"outlinewidth\":0,\"ticks\":\"\"}}}],\"scatter3d\":[{\"type\":\"scatter3d\",\"line\":{\"colorbar\":{\"outlinewidth\":0,\"ticks\":\"\"}},\"marker\":{\"colorbar\":{\"outlinewidth\":0,\"ticks\":\"\"}}}],\"scattermapbox\":[{\"type\":\"scattermapbox\",\"marker\":{\"colorbar\":{\"outlinewidth\":0,\"ticks\":\"\"}}}],\"scatterternary\":[{\"type\":\"scatterternary\",\"marker\":{\"colorbar\":{\"outlinewidth\":0,\"ticks\":\"\"}}}],\"scattercarpet\":[{\"type\":\"scattercarpet\",\"marker\":{\"colorbar\":{\"outlinewidth\":0,\"ticks\":\"\"}}}],\"carpet\":[{\"aaxis\":{\"endlinecolor\":\"#2a3f5f\",\"gridcolor\":\"white\",\"linecolor\":\"white\",\"minorgridcolor\":\"white\",\"startlinecolor\":\"#2a3f5f\"},\"baxis\":{\"endlinecolor\":\"#2a3f5f\",\"gridcolor\":\"white\",\"linecolor\":\"white\",\"minorgridcolor\":\"white\",\"startlinecolor\":\"#2a3f5f\"},\"type\":\"carpet\"}],\"table\":[{\"cells\":{\"fill\":{\"color\":\"#EBF0F8\"},\"line\":{\"color\":\"white\"}},\"header\":{\"fill\":{\"color\":\"#C8D4E3\"},\"line\":{\"color\":\"white\"}},\"type\":\"table\"}],\"barpolar\":[{\"marker\":{\"line\":{\"color\":\"#E5ECF6\",\"width\":0.5},\"pattern\":{\"fillmode\":\"overlay\",\"size\":10,\"solidity\":0.2}},\"type\":\"barpolar\"}],\"pie\":[{\"automargin\":true,\"type\":\"pie\"}]},\"layout\":{\"autotypenumbers\":\"strict\",\"colorway\":[\"#636efa\",\"#EF553B\",\"#00cc96\",\"#ab63fa\",\"#FFA15A\",\"#19d3f3\",\"#FF6692\",\"#B6E880\",\"#FF97FF\",\"#FECB52\"],\"font\":{\"color\":\"#2a3f5f\"},\"hovermode\":\"closest\",\"hoverlabel\":{\"align\":\"left\"},\"paper_bgcolor\":\"white\",\"plot_bgcolor\":\"#E5ECF6\",\"polar\":{\"bgcolor\":\"#E5ECF6\",\"angularaxis\":{\"gridcolor\":\"white\",\"linecolor\":\"white\",\"ticks\":\"\"},\"radialaxis\":{\"gridcolor\":\"white\",\"linecolor\":\"white\",\"ticks\":\"\"}},\"ternary\":{\"bgcolor\":\"#E5ECF6\",\"aaxis\":{\"gridcolor\":\"white\",\"linecolor\":\"white\",\"ticks\":\"\"},\"baxis\":{\"gridcolor\":\"white\",\"linecolor\":\"white\",\"ticks\":\"\"},\"caxis\":{\"gridcolor\":\"white\",\"linecolor\":\"white\",\"ticks\":\"\"}},\"coloraxis\":{\"colorbar\":{\"outlinewidth\":0,\"ticks\":\"\"}},\"colorscale\":{\"sequential\":[[0.0,\"#0d0887\"],[0.1111111111111111,\"#46039f\"],[0.2222222222222222,\"#7201a8\"],[0.3333333333333333,\"#9c179e\"],[0.4444444444444444,\"#bd3786\"],[0.5555555555555556,\"#d8576b\"],[0.6666666666666666,\"#ed7953\"],[0.7777777777777778,\"#fb9f3a\"],[0.8888888888888888,\"#fdca26\"],[1.0,\"#f0f921\"]],\"sequentialminus\":[[0.0,\"#0d0887\"],[0.1111111111111111,\"#46039f\"],[0.2222222222222222,\"#7201a8\"],[0.3333333333333333,\"#9c179e\"],[0.4444444444444444,\"#bd3786\"],[0.5555555555555556,\"#d8576b\"],[0.6666666666666666,\"#ed7953\"],[0.7777777777777778,\"#fb9f3a\"],[0.8888888888888888,\"#fdca26\"],[1.0,\"#f0f921\"]],\"diverging\":[[0,\"#8e0152\"],[0.1,\"#c51b7d\"],[0.2,\"#de77ae\"],[0.3,\"#f1b6da\"],[0.4,\"#fde0ef\"],[0.5,\"#f7f7f7\"],[0.6,\"#e6f5d0\"],[0.7,\"#b8e186\"],[0.8,\"#7fbc41\"],[0.9,\"#4d9221\"],[1,\"#276419\"]]},\"xaxis\":{\"gridcolor\":\"white\",\"linecolor\":\"white\",\"ticks\":\"\",\"title\":{\"standoff\":15},\"zerolinecolor\":\"white\",\"automargin\":true,\"zerolinewidth\":2},\"yaxis\":{\"gridcolor\":\"white\",\"linecolor\":\"white\",\"ticks\":\"\",\"title\":{\"standoff\":15},\"zerolinecolor\":\"white\",\"automargin\":true,\"zerolinewidth\":2},\"scene\":{\"xaxis\":{\"backgroundcolor\":\"#E5ECF6\",\"gridcolor\":\"white\",\"linecolor\":\"white\",\"showbackground\":true,\"ticks\":\"\",\"zerolinecolor\":\"white\",\"gridwidth\":2},\"yaxis\":{\"backgroundcolor\":\"#E5ECF6\",\"gridcolor\":\"white\",\"linecolor\":\"white\",\"showbackground\":true,\"ticks\":\"\",\"zerolinecolor\":\"white\",\"gridwidth\":2},\"zaxis\":{\"backgroundcolor\":\"#E5ECF6\",\"gridcolor\":\"white\",\"linecolor\":\"white\",\"showbackground\":true,\"ticks\":\"\",\"zerolinecolor\":\"white\",\"gridwidth\":2}},\"shapedefaults\":{\"line\":{\"color\":\"#2a3f5f\"}},\"annotationdefaults\":{\"arrowcolor\":\"#2a3f5f\",\"arrowhead\":0,\"arrowwidth\":1},\"geo\":{\"bgcolor\":\"white\",\"landcolor\":\"#E5ECF6\",\"subunitcolor\":\"white\",\"showland\":true,\"showlakes\":true,\"lakecolor\":\"white\"},\"title\":{\"x\":0.05},\"mapbox\":{\"style\":\"light\"}}},\"xaxis\":{\"anchor\":\"y\",\"domain\":[0.0,1.0],\"title\":{\"text\":\"smoking\"}},\"yaxis\":{\"anchor\":\"x\",\"domain\":[0.0,1.0],\"title\":{\"text\":\"count\"}},\"legend\":{\"tracegroupgap\":0},\"title\":{\"text\":\"Count of Patients who Smoke\"},\"barmode\":\"relative\",\"width\":500},                        {\"responsive\": true}                    ).then(function(){\n",
              "                            \n",
              "var gd = document.getElementById('18f29a71-b47c-4b23-9442-3d540c5d6639');\n",
              "var x = new MutationObserver(function (mutations, observer) {{\n",
              "        var display = window.getComputedStyle(gd).display;\n",
              "        if (!display || display === 'none') {{\n",
              "            console.log([gd, 'removed!']);\n",
              "            Plotly.purge(gd);\n",
              "            observer.disconnect();\n",
              "        }}\n",
              "}});\n",
              "\n",
              "// Listen for the removal of the full notebook cells\n",
              "var notebookContainer = gd.closest('#notebook-container');\n",
              "if (notebookContainer) {{\n",
              "    x.observe(notebookContainer, {childList: true});\n",
              "}}\n",
              "\n",
              "// Listen for the clearing of the current output cell\n",
              "var outputEl = gd.closest('.output');\n",
              "if (outputEl) {{\n",
              "    x.observe(outputEl, {childList: true});\n",
              "}}\n",
              "\n",
              "                        })                };                            </script>        </div>\n",
              "</body>\n",
              "</html>"
            ]
          },
          "metadata": {}
        }
      ]
    },
    {
      "cell_type": "code",
      "source": [
        "pd.crosstab(df.smoking ,df.death_event).plot(kind='bar')\n",
        "plt.title('Death Event as per Smoking ')\n",
        "plt.xlabel('Smoking')\n",
        "plt.ylabel('Death')\n",
        "plt.show()"
      ],
      "metadata": {
        "id": "IeuIcoWXu4KU",
        "outputId": "0ab06697-2733-4a18-f208-c50884abfa4f",
        "colab": {
          "base_uri": "https://localhost:8080/",
          "height": 467
        }
      },
      "execution_count": 57,
      "outputs": [
        {
          "output_type": "display_data",
          "data": {
            "text/plain": [
              "<Figure size 640x480 with 1 Axes>"
            ],
            "image/png": "[encoded data removed]"
          },
          "metadata": {}
        }
      ]
    },
    {
      "cell_type": "code",
      "source": [
        "print(\"Percentage of people who died and are smokers:\",df[\"death_event\"][df[\"smoking\"] == 1].value_counts(normalize = True)[1]*100)"
      ],
      "metadata": {
        "id": "9ft50NPru6OT",
        "outputId": "5b1a2318-f3b1-4f7d-e393-b700fe647fd2",
        "colab": {
          "base_uri": "https://localhost:8080/"
        }
      },
      "execution_count": 58,
      "outputs": [
        {
          "output_type": "stream",
          "name": "stdout",
          "text": [
            "Percentage of people who died and are smokers: 31.25\n"
          ]
        }
      ]
    },
    {
      "cell_type": "code",
      "source": [
        "print(\"Percentage of people who died and are not smokers:\", df[\"death_event\"][df[\"smoking\"] == 0].value_counts(normalize = True)[1]*100)"
      ],
      "metadata": {
        "id": "ImjGf62ru9ZC",
        "outputId": "d23bba2f-4393-4fbb-9b82-732567c88a78",
        "colab": {
          "base_uri": "https://localhost:8080/"
        }
      },
      "execution_count": 59,
      "outputs": [
        {
          "output_type": "stream",
          "name": "stdout",
          "text": [
            "Percentage of people who died and are not smokers: 32.51231527093596\n"
          ]
        }
      ]
    },
    {
      "cell_type": "code",
      "source": [
        "#Blood Pressure\n",
        "ds = df['high_blood_pressure'].value_counts().reset_index()\n",
        "ds.columns = ['high_blood_pressure', 'count']\n",
        "fig = px.bar(ds, x='high_blood_pressure', y=\"count\", orientation='v', title='Count of Patients with high blood pressure', width=500)\n",
        "fig.show()"
      ],
      "metadata": {
        "id": "Xpdkdzo_vAWr",
        "outputId": "6d452056-a6dc-42ba-d94d-f8b2b7756397",
        "colab": {
          "base_uri": "https://localhost:8080/",
          "height": 542
        }
      },
      "execution_count": 60,
      "outputs": [
        {
          "output_type": "display_data",
          "data": {
            "text/html": [
              "<html>\n",
              "<head><meta charset=\"utf-8\" /></head>\n",
              "<body>\n",
              "    <div>            <script src=\"https://cdnjs.cloudflare.com/ajax/libs/mathjax/2.7.5/MathJax.js?config=TeX-AMS-MML_SVG\"></script><script type=\"text/javascript\">if (window.MathJax && window.MathJax.Hub && window.MathJax.Hub.Config) {window.MathJax.Hub.Config({SVG: {font: \"STIX-Web\"}});}</script>                <script type=\"text/javascript\">window.PlotlyConfig = {MathJaxConfig: 'local'};</script>\n",
              "        <script charset=\"utf-8\" src=\"https://cdn.plot.ly/plotly-2.24.1.min.js\"></script>                <div id=\"3a5341b8-e678-4286-a422-704bbce27c95\" class=\"plotly-graph-div\" style=\"height:525px; width:500px;\"></div>            <script type=\"text/javascript\">                                    window.PLOTLYENV=window.PLOTLYENV || {};                                    if (document.getElementById(\"3a5341b8-e678-4286-a422-704bbce27c95\")) {                    Plotly.newPlot(                        \"3a5341b8-e678-4286-a422-704bbce27c95\",                        [{\"alignmentgroup\":\"True\",\"hovertemplate\":\"high_blood_pressure=%{x}\\u003cbr\\u003ecount=%{y}\\u003cextra\\u003e\\u003c\\u002fextra\\u003e\",\"legendgroup\":\"\",\"marker\":{\"color\":\"#636efa\",\"pattern\":{\"shape\":\"\"}},\"name\":\"\",\"offsetgroup\":\"\",\"orientation\":\"v\",\"showlegend\":false,\"textposition\":\"auto\",\"x\":[0,1],\"xaxis\":\"x\",\"y\":[194,105],\"yaxis\":\"y\",\"type\":\"bar\"}],                        {\"template\":{\"data\":{\"histogram2dcontour\":[{\"type\":\"histogram2dcontour\",\"colorbar\":{\"outlinewidth\":0,\"ticks\":\"\"},\"colorscale\":[[0.0,\"#0d0887\"],[0.1111111111111111,\"#46039f\"],[0.2222222222222222,\"#7201a8\"],[0.3333333333333333,\"#9c179e\"],[0.4444444444444444,\"#bd3786\"],[0.5555555555555556,\"#d8576b\"],[0.6666666666666666,\"#ed7953\"],[0.7777777777777778,\"#fb9f3a\"],[0.8888888888888888,\"#fdca26\"],[1.0,\"#f0f921\"]]}],\"choropleth\":[{\"type\":\"choropleth\",\"colorbar\":{\"outlinewidth\":0,\"ticks\":\"\"}}],\"histogram2d\":[{\"type\":\"histogram2d\",\"colorbar\":{\"outlinewidth\":0,\"ticks\":\"\"},\"colorscale\":[[0.0,\"#0d0887\"],[0.1111111111111111,\"#46039f\"],[0.2222222222222222,\"#7201a8\"],[0.3333333333333333,\"#9c179e\"],[0.4444444444444444,\"#bd3786\"],[0.5555555555555556,\"#d8576b\"],[0.6666666666666666,\"#ed7953\"],[0.7777777777777778,\"#fb9f3a\"],[0.8888888888888888,\"#fdca26\"],[1.0,\"#f0f921\"]]}],\"heatmap\":[{\"type\":\"heatmap\",\"colorbar\":{\"outlinewidth\":0,\"ticks\":\"\"},\"colorscale\":[[0.0,\"#0d0887\"],[0.1111111111111111,\"#46039f\"],[0.2222222222222222,\"#7201a8\"],[0.3333333333333333,\"#9c179e\"],[0.4444444444444444,\"#bd3786\"],[0.5555555555555556,\"#d8576b\"],[0.6666666666666666,\"#ed7953\"],[0.7777777777777778,\"#fb9f3a\"],[0.8888888888888888,\"#fdca26\"],[1.0,\"#f0f921\"]]}],\"heatmapgl\":[{\"type\":\"heatmapgl\",\"colorbar\":{\"outlinewidth\":0,\"ticks\":\"\"},\"colorscale\":[[0.0,\"#0d0887\"],[0.1111111111111111,\"#46039f\"],[0.2222222222222222,\"#7201a8\"],[0.3333333333333333,\"#9c179e\"],[0.4444444444444444,\"#bd3786\"],[0.5555555555555556,\"#d8576b\"],[0.6666666666666666,\"#ed7953\"],[0.7777777777777778,\"#fb9f3a\"],[0.8888888888888888,\"#fdca26\"],[1.0,\"#f0f921\"]]}],\"contourcarpet\":[{\"type\":\"contourcarpet\",\"colorbar\":{\"outlinewidth\":0,\"ticks\":\"\"}}],\"contour\":[{\"type\":\"contour\",\"colorbar\":{\"outlinewidth\":0,\"ticks\":\"\"},\"colorscale\":[[0.0,\"#0d0887\"],[0.1111111111111111,\"#46039f\"],[0.2222222222222222,\"#7201a8\"],[0.3333333333333333,\"#9c179e\"],[0.4444444444444444,\"#bd3786\"],[0.5555555555555556,\"#d8576b\"],[0.6666666666666666,\"#ed7953\"],[0.7777777777777778,\"#fb9f3a\"],[0.8888888888888888,\"#fdca26\"],[1.0,\"#f0f921\"]]}],\"surface\":[{\"type\":\"surface\",\"colorbar\":{\"outlinewidth\":0,\"ticks\":\"\"},\"colorscale\":[[0.0,\"#0d0887\"],[0.1111111111111111,\"#46039f\"],[0.2222222222222222,\"#7201a8\"],[0.3333333333333333,\"#9c179e\"],[0.4444444444444444,\"#bd3786\"],[0.5555555555555556,\"#d8576b\"],[0.6666666666666666,\"#ed7953\"],[0.7777777777777778,\"#fb9f3a\"],[0.8888888888888888,\"#fdca26\"],[1.0,\"#f0f921\"]]}],\"mesh3d\":[{\"type\":\"mesh3d\",\"colorbar\":{\"outlinewidth\":0,\"ticks\":\"\"}}],\"scatter\":[{\"fillpattern\":{\"fillmode\":\"overlay\",\"size\":10,\"solidity\":0.2},\"type\":\"scatter\"}],\"parcoords\":[{\"type\":\"parcoords\",\"line\":{\"colorbar\":{\"outlinewidth\":0,\"ticks\":\"\"}}}],\"scatterpolargl\":[{\"type\":\"scatterpolargl\",\"marker\":{\"colorbar\":{\"outlinewidth\":0,\"ticks\":\"\"}}}],\"bar\":[{\"error_x\":{\"color\":\"#2a3f5f\"},\"error_y\":{\"color\":\"#2a3f5f\"},\"marker\":{\"line\":{\"color\":\"#E5ECF6\",\"width\":0.5},\"pattern\":{\"fillmode\":\"overlay\",\"size\":10,\"solidity\":0.2}},\"type\":\"bar\"}],\"scattergeo\":[{\"type\":\"scattergeo\",\"marker\":{\"colorbar\":{\"outlinewidth\":0,\"ticks\":\"\"}}}],\"scatterpolar\":[{\"type\":\"scatterpolar\",\"marker\":{\"colorbar\":{\"outlinewidth\":0,\"ticks\":\"\"}}}],\"histogram\":[{\"marker\":{\"pattern\":{\"fillmode\":\"overlay\",\"size\":10,\"solidity\":0.2}},\"type\":\"histogram\"}],\"scattergl\":[{\"type\":\"scattergl\",\"marker\":{\"colorbar\":{\"outlinewidth\":0,\"ticks\":\"\"}}}],\"scatter3d\":[{\"type\":\"scatter3d\",\"line\":{\"colorbar\":{\"outlinewidth\":0,\"ticks\":\"\"}},\"marker\":{\"colorbar\":{\"outlinewidth\":0,\"ticks\":\"\"}}}],\"scattermapbox\":[{\"type\":\"scattermapbox\",\"marker\":{\"colorbar\":{\"outlinewidth\":0,\"ticks\":\"\"}}}],\"scatterternary\":[{\"type\":\"scatterternary\",\"marker\":{\"colorbar\":{\"outlinewidth\":0,\"ticks\":\"\"}}}],\"scattercarpet\":[{\"type\":\"scattercarpet\",\"marker\":{\"colorbar\":{\"outlinewidth\":0,\"ticks\":\"\"}}}],\"carpet\":[{\"aaxis\":{\"endlinecolor\":\"#2a3f5f\",\"gridcolor\":\"white\",\"linecolor\":\"white\",\"minorgridcolor\":\"white\",\"startlinecolor\":\"#2a3f5f\"},\"baxis\":{\"endlinecolor\":\"#2a3f5f\",\"gridcolor\":\"white\",\"linecolor\":\"white\",\"minorgridcolor\":\"white\",\"startlinecolor\":\"#2a3f5f\"},\"type\":\"carpet\"}],\"table\":[{\"cells\":{\"fill\":{\"color\":\"#EBF0F8\"},\"line\":{\"color\":\"white\"}},\"header\":{\"fill\":{\"color\":\"#C8D4E3\"},\"line\":{\"color\":\"white\"}},\"type\":\"table\"}],\"barpolar\":[{\"marker\":{\"line\":{\"color\":\"#E5ECF6\",\"width\":0.5},\"pattern\":{\"fillmode\":\"overlay\",\"size\":10,\"solidity\":0.2}},\"type\":\"barpolar\"}],\"pie\":[{\"automargin\":true,\"type\":\"pie\"}]},\"layout\":{\"autotypenumbers\":\"strict\",\"colorway\":[\"#636efa\",\"#EF553B\",\"#00cc96\",\"#ab63fa\",\"#FFA15A\",\"#19d3f3\",\"#FF6692\",\"#B6E880\",\"#FF97FF\",\"#FECB52\"],\"font\":{\"color\":\"#2a3f5f\"},\"hovermode\":\"closest\",\"hoverlabel\":{\"align\":\"left\"},\"paper_bgcolor\":\"white\",\"plot_bgcolor\":\"#E5ECF6\",\"polar\":{\"bgcolor\":\"#E5ECF6\",\"angularaxis\":{\"gridcolor\":\"white\",\"linecolor\":\"white\",\"ticks\":\"\"},\"radialaxis\":{\"gridcolor\":\"white\",\"linecolor\":\"white\",\"ticks\":\"\"}},\"ternary\":{\"bgcolor\":\"#E5ECF6\",\"aaxis\":{\"gridcolor\":\"white\",\"linecolor\":\"white\",\"ticks\":\"\"},\"baxis\":{\"gridcolor\":\"white\",\"linecolor\":\"white\",\"ticks\":\"\"},\"caxis\":{\"gridcolor\":\"white\",\"linecolor\":\"white\",\"ticks\":\"\"}},\"coloraxis\":{\"colorbar\":{\"outlinewidth\":0,\"ticks\":\"\"}},\"colorscale\":{\"sequential\":[[0.0,\"#0d0887\"],[0.1111111111111111,\"#46039f\"],[0.2222222222222222,\"#7201a8\"],[0.3333333333333333,\"#9c179e\"],[0.4444444444444444,\"#bd3786\"],[0.5555555555555556,\"#d8576b\"],[0.6666666666666666,\"#ed7953\"],[0.7777777777777778,\"#fb9f3a\"],[0.8888888888888888,\"#fdca26\"],[1.0,\"#f0f921\"]],\"sequentialminus\":[[0.0,\"#0d0887\"],[0.1111111111111111,\"#46039f\"],[0.2222222222222222,\"#7201a8\"],[0.3333333333333333,\"#9c179e\"],[0.4444444444444444,\"#bd3786\"],[0.5555555555555556,\"#d8576b\"],[0.6666666666666666,\"#ed7953\"],[0.7777777777777778,\"#fb9f3a\"],[0.8888888888888888,\"#fdca26\"],[1.0,\"#f0f921\"]],\"diverging\":[[0,\"#8e0152\"],[0.1,\"#c51b7d\"],[0.2,\"#de77ae\"],[0.3,\"#f1b6da\"],[0.4,\"#fde0ef\"],[0.5,\"#f7f7f7\"],[0.6,\"#e6f5d0\"],[0.7,\"#b8e186\"],[0.8,\"#7fbc41\"],[0.9,\"#4d9221\"],[1,\"#276419\"]]},\"xaxis\":{\"gridcolor\":\"white\",\"linecolor\":\"white\",\"ticks\":\"\",\"title\":{\"standoff\":15},\"zerolinecolor\":\"white\",\"automargin\":true,\"zerolinewidth\":2},\"yaxis\":{\"gridcolor\":\"white\",\"linecolor\":\"white\",\"ticks\":\"\",\"title\":{\"standoff\":15},\"zerolinecolor\":\"white\",\"automargin\":true,\"zerolinewidth\":2},\"scene\":{\"xaxis\":{\"backgroundcolor\":\"#E5ECF6\",\"gridcolor\":\"white\",\"linecolor\":\"white\",\"showbackground\":true,\"ticks\":\"\",\"zerolinecolor\":\"white\",\"gridwidth\":2},\"yaxis\":{\"backgroundcolor\":\"#E5ECF6\",\"gridcolor\":\"white\",\"linecolor\":\"white\",\"showbackground\":true,\"ticks\":\"\",\"zerolinecolor\":\"white\",\"gridwidth\":2},\"zaxis\":{\"backgroundcolor\":\"#E5ECF6\",\"gridcolor\":\"white\",\"linecolor\":\"white\",\"showbackground\":true,\"ticks\":\"\",\"zerolinecolor\":\"white\",\"gridwidth\":2}},\"shapedefaults\":{\"line\":{\"color\":\"#2a3f5f\"}},\"annotationdefaults\":{\"arrowcolor\":\"#2a3f5f\",\"arrowhead\":0,\"arrowwidth\":1},\"geo\":{\"bgcolor\":\"white\",\"landcolor\":\"#E5ECF6\",\"subunitcolor\":\"white\",\"showland\":true,\"showlakes\":true,\"lakecolor\":\"white\"},\"title\":{\"x\":0.05},\"mapbox\":{\"style\":\"light\"}}},\"xaxis\":{\"anchor\":\"y\",\"domain\":[0.0,1.0],\"title\":{\"text\":\"high_blood_pressure\"}},\"yaxis\":{\"anchor\":\"x\",\"domain\":[0.0,1.0],\"title\":{\"text\":\"count\"}},\"legend\":{\"tracegroupgap\":0},\"title\":{\"text\":\"Count of Patients with high blood pressure\"},\"barmode\":\"relative\",\"width\":500},                        {\"responsive\": true}                    ).then(function(){\n",
              "                            \n",
              "var gd = document.getElementById('3a5341b8-e678-4286-a422-704bbce27c95');\n",
              "var x = new MutationObserver(function (mutations, observer) {{\n",
              "        var display = window.getComputedStyle(gd).display;\n",
              "        if (!display || display === 'none') {{\n",
              "            console.log([gd, 'removed!']);\n",
              "            Plotly.purge(gd);\n",
              "            observer.disconnect();\n",
              "        }}\n",
              "}});\n",
              "\n",
              "// Listen for the removal of the full notebook cells\n",
              "var notebookContainer = gd.closest('#notebook-container');\n",
              "if (notebookContainer) {{\n",
              "    x.observe(notebookContainer, {childList: true});\n",
              "}}\n",
              "\n",
              "// Listen for the clearing of the current output cell\n",
              "var outputEl = gd.closest('.output');\n",
              "if (outputEl) {{\n",
              "    x.observe(outputEl, {childList: true});\n",
              "}}\n",
              "\n",
              "                        })                };                            </script>        </div>\n",
              "</body>\n",
              "</html>"
            ]
          },
          "metadata": {}
        }
      ]
    },
    {
      "cell_type": "code",
      "source": [
        "pd.crosstab(df.high_blood_pressure  ,df.death_event).plot(kind='bar')\n",
        "plt.title('Death Event as per BLood Pressure ')\n",
        "plt.xlabel('BP')\n",
        "plt.ylabel('Death')\n",
        "plt.show()"
      ],
      "metadata": {
        "id": "sLAgGtOAvEE7",
        "outputId": "67dfcf77-780a-4c59-94e4-599f07b3a22c",
        "colab": {
          "base_uri": "https://localhost:8080/",
          "height": 467
        }
      },
      "execution_count": 61,
      "outputs": [
        {
          "output_type": "display_data",
          "data": {
            "text/plain": [
              "<Figure size 640x480 with 1 Axes>"
            ],
            "image/png": "[encoded data removed]"
          },
          "metadata": {}
        }
      ]
    },
    {
      "cell_type": "code",
      "source": [
        "#Diabetes\n",
        "ds = df['diabetes'].value_counts().reset_index()\n",
        "ds.columns = ['diabetes', 'count']\n",
        "fig = px.bar(ds, x='diabetes', y=\"count\", orientation='v', title='Count of Patients with diabetes', width=500)\n",
        "fig.show()"
      ],
      "metadata": {
        "id": "lV1fqT_2vLd9",
        "outputId": "83aea06a-9442-4799-991f-78f90f165ffe",
        "colab": {
          "base_uri": "https://localhost:8080/",
          "height": 542
        }
      },
      "execution_count": 62,
      "outputs": [
        {
          "output_type": "display_data",
          "data": {
            "text/html": [
              "<html>\n",
              "<head><meta charset=\"utf-8\" /></head>\n",
              "<body>\n",
              "    <div>            <script src=\"https://cdnjs.cloudflare.com/ajax/libs/mathjax/2.7.5/MathJax.js?config=TeX-AMS-MML_SVG\"></script><script type=\"text/javascript\">if (window.MathJax && window.MathJax.Hub && window.MathJax.Hub.Config) {window.MathJax.Hub.Config({SVG: {font: \"STIX-Web\"}});}</script>                <script type=\"text/javascript\">window.PlotlyConfig = {MathJaxConfig: 'local'};</script>\n",
              "        <script charset=\"utf-8\" src=\"https://cdn.plot.ly/plotly-2.24.1.min.js\"></script>                <div id=\"289bd8ed-766c-4acc-83cc-3b4082aa0d71\" class=\"plotly-graph-div\" style=\"height:525px; width:500px;\"></div>            <script type=\"text/javascript\">                                    window.PLOTLYENV=window.PLOTLYENV || {};                                    if (document.getElementById(\"289bd8ed-766c-4acc-83cc-3b4082aa0d71\")) {                    Plotly.newPlot(                        \"289bd8ed-766c-4acc-83cc-3b4082aa0d71\",                        [{\"alignmentgroup\":\"True\",\"hovertemplate\":\"diabetes=%{x}\\u003cbr\\u003ecount=%{y}\\u003cextra\\u003e\\u003c\\u002fextra\\u003e\",\"legendgroup\":\"\",\"marker\":{\"color\":\"#636efa\",\"pattern\":{\"shape\":\"\"}},\"name\":\"\",\"offsetgroup\":\"\",\"orientation\":\"v\",\"showlegend\":false,\"textposition\":\"auto\",\"x\":[0,1],\"xaxis\":\"x\",\"y\":[174,125],\"yaxis\":\"y\",\"type\":\"bar\"}],                        {\"template\":{\"data\":{\"histogram2dcontour\":[{\"type\":\"histogram2dcontour\",\"colorbar\":{\"outlinewidth\":0,\"ticks\":\"\"},\"colorscale\":[[0.0,\"#0d0887\"],[0.1111111111111111,\"#46039f\"],[0.2222222222222222,\"#7201a8\"],[0.3333333333333333,\"#9c179e\"],[0.4444444444444444,\"#bd3786\"],[0.5555555555555556,\"#d8576b\"],[0.6666666666666666,\"#ed7953\"],[0.7777777777777778,\"#fb9f3a\"],[0.8888888888888888,\"#fdca26\"],[1.0,\"#f0f921\"]]}],\"choropleth\":[{\"type\":\"choropleth\",\"colorbar\":{\"outlinewidth\":0,\"ticks\":\"\"}}],\"histogram2d\":[{\"type\":\"histogram2d\",\"colorbar\":{\"outlinewidth\":0,\"ticks\":\"\"},\"colorscale\":[[0.0,\"#0d0887\"],[0.1111111111111111,\"#46039f\"],[0.2222222222222222,\"#7201a8\"],[0.3333333333333333,\"#9c179e\"],[0.4444444444444444,\"#bd3786\"],[0.5555555555555556,\"#d8576b\"],[0.6666666666666666,\"#ed7953\"],[0.7777777777777778,\"#fb9f3a\"],[0.8888888888888888,\"#fdca26\"],[1.0,\"#f0f921\"]]}],\"heatmap\":[{\"type\":\"heatmap\",\"colorbar\":{\"outlinewidth\":0,\"ticks\":\"\"},\"colorscale\":[[0.0,\"#0d0887\"],[0.1111111111111111,\"#46039f\"],[0.2222222222222222,\"#7201a8\"],[0.3333333333333333,\"#9c179e\"],[0.4444444444444444,\"#bd3786\"],[0.5555555555555556,\"#d8576b\"],[0.6666666666666666,\"#ed7953\"],[0.7777777777777778,\"#fb9f3a\"],[0.8888888888888888,\"#fdca26\"],[1.0,\"#f0f921\"]]}],\"heatmapgl\":[{\"type\":\"heatmapgl\",\"colorbar\":{\"outlinewidth\":0,\"ticks\":\"\"},\"colorscale\":[[0.0,\"#0d0887\"],[0.1111111111111111,\"#46039f\"],[0.2222222222222222,\"#7201a8\"],[0.3333333333333333,\"#9c179e\"],[0.4444444444444444,\"#bd3786\"],[0.5555555555555556,\"#d8576b\"],[0.6666666666666666,\"#ed7953\"],[0.7777777777777778,\"#fb9f3a\"],[0.8888888888888888,\"#fdca26\"],[1.0,\"#f0f921\"]]}],\"contourcarpet\":[{\"type\":\"contourcarpet\",\"colorbar\":{\"outlinewidth\":0,\"ticks\":\"\"}}],\"contour\":[{\"type\":\"contour\",\"colorbar\":{\"outlinewidth\":0,\"ticks\":\"\"},\"colorscale\":[[0.0,\"#0d0887\"],[0.1111111111111111,\"#46039f\"],[0.2222222222222222,\"#7201a8\"],[0.3333333333333333,\"#9c179e\"],[0.4444444444444444,\"#bd3786\"],[0.5555555555555556,\"#d8576b\"],[0.6666666666666666,\"#ed7953\"],[0.7777777777777778,\"#fb9f3a\"],[0.8888888888888888,\"#fdca26\"],[1.0,\"#f0f921\"]]}],\"surface\":[{\"type\":\"surface\",\"colorbar\":{\"outlinewidth\":0,\"ticks\":\"\"},\"colorscale\":[[0.0,\"#0d0887\"],[0.1111111111111111,\"#46039f\"],[0.2222222222222222,\"#7201a8\"],[0.3333333333333333,\"#9c179e\"],[0.4444444444444444,\"#bd3786\"],[0.5555555555555556,\"#d8576b\"],[0.6666666666666666,\"#ed7953\"],[0.7777777777777778,\"#fb9f3a\"],[0.8888888888888888,\"#fdca26\"],[1.0,\"#f0f921\"]]}],\"mesh3d\":[{\"type\":\"mesh3d\",\"colorbar\":{\"outlinewidth\":0,\"ticks\":\"\"}}],\"scatter\":[{\"fillpattern\":{\"fillmode\":\"overlay\",\"size\":10,\"solidity\":0.2},\"type\":\"scatter\"}],\"parcoords\":[{\"type\":\"parcoords\",\"line\":{\"colorbar\":{\"outlinewidth\":0,\"ticks\":\"\"}}}],\"scatterpolargl\":[{\"type\":\"scatterpolargl\",\"marker\":{\"colorbar\":{\"outlinewidth\":0,\"ticks\":\"\"}}}],\"bar\":[{\"error_x\":{\"color\":\"#2a3f5f\"},\"error_y\":{\"color\":\"#2a3f5f\"},\"marker\":{\"line\":{\"color\":\"#E5ECF6\",\"width\":0.5},\"pattern\":{\"fillmode\":\"overlay\",\"size\":10,\"solidity\":0.2}},\"type\":\"bar\"}],\"scattergeo\":[{\"type\":\"scattergeo\",\"marker\":{\"colorbar\":{\"outlinewidth\":0,\"ticks\":\"\"}}}],\"scatterpolar\":[{\"type\":\"scatterpolar\",\"marker\":{\"colorbar\":{\"outlinewidth\":0,\"ticks\":\"\"}}}],\"histogram\":[{\"marker\":{\"pattern\":{\"fillmode\":\"overlay\",\"size\":10,\"solidity\":0.2}},\"type\":\"histogram\"}],\"scattergl\":[{\"type\":\"scattergl\",\"marker\":{\"colorbar\":{\"outlinewidth\":0,\"ticks\":\"\"}}}],\"scatter3d\":[{\"type\":\"scatter3d\",\"line\":{\"colorbar\":{\"outlinewidth\":0,\"ticks\":\"\"}},\"marker\":{\"colorbar\":{\"outlinewidth\":0,\"ticks\":\"\"}}}],\"scattermapbox\":[{\"type\":\"scattermapbox\",\"marker\":{\"colorbar\":{\"outlinewidth\":0,\"ticks\":\"\"}}}],\"scatterternary\":[{\"type\":\"scatterternary\",\"marker\":{\"colorbar\":{\"outlinewidth\":0,\"ticks\":\"\"}}}],\"scattercarpet\":[{\"type\":\"scattercarpet\",\"marker\":{\"colorbar\":{\"outlinewidth\":0,\"ticks\":\"\"}}}],\"carpet\":[{\"aaxis\":{\"endlinecolor\":\"#2a3f5f\",\"gridcolor\":\"white\",\"linecolor\":\"white\",\"minorgridcolor\":\"white\",\"startlinecolor\":\"#2a3f5f\"},\"baxis\":{\"endlinecolor\":\"#2a3f5f\",\"gridcolor\":\"white\",\"linecolor\":\"white\",\"minorgridcolor\":\"white\",\"startlinecolor\":\"#2a3f5f\"},\"type\":\"carpet\"}],\"table\":[{\"cells\":{\"fill\":{\"color\":\"#EBF0F8\"},\"line\":{\"color\":\"white\"}},\"header\":{\"fill\":{\"color\":\"#C8D4E3\"},\"line\":{\"color\":\"white\"}},\"type\":\"table\"}],\"barpolar\":[{\"marker\":{\"line\":{\"color\":\"#E5ECF6\",\"width\":0.5},\"pattern\":{\"fillmode\":\"overlay\",\"size\":10,\"solidity\":0.2}},\"type\":\"barpolar\"}],\"pie\":[{\"automargin\":true,\"type\":\"pie\"}]},\"layout\":{\"autotypenumbers\":\"strict\",\"colorway\":[\"#636efa\",\"#EF553B\",\"#00cc96\",\"#ab63fa\",\"#FFA15A\",\"#19d3f3\",\"#FF6692\",\"#B6E880\",\"#FF97FF\",\"#FECB52\"],\"font\":{\"color\":\"#2a3f5f\"},\"hovermode\":\"closest\",\"hoverlabel\":{\"align\":\"left\"},\"paper_bgcolor\":\"white\",\"plot_bgcolor\":\"#E5ECF6\",\"polar\":{\"bgcolor\":\"#E5ECF6\",\"angularaxis\":{\"gridcolor\":\"white\",\"linecolor\":\"white\",\"ticks\":\"\"},\"radialaxis\":{\"gridcolor\":\"white\",\"linecolor\":\"white\",\"ticks\":\"\"}},\"ternary\":{\"bgcolor\":\"#E5ECF6\",\"aaxis\":{\"gridcolor\":\"white\",\"linecolor\":\"white\",\"ticks\":\"\"},\"baxis\":{\"gridcolor\":\"white\",\"linecolor\":\"white\",\"ticks\":\"\"},\"caxis\":{\"gridcolor\":\"white\",\"linecolor\":\"white\",\"ticks\":\"\"}},\"coloraxis\":{\"colorbar\":{\"outlinewidth\":0,\"ticks\":\"\"}},\"colorscale\":{\"sequential\":[[0.0,\"#0d0887\"],[0.1111111111111111,\"#46039f\"],[0.2222222222222222,\"#7201a8\"],[0.3333333333333333,\"#9c179e\"],[0.4444444444444444,\"#bd3786\"],[0.5555555555555556,\"#d8576b\"],[0.6666666666666666,\"#ed7953\"],[0.7777777777777778,\"#fb9f3a\"],[0.8888888888888888,\"#fdca26\"],[1.0,\"#f0f921\"]],\"sequentialminus\":[[0.0,\"#0d0887\"],[0.1111111111111111,\"#46039f\"],[0.2222222222222222,\"#7201a8\"],[0.3333333333333333,\"#9c179e\"],[0.4444444444444444,\"#bd3786\"],[0.5555555555555556,\"#d8576b\"],[0.6666666666666666,\"#ed7953\"],[0.7777777777777778,\"#fb9f3a\"],[0.8888888888888888,\"#fdca26\"],[1.0,\"#f0f921\"]],\"diverging\":[[0,\"#8e0152\"],[0.1,\"#c51b7d\"],[0.2,\"#de77ae\"],[0.3,\"#f1b6da\"],[0.4,\"#fde0ef\"],[0.5,\"#f7f7f7\"],[0.6,\"#e6f5d0\"],[0.7,\"#b8e186\"],[0.8,\"#7fbc41\"],[0.9,\"#4d9221\"],[1,\"#276419\"]]},\"xaxis\":{\"gridcolor\":\"white\",\"linecolor\":\"white\",\"ticks\":\"\",\"title\":{\"standoff\":15},\"zerolinecolor\":\"white\",\"automargin\":true,\"zerolinewidth\":2},\"yaxis\":{\"gridcolor\":\"white\",\"linecolor\":\"white\",\"ticks\":\"\",\"title\":{\"standoff\":15},\"zerolinecolor\":\"white\",\"automargin\":true,\"zerolinewidth\":2},\"scene\":{\"xaxis\":{\"backgroundcolor\":\"#E5ECF6\",\"gridcolor\":\"white\",\"linecolor\":\"white\",\"showbackground\":true,\"ticks\":\"\",\"zerolinecolor\":\"white\",\"gridwidth\":2},\"yaxis\":{\"backgroundcolor\":\"#E5ECF6\",\"gridcolor\":\"white\",\"linecolor\":\"white\",\"showbackground\":true,\"ticks\":\"\",\"zerolinecolor\":\"white\",\"gridwidth\":2},\"zaxis\":{\"backgroundcolor\":\"#E5ECF6\",\"gridcolor\":\"white\",\"linecolor\":\"white\",\"showbackground\":true,\"ticks\":\"\",\"zerolinecolor\":\"white\",\"gridwidth\":2}},\"shapedefaults\":{\"line\":{\"color\":\"#2a3f5f\"}},\"annotationdefaults\":{\"arrowcolor\":\"#2a3f5f\",\"arrowhead\":0,\"arrowwidth\":1},\"geo\":{\"bgcolor\":\"white\",\"landcolor\":\"#E5ECF6\",\"subunitcolor\":\"white\",\"showland\":true,\"showlakes\":true,\"lakecolor\":\"white\"},\"title\":{\"x\":0.05},\"mapbox\":{\"style\":\"light\"}}},\"xaxis\":{\"anchor\":\"y\",\"domain\":[0.0,1.0],\"title\":{\"text\":\"diabetes\"}},\"yaxis\":{\"anchor\":\"x\",\"domain\":[0.0,1.0],\"title\":{\"text\":\"count\"}},\"legend\":{\"tracegroupgap\":0},\"title\":{\"text\":\"Count of Patients with diabetes\"},\"barmode\":\"relative\",\"width\":500},                        {\"responsive\": true}                    ).then(function(){\n",
              "                            \n",
              "var gd = document.getElementById('289bd8ed-766c-4acc-83cc-3b4082aa0d71');\n",
              "var x = new MutationObserver(function (mutations, observer) {{\n",
              "        var display = window.getComputedStyle(gd).display;\n",
              "        if (!display || display === 'none') {{\n",
              "            console.log([gd, 'removed!']);\n",
              "            Plotly.purge(gd);\n",
              "            observer.disconnect();\n",
              "        }}\n",
              "}});\n",
              "\n",
              "// Listen for the removal of the full notebook cells\n",
              "var notebookContainer = gd.closest('#notebook-container');\n",
              "if (notebookContainer) {{\n",
              "    x.observe(notebookContainer, {childList: true});\n",
              "}}\n",
              "\n",
              "// Listen for the clearing of the current output cell\n",
              "var outputEl = gd.closest('.output');\n",
              "if (outputEl) {{\n",
              "    x.observe(outputEl, {childList: true});\n",
              "}}\n",
              "\n",
              "                        })                };                            </script>        </div>\n",
              "</body>\n",
              "</html>"
            ]
          },
          "metadata": {}
        }
      ]
    },
    {
      "cell_type": "code",
      "source": [
        "pd.crosstab(df.diabetes ,df.death_event).plot(kind='bar')\n",
        "plt.title('Death Event as per diabetes ')\n",
        "plt.xlabel('diabetes ')\n",
        "plt.ylabel('Death')\n",
        "plt.show()"
      ],
      "metadata": {
        "id": "oOwWPnj8vP5G",
        "outputId": "6fac37ec-7f30-4bef-cd0b-47823ae5d461",
        "colab": {
          "base_uri": "https://localhost:8080/",
          "height": 467
        }
      },
      "execution_count": 63,
      "outputs": [
        {
          "output_type": "display_data",
          "data": {
            "text/plain": [
              "<Figure size 640x480 with 1 Axes>"
            ],
            "image/png": "[encoded data removed]"
          },
          "metadata": {}
        }
      ]
    },
    {
      "cell_type": "code",
      "source": [
        "#Sex\n",
        "ds = df['sex'].value_counts().reset_index()\n",
        "ds.columns = ['sex', 'count']\n",
        "fig = px.bar(ds, x='sex', y=\"count\", orientation='v', title='Count of Patients according to sex', width=500)\n",
        "fig.show()"
      ],
      "metadata": {
        "id": "X28z2jlKvSPt",
        "outputId": "7fad4df8-40ea-4021-ef42-8626260ca746",
        "colab": {
          "base_uri": "https://localhost:8080/",
          "height": 542
        }
      },
      "execution_count": 64,
      "outputs": [
        {
          "output_type": "display_data",
          "data": {
            "text/html": [
              "<html>\n",
              "<head><meta charset=\"utf-8\" /></head>\n",
              "<body>\n",
              "    <div>            <script src=\"https://cdnjs.cloudflare.com/ajax/libs/mathjax/2.7.5/MathJax.js?config=TeX-AMS-MML_SVG\"></script><script type=\"text/javascript\">if (window.MathJax && window.MathJax.Hub && window.MathJax.Hub.Config) {window.MathJax.Hub.Config({SVG: {font: \"STIX-Web\"}});}</script>                <script type=\"text/javascript\">window.PlotlyConfig = {MathJaxConfig: 'local'};</script>\n",
              "        <script charset=\"utf-8\" src=\"https://cdn.plot.ly/plotly-2.24.1.min.js\"></script>                <div id=\"b9563e0d-ada1-488f-959d-28d19e974294\" class=\"plotly-graph-div\" style=\"height:525px; width:500px;\"></div>            <script type=\"text/javascript\">                                    window.PLOTLYENV=window.PLOTLYENV || {};                                    if (document.getElementById(\"b9563e0d-ada1-488f-959d-28d19e974294\")) {                    Plotly.newPlot(                        \"b9563e0d-ada1-488f-959d-28d19e974294\",                        [{\"alignmentgroup\":\"True\",\"hovertemplate\":\"sex=%{x}\\u003cbr\\u003ecount=%{y}\\u003cextra\\u003e\\u003c\\u002fextra\\u003e\",\"legendgroup\":\"\",\"marker\":{\"color\":\"#636efa\",\"pattern\":{\"shape\":\"\"}},\"name\":\"\",\"offsetgroup\":\"\",\"orientation\":\"v\",\"showlegend\":false,\"textposition\":\"auto\",\"x\":[1,0],\"xaxis\":\"x\",\"y\":[194,105],\"yaxis\":\"y\",\"type\":\"bar\"}],                        {\"template\":{\"data\":{\"histogram2dcontour\":[{\"type\":\"histogram2dcontour\",\"colorbar\":{\"outlinewidth\":0,\"ticks\":\"\"},\"colorscale\":[[0.0,\"#0d0887\"],[0.1111111111111111,\"#46039f\"],[0.2222222222222222,\"#7201a8\"],[0.3333333333333333,\"#9c179e\"],[0.4444444444444444,\"#bd3786\"],[0.5555555555555556,\"#d8576b\"],[0.6666666666666666,\"#ed7953\"],[0.7777777777777778,\"#fb9f3a\"],[0.8888888888888888,\"#fdca26\"],[1.0,\"#f0f921\"]]}],\"choropleth\":[{\"type\":\"choropleth\",\"colorbar\":{\"outlinewidth\":0,\"ticks\":\"\"}}],\"histogram2d\":[{\"type\":\"histogram2d\",\"colorbar\":{\"outlinewidth\":0,\"ticks\":\"\"},\"colorscale\":[[0.0,\"#0d0887\"],[0.1111111111111111,\"#46039f\"],[0.2222222222222222,\"#7201a8\"],[0.3333333333333333,\"#9c179e\"],[0.4444444444444444,\"#bd3786\"],[0.5555555555555556,\"#d8576b\"],[0.6666666666666666,\"#ed7953\"],[0.7777777777777778,\"#fb9f3a\"],[0.8888888888888888,\"#fdca26\"],[1.0,\"#f0f921\"]]}],\"heatmap\":[{\"type\":\"heatmap\",\"colorbar\":{\"outlinewidth\":0,\"ticks\":\"\"},\"colorscale\":[[0.0,\"#0d0887\"],[0.1111111111111111,\"#46039f\"],[0.2222222222222222,\"#7201a8\"],[0.3333333333333333,\"#9c179e\"],[0.4444444444444444,\"#bd3786\"],[0.5555555555555556,\"#d8576b\"],[0.6666666666666666,\"#ed7953\"],[0.7777777777777778,\"#fb9f3a\"],[0.8888888888888888,\"#fdca26\"],[1.0,\"#f0f921\"]]}],\"heatmapgl\":[{\"type\":\"heatmapgl\",\"colorbar\":{\"outlinewidth\":0,\"ticks\":\"\"},\"colorscale\":[[0.0,\"#0d0887\"],[0.1111111111111111,\"#46039f\"],[0.2222222222222222,\"#7201a8\"],[0.3333333333333333,\"#9c179e\"],[0.4444444444444444,\"#bd3786\"],[0.5555555555555556,\"#d8576b\"],[0.6666666666666666,\"#ed7953\"],[0.7777777777777778,\"#fb9f3a\"],[0.8888888888888888,\"#fdca26\"],[1.0,\"#f0f921\"]]}],\"contourcarpet\":[{\"type\":\"contourcarpet\",\"colorbar\":{\"outlinewidth\":0,\"ticks\":\"\"}}],\"contour\":[{\"type\":\"contour\",\"colorbar\":{\"outlinewidth\":0,\"ticks\":\"\"},\"colorscale\":[[0.0,\"#0d0887\"],[0.1111111111111111,\"#46039f\"],[0.2222222222222222,\"#7201a8\"],[0.3333333333333333,\"#9c179e\"],[0.4444444444444444,\"#bd3786\"],[0.5555555555555556,\"#d8576b\"],[0.6666666666666666,\"#ed7953\"],[0.7777777777777778,\"#fb9f3a\"],[0.8888888888888888,\"#fdca26\"],[1.0,\"#f0f921\"]]}],\"surface\":[{\"type\":\"surface\",\"colorbar\":{\"outlinewidth\":0,\"ticks\":\"\"},\"colorscale\":[[0.0,\"#0d0887\"],[0.1111111111111111,\"#46039f\"],[0.2222222222222222,\"#7201a8\"],[0.3333333333333333,\"#9c179e\"],[0.4444444444444444,\"#bd3786\"],[0.5555555555555556,\"#d8576b\"],[0.6666666666666666,\"#ed7953\"],[0.7777777777777778,\"#fb9f3a\"],[0.8888888888888888,\"#fdca26\"],[1.0,\"#f0f921\"]]}],\"mesh3d\":[{\"type\":\"mesh3d\",\"colorbar\":{\"outlinewidth\":0,\"ticks\":\"\"}}],\"scatter\":[{\"fillpattern\":{\"fillmode\":\"overlay\",\"size\":10,\"solidity\":0.2},\"type\":\"scatter\"}],\"parcoords\":[{\"type\":\"parcoords\",\"line\":{\"colorbar\":{\"outlinewidth\":0,\"ticks\":\"\"}}}],\"scatterpolargl\":[{\"type\":\"scatterpolargl\",\"marker\":{\"colorbar\":{\"outlinewidth\":0,\"ticks\":\"\"}}}],\"bar\":[{\"error_x\":{\"color\":\"#2a3f5f\"},\"error_y\":{\"color\":\"#2a3f5f\"},\"marker\":{\"line\":{\"color\":\"#E5ECF6\",\"width\":0.5},\"pattern\":{\"fillmode\":\"overlay\",\"size\":10,\"solidity\":0.2}},\"type\":\"bar\"}],\"scattergeo\":[{\"type\":\"scattergeo\",\"marker\":{\"colorbar\":{\"outlinewidth\":0,\"ticks\":\"\"}}}],\"scatterpolar\":[{\"type\":\"scatterpolar\",\"marker\":{\"colorbar\":{\"outlinewidth\":0,\"ticks\":\"\"}}}],\"histogram\":[{\"marker\":{\"pattern\":{\"fillmode\":\"overlay\",\"size\":10,\"solidity\":0.2}},\"type\":\"histogram\"}],\"scattergl\":[{\"type\":\"scattergl\",\"marker\":{\"colorbar\":{\"outlinewidth\":0,\"ticks\":\"\"}}}],\"scatter3d\":[{\"type\":\"scatter3d\",\"line\":{\"colorbar\":{\"outlinewidth\":0,\"ticks\":\"\"}},\"marker\":{\"colorbar\":{\"outlinewidth\":0,\"ticks\":\"\"}}}],\"scattermapbox\":[{\"type\":\"scattermapbox\",\"marker\":{\"colorbar\":{\"outlinewidth\":0,\"ticks\":\"\"}}}],\"scatterternary\":[{\"type\":\"scatterternary\",\"marker\":{\"colorbar\":{\"outlinewidth\":0,\"ticks\":\"\"}}}],\"scattercarpet\":[{\"type\":\"scattercarpet\",\"marker\":{\"colorbar\":{\"outlinewidth\":0,\"ticks\":\"\"}}}],\"carpet\":[{\"aaxis\":{\"endlinecolor\":\"#2a3f5f\",\"gridcolor\":\"white\",\"linecolor\":\"white\",\"minorgridcolor\":\"white\",\"startlinecolor\":\"#2a3f5f\"},\"baxis\":{\"endlinecolor\":\"#2a3f5f\",\"gridcolor\":\"white\",\"linecolor\":\"white\",\"minorgridcolor\":\"white\",\"startlinecolor\":\"#2a3f5f\"},\"type\":\"carpet\"}],\"table\":[{\"cells\":{\"fill\":{\"color\":\"#EBF0F8\"},\"line\":{\"color\":\"white\"}},\"header\":{\"fill\":{\"color\":\"#C8D4E3\"},\"line\":{\"color\":\"white\"}},\"type\":\"table\"}],\"barpolar\":[{\"marker\":{\"line\":{\"color\":\"#E5ECF6\",\"width\":0.5},\"pattern\":{\"fillmode\":\"overlay\",\"size\":10,\"solidity\":0.2}},\"type\":\"barpolar\"}],\"pie\":[{\"automargin\":true,\"type\":\"pie\"}]},\"layout\":{\"autotypenumbers\":\"strict\",\"colorway\":[\"#636efa\",\"#EF553B\",\"#00cc96\",\"#ab63fa\",\"#FFA15A\",\"#19d3f3\",\"#FF6692\",\"#B6E880\",\"#FF97FF\",\"#FECB52\"],\"font\":{\"color\":\"#2a3f5f\"},\"hovermode\":\"closest\",\"hoverlabel\":{\"align\":\"left\"},\"paper_bgcolor\":\"white\",\"plot_bgcolor\":\"#E5ECF6\",\"polar\":{\"bgcolor\":\"#E5ECF6\",\"angularaxis\":{\"gridcolor\":\"white\",\"linecolor\":\"white\",\"ticks\":\"\"},\"radialaxis\":{\"gridcolor\":\"white\",\"linecolor\":\"white\",\"ticks\":\"\"}},\"ternary\":{\"bgcolor\":\"#E5ECF6\",\"aaxis\":{\"gridcolor\":\"white\",\"linecolor\":\"white\",\"ticks\":\"\"},\"baxis\":{\"gridcolor\":\"white\",\"linecolor\":\"white\",\"ticks\":\"\"},\"caxis\":{\"gridcolor\":\"white\",\"linecolor\":\"white\",\"ticks\":\"\"}},\"coloraxis\":{\"colorbar\":{\"outlinewidth\":0,\"ticks\":\"\"}},\"colorscale\":{\"sequential\":[[0.0,\"#0d0887\"],[0.1111111111111111,\"#46039f\"],[0.2222222222222222,\"#7201a8\"],[0.3333333333333333,\"#9c179e\"],[0.4444444444444444,\"#bd3786\"],[0.5555555555555556,\"#d8576b\"],[0.6666666666666666,\"#ed7953\"],[0.7777777777777778,\"#fb9f3a\"],[0.8888888888888888,\"#fdca26\"],[1.0,\"#f0f921\"]],\"sequentialminus\":[[0.0,\"#0d0887\"],[0.1111111111111111,\"#46039f\"],[0.2222222222222222,\"#7201a8\"],[0.3333333333333333,\"#9c179e\"],[0.4444444444444444,\"#bd3786\"],[0.5555555555555556,\"#d8576b\"],[0.6666666666666666,\"#ed7953\"],[0.7777777777777778,\"#fb9f3a\"],[0.8888888888888888,\"#fdca26\"],[1.0,\"#f0f921\"]],\"diverging\":[[0,\"#8e0152\"],[0.1,\"#c51b7d\"],[0.2,\"#de77ae\"],[0.3,\"#f1b6da\"],[0.4,\"#fde0ef\"],[0.5,\"#f7f7f7\"],[0.6,\"#e6f5d0\"],[0.7,\"#b8e186\"],[0.8,\"#7fbc41\"],[0.9,\"#4d9221\"],[1,\"#276419\"]]},\"xaxis\":{\"gridcolor\":\"white\",\"linecolor\":\"white\",\"ticks\":\"\",\"title\":{\"standoff\":15},\"zerolinecolor\":\"white\",\"automargin\":true,\"zerolinewidth\":2},\"yaxis\":{\"gridcolor\":\"white\",\"linecolor\":\"white\",\"ticks\":\"\",\"title\":{\"standoff\":15},\"zerolinecolor\":\"white\",\"automargin\":true,\"zerolinewidth\":2},\"scene\":{\"xaxis\":{\"backgroundcolor\":\"#E5ECF6\",\"gridcolor\":\"white\",\"linecolor\":\"white\",\"showbackground\":true,\"ticks\":\"\",\"zerolinecolor\":\"white\",\"gridwidth\":2},\"yaxis\":{\"backgroundcolor\":\"#E5ECF6\",\"gridcolor\":\"white\",\"linecolor\":\"white\",\"showbackground\":true,\"ticks\":\"\",\"zerolinecolor\":\"white\",\"gridwidth\":2},\"zaxis\":{\"backgroundcolor\":\"#E5ECF6\",\"gridcolor\":\"white\",\"linecolor\":\"white\",\"showbackground\":true,\"ticks\":\"\",\"zerolinecolor\":\"white\",\"gridwidth\":2}},\"shapedefaults\":{\"line\":{\"color\":\"#2a3f5f\"}},\"annotationdefaults\":{\"arrowcolor\":\"#2a3f5f\",\"arrowhead\":0,\"arrowwidth\":1},\"geo\":{\"bgcolor\":\"white\",\"landcolor\":\"#E5ECF6\",\"subunitcolor\":\"white\",\"showland\":true,\"showlakes\":true,\"lakecolor\":\"white\"},\"title\":{\"x\":0.05},\"mapbox\":{\"style\":\"light\"}}},\"xaxis\":{\"anchor\":\"y\",\"domain\":[0.0,1.0],\"title\":{\"text\":\"sex\"}},\"yaxis\":{\"anchor\":\"x\",\"domain\":[0.0,1.0],\"title\":{\"text\":\"count\"}},\"legend\":{\"tracegroupgap\":0},\"title\":{\"text\":\"Count of Patients according to sex\"},\"barmode\":\"relative\",\"width\":500},                        {\"responsive\": true}                    ).then(function(){\n",
              "                            \n",
              "var gd = document.getElementById('b9563e0d-ada1-488f-959d-28d19e974294');\n",
              "var x = new MutationObserver(function (mutations, observer) {{\n",
              "        var display = window.getComputedStyle(gd).display;\n",
              "        if (!display || display === 'none') {{\n",
              "            console.log([gd, 'removed!']);\n",
              "            Plotly.purge(gd);\n",
              "            observer.disconnect();\n",
              "        }}\n",
              "}});\n",
              "\n",
              "// Listen for the removal of the full notebook cells\n",
              "var notebookContainer = gd.closest('#notebook-container');\n",
              "if (notebookContainer) {{\n",
              "    x.observe(notebookContainer, {childList: true});\n",
              "}}\n",
              "\n",
              "// Listen for the clearing of the current output cell\n",
              "var outputEl = gd.closest('.output');\n",
              "if (outputEl) {{\n",
              "    x.observe(outputEl, {childList: true});\n",
              "}}\n",
              "\n",
              "                        })                };                            </script>        </div>\n",
              "</body>\n",
              "</html>"
            ]
          },
          "metadata": {}
        }
      ]
    },
    {
      "cell_type": "code",
      "source": [
        "ds = df['sex'].value_counts().reset_index()\n",
        "ds.columns = ['sex', 'count']\n",
        "fig = px.bar(ds, x='sex', y=\"count\", orientation='v', title='Count of Patients according to sex', width=500)\n",
        "fig.show()"
      ],
      "metadata": {
        "id": "Y5wK-liBvWAV",
        "outputId": "fd498412-c6eb-4341-e909-da1f86f7533c",
        "colab": {
          "base_uri": "https://localhost:8080/",
          "height": 542
        }
      },
      "execution_count": 65,
      "outputs": [
        {
          "output_type": "display_data",
          "data": {
            "text/html": [
              "<html>\n",
              "<head><meta charset=\"utf-8\" /></head>\n",
              "<body>\n",
              "    <div>            <script src=\"https://cdnjs.cloudflare.com/ajax/libs/mathjax/2.7.5/MathJax.js?config=TeX-AMS-MML_SVG\"></script><script type=\"text/javascript\">if (window.MathJax && window.MathJax.Hub && window.MathJax.Hub.Config) {window.MathJax.Hub.Config({SVG: {font: \"STIX-Web\"}});}</script>                <script type=\"text/javascript\">window.PlotlyConfig = {MathJaxConfig: 'local'};</script>\n",
              "        <script charset=\"utf-8\" src=\"https://cdn.plot.ly/plotly-2.24.1.min.js\"></script>                <div id=\"a39b9247-4a0b-4c78-b015-d931653fa0b7\" class=\"plotly-graph-div\" style=\"height:525px; width:500px;\"></div>            <script type=\"text/javascript\">                                    window.PLOTLYENV=window.PLOTLYENV || {};                                    if (document.getElementById(\"a39b9247-4a0b-4c78-b015-d931653fa0b7\")) {                    Plotly.newPlot(                        \"a39b9247-4a0b-4c78-b015-d931653fa0b7\",                        [{\"alignmentgroup\":\"True\",\"hovertemplate\":\"sex=%{x}\\u003cbr\\u003ecount=%{y}\\u003cextra\\u003e\\u003c\\u002fextra\\u003e\",\"legendgroup\":\"\",\"marker\":{\"color\":\"#636efa\",\"pattern\":{\"shape\":\"\"}},\"name\":\"\",\"offsetgroup\":\"\",\"orientation\":\"v\",\"showlegend\":false,\"textposition\":\"auto\",\"x\":[1,0],\"xaxis\":\"x\",\"y\":[194,105],\"yaxis\":\"y\",\"type\":\"bar\"}],                        {\"template\":{\"data\":{\"histogram2dcontour\":[{\"type\":\"histogram2dcontour\",\"colorbar\":{\"outlinewidth\":0,\"ticks\":\"\"},\"colorscale\":[[0.0,\"#0d0887\"],[0.1111111111111111,\"#46039f\"],[0.2222222222222222,\"#7201a8\"],[0.3333333333333333,\"#9c179e\"],[0.4444444444444444,\"#bd3786\"],[0.5555555555555556,\"#d8576b\"],[0.6666666666666666,\"#ed7953\"],[0.7777777777777778,\"#fb9f3a\"],[0.8888888888888888,\"#fdca26\"],[1.0,\"#f0f921\"]]}],\"choropleth\":[{\"type\":\"choropleth\",\"colorbar\":{\"outlinewidth\":0,\"ticks\":\"\"}}],\"histogram2d\":[{\"type\":\"histogram2d\",\"colorbar\":{\"outlinewidth\":0,\"ticks\":\"\"},\"colorscale\":[[0.0,\"#0d0887\"],[0.1111111111111111,\"#46039f\"],[0.2222222222222222,\"#7201a8\"],[0.3333333333333333,\"#9c179e\"],[0.4444444444444444,\"#bd3786\"],[0.5555555555555556,\"#d8576b\"],[0.6666666666666666,\"#ed7953\"],[0.7777777777777778,\"#fb9f3a\"],[0.8888888888888888,\"#fdca26\"],[1.0,\"#f0f921\"]]}],\"heatmap\":[{\"type\":\"heatmap\",\"colorbar\":{\"outlinewidth\":0,\"ticks\":\"\"},\"colorscale\":[[0.0,\"#0d0887\"],[0.1111111111111111,\"#46039f\"],[0.2222222222222222,\"#7201a8\"],[0.3333333333333333,\"#9c179e\"],[0.4444444444444444,\"#bd3786\"],[0.5555555555555556,\"#d8576b\"],[0.6666666666666666,\"#ed7953\"],[0.7777777777777778,\"#fb9f3a\"],[0.8888888888888888,\"#fdca26\"],[1.0,\"#f0f921\"]]}],\"heatmapgl\":[{\"type\":\"heatmapgl\",\"colorbar\":{\"outlinewidth\":0,\"ticks\":\"\"},\"colorscale\":[[0.0,\"#0d0887\"],[0.1111111111111111,\"#46039f\"],[0.2222222222222222,\"#7201a8\"],[0.3333333333333333,\"#9c179e\"],[0.4444444444444444,\"#bd3786\"],[0.5555555555555556,\"#d8576b\"],[0.6666666666666666,\"#ed7953\"],[0.7777777777777778,\"#fb9f3a\"],[0.8888888888888888,\"#fdca26\"],[1.0,\"#f0f921\"]]}],\"contourcarpet\":[{\"type\":\"contourcarpet\",\"colorbar\":{\"outlinewidth\":0,\"ticks\":\"\"}}],\"contour\":[{\"type\":\"contour\",\"colorbar\":{\"outlinewidth\":0,\"ticks\":\"\"},\"colorscale\":[[0.0,\"#0d0887\"],[0.1111111111111111,\"#46039f\"],[0.2222222222222222,\"#7201a8\"],[0.3333333333333333,\"#9c179e\"],[0.4444444444444444,\"#bd3786\"],[0.5555555555555556,\"#d8576b\"],[0.6666666666666666,\"#ed7953\"],[0.7777777777777778,\"#fb9f3a\"],[0.8888888888888888,\"#fdca26\"],[1.0,\"#f0f921\"]]}],\"surface\":[{\"type\":\"surface\",\"colorbar\":{\"outlinewidth\":0,\"ticks\":\"\"},\"colorscale\":[[0.0,\"#0d0887\"],[0.1111111111111111,\"#46039f\"],[0.2222222222222222,\"#7201a8\"],[0.3333333333333333,\"#9c179e\"],[0.4444444444444444,\"#bd3786\"],[0.5555555555555556,\"#d8576b\"],[0.6666666666666666,\"#ed7953\"],[0.7777777777777778,\"#fb9f3a\"],[0.8888888888888888,\"#fdca26\"],[1.0,\"#f0f921\"]]}],\"mesh3d\":[{\"type\":\"mesh3d\",\"colorbar\":{\"outlinewidth\":0,\"ticks\":\"\"}}],\"scatter\":[{\"fillpattern\":{\"fillmode\":\"overlay\",\"size\":10,\"solidity\":0.2},\"type\":\"scatter\"}],\"parcoords\":[{\"type\":\"parcoords\",\"line\":{\"colorbar\":{\"outlinewidth\":0,\"ticks\":\"\"}}}],\"scatterpolargl\":[{\"type\":\"scatterpolargl\",\"marker\":{\"colorbar\":{\"outlinewidth\":0,\"ticks\":\"\"}}}],\"bar\":[{\"error_x\":{\"color\":\"#2a3f5f\"},\"error_y\":{\"color\":\"#2a3f5f\"},\"marker\":{\"line\":{\"color\":\"#E5ECF6\",\"width\":0.5},\"pattern\":{\"fillmode\":\"overlay\",\"size\":10,\"solidity\":0.2}},\"type\":\"bar\"}],\"scattergeo\":[{\"type\":\"scattergeo\",\"marker\":{\"colorbar\":{\"outlinewidth\":0,\"ticks\":\"\"}}}],\"scatterpolar\":[{\"type\":\"scatterpolar\",\"marker\":{\"colorbar\":{\"outlinewidth\":0,\"ticks\":\"\"}}}],\"histogram\":[{\"marker\":{\"pattern\":{\"fillmode\":\"overlay\",\"size\":10,\"solidity\":0.2}},\"type\":\"histogram\"}],\"scattergl\":[{\"type\":\"scattergl\",\"marker\":{\"colorbar\":{\"outlinewidth\":0,\"ticks\":\"\"}}}],\"scatter3d\":[{\"type\":\"scatter3d\",\"line\":{\"colorbar\":{\"outlinewidth\":0,\"ticks\":\"\"}},\"marker\":{\"colorbar\":{\"outlinewidth\":0,\"ticks\":\"\"}}}],\"scattermapbox\":[{\"type\":\"scattermapbox\",\"marker\":{\"colorbar\":{\"outlinewidth\":0,\"ticks\":\"\"}}}],\"scatterternary\":[{\"type\":\"scatterternary\",\"marker\":{\"colorbar\":{\"outlinewidth\":0,\"ticks\":\"\"}}}],\"scattercarpet\":[{\"type\":\"scattercarpet\",\"marker\":{\"colorbar\":{\"outlinewidth\":0,\"ticks\":\"\"}}}],\"carpet\":[{\"aaxis\":{\"endlinecolor\":\"#2a3f5f\",\"gridcolor\":\"white\",\"linecolor\":\"white\",\"minorgridcolor\":\"white\",\"startlinecolor\":\"#2a3f5f\"},\"baxis\":{\"endlinecolor\":\"#2a3f5f\",\"gridcolor\":\"white\",\"linecolor\":\"white\",\"minorgridcolor\":\"white\",\"startlinecolor\":\"#2a3f5f\"},\"type\":\"carpet\"}],\"table\":[{\"cells\":{\"fill\":{\"color\":\"#EBF0F8\"},\"line\":{\"color\":\"white\"}},\"header\":{\"fill\":{\"color\":\"#C8D4E3\"},\"line\":{\"color\":\"white\"}},\"type\":\"table\"}],\"barpolar\":[{\"marker\":{\"line\":{\"color\":\"#E5ECF6\",\"width\":0.5},\"pattern\":{\"fillmode\":\"overlay\",\"size\":10,\"solidity\":0.2}},\"type\":\"barpolar\"}],\"pie\":[{\"automargin\":true,\"type\":\"pie\"}]},\"layout\":{\"autotypenumbers\":\"strict\",\"colorway\":[\"#636efa\",\"#EF553B\",\"#00cc96\",\"#ab63fa\",\"#FFA15A\",\"#19d3f3\",\"#FF6692\",\"#B6E880\",\"#FF97FF\",\"#FECB52\"],\"font\":{\"color\":\"#2a3f5f\"},\"hovermode\":\"closest\",\"hoverlabel\":{\"align\":\"left\"},\"paper_bgcolor\":\"white\",\"plot_bgcolor\":\"#E5ECF6\",\"polar\":{\"bgcolor\":\"#E5ECF6\",\"angularaxis\":{\"gridcolor\":\"white\",\"linecolor\":\"white\",\"ticks\":\"\"},\"radialaxis\":{\"gridcolor\":\"white\",\"linecolor\":\"white\",\"ticks\":\"\"}},\"ternary\":{\"bgcolor\":\"#E5ECF6\",\"aaxis\":{\"gridcolor\":\"white\",\"linecolor\":\"white\",\"ticks\":\"\"},\"baxis\":{\"gridcolor\":\"white\",\"linecolor\":\"white\",\"ticks\":\"\"},\"caxis\":{\"gridcolor\":\"white\",\"linecolor\":\"white\",\"ticks\":\"\"}},\"coloraxis\":{\"colorbar\":{\"outlinewidth\":0,\"ticks\":\"\"}},\"colorscale\":{\"sequential\":[[0.0,\"#0d0887\"],[0.1111111111111111,\"#46039f\"],[0.2222222222222222,\"#7201a8\"],[0.3333333333333333,\"#9c179e\"],[0.4444444444444444,\"#bd3786\"],[0.5555555555555556,\"#d8576b\"],[0.6666666666666666,\"#ed7953\"],[0.7777777777777778,\"#fb9f3a\"],[0.8888888888888888,\"#fdca26\"],[1.0,\"#f0f921\"]],\"sequentialminus\":[[0.0,\"#0d0887\"],[0.1111111111111111,\"#46039f\"],[0.2222222222222222,\"#7201a8\"],[0.3333333333333333,\"#9c179e\"],[0.4444444444444444,\"#bd3786\"],[0.5555555555555556,\"#d8576b\"],[0.6666666666666666,\"#ed7953\"],[0.7777777777777778,\"#fb9f3a\"],[0.8888888888888888,\"#fdca26\"],[1.0,\"#f0f921\"]],\"diverging\":[[0,\"#8e0152\"],[0.1,\"#c51b7d\"],[0.2,\"#de77ae\"],[0.3,\"#f1b6da\"],[0.4,\"#fde0ef\"],[0.5,\"#f7f7f7\"],[0.6,\"#e6f5d0\"],[0.7,\"#b8e186\"],[0.8,\"#7fbc41\"],[0.9,\"#4d9221\"],[1,\"#276419\"]]},\"xaxis\":{\"gridcolor\":\"white\",\"linecolor\":\"white\",\"ticks\":\"\",\"title\":{\"standoff\":15},\"zerolinecolor\":\"white\",\"automargin\":true,\"zerolinewidth\":2},\"yaxis\":{\"gridcolor\":\"white\",\"linecolor\":\"white\",\"ticks\":\"\",\"title\":{\"standoff\":15},\"zerolinecolor\":\"white\",\"automargin\":true,\"zerolinewidth\":2},\"scene\":{\"xaxis\":{\"backgroundcolor\":\"#E5ECF6\",\"gridcolor\":\"white\",\"linecolor\":\"white\",\"showbackground\":true,\"ticks\":\"\",\"zerolinecolor\":\"white\",\"gridwidth\":2},\"yaxis\":{\"backgroundcolor\":\"#E5ECF6\",\"gridcolor\":\"white\",\"linecolor\":\"white\",\"showbackground\":true,\"ticks\":\"\",\"zerolinecolor\":\"white\",\"gridwidth\":2},\"zaxis\":{\"backgroundcolor\":\"#E5ECF6\",\"gridcolor\":\"white\",\"linecolor\":\"white\",\"showbackground\":true,\"ticks\":\"\",\"zerolinecolor\":\"white\",\"gridwidth\":2}},\"shapedefaults\":{\"line\":{\"color\":\"#2a3f5f\"}},\"annotationdefaults\":{\"arrowcolor\":\"#2a3f5f\",\"arrowhead\":0,\"arrowwidth\":1},\"geo\":{\"bgcolor\":\"white\",\"landcolor\":\"#E5ECF6\",\"subunitcolor\":\"white\",\"showland\":true,\"showlakes\":true,\"lakecolor\":\"white\"},\"title\":{\"x\":0.05},\"mapbox\":{\"style\":\"light\"}}},\"xaxis\":{\"anchor\":\"y\",\"domain\":[0.0,1.0],\"title\":{\"text\":\"sex\"}},\"yaxis\":{\"anchor\":\"x\",\"domain\":[0.0,1.0],\"title\":{\"text\":\"count\"}},\"legend\":{\"tracegroupgap\":0},\"title\":{\"text\":\"Count of Patients according to sex\"},\"barmode\":\"relative\",\"width\":500},                        {\"responsive\": true}                    ).then(function(){\n",
              "                            \n",
              "var gd = document.getElementById('a39b9247-4a0b-4c78-b015-d931653fa0b7');\n",
              "var x = new MutationObserver(function (mutations, observer) {{\n",
              "        var display = window.getComputedStyle(gd).display;\n",
              "        if (!display || display === 'none') {{\n",
              "            console.log([gd, 'removed!']);\n",
              "            Plotly.purge(gd);\n",
              "            observer.disconnect();\n",
              "        }}\n",
              "}});\n",
              "\n",
              "// Listen for the removal of the full notebook cells\n",
              "var notebookContainer = gd.closest('#notebook-container');\n",
              "if (notebookContainer) {{\n",
              "    x.observe(notebookContainer, {childList: true});\n",
              "}}\n",
              "\n",
              "// Listen for the clearing of the current output cell\n",
              "var outputEl = gd.closest('.output');\n",
              "if (outputEl) {{\n",
              "    x.observe(outputEl, {childList: true});\n",
              "}}\n",
              "\n",
              "                        })                };                            </script>        </div>\n",
              "</body>\n",
              "</html>"
            ]
          },
          "metadata": {}
        }
      ]
    },
    {
      "cell_type": "code",
      "source": [
        "print(\"Females:\",df[\"death_event\"][df[\"sex\"] == 0].value_counts(normalize = True)[1]*100)"
      ],
      "metadata": {
        "id": "oyCH_vNmvYQA",
        "outputId": "99e4dbbf-3965-48ee-ef79-d71e87061444",
        "colab": {
          "base_uri": "https://localhost:8080/"
        }
      },
      "execution_count": 66,
      "outputs": [
        {
          "output_type": "stream",
          "name": "stdout",
          "text": [
            "Females: 32.38095238095238\n"
          ]
        }
      ]
    },
    {
      "cell_type": "code",
      "source": [
        "print(\"Males:\",df[\"death_event\"][df[\"sex\"] == 1].value_counts(normalize = True)[1]*100)"
      ],
      "metadata": {
        "id": "rNy4X3NVvbDH",
        "outputId": "d13a4b92-e7cd-4998-9236-9af69284184a",
        "colab": {
          "base_uri": "https://localhost:8080/"
        }
      },
      "execution_count": 67,
      "outputs": [
        {
          "output_type": "stream",
          "name": "stdout",
          "text": [
            "Males: 31.958762886597935\n"
          ]
        }
      ]
    },
    {
      "cell_type": "code",
      "source": [
        "#Age\n",
        "g_30=list()\n",
        "g_50=list()\n",
        "g_70=list()\n",
        "greater70 = list()\n",
        "for i in df.age:\n",
        "  if i<=30:\n",
        "    g_30.append(1)\n",
        "    g_50.append(0)\n",
        "    g_70.append(0)\n",
        "    greater70.append(0)\n",
        "\n",
        "  elif i>30 and i<=50:\n",
        "    g_30.append(0)\n",
        "    g_50.append(1)\n",
        "    g_70.append(0)\n",
        "    greater70.append(0)\n",
        "\n",
        "  elif i>50 and i<=70:\n",
        "    g_30.append(0)\n",
        "    g_50.append(0)\n",
        "    g_70.append(1)\n",
        "    greater70.append(0)\n",
        "\n",
        "  elif i>70:\n",
        "    g_30.append(0)\n",
        "    g_50.append(0)\n",
        "    g_70.append(0)\n",
        "    greater70.append(1)"
      ],
      "metadata": {
        "id": "V7sYrU54veSv"
      },
      "execution_count": 68,
      "outputs": []
    },
    {
      "cell_type": "code",
      "source": [
        "df['age_till_30'] = g_30\n",
        "df['age_bet_30_50'] = g_50\n",
        "df['age_bet_50_70'] = g_70\n",
        "df['age_gret_70'] = greater70"
      ],
      "metadata": {
        "id": "EnZHby2Yvicf"
      },
      "execution_count": 69,
      "outputs": []
    },
    {
      "cell_type": "code",
      "source": [
        "#Age below 30\n",
        "df.age_till_30.value_counts()"
      ],
      "metadata": {
        "id": "qIpzfDa0vlFP",
        "outputId": "b8d82b9c-7a15-4bf8-8ba7-c71d4f859ddb",
        "colab": {
          "base_uri": "https://localhost:8080/"
        }
      },
      "execution_count": 70,
      "outputs": [
        {
          "output_type": "execute_result",
          "data": {
            "text/plain": [
              "0    299\n",
              "Name: age_till_30, dtype: int64"
            ]
          },
          "metadata": {},
          "execution_count": 70
        }
      ]
    },
    {
      "cell_type": "code",
      "source": [
        "ds = df['age_till_30'].value_counts().reset_index()\n",
        "ds.columns = ['age_till_30', 'count']\n",
        "fig = px.bar(ds, x='age_till_30', y=\"count\", orientation='v', title='Count of Patients with age till 30', width=500)\n",
        "fig.show()"
      ],
      "metadata": {
        "id": "I8ExIxJZvpQn",
        "outputId": "7f4b064a-7d69-49a8-ebec-13e759129f1c",
        "colab": {
          "base_uri": "https://localhost:8080/",
          "height": 542
        }
      },
      "execution_count": 71,
      "outputs": [
        {
          "output_type": "display_data",
          "data": {
            "text/html": [
              "<html>\n",
              "<head><meta charset=\"utf-8\" /></head>\n",
              "<body>\n",
              "    <div>            <script src=\"https://cdnjs.cloudflare.com/ajax/libs/mathjax/2.7.5/MathJax.js?config=TeX-AMS-MML_SVG\"></script><script type=\"text/javascript\">if (window.MathJax && window.MathJax.Hub && window.MathJax.Hub.Config) {window.MathJax.Hub.Config({SVG: {font: \"STIX-Web\"}});}</script>                <script type=\"text/javascript\">window.PlotlyConfig = {MathJaxConfig: 'local'};</script>\n",
              "        <script charset=\"utf-8\" src=\"https://cdn.plot.ly/plotly-2.24.1.min.js\"></script>                <div id=\"a28e102d-f4c6-400a-9f63-a714cabb2089\" class=\"plotly-graph-div\" style=\"height:525px; width:500px;\"></div>            <script type=\"text/javascript\">                                    window.PLOTLYENV=window.PLOTLYENV || {};                                    if (document.getElementById(\"a28e102d-f4c6-400a-9f63-a714cabb2089\")) {                    Plotly.newPlot(                        \"a28e102d-f4c6-400a-9f63-a714cabb2089\",                        [{\"alignmentgroup\":\"True\",\"hovertemplate\":\"age_till_30=%{x}\\u003cbr\\u003ecount=%{y}\\u003cextra\\u003e\\u003c\\u002fextra\\u003e\",\"legendgroup\":\"\",\"marker\":{\"color\":\"#636efa\",\"pattern\":{\"shape\":\"\"}},\"name\":\"\",\"offsetgroup\":\"\",\"orientation\":\"v\",\"showlegend\":false,\"textposition\":\"auto\",\"x\":[0],\"xaxis\":\"x\",\"y\":[299],\"yaxis\":\"y\",\"type\":\"bar\"}],                        {\"template\":{\"data\":{\"histogram2dcontour\":[{\"type\":\"histogram2dcontour\",\"colorbar\":{\"outlinewidth\":0,\"ticks\":\"\"},\"colorscale\":[[0.0,\"#0d0887\"],[0.1111111111111111,\"#46039f\"],[0.2222222222222222,\"#7201a8\"],[0.3333333333333333,\"#9c179e\"],[0.4444444444444444,\"#bd3786\"],[0.5555555555555556,\"#d8576b\"],[0.6666666666666666,\"#ed7953\"],[0.7777777777777778,\"#fb9f3a\"],[0.8888888888888888,\"#fdca26\"],[1.0,\"#f0f921\"]]}],\"choropleth\":[{\"type\":\"choropleth\",\"colorbar\":{\"outlinewidth\":0,\"ticks\":\"\"}}],\"histogram2d\":[{\"type\":\"histogram2d\",\"colorbar\":{\"outlinewidth\":0,\"ticks\":\"\"},\"colorscale\":[[0.0,\"#0d0887\"],[0.1111111111111111,\"#46039f\"],[0.2222222222222222,\"#7201a8\"],[0.3333333333333333,\"#9c179e\"],[0.4444444444444444,\"#bd3786\"],[0.5555555555555556,\"#d8576b\"],[0.6666666666666666,\"#ed7953\"],[0.7777777777777778,\"#fb9f3a\"],[0.8888888888888888,\"#fdca26\"],[1.0,\"#f0f921\"]]}],\"heatmap\":[{\"type\":\"heatmap\",\"colorbar\":{\"outlinewidth\":0,\"ticks\":\"\"},\"colorscale\":[[0.0,\"#0d0887\"],[0.1111111111111111,\"#46039f\"],[0.2222222222222222,\"#7201a8\"],[0.3333333333333333,\"#9c179e\"],[0.4444444444444444,\"#bd3786\"],[0.5555555555555556,\"#d8576b\"],[0.6666666666666666,\"#ed7953\"],[0.7777777777777778,\"#fb9f3a\"],[0.8888888888888888,\"#fdca26\"],[1.0,\"#f0f921\"]]}],\"heatmapgl\":[{\"type\":\"heatmapgl\",\"colorbar\":{\"outlinewidth\":0,\"ticks\":\"\"},\"colorscale\":[[0.0,\"#0d0887\"],[0.1111111111111111,\"#46039f\"],[0.2222222222222222,\"#7201a8\"],[0.3333333333333333,\"#9c179e\"],[0.4444444444444444,\"#bd3786\"],[0.5555555555555556,\"#d8576b\"],[0.6666666666666666,\"#ed7953\"],[0.7777777777777778,\"#fb9f3a\"],[0.8888888888888888,\"#fdca26\"],[1.0,\"#f0f921\"]]}],\"contourcarpet\":[{\"type\":\"contourcarpet\",\"colorbar\":{\"outlinewidth\":0,\"ticks\":\"\"}}],\"contour\":[{\"type\":\"contour\",\"colorbar\":{\"outlinewidth\":0,\"ticks\":\"\"},\"colorscale\":[[0.0,\"#0d0887\"],[0.1111111111111111,\"#46039f\"],[0.2222222222222222,\"#7201a8\"],[0.3333333333333333,\"#9c179e\"],[0.4444444444444444,\"#bd3786\"],[0.5555555555555556,\"#d8576b\"],[0.6666666666666666,\"#ed7953\"],[0.7777777777777778,\"#fb9f3a\"],[0.8888888888888888,\"#fdca26\"],[1.0,\"#f0f921\"]]}],\"surface\":[{\"type\":\"surface\",\"colorbar\":{\"outlinewidth\":0,\"ticks\":\"\"},\"colorscale\":[[0.0,\"#0d0887\"],[0.1111111111111111,\"#46039f\"],[0.2222222222222222,\"#7201a8\"],[0.3333333333333333,\"#9c179e\"],[0.4444444444444444,\"#bd3786\"],[0.5555555555555556,\"#d8576b\"],[0.6666666666666666,\"#ed7953\"],[0.7777777777777778,\"#fb9f3a\"],[0.8888888888888888,\"#fdca26\"],[1.0,\"#f0f921\"]]}],\"mesh3d\":[{\"type\":\"mesh3d\",\"colorbar\":{\"outlinewidth\":0,\"ticks\":\"\"}}],\"scatter\":[{\"fillpattern\":{\"fillmode\":\"overlay\",\"size\":10,\"solidity\":0.2},\"type\":\"scatter\"}],\"parcoords\":[{\"type\":\"parcoords\",\"line\":{\"colorbar\":{\"outlinewidth\":0,\"ticks\":\"\"}}}],\"scatterpolargl\":[{\"type\":\"scatterpolargl\",\"marker\":{\"colorbar\":{\"outlinewidth\":0,\"ticks\":\"\"}}}],\"bar\":[{\"error_x\":{\"color\":\"#2a3f5f\"},\"error_y\":{\"color\":\"#2a3f5f\"},\"marker\":{\"line\":{\"color\":\"#E5ECF6\",\"width\":0.5},\"pattern\":{\"fillmode\":\"overlay\",\"size\":10,\"solidity\":0.2}},\"type\":\"bar\"}],\"scattergeo\":[{\"type\":\"scattergeo\",\"marker\":{\"colorbar\":{\"outlinewidth\":0,\"ticks\":\"\"}}}],\"scatterpolar\":[{\"type\":\"scatterpolar\",\"marker\":{\"colorbar\":{\"outlinewidth\":0,\"ticks\":\"\"}}}],\"histogram\":[{\"marker\":{\"pattern\":{\"fillmode\":\"overlay\",\"size\":10,\"solidity\":0.2}},\"type\":\"histogram\"}],\"scattergl\":[{\"type\":\"scattergl\",\"marker\":{\"colorbar\":{\"outlinewidth\":0,\"ticks\":\"\"}}}],\"scatter3d\":[{\"type\":\"scatter3d\",\"line\":{\"colorbar\":{\"outlinewidth\":0,\"ticks\":\"\"}},\"marker\":{\"colorbar\":{\"outlinewidth\":0,\"ticks\":\"\"}}}],\"scattermapbox\":[{\"type\":\"scattermapbox\",\"marker\":{\"colorbar\":{\"outlinewidth\":0,\"ticks\":\"\"}}}],\"scatterternary\":[{\"type\":\"scatterternary\",\"marker\":{\"colorbar\":{\"outlinewidth\":0,\"ticks\":\"\"}}}],\"scattercarpet\":[{\"type\":\"scattercarpet\",\"marker\":{\"colorbar\":{\"outlinewidth\":0,\"ticks\":\"\"}}}],\"carpet\":[{\"aaxis\":{\"endlinecolor\":\"#2a3f5f\",\"gridcolor\":\"white\",\"linecolor\":\"white\",\"minorgridcolor\":\"white\",\"startlinecolor\":\"#2a3f5f\"},\"baxis\":{\"endlinecolor\":\"#2a3f5f\",\"gridcolor\":\"white\",\"linecolor\":\"white\",\"minorgridcolor\":\"white\",\"startlinecolor\":\"#2a3f5f\"},\"type\":\"carpet\"}],\"table\":[{\"cells\":{\"fill\":{\"color\":\"#EBF0F8\"},\"line\":{\"color\":\"white\"}},\"header\":{\"fill\":{\"color\":\"#C8D4E3\"},\"line\":{\"color\":\"white\"}},\"type\":\"table\"}],\"barpolar\":[{\"marker\":{\"line\":{\"color\":\"#E5ECF6\",\"width\":0.5},\"pattern\":{\"fillmode\":\"overlay\",\"size\":10,\"solidity\":0.2}},\"type\":\"barpolar\"}],\"pie\":[{\"automargin\":true,\"type\":\"pie\"}]},\"layout\":{\"autotypenumbers\":\"strict\",\"colorway\":[\"#636efa\",\"#EF553B\",\"#00cc96\",\"#ab63fa\",\"#FFA15A\",\"#19d3f3\",\"#FF6692\",\"#B6E880\",\"#FF97FF\",\"#FECB52\"],\"font\":{\"color\":\"#2a3f5f\"},\"hovermode\":\"closest\",\"hoverlabel\":{\"align\":\"left\"},\"paper_bgcolor\":\"white\",\"plot_bgcolor\":\"#E5ECF6\",\"polar\":{\"bgcolor\":\"#E5ECF6\",\"angularaxis\":{\"gridcolor\":\"white\",\"linecolor\":\"white\",\"ticks\":\"\"},\"radialaxis\":{\"gridcolor\":\"white\",\"linecolor\":\"white\",\"ticks\":\"\"}},\"ternary\":{\"bgcolor\":\"#E5ECF6\",\"aaxis\":{\"gridcolor\":\"white\",\"linecolor\":\"white\",\"ticks\":\"\"},\"baxis\":{\"gridcolor\":\"white\",\"linecolor\":\"white\",\"ticks\":\"\"},\"caxis\":{\"gridcolor\":\"white\",\"linecolor\":\"white\",\"ticks\":\"\"}},\"coloraxis\":{\"colorbar\":{\"outlinewidth\":0,\"ticks\":\"\"}},\"colorscale\":{\"sequential\":[[0.0,\"#0d0887\"],[0.1111111111111111,\"#46039f\"],[0.2222222222222222,\"#7201a8\"],[0.3333333333333333,\"#9c179e\"],[0.4444444444444444,\"#bd3786\"],[0.5555555555555556,\"#d8576b\"],[0.6666666666666666,\"#ed7953\"],[0.7777777777777778,\"#fb9f3a\"],[0.8888888888888888,\"#fdca26\"],[1.0,\"#f0f921\"]],\"sequentialminus\":[[0.0,\"#0d0887\"],[0.1111111111111111,\"#46039f\"],[0.2222222222222222,\"#7201a8\"],[0.3333333333333333,\"#9c179e\"],[0.4444444444444444,\"#bd3786\"],[0.5555555555555556,\"#d8576b\"],[0.6666666666666666,\"#ed7953\"],[0.7777777777777778,\"#fb9f3a\"],[0.8888888888888888,\"#fdca26\"],[1.0,\"#f0f921\"]],\"diverging\":[[0,\"#8e0152\"],[0.1,\"#c51b7d\"],[0.2,\"#de77ae\"],[0.3,\"#f1b6da\"],[0.4,\"#fde0ef\"],[0.5,\"#f7f7f7\"],[0.6,\"#e6f5d0\"],[0.7,\"#b8e186\"],[0.8,\"#7fbc41\"],[0.9,\"#4d9221\"],[1,\"#276419\"]]},\"xaxis\":{\"gridcolor\":\"white\",\"linecolor\":\"white\",\"ticks\":\"\",\"title\":{\"standoff\":15},\"zerolinecolor\":\"white\",\"automargin\":true,\"zerolinewidth\":2},\"yaxis\":{\"gridcolor\":\"white\",\"linecolor\":\"white\",\"ticks\":\"\",\"title\":{\"standoff\":15},\"zerolinecolor\":\"white\",\"automargin\":true,\"zerolinewidth\":2},\"scene\":{\"xaxis\":{\"backgroundcolor\":\"#E5ECF6\",\"gridcolor\":\"white\",\"linecolor\":\"white\",\"showbackground\":true,\"ticks\":\"\",\"zerolinecolor\":\"white\",\"gridwidth\":2},\"yaxis\":{\"backgroundcolor\":\"#E5ECF6\",\"gridcolor\":\"white\",\"linecolor\":\"white\",\"showbackground\":true,\"ticks\":\"\",\"zerolinecolor\":\"white\",\"gridwidth\":2},\"zaxis\":{\"backgroundcolor\":\"#E5ECF6\",\"gridcolor\":\"white\",\"linecolor\":\"white\",\"showbackground\":true,\"ticks\":\"\",\"zerolinecolor\":\"white\",\"gridwidth\":2}},\"shapedefaults\":{\"line\":{\"color\":\"#2a3f5f\"}},\"annotationdefaults\":{\"arrowcolor\":\"#2a3f5f\",\"arrowhead\":0,\"arrowwidth\":1},\"geo\":{\"bgcolor\":\"white\",\"landcolor\":\"#E5ECF6\",\"subunitcolor\":\"white\",\"showland\":true,\"showlakes\":true,\"lakecolor\":\"white\"},\"title\":{\"x\":0.05},\"mapbox\":{\"style\":\"light\"}}},\"xaxis\":{\"anchor\":\"y\",\"domain\":[0.0,1.0],\"title\":{\"text\":\"age_till_30\"}},\"yaxis\":{\"anchor\":\"x\",\"domain\":[0.0,1.0],\"title\":{\"text\":\"count\"}},\"legend\":{\"tracegroupgap\":0},\"title\":{\"text\":\"Count of Patients with age till 30\"},\"barmode\":\"relative\",\"width\":500},                        {\"responsive\": true}                    ).then(function(){\n",
              "                            \n",
              "var gd = document.getElementById('a28e102d-f4c6-400a-9f63-a714cabb2089');\n",
              "var x = new MutationObserver(function (mutations, observer) {{\n",
              "        var display = window.getComputedStyle(gd).display;\n",
              "        if (!display || display === 'none') {{\n",
              "            console.log([gd, 'removed!']);\n",
              "            Plotly.purge(gd);\n",
              "            observer.disconnect();\n",
              "        }}\n",
              "}});\n",
              "\n",
              "// Listen for the removal of the full notebook cells\n",
              "var notebookContainer = gd.closest('#notebook-container');\n",
              "if (notebookContainer) {{\n",
              "    x.observe(notebookContainer, {childList: true});\n",
              "}}\n",
              "\n",
              "// Listen for the clearing of the current output cell\n",
              "var outputEl = gd.closest('.output');\n",
              "if (outputEl) {{\n",
              "    x.observe(outputEl, {childList: true});\n",
              "}}\n",
              "\n",
              "                        })                };                            </script>        </div>\n",
              "</body>\n",
              "</html>"
            ]
          },
          "metadata": {}
        }
      ]
    },
    {
      "cell_type": "code",
      "source": [
        "pd.crosstab(df.age_till_30 ,df.death_event).plot(kind='bar')\n",
        "plt.title('Death Event for people with Age till 30')\n",
        "plt.xlabel('Age')\n",
        "plt.ylabel('Death')\n",
        "plt.show()"
      ],
      "metadata": {
        "id": "LQmPLaoPvrfg",
        "outputId": "aa17d3cc-28f6-4445-e64c-635a76a09b1e",
        "colab": {
          "base_uri": "https://localhost:8080/",
          "height": 466
        }
      },
      "execution_count": 72,
      "outputs": [
        {
          "output_type": "display_data",
          "data": {
            "text/plain": [
              "<Figure size 640x480 with 1 Axes>"
            ],
            "image/png": "[encoded data removed]"
          },
          "metadata": {}
        }
      ]
    },
    {
      "cell_type": "code",
      "source": [
        "#Age between 30 and 50\n",
        "df.age_bet_30_50.value_counts()"
      ],
      "metadata": {
        "id": "_yeEyZKuvuIw",
        "outputId": "634922a2-a6c2-4a15-cc67-47e6618082e1",
        "colab": {
          "base_uri": "https://localhost:8080/"
        }
      },
      "execution_count": 73,
      "outputs": [
        {
          "output_type": "execute_result",
          "data": {
            "text/plain": [
              "0    225\n",
              "1     74\n",
              "Name: age_bet_30_50, dtype: int64"
            ]
          },
          "metadata": {},
          "execution_count": 73
        }
      ]
    },
    {
      "cell_type": "code",
      "source": [
        "ds = df['age_bet_30_50'].value_counts().reset_index()\n",
        "ds.columns = ['age_bet_30_50', 'count']\n",
        "fig = px.bar(ds, x='age_bet_30_50', y=\"count\", orientation='v', title='Count of Patients with age between 30 and 50', width=500)\n",
        "fig.show()"
      ],
      "metadata": {
        "id": "rt7UKUDQvxlP",
        "outputId": "98049e72-b615-4b53-8f15-3ac64c778683",
        "colab": {
          "base_uri": "https://localhost:8080/",
          "height": 542
        }
      },
      "execution_count": 74,
      "outputs": [
        {
          "output_type": "display_data",
          "data": {
            "text/html": [
              "<html>\n",
              "<head><meta charset=\"utf-8\" /></head>\n",
              "<body>\n",
              "    <div>            <script src=\"https://cdnjs.cloudflare.com/ajax/libs/mathjax/2.7.5/MathJax.js?config=TeX-AMS-MML_SVG\"></script><script type=\"text/javascript\">if (window.MathJax && window.MathJax.Hub && window.MathJax.Hub.Config) {window.MathJax.Hub.Config({SVG: {font: \"STIX-Web\"}});}</script>                <script type=\"text/javascript\">window.PlotlyConfig = {MathJaxConfig: 'local'};</script>\n",
              "        <script charset=\"utf-8\" src=\"https://cdn.plot.ly/plotly-2.24.1.min.js\"></script>                <div id=\"054800f3-de22-4586-9794-7bfe127fe4c6\" class=\"plotly-graph-div\" style=\"height:525px; width:500px;\"></div>            <script type=\"text/javascript\">                                    window.PLOTLYENV=window.PLOTLYENV || {};                                    if (document.getElementById(\"054800f3-de22-4586-9794-7bfe127fe4c6\")) {                    Plotly.newPlot(                        \"054800f3-de22-4586-9794-7bfe127fe4c6\",                        [{\"alignmentgroup\":\"True\",\"hovertemplate\":\"age_bet_30_50=%{x}\\u003cbr\\u003ecount=%{y}\\u003cextra\\u003e\\u003c\\u002fextra\\u003e\",\"legendgroup\":\"\",\"marker\":{\"color\":\"#636efa\",\"pattern\":{\"shape\":\"\"}},\"name\":\"\",\"offsetgroup\":\"\",\"orientation\":\"v\",\"showlegend\":false,\"textposition\":\"auto\",\"x\":[0,1],\"xaxis\":\"x\",\"y\":[225,74],\"yaxis\":\"y\",\"type\":\"bar\"}],                        {\"template\":{\"data\":{\"histogram2dcontour\":[{\"type\":\"histogram2dcontour\",\"colorbar\":{\"outlinewidth\":0,\"ticks\":\"\"},\"colorscale\":[[0.0,\"#0d0887\"],[0.1111111111111111,\"#46039f\"],[0.2222222222222222,\"#7201a8\"],[0.3333333333333333,\"#9c179e\"],[0.4444444444444444,\"#bd3786\"],[0.5555555555555556,\"#d8576b\"],[0.6666666666666666,\"#ed7953\"],[0.7777777777777778,\"#fb9f3a\"],[0.8888888888888888,\"#fdca26\"],[1.0,\"#f0f921\"]]}],\"choropleth\":[{\"type\":\"choropleth\",\"colorbar\":{\"outlinewidth\":0,\"ticks\":\"\"}}],\"histogram2d\":[{\"type\":\"histogram2d\",\"colorbar\":{\"outlinewidth\":0,\"ticks\":\"\"},\"colorscale\":[[0.0,\"#0d0887\"],[0.1111111111111111,\"#46039f\"],[0.2222222222222222,\"#7201a8\"],[0.3333333333333333,\"#9c179e\"],[0.4444444444444444,\"#bd3786\"],[0.5555555555555556,\"#d8576b\"],[0.6666666666666666,\"#ed7953\"],[0.7777777777777778,\"#fb9f3a\"],[0.8888888888888888,\"#fdca26\"],[1.0,\"#f0f921\"]]}],\"heatmap\":[{\"type\":\"heatmap\",\"colorbar\":{\"outlinewidth\":0,\"ticks\":\"\"},\"colorscale\":[[0.0,\"#0d0887\"],[0.1111111111111111,\"#46039f\"],[0.2222222222222222,\"#7201a8\"],[0.3333333333333333,\"#9c179e\"],[0.4444444444444444,\"#bd3786\"],[0.5555555555555556,\"#d8576b\"],[0.6666666666666666,\"#ed7953\"],[0.7777777777777778,\"#fb9f3a\"],[0.8888888888888888,\"#fdca26\"],[1.0,\"#f0f921\"]]}],\"heatmapgl\":[{\"type\":\"heatmapgl\",\"colorbar\":{\"outlinewidth\":0,\"ticks\":\"\"},\"colorscale\":[[0.0,\"#0d0887\"],[0.1111111111111111,\"#46039f\"],[0.2222222222222222,\"#7201a8\"],[0.3333333333333333,\"#9c179e\"],[0.4444444444444444,\"#bd3786\"],[0.5555555555555556,\"#d8576b\"],[0.6666666666666666,\"#ed7953\"],[0.7777777777777778,\"#fb9f3a\"],[0.8888888888888888,\"#fdca26\"],[1.0,\"#f0f921\"]]}],\"contourcarpet\":[{\"type\":\"contourcarpet\",\"colorbar\":{\"outlinewidth\":0,\"ticks\":\"\"}}],\"contour\":[{\"type\":\"contour\",\"colorbar\":{\"outlinewidth\":0,\"ticks\":\"\"},\"colorscale\":[[0.0,\"#0d0887\"],[0.1111111111111111,\"#46039f\"],[0.2222222222222222,\"#7201a8\"],[0.3333333333333333,\"#9c179e\"],[0.4444444444444444,\"#bd3786\"],[0.5555555555555556,\"#d8576b\"],[0.6666666666666666,\"#ed7953\"],[0.7777777777777778,\"#fb9f3a\"],[0.8888888888888888,\"#fdca26\"],[1.0,\"#f0f921\"]]}],\"surface\":[{\"type\":\"surface\",\"colorbar\":{\"outlinewidth\":0,\"ticks\":\"\"},\"colorscale\":[[0.0,\"#0d0887\"],[0.1111111111111111,\"#46039f\"],[0.2222222222222222,\"#7201a8\"],[0.3333333333333333,\"#9c179e\"],[0.4444444444444444,\"#bd3786\"],[0.5555555555555556,\"#d8576b\"],[0.6666666666666666,\"#ed7953\"],[0.7777777777777778,\"#fb9f3a\"],[0.8888888888888888,\"#fdca26\"],[1.0,\"#f0f921\"]]}],\"mesh3d\":[{\"type\":\"mesh3d\",\"colorbar\":{\"outlinewidth\":0,\"ticks\":\"\"}}],\"scatter\":[{\"fillpattern\":{\"fillmode\":\"overlay\",\"size\":10,\"solidity\":0.2},\"type\":\"scatter\"}],\"parcoords\":[{\"type\":\"parcoords\",\"line\":{\"colorbar\":{\"outlinewidth\":0,\"ticks\":\"\"}}}],\"scatterpolargl\":[{\"type\":\"scatterpolargl\",\"marker\":{\"colorbar\":{\"outlinewidth\":0,\"ticks\":\"\"}}}],\"bar\":[{\"error_x\":{\"color\":\"#2a3f5f\"},\"error_y\":{\"color\":\"#2a3f5f\"},\"marker\":{\"line\":{\"color\":\"#E5ECF6\",\"width\":0.5},\"pattern\":{\"fillmode\":\"overlay\",\"size\":10,\"solidity\":0.2}},\"type\":\"bar\"}],\"scattergeo\":[{\"type\":\"scattergeo\",\"marker\":{\"colorbar\":{\"outlinewidth\":0,\"ticks\":\"\"}}}],\"scatterpolar\":[{\"type\":\"scatterpolar\",\"marker\":{\"colorbar\":{\"outlinewidth\":0,\"ticks\":\"\"}}}],\"histogram\":[{\"marker\":{\"pattern\":{\"fillmode\":\"overlay\",\"size\":10,\"solidity\":0.2}},\"type\":\"histogram\"}],\"scattergl\":[{\"type\":\"scattergl\",\"marker\":{\"colorbar\":{\"outlinewidth\":0,\"ticks\":\"\"}}}],\"scatter3d\":[{\"type\":\"scatter3d\",\"line\":{\"colorbar\":{\"outlinewidth\":0,\"ticks\":\"\"}},\"marker\":{\"colorbar\":{\"outlinewidth\":0,\"ticks\":\"\"}}}],\"scattermapbox\":[{\"type\":\"scattermapbox\",\"marker\":{\"colorbar\":{\"outlinewidth\":0,\"ticks\":\"\"}}}],\"scatterternary\":[{\"type\":\"scatterternary\",\"marker\":{\"colorbar\":{\"outlinewidth\":0,\"ticks\":\"\"}}}],\"scattercarpet\":[{\"type\":\"scattercarpet\",\"marker\":{\"colorbar\":{\"outlinewidth\":0,\"ticks\":\"\"}}}],\"carpet\":[{\"aaxis\":{\"endlinecolor\":\"#2a3f5f\",\"gridcolor\":\"white\",\"linecolor\":\"white\",\"minorgridcolor\":\"white\",\"startlinecolor\":\"#2a3f5f\"},\"baxis\":{\"endlinecolor\":\"#2a3f5f\",\"gridcolor\":\"white\",\"linecolor\":\"white\",\"minorgridcolor\":\"white\",\"startlinecolor\":\"#2a3f5f\"},\"type\":\"carpet\"}],\"table\":[{\"cells\":{\"fill\":{\"color\":\"#EBF0F8\"},\"line\":{\"color\":\"white\"}},\"header\":{\"fill\":{\"color\":\"#C8D4E3\"},\"line\":{\"color\":\"white\"}},\"type\":\"table\"}],\"barpolar\":[{\"marker\":{\"line\":{\"color\":\"#E5ECF6\",\"width\":0.5},\"pattern\":{\"fillmode\":\"overlay\",\"size\":10,\"solidity\":0.2}},\"type\":\"barpolar\"}],\"pie\":[{\"automargin\":true,\"type\":\"pie\"}]},\"layout\":{\"autotypenumbers\":\"strict\",\"colorway\":[\"#636efa\",\"#EF553B\",\"#00cc96\",\"#ab63fa\",\"#FFA15A\",\"#19d3f3\",\"#FF6692\",\"#B6E880\",\"#FF97FF\",\"#FECB52\"],\"font\":{\"color\":\"#2a3f5f\"},\"hovermode\":\"closest\",\"hoverlabel\":{\"align\":\"left\"},\"paper_bgcolor\":\"white\",\"plot_bgcolor\":\"#E5ECF6\",\"polar\":{\"bgcolor\":\"#E5ECF6\",\"angularaxis\":{\"gridcolor\":\"white\",\"linecolor\":\"white\",\"ticks\":\"\"},\"radialaxis\":{\"gridcolor\":\"white\",\"linecolor\":\"white\",\"ticks\":\"\"}},\"ternary\":{\"bgcolor\":\"#E5ECF6\",\"aaxis\":{\"gridcolor\":\"white\",\"linecolor\":\"white\",\"ticks\":\"\"},\"baxis\":{\"gridcolor\":\"white\",\"linecolor\":\"white\",\"ticks\":\"\"},\"caxis\":{\"gridcolor\":\"white\",\"linecolor\":\"white\",\"ticks\":\"\"}},\"coloraxis\":{\"colorbar\":{\"outlinewidth\":0,\"ticks\":\"\"}},\"colorscale\":{\"sequential\":[[0.0,\"#0d0887\"],[0.1111111111111111,\"#46039f\"],[0.2222222222222222,\"#7201a8\"],[0.3333333333333333,\"#9c179e\"],[0.4444444444444444,\"#bd3786\"],[0.5555555555555556,\"#d8576b\"],[0.6666666666666666,\"#ed7953\"],[0.7777777777777778,\"#fb9f3a\"],[0.8888888888888888,\"#fdca26\"],[1.0,\"#f0f921\"]],\"sequentialminus\":[[0.0,\"#0d0887\"],[0.1111111111111111,\"#46039f\"],[0.2222222222222222,\"#7201a8\"],[0.3333333333333333,\"#9c179e\"],[0.4444444444444444,\"#bd3786\"],[0.5555555555555556,\"#d8576b\"],[0.6666666666666666,\"#ed7953\"],[0.7777777777777778,\"#fb9f3a\"],[0.8888888888888888,\"#fdca26\"],[1.0,\"#f0f921\"]],\"diverging\":[[0,\"#8e0152\"],[0.1,\"#c51b7d\"],[0.2,\"#de77ae\"],[0.3,\"#f1b6da\"],[0.4,\"#fde0ef\"],[0.5,\"#f7f7f7\"],[0.6,\"#e6f5d0\"],[0.7,\"#b8e186\"],[0.8,\"#7fbc41\"],[0.9,\"#4d9221\"],[1,\"#276419\"]]},\"xaxis\":{\"gridcolor\":\"white\",\"linecolor\":\"white\",\"ticks\":\"\",\"title\":{\"standoff\":15},\"zerolinecolor\":\"white\",\"automargin\":true,\"zerolinewidth\":2},\"yaxis\":{\"gridcolor\":\"white\",\"linecolor\":\"white\",\"ticks\":\"\",\"title\":{\"standoff\":15},\"zerolinecolor\":\"white\",\"automargin\":true,\"zerolinewidth\":2},\"scene\":{\"xaxis\":{\"backgroundcolor\":\"#E5ECF6\",\"gridcolor\":\"white\",\"linecolor\":\"white\",\"showbackground\":true,\"ticks\":\"\",\"zerolinecolor\":\"white\",\"gridwidth\":2},\"yaxis\":{\"backgroundcolor\":\"#E5ECF6\",\"gridcolor\":\"white\",\"linecolor\":\"white\",\"showbackground\":true,\"ticks\":\"\",\"zerolinecolor\":\"white\",\"gridwidth\":2},\"zaxis\":{\"backgroundcolor\":\"#E5ECF6\",\"gridcolor\":\"white\",\"linecolor\":\"white\",\"showbackground\":true,\"ticks\":\"\",\"zerolinecolor\":\"white\",\"gridwidth\":2}},\"shapedefaults\":{\"line\":{\"color\":\"#2a3f5f\"}},\"annotationdefaults\":{\"arrowcolor\":\"#2a3f5f\",\"arrowhead\":0,\"arrowwidth\":1},\"geo\":{\"bgcolor\":\"white\",\"landcolor\":\"#E5ECF6\",\"subunitcolor\":\"white\",\"showland\":true,\"showlakes\":true,\"lakecolor\":\"white\"},\"title\":{\"x\":0.05},\"mapbox\":{\"style\":\"light\"}}},\"xaxis\":{\"anchor\":\"y\",\"domain\":[0.0,1.0],\"title\":{\"text\":\"age_bet_30_50\"}},\"yaxis\":{\"anchor\":\"x\",\"domain\":[0.0,1.0],\"title\":{\"text\":\"count\"}},\"legend\":{\"tracegroupgap\":0},\"title\":{\"text\":\"Count of Patients with age between 30 and 50\"},\"barmode\":\"relative\",\"width\":500},                        {\"responsive\": true}                    ).then(function(){\n",
              "                            \n",
              "var gd = document.getElementById('054800f3-de22-4586-9794-7bfe127fe4c6');\n",
              "var x = new MutationObserver(function (mutations, observer) {{\n",
              "        var display = window.getComputedStyle(gd).display;\n",
              "        if (!display || display === 'none') {{\n",
              "            console.log([gd, 'removed!']);\n",
              "            Plotly.purge(gd);\n",
              "            observer.disconnect();\n",
              "        }}\n",
              "}});\n",
              "\n",
              "// Listen for the removal of the full notebook cells\n",
              "var notebookContainer = gd.closest('#notebook-container');\n",
              "if (notebookContainer) {{\n",
              "    x.observe(notebookContainer, {childList: true});\n",
              "}}\n",
              "\n",
              "// Listen for the clearing of the current output cell\n",
              "var outputEl = gd.closest('.output');\n",
              "if (outputEl) {{\n",
              "    x.observe(outputEl, {childList: true});\n",
              "}}\n",
              "\n",
              "                        })                };                            </script>        </div>\n",
              "</body>\n",
              "</html>"
            ]
          },
          "metadata": {}
        }
      ]
    },
    {
      "cell_type": "code",
      "source": [
        "pd.crosstab(df.age_bet_30_50 ,df.death_event).plot(kind='bar')\n",
        "plt.title('Death Event for people with Age between 30 and 50')\n",
        "plt.xlabel('Age')\n",
        "plt.ylabel('Death')\n",
        "plt.show()"
      ],
      "metadata": {
        "id": "At69xVpFv0CY",
        "outputId": "65813213-bb3e-4fed-bda2-e870f6606d1e",
        "colab": {
          "base_uri": "https://localhost:8080/",
          "height": 467
        }
      },
      "execution_count": 75,
      "outputs": [
        {
          "output_type": "display_data",
          "data": {
            "text/plain": [
              "<Figure size 640x480 with 1 Axes>"
            ],
            "image/png": "[encoded data removed]"
          },
          "metadata": {}
        }
      ]
    },
    {
      "cell_type": "code",
      "source": [
        "print(\"Mortlity Rate:\", df[\"death_event\"][df[\"age_bet_30_50\"] == 1].value_counts(normalize = True)[1]*100)"
      ],
      "metadata": {
        "id": "qj8T6dJKv1_c",
        "outputId": "5d7338f8-0993-4351-ae05-2046a3c37fe1",
        "colab": {
          "base_uri": "https://localhost:8080/"
        }
      },
      "execution_count": 76,
      "outputs": [
        {
          "output_type": "stream",
          "name": "stdout",
          "text": [
            "Mortlity Rate: 25.675675675675674\n"
          ]
        }
      ]
    },
    {
      "cell_type": "code",
      "source": [
        "#Age between 50 and 70\n",
        "df.age_bet_50_70.value_counts()"
      ],
      "metadata": {
        "id": "miMFs5ajv42b",
        "outputId": "70895a9a-7930-47d2-d55d-99ed2fa1e36d",
        "colab": {
          "base_uri": "https://localhost:8080/"
        }
      },
      "execution_count": 77,
      "outputs": [
        {
          "output_type": "execute_result",
          "data": {
            "text/plain": [
              "1    173\n",
              "0    126\n",
              "Name: age_bet_50_70, dtype: int64"
            ]
          },
          "metadata": {},
          "execution_count": 77
        }
      ]
    },
    {
      "cell_type": "code",
      "source": [
        "ds = df['age_bet_50_70'].value_counts().reset_index()\n",
        "ds.columns = ['age_bet_50_70', 'count']\n",
        "fig = px.bar(ds, x='age_bet_50_70', y=\"count\", orientation='v', title='Count of Patients with age between 50 and 70', width=500)\n",
        "fig.show()"
      ],
      "metadata": {
        "id": "AuD359Niv8XE",
        "outputId": "b5810e9c-b937-4eda-fba1-2dc51e2aaff6",
        "colab": {
          "base_uri": "https://localhost:8080/",
          "height": 542
        }
      },
      "execution_count": 78,
      "outputs": [
        {
          "output_type": "display_data",
          "data": {
            "text/html": [
              "<html>\n",
              "<head><meta charset=\"utf-8\" /></head>\n",
              "<body>\n",
              "    <div>            <script src=\"https://cdnjs.cloudflare.com/ajax/libs/mathjax/2.7.5/MathJax.js?config=TeX-AMS-MML_SVG\"></script><script type=\"text/javascript\">if (window.MathJax && window.MathJax.Hub && window.MathJax.Hub.Config) {window.MathJax.Hub.Config({SVG: {font: \"STIX-Web\"}});}</script>                <script type=\"text/javascript\">window.PlotlyConfig = {MathJaxConfig: 'local'};</script>\n",
              "        <script charset=\"utf-8\" src=\"https://cdn.plot.ly/plotly-2.24.1.min.js\"></script>                <div id=\"13c3bc17-5f6c-4157-93e8-e055a18d1b26\" class=\"plotly-graph-div\" style=\"height:525px; width:500px;\"></div>            <script type=\"text/javascript\">                                    window.PLOTLYENV=window.PLOTLYENV || {};                                    if (document.getElementById(\"13c3bc17-5f6c-4157-93e8-e055a18d1b26\")) {                    Plotly.newPlot(                        \"13c3bc17-5f6c-4157-93e8-e055a18d1b26\",                        [{\"alignmentgroup\":\"True\",\"hovertemplate\":\"age_bet_50_70=%{x}\\u003cbr\\u003ecount=%{y}\\u003cextra\\u003e\\u003c\\u002fextra\\u003e\",\"legendgroup\":\"\",\"marker\":{\"color\":\"#636efa\",\"pattern\":{\"shape\":\"\"}},\"name\":\"\",\"offsetgroup\":\"\",\"orientation\":\"v\",\"showlegend\":false,\"textposition\":\"auto\",\"x\":[1,0],\"xaxis\":\"x\",\"y\":[173,126],\"yaxis\":\"y\",\"type\":\"bar\"}],                        {\"template\":{\"data\":{\"histogram2dcontour\":[{\"type\":\"histogram2dcontour\",\"colorbar\":{\"outlinewidth\":0,\"ticks\":\"\"},\"colorscale\":[[0.0,\"#0d0887\"],[0.1111111111111111,\"#46039f\"],[0.2222222222222222,\"#7201a8\"],[0.3333333333333333,\"#9c179e\"],[0.4444444444444444,\"#bd3786\"],[0.5555555555555556,\"#d8576b\"],[0.6666666666666666,\"#ed7953\"],[0.7777777777777778,\"#fb9f3a\"],[0.8888888888888888,\"#fdca26\"],[1.0,\"#f0f921\"]]}],\"choropleth\":[{\"type\":\"choropleth\",\"colorbar\":{\"outlinewidth\":0,\"ticks\":\"\"}}],\"histogram2d\":[{\"type\":\"histogram2d\",\"colorbar\":{\"outlinewidth\":0,\"ticks\":\"\"},\"colorscale\":[[0.0,\"#0d0887\"],[0.1111111111111111,\"#46039f\"],[0.2222222222222222,\"#7201a8\"],[0.3333333333333333,\"#9c179e\"],[0.4444444444444444,\"#bd3786\"],[0.5555555555555556,\"#d8576b\"],[0.6666666666666666,\"#ed7953\"],[0.7777777777777778,\"#fb9f3a\"],[0.8888888888888888,\"#fdca26\"],[1.0,\"#f0f921\"]]}],\"heatmap\":[{\"type\":\"heatmap\",\"colorbar\":{\"outlinewidth\":0,\"ticks\":\"\"},\"colorscale\":[[0.0,\"#0d0887\"],[0.1111111111111111,\"#46039f\"],[0.2222222222222222,\"#7201a8\"],[0.3333333333333333,\"#9c179e\"],[0.4444444444444444,\"#bd3786\"],[0.5555555555555556,\"#d8576b\"],[0.6666666666666666,\"#ed7953\"],[0.7777777777777778,\"#fb9f3a\"],[0.8888888888888888,\"#fdca26\"],[1.0,\"#f0f921\"]]}],\"heatmapgl\":[{\"type\":\"heatmapgl\",\"colorbar\":{\"outlinewidth\":0,\"ticks\":\"\"},\"colorscale\":[[0.0,\"#0d0887\"],[0.1111111111111111,\"#46039f\"],[0.2222222222222222,\"#7201a8\"],[0.3333333333333333,\"#9c179e\"],[0.4444444444444444,\"#bd3786\"],[0.5555555555555556,\"#d8576b\"],[0.6666666666666666,\"#ed7953\"],[0.7777777777777778,\"#fb9f3a\"],[0.8888888888888888,\"#fdca26\"],[1.0,\"#f0f921\"]]}],\"contourcarpet\":[{\"type\":\"contourcarpet\",\"colorbar\":{\"outlinewidth\":0,\"ticks\":\"\"}}],\"contour\":[{\"type\":\"contour\",\"colorbar\":{\"outlinewidth\":0,\"ticks\":\"\"},\"colorscale\":[[0.0,\"#0d0887\"],[0.1111111111111111,\"#46039f\"],[0.2222222222222222,\"#7201a8\"],[0.3333333333333333,\"#9c179e\"],[0.4444444444444444,\"#bd3786\"],[0.5555555555555556,\"#d8576b\"],[0.6666666666666666,\"#ed7953\"],[0.7777777777777778,\"#fb9f3a\"],[0.8888888888888888,\"#fdca26\"],[1.0,\"#f0f921\"]]}],\"surface\":[{\"type\":\"surface\",\"colorbar\":{\"outlinewidth\":0,\"ticks\":\"\"},\"colorscale\":[[0.0,\"#0d0887\"],[0.1111111111111111,\"#46039f\"],[0.2222222222222222,\"#7201a8\"],[0.3333333333333333,\"#9c179e\"],[0.4444444444444444,\"#bd3786\"],[0.5555555555555556,\"#d8576b\"],[0.6666666666666666,\"#ed7953\"],[0.7777777777777778,\"#fb9f3a\"],[0.8888888888888888,\"#fdca26\"],[1.0,\"#f0f921\"]]}],\"mesh3d\":[{\"type\":\"mesh3d\",\"colorbar\":{\"outlinewidth\":0,\"ticks\":\"\"}}],\"scatter\":[{\"fillpattern\":{\"fillmode\":\"overlay\",\"size\":10,\"solidity\":0.2},\"type\":\"scatter\"}],\"parcoords\":[{\"type\":\"parcoords\",\"line\":{\"colorbar\":{\"outlinewidth\":0,\"ticks\":\"\"}}}],\"scatterpolargl\":[{\"type\":\"scatterpolargl\",\"marker\":{\"colorbar\":{\"outlinewidth\":0,\"ticks\":\"\"}}}],\"bar\":[{\"error_x\":{\"color\":\"#2a3f5f\"},\"error_y\":{\"color\":\"#2a3f5f\"},\"marker\":{\"line\":{\"color\":\"#E5ECF6\",\"width\":0.5},\"pattern\":{\"fillmode\":\"overlay\",\"size\":10,\"solidity\":0.2}},\"type\":\"bar\"}],\"scattergeo\":[{\"type\":\"scattergeo\",\"marker\":{\"colorbar\":{\"outlinewidth\":0,\"ticks\":\"\"}}}],\"scatterpolar\":[{\"type\":\"scatterpolar\",\"marker\":{\"colorbar\":{\"outlinewidth\":0,\"ticks\":\"\"}}}],\"histogram\":[{\"marker\":{\"pattern\":{\"fillmode\":\"overlay\",\"size\":10,\"solidity\":0.2}},\"type\":\"histogram\"}],\"scattergl\":[{\"type\":\"scattergl\",\"marker\":{\"colorbar\":{\"outlinewidth\":0,\"ticks\":\"\"}}}],\"scatter3d\":[{\"type\":\"scatter3d\",\"line\":{\"colorbar\":{\"outlinewidth\":0,\"ticks\":\"\"}},\"marker\":{\"colorbar\":{\"outlinewidth\":0,\"ticks\":\"\"}}}],\"scattermapbox\":[{\"type\":\"scattermapbox\",\"marker\":{\"colorbar\":{\"outlinewidth\":0,\"ticks\":\"\"}}}],\"scatterternary\":[{\"type\":\"scatterternary\",\"marker\":{\"colorbar\":{\"outlinewidth\":0,\"ticks\":\"\"}}}],\"scattercarpet\":[{\"type\":\"scattercarpet\",\"marker\":{\"colorbar\":{\"outlinewidth\":0,\"ticks\":\"\"}}}],\"carpet\":[{\"aaxis\":{\"endlinecolor\":\"#2a3f5f\",\"gridcolor\":\"white\",\"linecolor\":\"white\",\"minorgridcolor\":\"white\",\"startlinecolor\":\"#2a3f5f\"},\"baxis\":{\"endlinecolor\":\"#2a3f5f\",\"gridcolor\":\"white\",\"linecolor\":\"white\",\"minorgridcolor\":\"white\",\"startlinecolor\":\"#2a3f5f\"},\"type\":\"carpet\"}],\"table\":[{\"cells\":{\"fill\":{\"color\":\"#EBF0F8\"},\"line\":{\"color\":\"white\"}},\"header\":{\"fill\":{\"color\":\"#C8D4E3\"},\"line\":{\"color\":\"white\"}},\"type\":\"table\"}],\"barpolar\":[{\"marker\":{\"line\":{\"color\":\"#E5ECF6\",\"width\":0.5},\"pattern\":{\"fillmode\":\"overlay\",\"size\":10,\"solidity\":0.2}},\"type\":\"barpolar\"}],\"pie\":[{\"automargin\":true,\"type\":\"pie\"}]},\"layout\":{\"autotypenumbers\":\"strict\",\"colorway\":[\"#636efa\",\"#EF553B\",\"#00cc96\",\"#ab63fa\",\"#FFA15A\",\"#19d3f3\",\"#FF6692\",\"#B6E880\",\"#FF97FF\",\"#FECB52\"],\"font\":{\"color\":\"#2a3f5f\"},\"hovermode\":\"closest\",\"hoverlabel\":{\"align\":\"left\"},\"paper_bgcolor\":\"white\",\"plot_bgcolor\":\"#E5ECF6\",\"polar\":{\"bgcolor\":\"#E5ECF6\",\"angularaxis\":{\"gridcolor\":\"white\",\"linecolor\":\"white\",\"ticks\":\"\"},\"radialaxis\":{\"gridcolor\":\"white\",\"linecolor\":\"white\",\"ticks\":\"\"}},\"ternary\":{\"bgcolor\":\"#E5ECF6\",\"aaxis\":{\"gridcolor\":\"white\",\"linecolor\":\"white\",\"ticks\":\"\"},\"baxis\":{\"gridcolor\":\"white\",\"linecolor\":\"white\",\"ticks\":\"\"},\"caxis\":{\"gridcolor\":\"white\",\"linecolor\":\"white\",\"ticks\":\"\"}},\"coloraxis\":{\"colorbar\":{\"outlinewidth\":0,\"ticks\":\"\"}},\"colorscale\":{\"sequential\":[[0.0,\"#0d0887\"],[0.1111111111111111,\"#46039f\"],[0.2222222222222222,\"#7201a8\"],[0.3333333333333333,\"#9c179e\"],[0.4444444444444444,\"#bd3786\"],[0.5555555555555556,\"#d8576b\"],[0.6666666666666666,\"#ed7953\"],[0.7777777777777778,\"#fb9f3a\"],[0.8888888888888888,\"#fdca26\"],[1.0,\"#f0f921\"]],\"sequentialminus\":[[0.0,\"#0d0887\"],[0.1111111111111111,\"#46039f\"],[0.2222222222222222,\"#7201a8\"],[0.3333333333333333,\"#9c179e\"],[0.4444444444444444,\"#bd3786\"],[0.5555555555555556,\"#d8576b\"],[0.6666666666666666,\"#ed7953\"],[0.7777777777777778,\"#fb9f3a\"],[0.8888888888888888,\"#fdca26\"],[1.0,\"#f0f921\"]],\"diverging\":[[0,\"#8e0152\"],[0.1,\"#c51b7d\"],[0.2,\"#de77ae\"],[0.3,\"#f1b6da\"],[0.4,\"#fde0ef\"],[0.5,\"#f7f7f7\"],[0.6,\"#e6f5d0\"],[0.7,\"#b8e186\"],[0.8,\"#7fbc41\"],[0.9,\"#4d9221\"],[1,\"#276419\"]]},\"xaxis\":{\"gridcolor\":\"white\",\"linecolor\":\"white\",\"ticks\":\"\",\"title\":{\"standoff\":15},\"zerolinecolor\":\"white\",\"automargin\":true,\"zerolinewidth\":2},\"yaxis\":{\"gridcolor\":\"white\",\"linecolor\":\"white\",\"ticks\":\"\",\"title\":{\"standoff\":15},\"zerolinecolor\":\"white\",\"automargin\":true,\"zerolinewidth\":2},\"scene\":{\"xaxis\":{\"backgroundcolor\":\"#E5ECF6\",\"gridcolor\":\"white\",\"linecolor\":\"white\",\"showbackground\":true,\"ticks\":\"\",\"zerolinecolor\":\"white\",\"gridwidth\":2},\"yaxis\":{\"backgroundcolor\":\"#E5ECF6\",\"gridcolor\":\"white\",\"linecolor\":\"white\",\"showbackground\":true,\"ticks\":\"\",\"zerolinecolor\":\"white\",\"gridwidth\":2},\"zaxis\":{\"backgroundcolor\":\"#E5ECF6\",\"gridcolor\":\"white\",\"linecolor\":\"white\",\"showbackground\":true,\"ticks\":\"\",\"zerolinecolor\":\"white\",\"gridwidth\":2}},\"shapedefaults\":{\"line\":{\"color\":\"#2a3f5f\"}},\"annotationdefaults\":{\"arrowcolor\":\"#2a3f5f\",\"arrowhead\":0,\"arrowwidth\":1},\"geo\":{\"bgcolor\":\"white\",\"landcolor\":\"#E5ECF6\",\"subunitcolor\":\"white\",\"showland\":true,\"showlakes\":true,\"lakecolor\":\"white\"},\"title\":{\"x\":0.05},\"mapbox\":{\"style\":\"light\"}}},\"xaxis\":{\"anchor\":\"y\",\"domain\":[0.0,1.0],\"title\":{\"text\":\"age_bet_50_70\"}},\"yaxis\":{\"anchor\":\"x\",\"domain\":[0.0,1.0],\"title\":{\"text\":\"count\"}},\"legend\":{\"tracegroupgap\":0},\"title\":{\"text\":\"Count of Patients with age between 50 and 70\"},\"barmode\":\"relative\",\"width\":500},                        {\"responsive\": true}                    ).then(function(){\n",
              "                            \n",
              "var gd = document.getElementById('13c3bc17-5f6c-4157-93e8-e055a18d1b26');\n",
              "var x = new MutationObserver(function (mutations, observer) {{\n",
              "        var display = window.getComputedStyle(gd).display;\n",
              "        if (!display || display === 'none') {{\n",
              "            console.log([gd, 'removed!']);\n",
              "            Plotly.purge(gd);\n",
              "            observer.disconnect();\n",
              "        }}\n",
              "}});\n",
              "\n",
              "// Listen for the removal of the full notebook cells\n",
              "var notebookContainer = gd.closest('#notebook-container');\n",
              "if (notebookContainer) {{\n",
              "    x.observe(notebookContainer, {childList: true});\n",
              "}}\n",
              "\n",
              "// Listen for the clearing of the current output cell\n",
              "var outputEl = gd.closest('.output');\n",
              "if (outputEl) {{\n",
              "    x.observe(outputEl, {childList: true});\n",
              "}}\n",
              "\n",
              "                        })                };                            </script>        </div>\n",
              "</body>\n",
              "</html>"
            ]
          },
          "metadata": {}
        }
      ]
    },
    {
      "cell_type": "code",
      "source": [
        "pd.crosstab(df.age_bet_50_70 ,df.death_event).plot(kind='bar')\n",
        "plt.title('Death Event for people with Age bet 50 and 70')\n",
        "plt.xlabel('Age')\n",
        "plt.ylabel('Death')\n",
        "plt.show()"
      ],
      "metadata": {
        "id": "U7CIZCj5v9-L",
        "outputId": "7ef5e2c3-53f4-4038-e73a-a50135ffe20c",
        "colab": {
          "base_uri": "https://localhost:8080/",
          "height": 467
        }
      },
      "execution_count": 79,
      "outputs": [
        {
          "output_type": "display_data",
          "data": {
            "text/plain": [
              "<Figure size 640x480 with 1 Axes>"
            ],
            "image/png": "[encoded data removed]"
          },
          "metadata": {}
        }
      ]
    },
    {
      "cell_type": "code",
      "source": [
        "print(\"Mortality Rate:\",df[\"death_event\"][df[\"age_bet_50_70\"] == 1].value_counts(normalize = True)[1]*100)"
      ],
      "metadata": {
        "id": "UWQv0_t0wAhz",
        "outputId": "fa8e0fe0-5865-4653-f5f5-798814f10d28",
        "colab": {
          "base_uri": "https://localhost:8080/"
        }
      },
      "execution_count": 80,
      "outputs": [
        {
          "output_type": "stream",
          "name": "stdout",
          "text": [
            "Mortality Rate: 26.589595375722542\n"
          ]
        }
      ]
    },
    {
      "cell_type": "code",
      "source": [
        "#Age greater than 70\n",
        "df.age_gret_70.value_counts()"
      ],
      "metadata": {
        "id": "yb4ENcjbwDOu",
        "outputId": "82303efa-f5db-47f5-8848-17fae82dfbfd",
        "colab": {
          "base_uri": "https://localhost:8080/"
        }
      },
      "execution_count": 81,
      "outputs": [
        {
          "output_type": "execute_result",
          "data": {
            "text/plain": [
              "0    247\n",
              "1     52\n",
              "Name: age_gret_70, dtype: int64"
            ]
          },
          "metadata": {},
          "execution_count": 81
        }
      ]
    },
    {
      "cell_type": "code",
      "source": [
        "ds = df['age_gret_70'].value_counts().reset_index()\n",
        "ds.columns = ['age_gret_70', 'count']\n",
        "fig = px.bar(ds, x='age_gret_70', y=\"count\", orientation='v', title='Count of Patients with age greater than 70', width=500)\n",
        "fig.show()"
      ],
      "metadata": {
        "id": "1xix7E42wGp-",
        "outputId": "f9d9bec0-cab5-45db-c3c9-c37330e44b74",
        "colab": {
          "base_uri": "https://localhost:8080/",
          "height": 542
        }
      },
      "execution_count": 82,
      "outputs": [
        {
          "output_type": "display_data",
          "data": {
            "text/html": [
              "<html>\n",
              "<head><meta charset=\"utf-8\" /></head>\n",
              "<body>\n",
              "    <div>            <script src=\"https://cdnjs.cloudflare.com/ajax/libs/mathjax/2.7.5/MathJax.js?config=TeX-AMS-MML_SVG\"></script><script type=\"text/javascript\">if (window.MathJax && window.MathJax.Hub && window.MathJax.Hub.Config) {window.MathJax.Hub.Config({SVG: {font: \"STIX-Web\"}});}</script>                <script type=\"text/javascript\">window.PlotlyConfig = {MathJaxConfig: 'local'};</script>\n",
              "        <script charset=\"utf-8\" src=\"https://cdn.plot.ly/plotly-2.24.1.min.js\"></script>                <div id=\"23ec1b7a-5521-47b7-9233-c75cb57487d6\" class=\"plotly-graph-div\" style=\"height:525px; width:500px;\"></div>            <script type=\"text/javascript\">                                    window.PLOTLYENV=window.PLOTLYENV || {};                                    if (document.getElementById(\"23ec1b7a-5521-47b7-9233-c75cb57487d6\")) {                    Plotly.newPlot(                        \"23ec1b7a-5521-47b7-9233-c75cb57487d6\",                        [{\"alignmentgroup\":\"True\",\"hovertemplate\":\"age_gret_70=%{x}\\u003cbr\\u003ecount=%{y}\\u003cextra\\u003e\\u003c\\u002fextra\\u003e\",\"legendgroup\":\"\",\"marker\":{\"color\":\"#636efa\",\"pattern\":{\"shape\":\"\"}},\"name\":\"\",\"offsetgroup\":\"\",\"orientation\":\"v\",\"showlegend\":false,\"textposition\":\"auto\",\"x\":[0,1],\"xaxis\":\"x\",\"y\":[247,52],\"yaxis\":\"y\",\"type\":\"bar\"}],                        {\"template\":{\"data\":{\"histogram2dcontour\":[{\"type\":\"histogram2dcontour\",\"colorbar\":{\"outlinewidth\":0,\"ticks\":\"\"},\"colorscale\":[[0.0,\"#0d0887\"],[0.1111111111111111,\"#46039f\"],[0.2222222222222222,\"#7201a8\"],[0.3333333333333333,\"#9c179e\"],[0.4444444444444444,\"#bd3786\"],[0.5555555555555556,\"#d8576b\"],[0.6666666666666666,\"#ed7953\"],[0.7777777777777778,\"#fb9f3a\"],[0.8888888888888888,\"#fdca26\"],[1.0,\"#f0f921\"]]}],\"choropleth\":[{\"type\":\"choropleth\",\"colorbar\":{\"outlinewidth\":0,\"ticks\":\"\"}}],\"histogram2d\":[{\"type\":\"histogram2d\",\"colorbar\":{\"outlinewidth\":0,\"ticks\":\"\"},\"colorscale\":[[0.0,\"#0d0887\"],[0.1111111111111111,\"#46039f\"],[0.2222222222222222,\"#7201a8\"],[0.3333333333333333,\"#9c179e\"],[0.4444444444444444,\"#bd3786\"],[0.5555555555555556,\"#d8576b\"],[0.6666666666666666,\"#ed7953\"],[0.7777777777777778,\"#fb9f3a\"],[0.8888888888888888,\"#fdca26\"],[1.0,\"#f0f921\"]]}],\"heatmap\":[{\"type\":\"heatmap\",\"colorbar\":{\"outlinewidth\":0,\"ticks\":\"\"},\"colorscale\":[[0.0,\"#0d0887\"],[0.1111111111111111,\"#46039f\"],[0.2222222222222222,\"#7201a8\"],[0.3333333333333333,\"#9c179e\"],[0.4444444444444444,\"#bd3786\"],[0.5555555555555556,\"#d8576b\"],[0.6666666666666666,\"#ed7953\"],[0.7777777777777778,\"#fb9f3a\"],[0.8888888888888888,\"#fdca26\"],[1.0,\"#f0f921\"]]}],\"heatmapgl\":[{\"type\":\"heatmapgl\",\"colorbar\":{\"outlinewidth\":0,\"ticks\":\"\"},\"colorscale\":[[0.0,\"#0d0887\"],[0.1111111111111111,\"#46039f\"],[0.2222222222222222,\"#7201a8\"],[0.3333333333333333,\"#9c179e\"],[0.4444444444444444,\"#bd3786\"],[0.5555555555555556,\"#d8576b\"],[0.6666666666666666,\"#ed7953\"],[0.7777777777777778,\"#fb9f3a\"],[0.8888888888888888,\"#fdca26\"],[1.0,\"#f0f921\"]]}],\"contourcarpet\":[{\"type\":\"contourcarpet\",\"colorbar\":{\"outlinewidth\":0,\"ticks\":\"\"}}],\"contour\":[{\"type\":\"contour\",\"colorbar\":{\"outlinewidth\":0,\"ticks\":\"\"},\"colorscale\":[[0.0,\"#0d0887\"],[0.1111111111111111,\"#46039f\"],[0.2222222222222222,\"#7201a8\"],[0.3333333333333333,\"#9c179e\"],[0.4444444444444444,\"#bd3786\"],[0.5555555555555556,\"#d8576b\"],[0.6666666666666666,\"#ed7953\"],[0.7777777777777778,\"#fb9f3a\"],[0.8888888888888888,\"#fdca26\"],[1.0,\"#f0f921\"]]}],\"surface\":[{\"type\":\"surface\",\"colorbar\":{\"outlinewidth\":0,\"ticks\":\"\"},\"colorscale\":[[0.0,\"#0d0887\"],[0.1111111111111111,\"#46039f\"],[0.2222222222222222,\"#7201a8\"],[0.3333333333333333,\"#9c179e\"],[0.4444444444444444,\"#bd3786\"],[0.5555555555555556,\"#d8576b\"],[0.6666666666666666,\"#ed7953\"],[0.7777777777777778,\"#fb9f3a\"],[0.8888888888888888,\"#fdca26\"],[1.0,\"#f0f921\"]]}],\"mesh3d\":[{\"type\":\"mesh3d\",\"colorbar\":{\"outlinewidth\":0,\"ticks\":\"\"}}],\"scatter\":[{\"fillpattern\":{\"fillmode\":\"overlay\",\"size\":10,\"solidity\":0.2},\"type\":\"scatter\"}],\"parcoords\":[{\"type\":\"parcoords\",\"line\":{\"colorbar\":{\"outlinewidth\":0,\"ticks\":\"\"}}}],\"scatterpolargl\":[{\"type\":\"scatterpolargl\",\"marker\":{\"colorbar\":{\"outlinewidth\":0,\"ticks\":\"\"}}}],\"bar\":[{\"error_x\":{\"color\":\"#2a3f5f\"},\"error_y\":{\"color\":\"#2a3f5f\"},\"marker\":{\"line\":{\"color\":\"#E5ECF6\",\"width\":0.5},\"pattern\":{\"fillmode\":\"overlay\",\"size\":10,\"solidity\":0.2}},\"type\":\"bar\"}],\"scattergeo\":[{\"type\":\"scattergeo\",\"marker\":{\"colorbar\":{\"outlinewidth\":0,\"ticks\":\"\"}}}],\"scatterpolar\":[{\"type\":\"scatterpolar\",\"marker\":{\"colorbar\":{\"outlinewidth\":0,\"ticks\":\"\"}}}],\"histogram\":[{\"marker\":{\"pattern\":{\"fillmode\":\"overlay\",\"size\":10,\"solidity\":0.2}},\"type\":\"histogram\"}],\"scattergl\":[{\"type\":\"scattergl\",\"marker\":{\"colorbar\":{\"outlinewidth\":0,\"ticks\":\"\"}}}],\"scatter3d\":[{\"type\":\"scatter3d\",\"line\":{\"colorbar\":{\"outlinewidth\":0,\"ticks\":\"\"}},\"marker\":{\"colorbar\":{\"outlinewidth\":0,\"ticks\":\"\"}}}],\"scattermapbox\":[{\"type\":\"scattermapbox\",\"marker\":{\"colorbar\":{\"outlinewidth\":0,\"ticks\":\"\"}}}],\"scatterternary\":[{\"type\":\"scatterternary\",\"marker\":{\"colorbar\":{\"outlinewidth\":0,\"ticks\":\"\"}}}],\"scattercarpet\":[{\"type\":\"scattercarpet\",\"marker\":{\"colorbar\":{\"outlinewidth\":0,\"ticks\":\"\"}}}],\"carpet\":[{\"aaxis\":{\"endlinecolor\":\"#2a3f5f\",\"gridcolor\":\"white\",\"linecolor\":\"white\",\"minorgridcolor\":\"white\",\"startlinecolor\":\"#2a3f5f\"},\"baxis\":{\"endlinecolor\":\"#2a3f5f\",\"gridcolor\":\"white\",\"linecolor\":\"white\",\"minorgridcolor\":\"white\",\"startlinecolor\":\"#2a3f5f\"},\"type\":\"carpet\"}],\"table\":[{\"cells\":{\"fill\":{\"color\":\"#EBF0F8\"},\"line\":{\"color\":\"white\"}},\"header\":{\"fill\":{\"color\":\"#C8D4E3\"},\"line\":{\"color\":\"white\"}},\"type\":\"table\"}],\"barpolar\":[{\"marker\":{\"line\":{\"color\":\"#E5ECF6\",\"width\":0.5},\"pattern\":{\"fillmode\":\"overlay\",\"size\":10,\"solidity\":0.2}},\"type\":\"barpolar\"}],\"pie\":[{\"automargin\":true,\"type\":\"pie\"}]},\"layout\":{\"autotypenumbers\":\"strict\",\"colorway\":[\"#636efa\",\"#EF553B\",\"#00cc96\",\"#ab63fa\",\"#FFA15A\",\"#19d3f3\",\"#FF6692\",\"#B6E880\",\"#FF97FF\",\"#FECB52\"],\"font\":{\"color\":\"#2a3f5f\"},\"hovermode\":\"closest\",\"hoverlabel\":{\"align\":\"left\"},\"paper_bgcolor\":\"white\",\"plot_bgcolor\":\"#E5ECF6\",\"polar\":{\"bgcolor\":\"#E5ECF6\",\"angularaxis\":{\"gridcolor\":\"white\",\"linecolor\":\"white\",\"ticks\":\"\"},\"radialaxis\":{\"gridcolor\":\"white\",\"linecolor\":\"white\",\"ticks\":\"\"}},\"ternary\":{\"bgcolor\":\"#E5ECF6\",\"aaxis\":{\"gridcolor\":\"white\",\"linecolor\":\"white\",\"ticks\":\"\"},\"baxis\":{\"gridcolor\":\"white\",\"linecolor\":\"white\",\"ticks\":\"\"},\"caxis\":{\"gridcolor\":\"white\",\"linecolor\":\"white\",\"ticks\":\"\"}},\"coloraxis\":{\"colorbar\":{\"outlinewidth\":0,\"ticks\":\"\"}},\"colorscale\":{\"sequential\":[[0.0,\"#0d0887\"],[0.1111111111111111,\"#46039f\"],[0.2222222222222222,\"#7201a8\"],[0.3333333333333333,\"#9c179e\"],[0.4444444444444444,\"#bd3786\"],[0.5555555555555556,\"#d8576b\"],[0.6666666666666666,\"#ed7953\"],[0.7777777777777778,\"#fb9f3a\"],[0.8888888888888888,\"#fdca26\"],[1.0,\"#f0f921\"]],\"sequentialminus\":[[0.0,\"#0d0887\"],[0.1111111111111111,\"#46039f\"],[0.2222222222222222,\"#7201a8\"],[0.3333333333333333,\"#9c179e\"],[0.4444444444444444,\"#bd3786\"],[0.5555555555555556,\"#d8576b\"],[0.6666666666666666,\"#ed7953\"],[0.7777777777777778,\"#fb9f3a\"],[0.8888888888888888,\"#fdca26\"],[1.0,\"#f0f921\"]],\"diverging\":[[0,\"#8e0152\"],[0.1,\"#c51b7d\"],[0.2,\"#de77ae\"],[0.3,\"#f1b6da\"],[0.4,\"#fde0ef\"],[0.5,\"#f7f7f7\"],[0.6,\"#e6f5d0\"],[0.7,\"#b8e186\"],[0.8,\"#7fbc41\"],[0.9,\"#4d9221\"],[1,\"#276419\"]]},\"xaxis\":{\"gridcolor\":\"white\",\"linecolor\":\"white\",\"ticks\":\"\",\"title\":{\"standoff\":15},\"zerolinecolor\":\"white\",\"automargin\":true,\"zerolinewidth\":2},\"yaxis\":{\"gridcolor\":\"white\",\"linecolor\":\"white\",\"ticks\":\"\",\"title\":{\"standoff\":15},\"zerolinecolor\":\"white\",\"automargin\":true,\"zerolinewidth\":2},\"scene\":{\"xaxis\":{\"backgroundcolor\":\"#E5ECF6\",\"gridcolor\":\"white\",\"linecolor\":\"white\",\"showbackground\":true,\"ticks\":\"\",\"zerolinecolor\":\"white\",\"gridwidth\":2},\"yaxis\":{\"backgroundcolor\":\"#E5ECF6\",\"gridcolor\":\"white\",\"linecolor\":\"white\",\"showbackground\":true,\"ticks\":\"\",\"zerolinecolor\":\"white\",\"gridwidth\":2},\"zaxis\":{\"backgroundcolor\":\"#E5ECF6\",\"gridcolor\":\"white\",\"linecolor\":\"white\",\"showbackground\":true,\"ticks\":\"\",\"zerolinecolor\":\"white\",\"gridwidth\":2}},\"shapedefaults\":{\"line\":{\"color\":\"#2a3f5f\"}},\"annotationdefaults\":{\"arrowcolor\":\"#2a3f5f\",\"arrowhead\":0,\"arrowwidth\":1},\"geo\":{\"bgcolor\":\"white\",\"landcolor\":\"#E5ECF6\",\"subunitcolor\":\"white\",\"showland\":true,\"showlakes\":true,\"lakecolor\":\"white\"},\"title\":{\"x\":0.05},\"mapbox\":{\"style\":\"light\"}}},\"xaxis\":{\"anchor\":\"y\",\"domain\":[0.0,1.0],\"title\":{\"text\":\"age_gret_70\"}},\"yaxis\":{\"anchor\":\"x\",\"domain\":[0.0,1.0],\"title\":{\"text\":\"count\"}},\"legend\":{\"tracegroupgap\":0},\"title\":{\"text\":\"Count of Patients with age greater than 70\"},\"barmode\":\"relative\",\"width\":500},                        {\"responsive\": true}                    ).then(function(){\n",
              "                            \n",
              "var gd = document.getElementById('23ec1b7a-5521-47b7-9233-c75cb57487d6');\n",
              "var x = new MutationObserver(function (mutations, observer) {{\n",
              "        var display = window.getComputedStyle(gd).display;\n",
              "        if (!display || display === 'none') {{\n",
              "            console.log([gd, 'removed!']);\n",
              "            Plotly.purge(gd);\n",
              "            observer.disconnect();\n",
              "        }}\n",
              "}});\n",
              "\n",
              "// Listen for the removal of the full notebook cells\n",
              "var notebookContainer = gd.closest('#notebook-container');\n",
              "if (notebookContainer) {{\n",
              "    x.observe(notebookContainer, {childList: true});\n",
              "}}\n",
              "\n",
              "// Listen for the clearing of the current output cell\n",
              "var outputEl = gd.closest('.output');\n",
              "if (outputEl) {{\n",
              "    x.observe(outputEl, {childList: true});\n",
              "}}\n",
              "\n",
              "                        })                };                            </script>        </div>\n",
              "</body>\n",
              "</html>"
            ]
          },
          "metadata": {}
        }
      ]
    },
    {
      "cell_type": "code",
      "source": [
        "pd.crosstab(df.age_gret_70 ,df.death_event).plot(kind='bar')\n",
        "plt.title('Death Event for people with Age greater than 70')\n",
        "plt.xlabel('Age')\n",
        "plt.ylabel('Death')\n",
        "plt.show()"
      ],
      "metadata": {
        "id": "jQ4PA9YlwIfG",
        "outputId": "25764f6a-a35a-43f8-be3c-cd887339a6a4",
        "colab": {
          "base_uri": "https://localhost:8080/",
          "height": 467
        }
      },
      "execution_count": 83,
      "outputs": [
        {
          "output_type": "display_data",
          "data": {
            "text/plain": [
              "<Figure size 640x480 with 1 Axes>"
            ],
            "image/png": "[encoded data removed]"
          },
          "metadata": {}
        }
      ]
    },
    {
      "cell_type": "code",
      "source": [
        "print(\"Mortality Rate:\", df[\"death_event\"][df[\"age_gret_70\"] == 1].value_counts(normalize = True)[1]*100)"
      ],
      "metadata": {
        "id": "EM4JH5y-wKie",
        "outputId": "9ddec99d-8fc8-4d68-f793-47b98b3bbb3a",
        "colab": {
          "base_uri": "https://localhost:8080/"
        }
      },
      "execution_count": 84,
      "outputs": [
        {
          "output_type": "stream",
          "name": "stdout",
          "text": [
            "Mortality Rate: 59.61538461538461\n"
          ]
        }
      ]
    },
    {
      "cell_type": "code",
      "source": [
        "#Long Form Graphs\n",
        "fig = px.bar(df, x=\"diabetes\", y=\"age\", color=\"death_event\", title=\"Long-Form Input\")\n",
        "fig.show()"
      ],
      "metadata": {
        "id": "e1swSq8owNPl",
        "outputId": "44cde98e-4950-474b-fde4-74e7e3c9728c",
        "colab": {
          "base_uri": "https://localhost:8080/",
          "height": 542
        }
      },
      "execution_count": 85,
      "outputs": [
        {
          "output_type": "display_data",
          "data": {
            "text/html": [
              "<html>\n",
              "<head><meta charset=\"utf-8\" /></head>\n",
              "<body>\n",
              "    <div>            <script src=\"https://cdnjs.cloudflare.com/ajax/libs/mathjax/2.7.5/MathJax.js?config=TeX-AMS-MML_SVG\"></script><script type=\"text/javascript\">if (window.MathJax && window.MathJax.Hub && window.MathJax.Hub.Config) {window.MathJax.Hub.Config({SVG: {font: \"STIX-Web\"}});}</script>                <script type=\"text/javascript\">window.PlotlyConfig = {MathJaxConfig: 'local'};</script>\n",
              "        <script charset=\"utf-8\" src=\"https://cdn.plot.ly/plotly-2.24.1.min.js\"></script>                <div id=\"4e318676-28d5-4bf9-8da2-54315b129a41\" class=\"plotly-graph-div\" style=\"height:525px; width:100%;\"></div>            <script type=\"text/javascript\">                                    window.PLOTLYENV=window.PLOTLYENV || {};                                    if (document.getElementById(\"4e318676-28d5-4bf9-8da2-54315b129a41\")) {                    Plotly.newPlot(                        \"4e318676-28d5-4bf9-8da2-54315b129a41\",                        [{\"alignmentgroup\":\"True\",\"hovertemplate\":\"diabetes=%{x}\\u003cbr\\u003eage=%{y}\\u003cbr\\u003edeath_event=%{marker.color}\\u003cextra\\u003e\\u003c\\u002fextra\\u003e\",\"legendgroup\":\"\",\"marker\":{\"color\":[1,1,1,1,1,1,1,1,1,1,1,1,1,1,0,1,1,1,1,1,0,1,1,0,1,1,1,1,1,1,1,1,1,0,1,1,1,1,0,1,1,1,1,0,1,1,1,1,1,1,1,1,1,1,1,1,0,0,1,1,1,1,0,1,0,1,1,1,1,1,0,0,1,0,1,1,0,0,0,0,0,0,1,0,1,0,0,0,0,0,0,0,0,1,0,0,0,0,0,0,0,0,0,0,0,1,0,0,0,0,1,0,0,1,0,0,0,0,0,1,0,0,0,0,1,0,1,0,0,0,0,0,0,0,0,0,0,0,0,0,1,0,0,0,1,0,0,0,1,0,1,0,0,0,0,0,0,0,0,0,0,0,0,1,1,1,0,1,0,0,0,0,0,0,0,0,0,0,0,0,0,1,1,1,1,1,1,1,0,0,0,0,0,0,1,1,0,0,0,0,0,0,0,0,0,0,0,0,0,0,0,0,0,1,0,0,0,1,0,0,1,0,0,0,0,0,0,0,0,0,1,0,0,0,0,0,0,0,0,0,0,0,0,0,0,0,1,0,0,0,0,0,0,0,0,0,0,0,0,0,0,0,1,0,0,0,1,0,0,0,0,0,0,0,0,0,0,0,0,0,0,0,0,0,0,0,0,0,0,0,0,0,0,0,0,0,0,0,0],\"coloraxis\":\"coloraxis\",\"pattern\":{\"shape\":\"\"}},\"name\":\"\",\"offsetgroup\":\"\",\"orientation\":\"v\",\"showlegend\":false,\"textposition\":\"auto\",\"x\":[0,0,0,0,1,0,0,1,0,0,0,0,0,0,0,0,0,0,0,1,0,1,0,1,1,1,0,1,0,1,1,0,1,1,1,1,1,1,1,1,0,1,1,1,1,1,0,1,0,0,0,0,1,1,1,0,0,0,0,1,1,0,0,0,0,0,1,0,0,1,0,1,0,1,0,0,0,1,1,0,0,0,1,0,1,0,0,1,1,0,1,1,0,0,1,0,1,0,1,1,0,0,0,0,0,0,0,1,0,1,0,0,1,0,1,0,1,0,1,0,0,1,1,0,0,0,1,1,0,1,0,1,0,0,0,0,1,0,1,0,0,0,1,0,0,0,0,0,0,0,0,1,0,1,0,1,0,0,0,0,0,0,0,1,1,1,0,1,1,0,1,0,0,0,1,0,0,0,1,0,1,1,1,0,0,1,0,1,1,0,1,0,1,1,0,0,1,0,1,1,0,1,0,0,0,1,0,0,1,1,1,0,0,1,0,0,0,0,1,1,0,0,0,0,1,1,0,0,0,0,0,0,0,0,0,0,0,0,1,0,1,1,0,0,1,1,0,0,0,1,0,1,0,1,0,1,0,1,1,0,0,0,1,1,1,0,0,1,1,1,1,1,0,0,1,0,0,1,1,1,1,0,0,0,0,1,0,1,1,0,1,0,1,1,1,0,1,0,0],\"xaxis\":\"x\",\"y\":[75.0,55.0,65.0,50.0,65.0,90.0,75.0,60.0,65.0,80.0,75.0,62.0,45.0,50.0,49.0,82.0,87.0,45.0,70.0,48.0,65.0,65.0,68.0,53.0,75.0,80.0,95.0,70.0,58.0,82.0,94.0,85.0,50.0,50.0,65.0,69.0,90.0,82.0,60.0,60.0,70.0,50.0,70.0,72.0,60.0,50.0,51.0,60.0,80.0,57.0,68.0,53.0,60.0,70.0,60.0,95.0,70.0,60.0,49.0,72.0,45.0,50.0,55.0,45.0,45.0,60.0,42.0,72.0,70.0,65.0,41.0,58.0,85.0,65.0,69.0,60.0,70.0,42.0,75.0,55.0,70.0,67.0,60.0,79.0,59.0,51.0,55.0,65.0,44.0,57.0,70.0,60.0,42.0,60.0,58.0,58.0,63.0,70.0,60.0,63.0,65.0,75.0,80.0,42.0,60.0,72.0,55.0,45.0,63.0,45.0,85.0,55.0,50.0,70.0,60.0,58.0,60.0,85.0,65.0,86.0,60.0,66.0,60.0,60.0,60.0,43.0,46.0,58.0,61.0,53.0,53.0,60.0,46.0,63.0,81.0,75.0,65.0,68.0,62.0,50.0,80.0,46.0,50.0,61.0,72.0,50.0,52.0,64.0,75.0,60.0,72.0,62.0,50.0,50.0,65.0,60.0,52.0,50.0,85.0,59.0,66.0,45.0,63.0,50.0,45.0,80.0,53.0,59.0,65.0,70.0,51.0,52.0,70.0,50.0,65.0,60.0,69.0,49.0,63.0,55.0,40.0,59.0,65.0,75.0,58.0,60.667,50.0,60.0,60.667,40.0,80.0,64.0,50.0,73.0,45.0,77.0,45.0,65.0,50.0,60.0,63.0,45.0,70.0,60.0,78.0,50.0,40.0,85.0,60.0,49.0,70.0,50.0,78.0,48.0,65.0,73.0,70.0,54.0,68.0,55.0,73.0,65.0,42.0,47.0,58.0,75.0,58.0,55.0,65.0,72.0,60.0,70.0,40.0,53.0,53.0,77.0,75.0,70.0,65.0,55.0,70.0,65.0,40.0,73.0,54.0,61.0,55.0,64.0,40.0,53.0,50.0,55.0,50.0,70.0,53.0,52.0,65.0,58.0,45.0,53.0,55.0,62.0,65.0,68.0,61.0,50.0,55.0,56.0,45.0,40.0,44.0,51.0,67.0,42.0,60.0,45.0,70.0,70.0,50.0,55.0,70.0,70.0,42.0,65.0,50.0,55.0,60.0,45.0,65.0,90.0,45.0,60.0,52.0,63.0,62.0,55.0,45.0,45.0,50.0],\"yaxis\":\"y\",\"type\":\"bar\"}],                        {\"template\":{\"data\":{\"histogram2dcontour\":[{\"type\":\"histogram2dcontour\",\"colorbar\":{\"outlinewidth\":0,\"ticks\":\"\"},\"colorscale\":[[0.0,\"#0d0887\"],[0.1111111111111111,\"#46039f\"],[0.2222222222222222,\"#7201a8\"],[0.3333333333333333,\"#9c179e\"],[0.4444444444444444,\"#bd3786\"],[0.5555555555555556,\"#d8576b\"],[0.6666666666666666,\"#ed7953\"],[0.7777777777777778,\"#fb9f3a\"],[0.8888888888888888,\"#fdca26\"],[1.0,\"#f0f921\"]]}],\"choropleth\":[{\"type\":\"choropleth\",\"colorbar\":{\"outlinewidth\":0,\"ticks\":\"\"}}],\"histogram2d\":[{\"type\":\"histogram2d\",\"colorbar\":{\"outlinewidth\":0,\"ticks\":\"\"},\"colorscale\":[[0.0,\"#0d0887\"],[0.1111111111111111,\"#46039f\"],[0.2222222222222222,\"#7201a8\"],[0.3333333333333333,\"#9c179e\"],[0.4444444444444444,\"#bd3786\"],[0.5555555555555556,\"#d8576b\"],[0.6666666666666666,\"#ed7953\"],[0.7777777777777778,\"#fb9f3a\"],[0.8888888888888888,\"#fdca26\"],[1.0,\"#f0f921\"]]}],\"heatmap\":[{\"type\":\"heatmap\",\"colorbar\":{\"outlinewidth\":0,\"ticks\":\"\"},\"colorscale\":[[0.0,\"#0d0887\"],[0.1111111111111111,\"#46039f\"],[0.2222222222222222,\"#7201a8\"],[0.3333333333333333,\"#9c179e\"],[0.4444444444444444,\"#bd3786\"],[0.5555555555555556,\"#d8576b\"],[0.6666666666666666,\"#ed7953\"],[0.7777777777777778,\"#fb9f3a\"],[0.8888888888888888,\"#fdca26\"],[1.0,\"#f0f921\"]]}],\"heatmapgl\":[{\"type\":\"heatmapgl\",\"colorbar\":{\"outlinewidth\":0,\"ticks\":\"\"},\"colorscale\":[[0.0,\"#0d0887\"],[0.1111111111111111,\"#46039f\"],[0.2222222222222222,\"#7201a8\"],[0.3333333333333333,\"#9c179e\"],[0.4444444444444444,\"#bd3786\"],[0.5555555555555556,\"#d8576b\"],[0.6666666666666666,\"#ed7953\"],[0.7777777777777778,\"#fb9f3a\"],[0.8888888888888888,\"#fdca26\"],[1.0,\"#f0f921\"]]}],\"contourcarpet\":[{\"type\":\"contourcarpet\",\"colorbar\":{\"outlinewidth\":0,\"ticks\":\"\"}}],\"contour\":[{\"type\":\"contour\",\"colorbar\":{\"outlinewidth\":0,\"ticks\":\"\"},\"colorscale\":[[0.0,\"#0d0887\"],[0.1111111111111111,\"#46039f\"],[0.2222222222222222,\"#7201a8\"],[0.3333333333333333,\"#9c179e\"],[0.4444444444444444,\"#bd3786\"],[0.5555555555555556,\"#d8576b\"],[0.6666666666666666,\"#ed7953\"],[0.7777777777777778,\"#fb9f3a\"],[0.8888888888888888,\"#fdca26\"],[1.0,\"#f0f921\"]]}],\"surface\":[{\"type\":\"surface\",\"colorbar\":{\"outlinewidth\":0,\"ticks\":\"\"},\"colorscale\":[[0.0,\"#0d0887\"],[0.1111111111111111,\"#46039f\"],[0.2222222222222222,\"#7201a8\"],[0.3333333333333333,\"#9c179e\"],[0.4444444444444444,\"#bd3786\"],[0.5555555555555556,\"#d8576b\"],[0.6666666666666666,\"#ed7953\"],[0.7777777777777778,\"#fb9f3a\"],[0.8888888888888888,\"#fdca26\"],[1.0,\"#f0f921\"]]}],\"mesh3d\":[{\"type\":\"mesh3d\",\"colorbar\":{\"outlinewidth\":0,\"ticks\":\"\"}}],\"scatter\":[{\"fillpattern\":{\"fillmode\":\"overlay\",\"size\":10,\"solidity\":0.2},\"type\":\"scatter\"}],\"parcoords\":[{\"type\":\"parcoords\",\"line\":{\"colorbar\":{\"outlinewidth\":0,\"ticks\":\"\"}}}],\"scatterpolargl\":[{\"type\":\"scatterpolargl\",\"marker\":{\"colorbar\":{\"outlinewidth\":0,\"ticks\":\"\"}}}],\"bar\":[{\"error_x\":{\"color\":\"#2a3f5f\"},\"error_y\":{\"color\":\"#2a3f5f\"},\"marker\":{\"line\":{\"color\":\"#E5ECF6\",\"width\":0.5},\"pattern\":{\"fillmode\":\"overlay\",\"size\":10,\"solidity\":0.2}},\"type\":\"bar\"}],\"scattergeo\":[{\"type\":\"scattergeo\",\"marker\":{\"colorbar\":{\"outlinewidth\":0,\"ticks\":\"\"}}}],\"scatterpolar\":[{\"type\":\"scatterpolar\",\"marker\":{\"colorbar\":{\"outlinewidth\":0,\"ticks\":\"\"}}}],\"histogram\":[{\"marker\":{\"pattern\":{\"fillmode\":\"overlay\",\"size\":10,\"solidity\":0.2}},\"type\":\"histogram\"}],\"scattergl\":[{\"type\":\"scattergl\",\"marker\":{\"colorbar\":{\"outlinewidth\":0,\"ticks\":\"\"}}}],\"scatter3d\":[{\"type\":\"scatter3d\",\"line\":{\"colorbar\":{\"outlinewidth\":0,\"ticks\":\"\"}},\"marker\":{\"colorbar\":{\"outlinewidth\":0,\"ticks\":\"\"}}}],\"scattermapbox\":[{\"type\":\"scattermapbox\",\"marker\":{\"colorbar\":{\"outlinewidth\":0,\"ticks\":\"\"}}}],\"scatterternary\":[{\"type\":\"scatterternary\",\"marker\":{\"colorbar\":{\"outlinewidth\":0,\"ticks\":\"\"}}}],\"scattercarpet\":[{\"type\":\"scattercarpet\",\"marker\":{\"colorbar\":{\"outlinewidth\":0,\"ticks\":\"\"}}}],\"carpet\":[{\"aaxis\":{\"endlinecolor\":\"#2a3f5f\",\"gridcolor\":\"white\",\"linecolor\":\"white\",\"minorgridcolor\":\"white\",\"startlinecolor\":\"#2a3f5f\"},\"baxis\":{\"endlinecolor\":\"#2a3f5f\",\"gridcolor\":\"white\",\"linecolor\":\"white\",\"minorgridcolor\":\"white\",\"startlinecolor\":\"#2a3f5f\"},\"type\":\"carpet\"}],\"table\":[{\"cells\":{\"fill\":{\"color\":\"#EBF0F8\"},\"line\":{\"color\":\"white\"}},\"header\":{\"fill\":{\"color\":\"#C8D4E3\"},\"line\":{\"color\":\"white\"}},\"type\":\"table\"}],\"barpolar\":[{\"marker\":{\"line\":{\"color\":\"#E5ECF6\",\"width\":0.5},\"pattern\":{\"fillmode\":\"overlay\",\"size\":10,\"solidity\":0.2}},\"type\":\"barpolar\"}],\"pie\":[{\"automargin\":true,\"type\":\"pie\"}]},\"layout\":{\"autotypenumbers\":\"strict\",\"colorway\":[\"#636efa\",\"#EF553B\",\"#00cc96\",\"#ab63fa\",\"#FFA15A\",\"#19d3f3\",\"#FF6692\",\"#B6E880\",\"#FF97FF\",\"#FECB52\"],\"font\":{\"color\":\"#2a3f5f\"},\"hovermode\":\"closest\",\"hoverlabel\":{\"align\":\"left\"},\"paper_bgcolor\":\"white\",\"plot_bgcolor\":\"#E5ECF6\",\"polar\":{\"bgcolor\":\"#E5ECF6\",\"angularaxis\":{\"gridcolor\":\"white\",\"linecolor\":\"white\",\"ticks\":\"\"},\"radialaxis\":{\"gridcolor\":\"white\",\"linecolor\":\"white\",\"ticks\":\"\"}},\"ternary\":{\"bgcolor\":\"#E5ECF6\",\"aaxis\":{\"gridcolor\":\"white\",\"linecolor\":\"white\",\"ticks\":\"\"},\"baxis\":{\"gridcolor\":\"white\",\"linecolor\":\"white\",\"ticks\":\"\"},\"caxis\":{\"gridcolor\":\"white\",\"linecolor\":\"white\",\"ticks\":\"\"}},\"coloraxis\":{\"colorbar\":{\"outlinewidth\":0,\"ticks\":\"\"}},\"colorscale\":{\"sequential\":[[0.0,\"#0d0887\"],[0.1111111111111111,\"#46039f\"],[0.2222222222222222,\"#7201a8\"],[0.3333333333333333,\"#9c179e\"],[0.4444444444444444,\"#bd3786\"],[0.5555555555555556,\"#d8576b\"],[0.6666666666666666,\"#ed7953\"],[0.7777777777777778,\"#fb9f3a\"],[0.8888888888888888,\"#fdca26\"],[1.0,\"#f0f921\"]],\"sequentialminus\":[[0.0,\"#0d0887\"],[0.1111111111111111,\"#46039f\"],[0.2222222222222222,\"#7201a8\"],[0.3333333333333333,\"#9c179e\"],[0.4444444444444444,\"#bd3786\"],[0.5555555555555556,\"#d8576b\"],[0.6666666666666666,\"#ed7953\"],[0.7777777777777778,\"#fb9f3a\"],[0.8888888888888888,\"#fdca26\"],[1.0,\"#f0f921\"]],\"diverging\":[[0,\"#8e0152\"],[0.1,\"#c51b7d\"],[0.2,\"#de77ae\"],[0.3,\"#f1b6da\"],[0.4,\"#fde0ef\"],[0.5,\"#f7f7f7\"],[0.6,\"#e6f5d0\"],[0.7,\"#b8e186\"],[0.8,\"#7fbc41\"],[0.9,\"#4d9221\"],[1,\"#276419\"]]},\"xaxis\":{\"gridcolor\":\"white\",\"linecolor\":\"white\",\"ticks\":\"\",\"title\":{\"standoff\":15},\"zerolinecolor\":\"white\",\"automargin\":true,\"zerolinewidth\":2},\"yaxis\":{\"gridcolor\":\"white\",\"linecolor\":\"white\",\"ticks\":\"\",\"title\":{\"standoff\":15},\"zerolinecolor\":\"white\",\"automargin\":true,\"zerolinewidth\":2},\"scene\":{\"xaxis\":{\"backgroundcolor\":\"#E5ECF6\",\"gridcolor\":\"white\",\"linecolor\":\"white\",\"showbackground\":true,\"ticks\":\"\",\"zerolinecolor\":\"white\",\"gridwidth\":2},\"yaxis\":{\"backgroundcolor\":\"#E5ECF6\",\"gridcolor\":\"white\",\"linecolor\":\"white\",\"showbackground\":true,\"ticks\":\"\",\"zerolinecolor\":\"white\",\"gridwidth\":2},\"zaxis\":{\"backgroundcolor\":\"#E5ECF6\",\"gridcolor\":\"white\",\"linecolor\":\"white\",\"showbackground\":true,\"ticks\":\"\",\"zerolinecolor\":\"white\",\"gridwidth\":2}},\"shapedefaults\":{\"line\":{\"color\":\"#2a3f5f\"}},\"annotationdefaults\":{\"arrowcolor\":\"#2a3f5f\",\"arrowhead\":0,\"arrowwidth\":1},\"geo\":{\"bgcolor\":\"white\",\"landcolor\":\"#E5ECF6\",\"subunitcolor\":\"white\",\"showland\":true,\"showlakes\":true,\"lakecolor\":\"white\"},\"title\":{\"x\":0.05},\"mapbox\":{\"style\":\"light\"}}},\"xaxis\":{\"anchor\":\"y\",\"domain\":[0.0,1.0],\"title\":{\"text\":\"diabetes\"}},\"yaxis\":{\"anchor\":\"x\",\"domain\":[0.0,1.0],\"title\":{\"text\":\"age\"}},\"coloraxis\":{\"colorbar\":{\"title\":{\"text\":\"death_event\"}},\"colorscale\":[[0.0,\"#0d0887\"],[0.1111111111111111,\"#46039f\"],[0.2222222222222222,\"#7201a8\"],[0.3333333333333333,\"#9c179e\"],[0.4444444444444444,\"#bd3786\"],[0.5555555555555556,\"#d8576b\"],[0.6666666666666666,\"#ed7953\"],[0.7777777777777778,\"#fb9f3a\"],[0.8888888888888888,\"#fdca26\"],[1.0,\"#f0f921\"]]},\"legend\":{\"tracegroupgap\":0},\"title\":{\"text\":\"Long-Form Input\"},\"barmode\":\"relative\"},                        {\"responsive\": true}                    ).then(function(){\n",
              "                            \n",
              "var gd = document.getElementById('4e318676-28d5-4bf9-8da2-54315b129a41');\n",
              "var x = new MutationObserver(function (mutations, observer) {{\n",
              "        var display = window.getComputedStyle(gd).display;\n",
              "        if (!display || display === 'none') {{\n",
              "            console.log([gd, 'removed!']);\n",
              "            Plotly.purge(gd);\n",
              "            observer.disconnect();\n",
              "        }}\n",
              "}});\n",
              "\n",
              "// Listen for the removal of the full notebook cells\n",
              "var notebookContainer = gd.closest('#notebook-container');\n",
              "if (notebookContainer) {{\n",
              "    x.observe(notebookContainer, {childList: true});\n",
              "}}\n",
              "\n",
              "// Listen for the clearing of the current output cell\n",
              "var outputEl = gd.closest('.output');\n",
              "if (outputEl) {{\n",
              "    x.observe(outputEl, {childList: true});\n",
              "}}\n",
              "\n",
              "                        })                };                            </script>        </div>\n",
              "</body>\n",
              "</html>"
            ]
          },
          "metadata": {}
        }
      ]
    },
    {
      "cell_type": "code",
      "source": [
        "fig = px.bar(df, x=\"sex\", y=\"age\", color=\"death_event\", title=\"Long-Form Input\")\n",
        "fig.show()"
      ],
      "metadata": {
        "id": "nwYg0cl4wRel",
        "outputId": "3cdf5d32-22b2-457e-a468-a168cfb26b27",
        "colab": {
          "base_uri": "https://localhost:8080/",
          "height": 542
        }
      },
      "execution_count": 86,
      "outputs": [
        {
          "output_type": "display_data",
          "data": {
            "text/html": [
              "<html>\n",
              "<head><meta charset=\"utf-8\" /></head>\n",
              "<body>\n",
              "    <div>            <script src=\"https://cdnjs.cloudflare.com/ajax/libs/mathjax/2.7.5/MathJax.js?config=TeX-AMS-MML_SVG\"></script><script type=\"text/javascript\">if (window.MathJax && window.MathJax.Hub && window.MathJax.Hub.Config) {window.MathJax.Hub.Config({SVG: {font: \"STIX-Web\"}});}</script>                <script type=\"text/javascript\">window.PlotlyConfig = {MathJaxConfig: 'local'};</script>\n",
              "        <script charset=\"utf-8\" src=\"https://cdn.plot.ly/plotly-2.24.1.min.js\"></script>                <div id=\"762b53de-af5b-445c-80cd-75e50e72dfd5\" class=\"plotly-graph-div\" style=\"height:525px; width:100%;\"></div>            <script type=\"text/javascript\">                                    window.PLOTLYENV=window.PLOTLYENV || {};                                    if (document.getElementById(\"762b53de-af5b-445c-80cd-75e50e72dfd5\")) {                    Plotly.newPlot(                        \"762b53de-af5b-445c-80cd-75e50e72dfd5\",                        [{\"alignmentgroup\":\"True\",\"hovertemplate\":\"sex=%{x}\\u003cbr\\u003eage=%{y}\\u003cbr\\u003edeath_event=%{marker.color}\\u003cextra\\u003e\\u003c\\u002fextra\\u003e\",\"legendgroup\":\"\",\"marker\":{\"color\":[1,1,1,1,1,1,1,1,1,1,1,1,1,1,0,1,1,1,1,1,0,1,1,0,1,1,1,1,1,1,1,1,1,0,1,1,1,1,0,1,1,1,1,0,1,1,1,1,1,1,1,1,1,1,1,1,0,0,1,1,1,1,0,1,0,1,1,1,1,1,0,0,1,0,1,1,0,0,0,0,0,0,1,0,1,0,0,0,0,0,0,0,0,1,0,0,0,0,0,0,0,0,0,0,0,1,0,0,0,0,1,0,0,1,0,0,0,0,0,1,0,0,0,0,1,0,1,0,0,0,0,0,0,0,0,0,0,0,0,0,1,0,0,0,1,0,0,0,1,0,1,0,0,0,0,0,0,0,0,0,0,0,0,1,1,1,0,1,0,0,0,0,0,0,0,0,0,0,0,0,0,1,1,1,1,1,1,1,0,0,0,0,0,0,1,1,0,0,0,0,0,0,0,0,0,0,0,0,0,0,0,0,0,1,0,0,0,1,0,0,1,0,0,0,0,0,0,0,0,0,1,0,0,0,0,0,0,0,0,0,0,0,0,0,0,0,1,0,0,0,0,0,0,0,0,0,0,0,0,0,0,0,1,0,0,0,1,0,0,0,0,0,0,0,0,0,0,0,0,0,0,0,0,0,0,0,0,0,0,0,0,0,0,0,0,0,0,0,0],\"coloraxis\":\"coloraxis\",\"pattern\":{\"shape\":\"\"}},\"name\":\"\",\"offsetgroup\":\"\",\"orientation\":\"v\",\"showlegend\":false,\"textposition\":\"auto\",\"x\":[1,1,1,1,0,1,1,1,0,1,1,1,1,1,0,1,1,1,0,0,0,0,1,1,0,1,0,1,1,1,1,1,0,0,1,1,1,0,1,0,1,0,1,1,0,1,1,1,1,0,1,0,0,0,0,1,1,1,1,1,1,0,1,1,0,1,0,1,0,1,1,1,1,1,1,1,0,1,1,0,0,1,0,1,0,1,1,1,1,1,1,1,0,1,0,1,1,0,0,0,1,1,1,1,0,0,1,1,1,1,1,1,1,0,1,0,0,0,0,0,1,0,0,0,1,0,0,0,1,1,1,1,0,1,1,1,0,1,0,1,1,0,0,0,1,1,1,1,1,1,0,1,1,1,0,1,0,1,1,1,1,1,1,0,1,0,1,1,0,0,1,1,1,1,1,1,1,0,1,1,1,1,1,1,1,1,0,0,0,0,1,0,1,1,1,1,0,0,0,1,1,1,1,1,1,0,0,1,0,0,1,1,1,0,1,1,0,0,1,0,1,1,1,1,1,0,1,1,0,0,0,1,1,1,1,1,1,1,0,1,0,1,1,0,1,1,1,1,1,0,0,0,1,0,1,1,0,1,1,1,1,0,1,0,1,1,1,1,0,1,1,0,0,1,1,0,0,1,0,0,1,1,1,1,1,1,1,0,0,0,0,1,1,1,1,0,0,1,1],\"xaxis\":\"x\",\"y\":[75.0,55.0,65.0,50.0,65.0,90.0,75.0,60.0,65.0,80.0,75.0,62.0,45.0,50.0,49.0,82.0,87.0,45.0,70.0,48.0,65.0,65.0,68.0,53.0,75.0,80.0,95.0,70.0,58.0,82.0,94.0,85.0,50.0,50.0,65.0,69.0,90.0,82.0,60.0,60.0,70.0,50.0,70.0,72.0,60.0,50.0,51.0,60.0,80.0,57.0,68.0,53.0,60.0,70.0,60.0,95.0,70.0,60.0,49.0,72.0,45.0,50.0,55.0,45.0,45.0,60.0,42.0,72.0,70.0,65.0,41.0,58.0,85.0,65.0,69.0,60.0,70.0,42.0,75.0,55.0,70.0,67.0,60.0,79.0,59.0,51.0,55.0,65.0,44.0,57.0,70.0,60.0,42.0,60.0,58.0,58.0,63.0,70.0,60.0,63.0,65.0,75.0,80.0,42.0,60.0,72.0,55.0,45.0,63.0,45.0,85.0,55.0,50.0,70.0,60.0,58.0,60.0,85.0,65.0,86.0,60.0,66.0,60.0,60.0,60.0,43.0,46.0,58.0,61.0,53.0,53.0,60.0,46.0,63.0,81.0,75.0,65.0,68.0,62.0,50.0,80.0,46.0,50.0,61.0,72.0,50.0,52.0,64.0,75.0,60.0,72.0,62.0,50.0,50.0,65.0,60.0,52.0,50.0,85.0,59.0,66.0,45.0,63.0,50.0,45.0,80.0,53.0,59.0,65.0,70.0,51.0,52.0,70.0,50.0,65.0,60.0,69.0,49.0,63.0,55.0,40.0,59.0,65.0,75.0,58.0,60.667,50.0,60.0,60.667,40.0,80.0,64.0,50.0,73.0,45.0,77.0,45.0,65.0,50.0,60.0,63.0,45.0,70.0,60.0,78.0,50.0,40.0,85.0,60.0,49.0,70.0,50.0,78.0,48.0,65.0,73.0,70.0,54.0,68.0,55.0,73.0,65.0,42.0,47.0,58.0,75.0,58.0,55.0,65.0,72.0,60.0,70.0,40.0,53.0,53.0,77.0,75.0,70.0,65.0,55.0,70.0,65.0,40.0,73.0,54.0,61.0,55.0,64.0,40.0,53.0,50.0,55.0,50.0,70.0,53.0,52.0,65.0,58.0,45.0,53.0,55.0,62.0,65.0,68.0,61.0,50.0,55.0,56.0,45.0,40.0,44.0,51.0,67.0,42.0,60.0,45.0,70.0,70.0,50.0,55.0,70.0,70.0,42.0,65.0,50.0,55.0,60.0,45.0,65.0,90.0,45.0,60.0,52.0,63.0,62.0,55.0,45.0,45.0,50.0],\"yaxis\":\"y\",\"type\":\"bar\"}],                        {\"template\":{\"data\":{\"histogram2dcontour\":[{\"type\":\"histogram2dcontour\",\"colorbar\":{\"outlinewidth\":0,\"ticks\":\"\"},\"colorscale\":[[0.0,\"#0d0887\"],[0.1111111111111111,\"#46039f\"],[0.2222222222222222,\"#7201a8\"],[0.3333333333333333,\"#9c179e\"],[0.4444444444444444,\"#bd3786\"],[0.5555555555555556,\"#d8576b\"],[0.6666666666666666,\"#ed7953\"],[0.7777777777777778,\"#fb9f3a\"],[0.8888888888888888,\"#fdca26\"],[1.0,\"#f0f921\"]]}],\"choropleth\":[{\"type\":\"choropleth\",\"colorbar\":{\"outlinewidth\":0,\"ticks\":\"\"}}],\"histogram2d\":[{\"type\":\"histogram2d\",\"colorbar\":{\"outlinewidth\":0,\"ticks\":\"\"},\"colorscale\":[[0.0,\"#0d0887\"],[0.1111111111111111,\"#46039f\"],[0.2222222222222222,\"#7201a8\"],[0.3333333333333333,\"#9c179e\"],[0.4444444444444444,\"#bd3786\"],[0.5555555555555556,\"#d8576b\"],[0.6666666666666666,\"#ed7953\"],[0.7777777777777778,\"#fb9f3a\"],[0.8888888888888888,\"#fdca26\"],[1.0,\"#f0f921\"]]}],\"heatmap\":[{\"type\":\"heatmap\",\"colorbar\":{\"outlinewidth\":0,\"ticks\":\"\"},\"colorscale\":[[0.0,\"#0d0887\"],[0.1111111111111111,\"#46039f\"],[0.2222222222222222,\"#7201a8\"],[0.3333333333333333,\"#9c179e\"],[0.4444444444444444,\"#bd3786\"],[0.5555555555555556,\"#d8576b\"],[0.6666666666666666,\"#ed7953\"],[0.7777777777777778,\"#fb9f3a\"],[0.8888888888888888,\"#fdca26\"],[1.0,\"#f0f921\"]]}],\"heatmapgl\":[{\"type\":\"heatmapgl\",\"colorbar\":{\"outlinewidth\":0,\"ticks\":\"\"},\"colorscale\":[[0.0,\"#0d0887\"],[0.1111111111111111,\"#46039f\"],[0.2222222222222222,\"#7201a8\"],[0.3333333333333333,\"#9c179e\"],[0.4444444444444444,\"#bd3786\"],[0.5555555555555556,\"#d8576b\"],[0.6666666666666666,\"#ed7953\"],[0.7777777777777778,\"#fb9f3a\"],[0.8888888888888888,\"#fdca26\"],[1.0,\"#f0f921\"]]}],\"contourcarpet\":[{\"type\":\"contourcarpet\",\"colorbar\":{\"outlinewidth\":0,\"ticks\":\"\"}}],\"contour\":[{\"type\":\"contour\",\"colorbar\":{\"outlinewidth\":0,\"ticks\":\"\"},\"colorscale\":[[0.0,\"#0d0887\"],[0.1111111111111111,\"#46039f\"],[0.2222222222222222,\"#7201a8\"],[0.3333333333333333,\"#9c179e\"],[0.4444444444444444,\"#bd3786\"],[0.5555555555555556,\"#d8576b\"],[0.6666666666666666,\"#ed7953\"],[0.7777777777777778,\"#fb9f3a\"],[0.8888888888888888,\"#fdca26\"],[1.0,\"#f0f921\"]]}],\"surface\":[{\"type\":\"surface\",\"colorbar\":{\"outlinewidth\":0,\"ticks\":\"\"},\"colorscale\":[[0.0,\"#0d0887\"],[0.1111111111111111,\"#46039f\"],[0.2222222222222222,\"#7201a8\"],[0.3333333333333333,\"#9c179e\"],[0.4444444444444444,\"#bd3786\"],[0.5555555555555556,\"#d8576b\"],[0.6666666666666666,\"#ed7953\"],[0.7777777777777778,\"#fb9f3a\"],[0.8888888888888888,\"#fdca26\"],[1.0,\"#f0f921\"]]}],\"mesh3d\":[{\"type\":\"mesh3d\",\"colorbar\":{\"outlinewidth\":0,\"ticks\":\"\"}}],\"scatter\":[{\"fillpattern\":{\"fillmode\":\"overlay\",\"size\":10,\"solidity\":0.2},\"type\":\"scatter\"}],\"parcoords\":[{\"type\":\"parcoords\",\"line\":{\"colorbar\":{\"outlinewidth\":0,\"ticks\":\"\"}}}],\"scatterpolargl\":[{\"type\":\"scatterpolargl\",\"marker\":{\"colorbar\":{\"outlinewidth\":0,\"ticks\":\"\"}}}],\"bar\":[{\"error_x\":{\"color\":\"#2a3f5f\"},\"error_y\":{\"color\":\"#2a3f5f\"},\"marker\":{\"line\":{\"color\":\"#E5ECF6\",\"width\":0.5},\"pattern\":{\"fillmode\":\"overlay\",\"size\":10,\"solidity\":0.2}},\"type\":\"bar\"}],\"scattergeo\":[{\"type\":\"scattergeo\",\"marker\":{\"colorbar\":{\"outlinewidth\":0,\"ticks\":\"\"}}}],\"scatterpolar\":[{\"type\":\"scatterpolar\",\"marker\":{\"colorbar\":{\"outlinewidth\":0,\"ticks\":\"\"}}}],\"histogram\":[{\"marker\":{\"pattern\":{\"fillmode\":\"overlay\",\"size\":10,\"solidity\":0.2}},\"type\":\"histogram\"}],\"scattergl\":[{\"type\":\"scattergl\",\"marker\":{\"colorbar\":{\"outlinewidth\":0,\"ticks\":\"\"}}}],\"scatter3d\":[{\"type\":\"scatter3d\",\"line\":{\"colorbar\":{\"outlinewidth\":0,\"ticks\":\"\"}},\"marker\":{\"colorbar\":{\"outlinewidth\":0,\"ticks\":\"\"}}}],\"scattermapbox\":[{\"type\":\"scattermapbox\",\"marker\":{\"colorbar\":{\"outlinewidth\":0,\"ticks\":\"\"}}}],\"scatterternary\":[{\"type\":\"scatterternary\",\"marker\":{\"colorbar\":{\"outlinewidth\":0,\"ticks\":\"\"}}}],\"scattercarpet\":[{\"type\":\"scattercarpet\",\"marker\":{\"colorbar\":{\"outlinewidth\":0,\"ticks\":\"\"}}}],\"carpet\":[{\"aaxis\":{\"endlinecolor\":\"#2a3f5f\",\"gridcolor\":\"white\",\"linecolor\":\"white\",\"minorgridcolor\":\"white\",\"startlinecolor\":\"#2a3f5f\"},\"baxis\":{\"endlinecolor\":\"#2a3f5f\",\"gridcolor\":\"white\",\"linecolor\":\"white\",\"minorgridcolor\":\"white\",\"startlinecolor\":\"#2a3f5f\"},\"type\":\"carpet\"}],\"table\":[{\"cells\":{\"fill\":{\"color\":\"#EBF0F8\"},\"line\":{\"color\":\"white\"}},\"header\":{\"fill\":{\"color\":\"#C8D4E3\"},\"line\":{\"color\":\"white\"}},\"type\":\"table\"}],\"barpolar\":[{\"marker\":{\"line\":{\"color\":\"#E5ECF6\",\"width\":0.5},\"pattern\":{\"fillmode\":\"overlay\",\"size\":10,\"solidity\":0.2}},\"type\":\"barpolar\"}],\"pie\":[{\"automargin\":true,\"type\":\"pie\"}]},\"layout\":{\"autotypenumbers\":\"strict\",\"colorway\":[\"#636efa\",\"#EF553B\",\"#00cc96\",\"#ab63fa\",\"#FFA15A\",\"#19d3f3\",\"#FF6692\",\"#B6E880\",\"#FF97FF\",\"#FECB52\"],\"font\":{\"color\":\"#2a3f5f\"},\"hovermode\":\"closest\",\"hoverlabel\":{\"align\":\"left\"},\"paper_bgcolor\":\"white\",\"plot_bgcolor\":\"#E5ECF6\",\"polar\":{\"bgcolor\":\"#E5ECF6\",\"angularaxis\":{\"gridcolor\":\"white\",\"linecolor\":\"white\",\"ticks\":\"\"},\"radialaxis\":{\"gridcolor\":\"white\",\"linecolor\":\"white\",\"ticks\":\"\"}},\"ternary\":{\"bgcolor\":\"#E5ECF6\",\"aaxis\":{\"gridcolor\":\"white\",\"linecolor\":\"white\",\"ticks\":\"\"},\"baxis\":{\"gridcolor\":\"white\",\"linecolor\":\"white\",\"ticks\":\"\"},\"caxis\":{\"gridcolor\":\"white\",\"linecolor\":\"white\",\"ticks\":\"\"}},\"coloraxis\":{\"colorbar\":{\"outlinewidth\":0,\"ticks\":\"\"}},\"colorscale\":{\"sequential\":[[0.0,\"#0d0887\"],[0.1111111111111111,\"#46039f\"],[0.2222222222222222,\"#7201a8\"],[0.3333333333333333,\"#9c179e\"],[0.4444444444444444,\"#bd3786\"],[0.5555555555555556,\"#d8576b\"],[0.6666666666666666,\"#ed7953\"],[0.7777777777777778,\"#fb9f3a\"],[0.8888888888888888,\"#fdca26\"],[1.0,\"#f0f921\"]],\"sequentialminus\":[[0.0,\"#0d0887\"],[0.1111111111111111,\"#46039f\"],[0.2222222222222222,\"#7201a8\"],[0.3333333333333333,\"#9c179e\"],[0.4444444444444444,\"#bd3786\"],[0.5555555555555556,\"#d8576b\"],[0.6666666666666666,\"#ed7953\"],[0.7777777777777778,\"#fb9f3a\"],[0.8888888888888888,\"#fdca26\"],[1.0,\"#f0f921\"]],\"diverging\":[[0,\"#8e0152\"],[0.1,\"#c51b7d\"],[0.2,\"#de77ae\"],[0.3,\"#f1b6da\"],[0.4,\"#fde0ef\"],[0.5,\"#f7f7f7\"],[0.6,\"#e6f5d0\"],[0.7,\"#b8e186\"],[0.8,\"#7fbc41\"],[0.9,\"#4d9221\"],[1,\"#276419\"]]},\"xaxis\":{\"gridcolor\":\"white\",\"linecolor\":\"white\",\"ticks\":\"\",\"title\":{\"standoff\":15},\"zerolinecolor\":\"white\",\"automargin\":true,\"zerolinewidth\":2},\"yaxis\":{\"gridcolor\":\"white\",\"linecolor\":\"white\",\"ticks\":\"\",\"title\":{\"standoff\":15},\"zerolinecolor\":\"white\",\"automargin\":true,\"zerolinewidth\":2},\"scene\":{\"xaxis\":{\"backgroundcolor\":\"#E5ECF6\",\"gridcolor\":\"white\",\"linecolor\":\"white\",\"showbackground\":true,\"ticks\":\"\",\"zerolinecolor\":\"white\",\"gridwidth\":2},\"yaxis\":{\"backgroundcolor\":\"#E5ECF6\",\"gridcolor\":\"white\",\"linecolor\":\"white\",\"showbackground\":true,\"ticks\":\"\",\"zerolinecolor\":\"white\",\"gridwidth\":2},\"zaxis\":{\"backgroundcolor\":\"#E5ECF6\",\"gridcolor\":\"white\",\"linecolor\":\"white\",\"showbackground\":true,\"ticks\":\"\",\"zerolinecolor\":\"white\",\"gridwidth\":2}},\"shapedefaults\":{\"line\":{\"color\":\"#2a3f5f\"}},\"annotationdefaults\":{\"arrowcolor\":\"#2a3f5f\",\"arrowhead\":0,\"arrowwidth\":1},\"geo\":{\"bgcolor\":\"white\",\"landcolor\":\"#E5ECF6\",\"subunitcolor\":\"white\",\"showland\":true,\"showlakes\":true,\"lakecolor\":\"white\"},\"title\":{\"x\":0.05},\"mapbox\":{\"style\":\"light\"}}},\"xaxis\":{\"anchor\":\"y\",\"domain\":[0.0,1.0],\"title\":{\"text\":\"sex\"}},\"yaxis\":{\"anchor\":\"x\",\"domain\":[0.0,1.0],\"title\":{\"text\":\"age\"}},\"coloraxis\":{\"colorbar\":{\"title\":{\"text\":\"death_event\"}},\"colorscale\":[[0.0,\"#0d0887\"],[0.1111111111111111,\"#46039f\"],[0.2222222222222222,\"#7201a8\"],[0.3333333333333333,\"#9c179e\"],[0.4444444444444444,\"#bd3786\"],[0.5555555555555556,\"#d8576b\"],[0.6666666666666666,\"#ed7953\"],[0.7777777777777778,\"#fb9f3a\"],[0.8888888888888888,\"#fdca26\"],[1.0,\"#f0f921\"]]},\"legend\":{\"tracegroupgap\":0},\"title\":{\"text\":\"Long-Form Input\"},\"barmode\":\"relative\"},                        {\"responsive\": true}                    ).then(function(){\n",
              "                            \n",
              "var gd = document.getElementById('762b53de-af5b-445c-80cd-75e50e72dfd5');\n",
              "var x = new MutationObserver(function (mutations, observer) {{\n",
              "        var display = window.getComputedStyle(gd).display;\n",
              "        if (!display || display === 'none') {{\n",
              "            console.log([gd, 'removed!']);\n",
              "            Plotly.purge(gd);\n",
              "            observer.disconnect();\n",
              "        }}\n",
              "}});\n",
              "\n",
              "// Listen for the removal of the full notebook cells\n",
              "var notebookContainer = gd.closest('#notebook-container');\n",
              "if (notebookContainer) {{\n",
              "    x.observe(notebookContainer, {childList: true});\n",
              "}}\n",
              "\n",
              "// Listen for the clearing of the current output cell\n",
              "var outputEl = gd.closest('.output');\n",
              "if (outputEl) {{\n",
              "    x.observe(outputEl, {childList: true});\n",
              "}}\n",
              "\n",
              "                        })                };                            </script>        </div>\n",
              "</body>\n",
              "</html>"
            ]
          },
          "metadata": {}
        }
      ]
    },
    {
      "cell_type": "code",
      "source": [
        "fig = px.bar(df, x=\"smoking\", y=\"age\", color=\"death_event\", title=\"Long-Form Input\")\n",
        "fig.show()"
      ],
      "metadata": {
        "id": "vjTe0q_FwTOL",
        "outputId": "7fcb7876-5a03-4225-fe09-a9596688fbc7",
        "colab": {
          "base_uri": "https://localhost:8080/",
          "height": 542
        }
      },
      "execution_count": 87,
      "outputs": [
        {
          "output_type": "display_data",
          "data": {
            "text/html": [
              "<html>\n",
              "<head><meta charset=\"utf-8\" /></head>\n",
              "<body>\n",
              "    <div>            <script src=\"https://cdnjs.cloudflare.com/ajax/libs/mathjax/2.7.5/MathJax.js?config=TeX-AMS-MML_SVG\"></script><script type=\"text/javascript\">if (window.MathJax && window.MathJax.Hub && window.MathJax.Hub.Config) {window.MathJax.Hub.Config({SVG: {font: \"STIX-Web\"}});}</script>                <script type=\"text/javascript\">window.PlotlyConfig = {MathJaxConfig: 'local'};</script>\n",
              "        <script charset=\"utf-8\" src=\"https://cdn.plot.ly/plotly-2.24.1.min.js\"></script>                <div id=\"b4df7a60-eec8-409a-a14b-20ae7fa01a09\" class=\"plotly-graph-div\" style=\"height:525px; width:100%;\"></div>            <script type=\"text/javascript\">                                    window.PLOTLYENV=window.PLOTLYENV || {};                                    if (document.getElementById(\"b4df7a60-eec8-409a-a14b-20ae7fa01a09\")) {                    Plotly.newPlot(                        \"b4df7a60-eec8-409a-a14b-20ae7fa01a09\",                        [{\"alignmentgroup\":\"True\",\"hovertemplate\":\"smoking=%{x}\\u003cbr\\u003eage=%{y}\\u003cbr\\u003edeath_event=%{marker.color}\\u003cextra\\u003e\\u003c\\u002fextra\\u003e\",\"legendgroup\":\"\",\"marker\":{\"color\":[1,1,1,1,1,1,1,1,1,1,1,1,1,1,0,1,1,1,1,1,0,1,1,0,1,1,1,1,1,1,1,1,1,0,1,1,1,1,0,1,1,1,1,0,1,1,1,1,1,1,1,1,1,1,1,1,0,0,1,1,1,1,0,1,0,1,1,1,1,1,0,0,1,0,1,1,0,0,0,0,0,0,1,0,1,0,0,0,0,0,0,0,0,1,0,0,0,0,0,0,0,0,0,0,0,1,0,0,0,0,1,0,0,1,0,0,0,0,0,1,0,0,0,0,1,0,1,0,0,0,0,0,0,0,0,0,0,0,0,0,1,0,0,0,1,0,0,0,1,0,1,0,0,0,0,0,0,0,0,0,0,0,0,1,1,1,0,1,0,0,0,0,0,0,0,0,0,0,0,0,0,1,1,1,1,1,1,1,0,0,0,0,0,0,1,1,0,0,0,0,0,0,0,0,0,0,0,0,0,0,0,0,0,1,0,0,0,1,0,0,1,0,0,0,0,0,0,0,0,0,1,0,0,0,0,0,0,0,0,0,0,0,0,0,0,0,1,0,0,0,0,0,0,0,0,0,0,0,0,0,0,0,1,0,0,0,1,0,0,0,0,0,0,0,0,0,0,0,0,0,0,0,0,0,0,0,0,0,0,0,0,0,0,0,0,0,0,0,0],\"coloraxis\":\"coloraxis\",\"pattern\":{\"shape\":\"\"}},\"name\":\"\",\"offsetgroup\":\"\",\"orientation\":\"v\",\"showlegend\":false,\"textposition\":\"auto\",\"x\":[0,0,1,0,0,1,0,1,0,1,1,1,0,0,0,0,0,0,0,0,0,0,1,0,0,1,0,1,0,1,0,0,0,0,0,0,0,0,0,0,1,1,1,0,0,1,0,1,0,0,0,0,0,0,1,0,1,1,1,1,0,0,1,0,0,1,0,1,0,0,1,1,1,1,1,1,1,0,1,0,0,1,0,0,0,0,0,0,0,0,1,0,0,0,0,0,0,0,0,0,0,0,1,1,0,1,0,0,1,1,1,1,0,0,0,0,0,0,0,0,1,0,0,0,0,0,0,0,1,0,1,0,0,1,1,0,0,0,0,0,0,0,0,0,1,1,1,0,0,0,0,0,1,1,0,0,0,1,0,1,0,1,1,0,0,0,1,0,0,0,1,1,1,0,1,1,1,0,0,1,0,1,1,0,1,0,0,0,0,0,0,0,0,1,0,0,0,0,0,1,0,0,0,1,1,0,0,0,0,0,1,1,1,0,0,0,0,0,0,0,0,1,1,0,0,0,1,0,0,0,0,1,0,1,1,0,0,0,0,1,0,1,1,0,0,0,0,0,1,0,0,0,0,0,0,1,0,0,0,1,0,0,0,0,0,1,1,0,0,0,1,0,0,0,1,0,0,0,0,0,0,1,1,1,0,0,0,0,0,0,0,0,1,1,1,0,0,1,1],\"xaxis\":\"x\",\"y\":[75.0,55.0,65.0,50.0,65.0,90.0,75.0,60.0,65.0,80.0,75.0,62.0,45.0,50.0,49.0,82.0,87.0,45.0,70.0,48.0,65.0,65.0,68.0,53.0,75.0,80.0,95.0,70.0,58.0,82.0,94.0,85.0,50.0,50.0,65.0,69.0,90.0,82.0,60.0,60.0,70.0,50.0,70.0,72.0,60.0,50.0,51.0,60.0,80.0,57.0,68.0,53.0,60.0,70.0,60.0,95.0,70.0,60.0,49.0,72.0,45.0,50.0,55.0,45.0,45.0,60.0,42.0,72.0,70.0,65.0,41.0,58.0,85.0,65.0,69.0,60.0,70.0,42.0,75.0,55.0,70.0,67.0,60.0,79.0,59.0,51.0,55.0,65.0,44.0,57.0,70.0,60.0,42.0,60.0,58.0,58.0,63.0,70.0,60.0,63.0,65.0,75.0,80.0,42.0,60.0,72.0,55.0,45.0,63.0,45.0,85.0,55.0,50.0,70.0,60.0,58.0,60.0,85.0,65.0,86.0,60.0,66.0,60.0,60.0,60.0,43.0,46.0,58.0,61.0,53.0,53.0,60.0,46.0,63.0,81.0,75.0,65.0,68.0,62.0,50.0,80.0,46.0,50.0,61.0,72.0,50.0,52.0,64.0,75.0,60.0,72.0,62.0,50.0,50.0,65.0,60.0,52.0,50.0,85.0,59.0,66.0,45.0,63.0,50.0,45.0,80.0,53.0,59.0,65.0,70.0,51.0,52.0,70.0,50.0,65.0,60.0,69.0,49.0,63.0,55.0,40.0,59.0,65.0,75.0,58.0,60.667,50.0,60.0,60.667,40.0,80.0,64.0,50.0,73.0,45.0,77.0,45.0,65.0,50.0,60.0,63.0,45.0,70.0,60.0,78.0,50.0,40.0,85.0,60.0,49.0,70.0,50.0,78.0,48.0,65.0,73.0,70.0,54.0,68.0,55.0,73.0,65.0,42.0,47.0,58.0,75.0,58.0,55.0,65.0,72.0,60.0,70.0,40.0,53.0,53.0,77.0,75.0,70.0,65.0,55.0,70.0,65.0,40.0,73.0,54.0,61.0,55.0,64.0,40.0,53.0,50.0,55.0,50.0,70.0,53.0,52.0,65.0,58.0,45.0,53.0,55.0,62.0,65.0,68.0,61.0,50.0,55.0,56.0,45.0,40.0,44.0,51.0,67.0,42.0,60.0,45.0,70.0,70.0,50.0,55.0,70.0,70.0,42.0,65.0,50.0,55.0,60.0,45.0,65.0,90.0,45.0,60.0,52.0,63.0,62.0,55.0,45.0,45.0,50.0],\"yaxis\":\"y\",\"type\":\"bar\"}],                        {\"template\":{\"data\":{\"histogram2dcontour\":[{\"type\":\"histogram2dcontour\",\"colorbar\":{\"outlinewidth\":0,\"ticks\":\"\"},\"colorscale\":[[0.0,\"#0d0887\"],[0.1111111111111111,\"#46039f\"],[0.2222222222222222,\"#7201a8\"],[0.3333333333333333,\"#9c179e\"],[0.4444444444444444,\"#bd3786\"],[0.5555555555555556,\"#d8576b\"],[0.6666666666666666,\"#ed7953\"],[0.7777777777777778,\"#fb9f3a\"],[0.8888888888888888,\"#fdca26\"],[1.0,\"#f0f921\"]]}],\"choropleth\":[{\"type\":\"choropleth\",\"colorbar\":{\"outlinewidth\":0,\"ticks\":\"\"}}],\"histogram2d\":[{\"type\":\"histogram2d\",\"colorbar\":{\"outlinewidth\":0,\"ticks\":\"\"},\"colorscale\":[[0.0,\"#0d0887\"],[0.1111111111111111,\"#46039f\"],[0.2222222222222222,\"#7201a8\"],[0.3333333333333333,\"#9c179e\"],[0.4444444444444444,\"#bd3786\"],[0.5555555555555556,\"#d8576b\"],[0.6666666666666666,\"#ed7953\"],[0.7777777777777778,\"#fb9f3a\"],[0.8888888888888888,\"#fdca26\"],[1.0,\"#f0f921\"]]}],\"heatmap\":[{\"type\":\"heatmap\",\"colorbar\":{\"outlinewidth\":0,\"ticks\":\"\"},\"colorscale\":[[0.0,\"#0d0887\"],[0.1111111111111111,\"#46039f\"],[0.2222222222222222,\"#7201a8\"],[0.3333333333333333,\"#9c179e\"],[0.4444444444444444,\"#bd3786\"],[0.5555555555555556,\"#d8576b\"],[0.6666666666666666,\"#ed7953\"],[0.7777777777777778,\"#fb9f3a\"],[0.8888888888888888,\"#fdca26\"],[1.0,\"#f0f921\"]]}],\"heatmapgl\":[{\"type\":\"heatmapgl\",\"colorbar\":{\"outlinewidth\":0,\"ticks\":\"\"},\"colorscale\":[[0.0,\"#0d0887\"],[0.1111111111111111,\"#46039f\"],[0.2222222222222222,\"#7201a8\"],[0.3333333333333333,\"#9c179e\"],[0.4444444444444444,\"#bd3786\"],[0.5555555555555556,\"#d8576b\"],[0.6666666666666666,\"#ed7953\"],[0.7777777777777778,\"#fb9f3a\"],[0.8888888888888888,\"#fdca26\"],[1.0,\"#f0f921\"]]}],\"contourcarpet\":[{\"type\":\"contourcarpet\",\"colorbar\":{\"outlinewidth\":0,\"ticks\":\"\"}}],\"contour\":[{\"type\":\"contour\",\"colorbar\":{\"outlinewidth\":0,\"ticks\":\"\"},\"colorscale\":[[0.0,\"#0d0887\"],[0.1111111111111111,\"#46039f\"],[0.2222222222222222,\"#7201a8\"],[0.3333333333333333,\"#9c179e\"],[0.4444444444444444,\"#bd3786\"],[0.5555555555555556,\"#d8576b\"],[0.6666666666666666,\"#ed7953\"],[0.7777777777777778,\"#fb9f3a\"],[0.8888888888888888,\"#fdca26\"],[1.0,\"#f0f921\"]]}],\"surface\":[{\"type\":\"surface\",\"colorbar\":{\"outlinewidth\":0,\"ticks\":\"\"},\"colorscale\":[[0.0,\"#0d0887\"],[0.1111111111111111,\"#46039f\"],[0.2222222222222222,\"#7201a8\"],[0.3333333333333333,\"#9c179e\"],[0.4444444444444444,\"#bd3786\"],[0.5555555555555556,\"#d8576b\"],[0.6666666666666666,\"#ed7953\"],[0.7777777777777778,\"#fb9f3a\"],[0.8888888888888888,\"#fdca26\"],[1.0,\"#f0f921\"]]}],\"mesh3d\":[{\"type\":\"mesh3d\",\"colorbar\":{\"outlinewidth\":0,\"ticks\":\"\"}}],\"scatter\":[{\"fillpattern\":{\"fillmode\":\"overlay\",\"size\":10,\"solidity\":0.2},\"type\":\"scatter\"}],\"parcoords\":[{\"type\":\"parcoords\",\"line\":{\"colorbar\":{\"outlinewidth\":0,\"ticks\":\"\"}}}],\"scatterpolargl\":[{\"type\":\"scatterpolargl\",\"marker\":{\"colorbar\":{\"outlinewidth\":0,\"ticks\":\"\"}}}],\"bar\":[{\"error_x\":{\"color\":\"#2a3f5f\"},\"error_y\":{\"color\":\"#2a3f5f\"},\"marker\":{\"line\":{\"color\":\"#E5ECF6\",\"width\":0.5},\"pattern\":{\"fillmode\":\"overlay\",\"size\":10,\"solidity\":0.2}},\"type\":\"bar\"}],\"scattergeo\":[{\"type\":\"scattergeo\",\"marker\":{\"colorbar\":{\"outlinewidth\":0,\"ticks\":\"\"}}}],\"scatterpolar\":[{\"type\":\"scatterpolar\",\"marker\":{\"colorbar\":{\"outlinewidth\":0,\"ticks\":\"\"}}}],\"histogram\":[{\"marker\":{\"pattern\":{\"fillmode\":\"overlay\",\"size\":10,\"solidity\":0.2}},\"type\":\"histogram\"}],\"scattergl\":[{\"type\":\"scattergl\",\"marker\":{\"colorbar\":{\"outlinewidth\":0,\"ticks\":\"\"}}}],\"scatter3d\":[{\"type\":\"scatter3d\",\"line\":{\"colorbar\":{\"outlinewidth\":0,\"ticks\":\"\"}},\"marker\":{\"colorbar\":{\"outlinewidth\":0,\"ticks\":\"\"}}}],\"scattermapbox\":[{\"type\":\"scattermapbox\",\"marker\":{\"colorbar\":{\"outlinewidth\":0,\"ticks\":\"\"}}}],\"scatterternary\":[{\"type\":\"scatterternary\",\"marker\":{\"colorbar\":{\"outlinewidth\":0,\"ticks\":\"\"}}}],\"scattercarpet\":[{\"type\":\"scattercarpet\",\"marker\":{\"colorbar\":{\"outlinewidth\":0,\"ticks\":\"\"}}}],\"carpet\":[{\"aaxis\":{\"endlinecolor\":\"#2a3f5f\",\"gridcolor\":\"white\",\"linecolor\":\"white\",\"minorgridcolor\":\"white\",\"startlinecolor\":\"#2a3f5f\"},\"baxis\":{\"endlinecolor\":\"#2a3f5f\",\"gridcolor\":\"white\",\"linecolor\":\"white\",\"minorgridcolor\":\"white\",\"startlinecolor\":\"#2a3f5f\"},\"type\":\"carpet\"}],\"table\":[{\"cells\":{\"fill\":{\"color\":\"#EBF0F8\"},\"line\":{\"color\":\"white\"}},\"header\":{\"fill\":{\"color\":\"#C8D4E3\"},\"line\":{\"color\":\"white\"}},\"type\":\"table\"}],\"barpolar\":[{\"marker\":{\"line\":{\"color\":\"#E5ECF6\",\"width\":0.5},\"pattern\":{\"fillmode\":\"overlay\",\"size\":10,\"solidity\":0.2}},\"type\":\"barpolar\"}],\"pie\":[{\"automargin\":true,\"type\":\"pie\"}]},\"layout\":{\"autotypenumbers\":\"strict\",\"colorway\":[\"#636efa\",\"#EF553B\",\"#00cc96\",\"#ab63fa\",\"#FFA15A\",\"#19d3f3\",\"#FF6692\",\"#B6E880\",\"#FF97FF\",\"#FECB52\"],\"font\":{\"color\":\"#2a3f5f\"},\"hovermode\":\"closest\",\"hoverlabel\":{\"align\":\"left\"},\"paper_bgcolor\":\"white\",\"plot_bgcolor\":\"#E5ECF6\",\"polar\":{\"bgcolor\":\"#E5ECF6\",\"angularaxis\":{\"gridcolor\":\"white\",\"linecolor\":\"white\",\"ticks\":\"\"},\"radialaxis\":{\"gridcolor\":\"white\",\"linecolor\":\"white\",\"ticks\":\"\"}},\"ternary\":{\"bgcolor\":\"#E5ECF6\",\"aaxis\":{\"gridcolor\":\"white\",\"linecolor\":\"white\",\"ticks\":\"\"},\"baxis\":{\"gridcolor\":\"white\",\"linecolor\":\"white\",\"ticks\":\"\"},\"caxis\":{\"gridcolor\":\"white\",\"linecolor\":\"white\",\"ticks\":\"\"}},\"coloraxis\":{\"colorbar\":{\"outlinewidth\":0,\"ticks\":\"\"}},\"colorscale\":{\"sequential\":[[0.0,\"#0d0887\"],[0.1111111111111111,\"#46039f\"],[0.2222222222222222,\"#7201a8\"],[0.3333333333333333,\"#9c179e\"],[0.4444444444444444,\"#bd3786\"],[0.5555555555555556,\"#d8576b\"],[0.6666666666666666,\"#ed7953\"],[0.7777777777777778,\"#fb9f3a\"],[0.8888888888888888,\"#fdca26\"],[1.0,\"#f0f921\"]],\"sequentialminus\":[[0.0,\"#0d0887\"],[0.1111111111111111,\"#46039f\"],[0.2222222222222222,\"#7201a8\"],[0.3333333333333333,\"#9c179e\"],[0.4444444444444444,\"#bd3786\"],[0.5555555555555556,\"#d8576b\"],[0.6666666666666666,\"#ed7953\"],[0.7777777777777778,\"#fb9f3a\"],[0.8888888888888888,\"#fdca26\"],[1.0,\"#f0f921\"]],\"diverging\":[[0,\"#8e0152\"],[0.1,\"#c51b7d\"],[0.2,\"#de77ae\"],[0.3,\"#f1b6da\"],[0.4,\"#fde0ef\"],[0.5,\"#f7f7f7\"],[0.6,\"#e6f5d0\"],[0.7,\"#b8e186\"],[0.8,\"#7fbc41\"],[0.9,\"#4d9221\"],[1,\"#276419\"]]},\"xaxis\":{\"gridcolor\":\"white\",\"linecolor\":\"white\",\"ticks\":\"\",\"title\":{\"standoff\":15},\"zerolinecolor\":\"white\",\"automargin\":true,\"zerolinewidth\":2},\"yaxis\":{\"gridcolor\":\"white\",\"linecolor\":\"white\",\"ticks\":\"\",\"title\":{\"standoff\":15},\"zerolinecolor\":\"white\",\"automargin\":true,\"zerolinewidth\":2},\"scene\":{\"xaxis\":{\"backgroundcolor\":\"#E5ECF6\",\"gridcolor\":\"white\",\"linecolor\":\"white\",\"showbackground\":true,\"ticks\":\"\",\"zerolinecolor\":\"white\",\"gridwidth\":2},\"yaxis\":{\"backgroundcolor\":\"#E5ECF6\",\"gridcolor\":\"white\",\"linecolor\":\"white\",\"showbackground\":true,\"ticks\":\"\",\"zerolinecolor\":\"white\",\"gridwidth\":2},\"zaxis\":{\"backgroundcolor\":\"#E5ECF6\",\"gridcolor\":\"white\",\"linecolor\":\"white\",\"showbackground\":true,\"ticks\":\"\",\"zerolinecolor\":\"white\",\"gridwidth\":2}},\"shapedefaults\":{\"line\":{\"color\":\"#2a3f5f\"}},\"annotationdefaults\":{\"arrowcolor\":\"#2a3f5f\",\"arrowhead\":0,\"arrowwidth\":1},\"geo\":{\"bgcolor\":\"white\",\"landcolor\":\"#E5ECF6\",\"subunitcolor\":\"white\",\"showland\":true,\"showlakes\":true,\"lakecolor\":\"white\"},\"title\":{\"x\":0.05},\"mapbox\":{\"style\":\"light\"}}},\"xaxis\":{\"anchor\":\"y\",\"domain\":[0.0,1.0],\"title\":{\"text\":\"smoking\"}},\"yaxis\":{\"anchor\":\"x\",\"domain\":[0.0,1.0],\"title\":{\"text\":\"age\"}},\"coloraxis\":{\"colorbar\":{\"title\":{\"text\":\"death_event\"}},\"colorscale\":[[0.0,\"#0d0887\"],[0.1111111111111111,\"#46039f\"],[0.2222222222222222,\"#7201a8\"],[0.3333333333333333,\"#9c179e\"],[0.4444444444444444,\"#bd3786\"],[0.5555555555555556,\"#d8576b\"],[0.6666666666666666,\"#ed7953\"],[0.7777777777777778,\"#fb9f3a\"],[0.8888888888888888,\"#fdca26\"],[1.0,\"#f0f921\"]]},\"legend\":{\"tracegroupgap\":0},\"title\":{\"text\":\"Long-Form Input\"},\"barmode\":\"relative\"},                        {\"responsive\": true}                    ).then(function(){\n",
              "                            \n",
              "var gd = document.getElementById('b4df7a60-eec8-409a-a14b-20ae7fa01a09');\n",
              "var x = new MutationObserver(function (mutations, observer) {{\n",
              "        var display = window.getComputedStyle(gd).display;\n",
              "        if (!display || display === 'none') {{\n",
              "            console.log([gd, 'removed!']);\n",
              "            Plotly.purge(gd);\n",
              "            observer.disconnect();\n",
              "        }}\n",
              "}});\n",
              "\n",
              "// Listen for the removal of the full notebook cells\n",
              "var notebookContainer = gd.closest('#notebook-container');\n",
              "if (notebookContainer) {{\n",
              "    x.observe(notebookContainer, {childList: true});\n",
              "}}\n",
              "\n",
              "// Listen for the clearing of the current output cell\n",
              "var outputEl = gd.closest('.output');\n",
              "if (outputEl) {{\n",
              "    x.observe(outputEl, {childList: true});\n",
              "}}\n",
              "\n",
              "                        })                };                            </script>        </div>\n",
              "</body>\n",
              "</html>"
            ]
          },
          "metadata": {}
        }
      ]
    },
    {
      "cell_type": "code",
      "source": [
        "#Box Plots\n",
        "import plotly.express as px\n",
        "fig = px.violin(df, y=\"age\", x=\"sex\", color=\"death_event\", box=True, points=\"all\", hover_data=df.columns)\n",
        "fig.update_layout(title_text=\"Analysis of Age and Sex on Death Event\")\n",
        "fig.show()"
      ],
      "metadata": {
        "id": "sT2gotgawXo0",
        "outputId": "e060afa4-1c19-46e7-bcbf-c549cb3edfa1",
        "colab": {
          "base_uri": "https://localhost:8080/",
          "height": 542
        }
      },
      "execution_count": 88,
      "outputs": [
        {
          "output_type": "display_data",
          "data": {
            "text/html": [
              "<html>\n",
              "<head><meta charset=\"utf-8\" /></head>\n",
              "<body>\n",
              "    <div>            <script src=\"https://cdnjs.cloudflare.com/ajax/libs/mathjax/2.7.5/MathJax.js?config=TeX-AMS-MML_SVG\"></script><script type=\"text/javascript\">if (window.MathJax && window.MathJax.Hub && window.MathJax.Hub.Config) {window.MathJax.Hub.Config({SVG: {font: \"STIX-Web\"}});}</script>                <script type=\"text/javascript\">window.PlotlyConfig = {MathJaxConfig: 'local'};</script>\n",
              "        <script charset=\"utf-8\" src=\"https://cdn.plot.ly/plotly-2.24.1.min.js\"></script>                <div id=\"74d27a08-9240-40c2-8759-90425b1de285\" class=\"plotly-graph-div\" style=\"height:525px; width:100%;\"></div>            <script type=\"text/javascript\">                                    window.PLOTLYENV=window.PLOTLYENV || {};                                    if (document.getElementById(\"74d27a08-9240-40c2-8759-90425b1de285\")) {                    Plotly.newPlot(                        \"74d27a08-9240-40c2-8759-90425b1de285\",                        [{\"alignmentgroup\":\"True\",\"box\":{\"visible\":true},\"customdata\":[[0.0,582.0,0.0,20.0,1.0,265000.0,1.9,130.0,0.0,4.0,1.0,0.0,0.0,0.0,1.0],[0.0,7861.0,0.0,38.0,0.0,263358.03,1.1,136.0,0.0,6.0,1.0,0.0,0.0,1.0,0.0],[0.0,146.0,0.0,20.0,0.0,162000.0,1.3,129.0,1.0,7.0,1.0,0.0,0.0,1.0,0.0],[1.0,111.0,0.0,20.0,0.0,210000.0,1.9,137.0,0.0,7.0,1.0,0.0,1.0,0.0,0.0],[1.0,160.0,1.0,20.0,0.0,327000.0,2.7,116.0,0.0,8.0,1.0,0.0,0.0,1.0,0.0],[1.0,47.0,0.0,40.0,1.0,204000.0,2.1,132.0,1.0,8.0,1.0,0.0,0.0,0.0,1.0],[1.0,246.0,0.0,15.0,0.0,127000.0,1.2,137.0,0.0,10.0,1.0,0.0,0.0,0.0,1.0],[1.0,315.0,1.0,60.0,0.0,454000.0,1.1,131.0,1.0,10.0,1.0,0.0,0.0,1.0,0.0],[0.0,157.0,0.0,65.0,0.0,263358.03,1.5,138.0,0.0,10.0,1.0,0.0,0.0,1.0,0.0],[1.0,123.0,0.0,35.0,1.0,388000.0,9.4,133.0,1.0,10.0,1.0,0.0,0.0,0.0,1.0],[1.0,81.0,0.0,38.0,1.0,368000.0,4.0,131.0,1.0,10.0,1.0,0.0,0.0,0.0,1.0],[0.0,231.0,0.0,25.0,1.0,253000.0,0.9,140.0,1.0,10.0,1.0,0.0,0.0,1.0,0.0],[1.0,981.0,0.0,30.0,0.0,136000.0,1.1,137.0,0.0,11.0,1.0,0.0,1.0,0.0,0.0],[1.0,168.0,0.0,38.0,1.0,276000.0,1.1,137.0,0.0,11.0,1.0,0.0,1.0,0.0,0.0],[1.0,379.0,0.0,50.0,0.0,47000.0,1.3,136.0,0.0,13.0,1.0,0.0,0.0,0.0,1.0],[1.0,149.0,0.0,38.0,0.0,262000.0,0.9,140.0,0.0,14.0,1.0,0.0,0.0,0.0,1.0],[0.0,582.0,0.0,14.0,0.0,166000.0,0.8,127.0,0.0,14.0,1.0,0.0,1.0,0.0,0.0],[1.0,125.0,0.0,25.0,1.0,237000.0,1.0,140.0,0.0,15.0,1.0,0.0,0.0,1.0,0.0],[1.0,582.0,1.0,55.0,0.0,87000.0,1.9,121.0,0.0,15.0,1.0,0.0,1.0,0.0,0.0],[1.0,128.0,1.0,30.0,1.0,297000.0,1.6,136.0,0.0,20.0,1.0,0.0,0.0,1.0,0.0],[1.0,220.0,0.0,35.0,1.0,289000.0,0.9,140.0,1.0,20.0,1.0,0.0,0.0,1.0,0.0],[0.0,582.0,1.0,30.0,1.0,263358.03,1.83,134.0,0.0,23.0,1.0,0.0,0.0,0.0,1.0],[0.0,148.0,1.0,38.0,0.0,149000.0,1.9,144.0,1.0,23.0,1.0,0.0,0.0,0.0,1.0],[1.0,112.0,0.0,40.0,1.0,196000.0,1.0,138.0,0.0,24.0,1.0,0.0,0.0,0.0,1.0],[0.0,122.0,1.0,45.0,1.0,284000.0,1.3,136.0,1.0,26.0,1.0,0.0,0.0,1.0,0.0],[1.0,60.0,0.0,38.0,0.0,153000.0,5.8,134.0,0.0,26.0,1.0,0.0,0.0,1.0,0.0],[0.0,70.0,1.0,30.0,0.0,200000.0,1.2,132.0,1.0,26.0,1.0,0.0,0.0,0.0,1.0],[0.0,582.0,1.0,38.0,1.0,263358.03,1.83,134.0,0.0,27.0,1.0,0.0,0.0,0.0,1.0],[0.0,23.0,0.0,45.0,0.0,360000.0,3.0,132.0,0.0,28.0,1.0,0.0,0.0,0.0,1.0],[1.0,249.0,1.0,35.0,1.0,319000.0,1.0,128.0,0.0,28.0,1.0,0.0,1.0,0.0,0.0],[0.0,94.0,1.0,50.0,1.0,188000.0,1.0,140.0,0.0,29.0,1.0,0.0,0.0,1.0,0.0],[0.0,582.0,1.0,35.0,0.0,228000.0,3.5,134.0,0.0,30.0,1.0,0.0,0.0,1.0,0.0],[1.0,60.0,1.0,50.0,0.0,226000.0,1.0,134.0,0.0,30.0,1.0,0.0,0.0,0.0,1.0],[1.0,855.0,1.0,50.0,1.0,321000.0,1.0,145.0,0.0,30.0,1.0,0.0,0.0,0.0,1.0],[0.0,235.0,1.0,38.0,0.0,329000.0,3.0,142.0,0.0,30.0,1.0,0.0,0.0,1.0,0.0],[0.0,582.0,0.0,20.0,1.0,263358.03,1.83,134.0,1.0,31.0,1.0,0.0,0.0,1.0,0.0],[0.0,124.0,1.0,30.0,1.0,153000.0,1.2,136.0,1.0,32.0,1.0,0.0,1.0,0.0,0.0],[0.0,571.0,1.0,45.0,1.0,185000.0,1.2,139.0,1.0,33.0,1.0,0.0,0.0,1.0,0.0],[1.0,588.0,1.0,60.0,0.0,194000.0,1.1,142.0,0.0,33.0,1.0,0.0,0.0,1.0,0.0],[0.0,582.0,1.0,38.0,0.0,310000.0,1.9,135.0,1.0,35.0,1.0,0.0,1.0,0.0,0.0],[0.0,1380.0,0.0,25.0,1.0,271000.0,0.9,130.0,0.0,38.0,1.0,0.0,0.0,1.0,0.0],[0.0,582.0,1.0,38.0,1.0,451000.0,0.6,138.0,1.0,40.0,1.0,0.0,0.0,1.0,0.0],[1.0,553.0,0.0,20.0,1.0,140000.0,4.4,133.0,0.0,41.0,1.0,0.0,0.0,0.0,1.0],[1.0,129.0,0.0,30.0,0.0,395000.0,1.0,140.0,0.0,42.0,1.0,0.0,0.0,1.0,0.0],[1.0,577.0,0.0,25.0,1.0,166000.0,1.0,138.0,0.0,43.0,1.0,0.0,0.0,1.0,0.0],[1.0,91.0,0.0,20.0,1.0,418000.0,1.4,139.0,0.0,43.0,1.0,0.0,0.0,1.0,0.0],[0.0,3964.0,1.0,62.0,0.0,263358.03,6.8,146.0,0.0,43.0,1.0,0.0,0.0,1.0,0.0],[1.0,69.0,1.0,50.0,1.0,351000.0,1.0,134.0,0.0,44.0,1.0,0.0,0.0,1.0,0.0],[1.0,260.0,1.0,38.0,0.0,255000.0,2.2,132.0,1.0,45.0,1.0,0.0,0.0,1.0,0.0],[1.0,371.0,0.0,30.0,0.0,461000.0,2.0,132.0,0.0,50.0,1.0,0.0,0.0,0.0,1.0],[0.0,789.0,0.0,20.0,1.0,319000.0,1.1,136.0,1.0,55.0,1.0,0.0,1.0,0.0,0.0],[0.0,364.0,1.0,20.0,1.0,254000.0,1.3,136.0,1.0,59.0,1.0,0.0,0.0,0.0,1.0],[0.0,7702.0,1.0,25.0,1.0,390000.0,1.0,139.0,0.0,60.0,1.0,0.0,1.0,0.0,0.0],[0.0,318.0,0.0,40.0,1.0,216000.0,2.3,131.0,0.0,60.0,1.0,0.0,1.0,0.0,0.0],[0.0,582.0,0.0,35.0,0.0,385000.0,1.0,145.0,0.0,61.0,1.0,0.0,1.0,0.0,0.0],[0.0,68.0,0.0,20.0,0.0,119000.0,2.9,127.0,1.0,64.0,1.0,0.0,0.0,1.0,0.0],[1.0,250.0,1.0,15.0,0.0,213000.0,1.3,136.0,0.0,65.0,1.0,0.0,1.0,0.0,0.0],[1.0,110.0,0.0,25.0,0.0,274000.0,1.0,140.0,1.0,65.0,1.0,0.0,0.0,0.0,1.0],[0.0,161.0,0.0,25.0,0.0,244000.0,1.2,142.0,0.0,66.0,1.0,0.0,0.0,1.0,0.0],[0.0,113.0,1.0,25.0,0.0,497000.0,1.83,135.0,0.0,67.0,1.0,0.0,0.0,1.0,0.0],[0.0,5882.0,0.0,35.0,0.0,243000.0,1.0,132.0,1.0,72.0,1.0,0.0,0.0,0.0,1.0],[0.0,582.0,0.0,20.0,0.0,266000.0,1.2,134.0,1.0,73.0,1.0,0.0,0.0,1.0,0.0],[1.0,47.0,0.0,20.0,0.0,204000.0,0.7,139.0,1.0,73.0,1.0,0.0,0.0,1.0,0.0],[1.0,76.0,1.0,25.0,0.0,196000.0,2.5,132.0,0.0,77.0,1.0,0.0,0.0,1.0,0.0],[1.0,280.0,1.0,25.0,1.0,302000.0,1.0,141.0,0.0,78.0,1.0,0.0,0.0,1.0,0.0],[1.0,154.0,0.0,25.0,0.0,210000.0,1.7,135.0,0.0,82.0,1.0,0.0,0.0,1.0,0.0],[1.0,328.0,0.0,30.0,1.0,621000.0,1.7,138.0,1.0,88.0,1.0,0.0,0.0,0.0,1.0],[0.0,129.0,0.0,60.0,0.0,306000.0,1.2,132.0,1.0,90.0,1.0,0.0,0.0,0.0,1.0],[1.0,143.0,0.0,60.0,0.0,351000.0,1.3,137.0,0.0,90.0,1.0,0.0,0.0,1.0,0.0],[0.0,582.0,0.0,38.0,0.0,263358.03,1.83,134.0,0.0,95.0,1.0,0.0,0.0,0.0,1.0],[0.0,582.0,0.0,40.0,0.0,217000.0,3.7,134.0,0.0,96.0,1.0,0.0,0.0,1.0,0.0],[0.0,168.0,1.0,17.0,1.0,271000.0,2.1,124.0,0.0,100.0,1.0,0.0,1.0,0.0,0.0],[0.0,805.0,0.0,38.0,0.0,263358.03,1.1,134.0,0.0,109.0,1.0,0.0,0.0,0.0,1.0],[1.0,943.0,0.0,25.0,1.0,338000.0,1.7,139.0,1.0,111.0,1.0,0.0,0.0,0.0,1.0],[1.0,582.0,0.0,30.0,0.0,225000.0,1.83,134.0,0.0,113.0,1.0,0.0,0.0,0.0,1.0],[0.0,233.0,0.0,45.0,1.0,235000.0,2.5,135.0,0.0,115.0,1.0,0.0,0.0,0.0,1.0],[1.0,2334.0,1.0,35.0,0.0,75000.0,0.9,142.0,0.0,126.0,1.0,0.0,1.0,0.0,0.0],[0.0,2442.0,1.0,30.0,0.0,334000.0,1.1,139.0,0.0,129.0,1.0,0.0,1.0,0.0,0.0],[0.0,776.0,1.0,38.0,1.0,192000.0,1.3,135.0,0.0,130.0,1.0,0.0,0.0,0.0,1.0],[0.0,66.0,1.0,20.0,0.0,70000.0,2.4,134.0,0.0,135.0,1.0,0.0,0.0,1.0,0.0],[1.0,176.0,1.0,25.0,0.0,221000.0,1.0,136.0,1.0,150.0,1.0,0.0,0.0,1.0,0.0],[0.0,395.0,1.0,25.0,0.0,265000.0,1.2,136.0,1.0,154.0,1.0,0.0,0.0,1.0,0.0],[0.0,99.0,0.0,38.0,1.0,224000.0,2.5,134.0,0.0,162.0,1.0,0.0,0.0,0.0,1.0],[1.0,145.0,0.0,25.0,0.0,219000.0,1.2,137.0,1.0,170.0,1.0,0.0,0.0,1.0,0.0],[1.0,104.0,1.0,30.0,0.0,389000.0,1.5,136.0,0.0,171.0,1.0,0.0,0.0,1.0,0.0],[0.0,582.0,0.0,50.0,0.0,153000.0,0.6,134.0,0.0,172.0,1.0,0.0,1.0,0.0,0.0],[0.0,1896.0,1.0,25.0,0.0,365000.0,2.1,144.0,0.0,172.0,1.0,0.0,0.0,1.0,0.0],[0.0,582.0,0.0,20.0,1.0,126000.0,1.6,135.0,0.0,180.0,1.0,0.0,1.0,0.0,0.0],[1.0,418.0,0.0,45.0,0.0,223000.0,1.8,145.0,0.0,180.0,1.0,0.0,0.0,0.0,1.0],[1.0,131.0,1.0,30.0,1.0,244000.0,1.6,130.0,0.0,193.0,1.0,0.0,1.0,0.0,0.0],[1.0,427.0,0.0,70.0,1.0,151000.0,9.0,137.0,0.0,196.0,1.0,0.0,0.0,1.0,0.0],[0.0,582.0,0.0,20.0,0.0,263358.03,1.83,134.0,0.0,198.0,1.0,0.0,0.0,0.0,1.0],[0.0,166.0,0.0,30.0,0.0,62000.0,1.7,127.0,0.0,207.0,1.0,0.0,0.0,1.0,0.0],[0.0,2017.0,0.0,25.0,0.0,314000.0,1.1,138.0,0.0,214.0,1.0,0.0,0.0,1.0,0.0],[1.0,258.0,1.0,25.0,0.0,198000.0,1.4,129.0,0.0,235.0,1.0,0.0,0.0,1.0,0.0],[0.0,1199.0,0.0,20.0,0.0,263358.03,1.83,134.0,1.0,241.0,1.0,0.0,0.0,1.0,0.0]],\"hovertemplate\":\"death_event=%{customdata[10]}\\u003cbr\\u003esex=%{x}\\u003cbr\\u003eage=%{y}\\u003cbr\\u003eanaemia=%{customdata[0]}\\u003cbr\\u003ecpk=%{customdata[1]}\\u003cbr\\u003ediabetes=%{customdata[2]}\\u003cbr\\u003eejection_fraction=%{customdata[3]}\\u003cbr\\u003ehigh_blood_pressure=%{customdata[4]}\\u003cbr\\u003eplatelets=%{customdata[5]}\\u003cbr\\u003eserum_creatinine=%{customdata[6]}\\u003cbr\\u003eserum_sodium=%{customdata[7]}\\u003cbr\\u003esmoking=%{customdata[8]}\\u003cbr\\u003etime=%{customdata[9]}\\u003cbr\\u003eage_till_30=%{customdata[11]}\\u003cbr\\u003eage_bet_30_50=%{customdata[12]}\\u003cbr\\u003eage_bet_50_70=%{customdata[13]}\\u003cbr\\u003eage_gret_70=%{customdata[14]}\\u003cextra\\u003e\\u003c\\u002fextra\\u003e\",\"legendgroup\":\"1\",\"marker\":{\"color\":\"#636efa\"},\"name\":\"1\",\"offsetgroup\":\"1\",\"orientation\":\"v\",\"points\":\"all\",\"scalegroup\":\"True\",\"showlegend\":true,\"x\":[1,1,1,1,0,1,1,1,0,1,1,1,1,1,1,1,1,0,0,0,1,0,1,0,1,1,1,1,1,0,1,1,1,0,0,1,0,1,0,1,1,1,1,0,1,0,0,0,0,1,1,1,1,0,1,1,0,1,0,1,1,1,1,0,0,1,0,1,0,0,1,0,1,1,1,0,0,1,0,1,1,1,1,1,1,0,0,1,1,0,0,1,0,1,1,1],\"x0\":\" \",\"xaxis\":\"x\",\"y\":[75.0,55.0,65.0,50.0,65.0,90.0,75.0,60.0,65.0,80.0,75.0,62.0,45.0,50.0,82.0,87.0,45.0,70.0,48.0,65.0,68.0,75.0,80.0,95.0,70.0,58.0,82.0,94.0,85.0,50.0,65.0,69.0,90.0,82.0,60.0,70.0,50.0,70.0,60.0,50.0,51.0,60.0,80.0,57.0,68.0,53.0,60.0,70.0,60.0,95.0,49.0,72.0,45.0,50.0,45.0,60.0,42.0,72.0,70.0,65.0,85.0,69.0,60.0,60.0,59.0,60.0,72.0,85.0,70.0,86.0,60.0,46.0,80.0,72.0,75.0,72.0,50.0,45.0,80.0,59.0,59.0,65.0,75.0,58.0,60.667,50.0,60.0,45.0,77.0,48.0,54.0,73.0,60.0,55.0,65.0,55.0],\"y0\":\" \",\"yaxis\":\"y\",\"type\":\"violin\"},{\"alignmentgroup\":\"True\",\"box\":{\"visible\":true},\"customdata\":[[1.0,80.0,0.0,30.0,1.0,427000.0,1.0,138.0,0.0,12.0,0.0,0.0,1.0,0.0,0.0],[1.0,52.0,0.0,25.0,1.0,276000.0,1.3,137.0,0.0,16.0,0.0,0.0,0.0,1.0,0.0],[0.0,63.0,1.0,60.0,0.0,368000.0,0.8,135.0,0.0,22.0,0.0,0.0,0.0,1.0,0.0],[1.0,159.0,1.0,30.0,0.0,302000.0,1.2,138.0,0.0,29.0,0.0,0.0,1.0,0.0,0.0],[0.0,2656.0,1.0,30.0,0.0,305000.0,2.3,137.0,0.0,30.0,0.0,0.0,0.0,1.0,0.0],[0.0,127.0,1.0,50.0,1.0,218000.0,1.0,134.0,0.0,33.0,0.0,0.0,0.0,0.0,1.0],[1.0,75.0,0.0,35.0,0.0,223000.0,2.7,138.0,1.0,54.0,0.0,0.0,0.0,1.0,0.0],[1.0,607.0,0.0,40.0,0.0,216000.0,0.6,138.0,1.0,54.0,0.0,0.0,0.0,1.0,0.0],[0.0,109.0,0.0,35.0,0.0,254000.0,1.1,139.0,1.0,60.0,0.0,0.0,0.0,1.0,0.0],[0.0,582.0,0.0,80.0,0.0,263358.03,1.18,137.0,0.0,63.0,0.0,0.0,1.0,0.0,0.0],[0.0,148.0,0.0,40.0,0.0,374000.0,0.8,140.0,1.0,68.0,0.0,0.0,1.0,0.0,0.0],[0.0,582.0,1.0,35.0,0.0,122000.0,0.9,139.0,1.0,71.0,0.0,0.0,0.0,1.0,0.0],[0.0,224.0,1.0,50.0,0.0,149000.0,1.3,137.0,1.0,72.0,0.0,0.0,0.0,1.0,0.0],[0.0,92.0,0.0,60.0,1.0,317000.0,0.8,140.0,1.0,74.0,0.0,0.0,0.0,1.0,0.0],[0.0,102.0,1.0,40.0,0.0,237000.0,1.2,140.0,0.0,74.0,0.0,0.0,1.0,0.0,0.0],[1.0,203.0,1.0,38.0,1.0,283000.0,0.6,131.0,1.0,74.0,0.0,0.0,0.0,0.0,1.0],[0.0,336.0,0.0,45.0,1.0,324000.0,0.9,140.0,0.0,74.0,0.0,0.0,0.0,1.0,0.0],[0.0,69.0,0.0,40.0,0.0,293000.0,1.7,136.0,0.0,75.0,0.0,0.0,0.0,1.0,0.0],[0.0,582.0,0.0,50.0,0.0,263358.03,1.18,137.0,1.0,76.0,0.0,0.0,0.0,1.0,0.0],[1.0,55.0,0.0,50.0,1.0,172000.0,1.8,133.0,0.0,78.0,0.0,0.0,0.0,0.0,1.0],[0.0,78.0,0.0,50.0,0.0,406000.0,0.7,140.0,0.0,79.0,0.0,0.0,0.0,1.0,0.0],[0.0,47.0,0.0,35.0,1.0,173000.0,1.1,137.0,0.0,79.0,0.0,0.0,0.0,1.0,0.0],[1.0,68.0,1.0,60.0,1.0,304000.0,0.8,140.0,0.0,79.0,0.0,0.0,0.0,1.0,0.0],[0.0,84.0,1.0,40.0,1.0,235000.0,0.7,139.0,0.0,79.0,0.0,0.0,1.0,0.0,0.0],[1.0,115.0,0.0,25.0,1.0,181000.0,1.1,144.0,0.0,79.0,0.0,0.0,0.0,1.0,0.0],[0.0,66.0,1.0,45.0,0.0,249000.0,0.8,136.0,1.0,80.0,0.0,0.0,0.0,1.0,0.0],[0.0,897.0,1.0,45.0,0.0,297000.0,1.0,133.0,0.0,80.0,0.0,0.0,0.0,1.0,0.0],[0.0,582.0,0.0,60.0,0.0,263358.03,1.18,137.0,0.0,82.0,0.0,0.0,1.0,0.0,0.0],[0.0,144.0,1.0,38.0,1.0,327000.0,0.7,142.0,0.0,83.0,0.0,0.0,0.0,1.0,0.0],[1.0,133.0,0.0,60.0,1.0,219000.0,1.0,141.0,0.0,83.0,0.0,0.0,0.0,1.0,0.0],[1.0,514.0,1.0,25.0,1.0,254000.0,1.3,134.0,0.0,83.0,0.0,0.0,0.0,1.0,0.0],[1.0,59.0,0.0,60.0,0.0,255000.0,1.1,136.0,0.0,85.0,0.0,0.0,0.0,1.0,0.0],[1.0,156.0,1.0,25.0,1.0,318000.0,1.2,137.0,0.0,85.0,0.0,0.0,0.0,1.0,0.0],[1.0,61.0,1.0,40.0,0.0,221000.0,1.1,140.0,0.0,86.0,0.0,0.0,0.0,1.0,0.0],[1.0,305.0,0.0,25.0,0.0,298000.0,1.1,141.0,0.0,87.0,0.0,0.0,0.0,1.0,0.0],[0.0,582.0,0.0,45.0,1.0,263358.03,1.18,137.0,0.0,87.0,0.0,0.0,0.0,0.0,1.0],[0.0,898.0,0.0,25.0,0.0,149000.0,1.1,144.0,1.0,87.0,0.0,0.0,0.0,0.0,1.0],[0.0,5209.0,0.0,30.0,0.0,226000.0,1.0,140.0,1.0,87.0,0.0,0.0,1.0,0.0,0.0],[0.0,53.0,0.0,50.0,1.0,286000.0,2.3,143.0,0.0,87.0,0.0,0.0,0.0,1.0,0.0],[0.0,748.0,0.0,45.0,0.0,263000.0,1.3,137.0,0.0,88.0,0.0,0.0,0.0,1.0,0.0],[1.0,1876.0,1.0,35.0,0.0,226000.0,0.9,138.0,0.0,88.0,0.0,0.0,1.0,0.0,0.0],[0.0,936.0,0.0,38.0,0.0,304000.0,1.1,133.0,1.0,88.0,0.0,0.0,0.0,1.0,0.0],[0.0,292.0,1.0,35.0,0.0,850000.0,1.3,142.0,1.0,88.0,0.0,0.0,1.0,0.0,0.0],[0.0,60.0,0.0,35.0,0.0,228000.0,1.2,135.0,1.0,90.0,0.0,0.0,0.0,1.0,0.0],[0.0,369.0,1.0,25.0,0.0,252000.0,1.6,136.0,0.0,90.0,0.0,0.0,1.0,0.0,0.0],[1.0,754.0,1.0,40.0,1.0,328000.0,1.2,126.0,0.0,91.0,0.0,0.0,0.0,1.0,0.0],[1.0,400.0,0.0,40.0,0.0,164000.0,1.0,139.0,0.0,91.0,0.0,0.0,0.0,1.0,0.0],[1.0,96.0,1.0,60.0,1.0,271000.0,0.7,136.0,0.0,94.0,0.0,0.0,0.0,1.0,0.0],[1.0,102.0,0.0,60.0,0.0,507000.0,3.2,138.0,0.0,94.0,0.0,0.0,0.0,0.0,1.0],[1.0,113.0,1.0,60.0,1.0,203000.0,0.9,140.0,0.0,94.0,0.0,0.0,0.0,1.0,0.0],[1.0,737.0,0.0,60.0,1.0,210000.0,1.5,135.0,1.0,95.0,0.0,0.0,0.0,1.0,0.0],[1.0,68.0,1.0,38.0,1.0,162000.0,1.0,136.0,0.0,95.0,0.0,0.0,0.0,1.0,0.0],[0.0,96.0,1.0,38.0,0.0,228000.0,0.75,140.0,0.0,95.0,0.0,0.0,0.0,1.0,0.0],[1.0,582.0,0.0,30.0,1.0,127000.0,0.9,145.0,0.0,95.0,0.0,0.0,0.0,1.0,0.0],[1.0,358.0,0.0,50.0,0.0,237000.0,1.3,135.0,0.0,97.0,0.0,0.0,1.0,0.0,0.0],[1.0,200.0,1.0,60.0,0.0,300000.0,0.8,137.0,0.0,104.0,0.0,0.0,0.0,1.0,0.0],[0.0,248.0,0.0,30.0,1.0,267000.0,0.7,136.0,1.0,104.0,0.0,0.0,0.0,1.0,0.0],[1.0,270.0,1.0,35.0,0.0,227000.0,3.4,145.0,0.0,105.0,0.0,0.0,0.0,1.0,0.0],[1.0,1808.0,0.0,60.0,1.0,249000.0,0.7,138.0,1.0,106.0,0.0,0.0,0.0,1.0,0.0],[1.0,1082.0,1.0,45.0,0.0,250000.0,6.1,131.0,0.0,107.0,0.0,0.0,0.0,1.0,0.0],[0.0,719.0,0.0,40.0,1.0,263358.03,1.18,137.0,0.0,107.0,0.0,0.0,1.0,0.0,0.0],[0.0,193.0,0.0,60.0,1.0,295000.0,1.3,145.0,1.0,107.0,0.0,0.0,0.0,1.0,0.0],[0.0,4540.0,0.0,35.0,0.0,231000.0,1.18,137.0,1.0,107.0,0.0,0.0,0.0,0.0,1.0],[0.0,582.0,0.0,40.0,0.0,263358.03,1.18,137.0,0.0,107.0,0.0,0.0,0.0,0.0,1.0],[1.0,59.0,1.0,60.0,0.0,172000.0,0.9,137.0,0.0,107.0,0.0,0.0,0.0,1.0,0.0],[1.0,646.0,0.0,25.0,0.0,305000.0,2.1,130.0,0.0,108.0,0.0,0.0,0.0,1.0,0.0],[0.0,281.0,1.0,35.0,0.0,221000.0,1.0,136.0,0.0,108.0,0.0,0.0,0.0,1.0,0.0],[0.0,1548.0,0.0,30.0,1.0,211000.0,0.8,138.0,0.0,108.0,0.0,0.0,1.0,0.0,0.0],[1.0,291.0,0.0,35.0,0.0,348000.0,0.9,140.0,0.0,109.0,0.0,0.0,1.0,0.0,0.0],[0.0,482.0,1.0,30.0,0.0,329000.0,0.9,132.0,0.0,109.0,0.0,0.0,1.0,0.0,0.0],[1.0,84.0,0.0,40.0,1.0,229000.0,0.9,141.0,0.0,110.0,0.0,0.0,0.0,1.0,0.0],[0.0,185.0,0.0,30.0,0.0,266000.0,0.7,141.0,1.0,112.0,0.0,0.0,1.0,0.0,0.0],[0.0,132.0,0.0,30.0,0.0,218000.0,0.7,136.0,1.0,112.0,0.0,0.0,0.0,1.0,0.0],[0.0,1610.0,0.0,60.0,0.0,242000.0,1.0,137.0,0.0,113.0,0.0,0.0,0.0,1.0,0.0],[0.0,2261.0,0.0,35.0,1.0,228000.0,0.9,136.0,0.0,115.0,0.0,0.0,0.0,1.0,0.0],[0.0,30.0,1.0,60.0,1.0,244000.0,0.9,139.0,0.0,117.0,0.0,0.0,0.0,1.0,0.0],[0.0,115.0,0.0,45.0,1.0,184000.0,0.9,134.0,1.0,118.0,0.0,0.0,1.0,0.0,0.0],[0.0,1846.0,1.0,35.0,0.0,263358.03,1.18,137.0,1.0,119.0,0.0,0.0,1.0,0.0,0.0],[1.0,335.0,0.0,35.0,1.0,235000.0,0.8,136.0,0.0,120.0,0.0,0.0,0.0,1.0,0.0],[1.0,231.0,1.0,25.0,0.0,194000.0,1.7,140.0,0.0,120.0,0.0,0.0,0.0,1.0,0.0],[1.0,58.0,0.0,35.0,0.0,277000.0,1.4,136.0,0.0,120.0,0.0,0.0,0.0,1.0,0.0],[0.0,250.0,0.0,25.0,0.0,262000.0,1.0,136.0,1.0,120.0,0.0,0.0,1.0,0.0,0.0],[1.0,910.0,0.0,50.0,0.0,235000.0,1.3,134.0,0.0,121.0,0.0,0.0,0.0,0.0,1.0],[1.0,129.0,0.0,45.0,1.0,362000.0,1.1,139.0,1.0,121.0,0.0,0.0,0.0,1.0,0.0],[1.0,72.0,0.0,40.0,1.0,242000.0,1.2,134.0,0.0,121.0,0.0,0.0,0.0,1.0,0.0],[1.0,130.0,0.0,35.0,0.0,174000.0,0.8,139.0,1.0,121.0,0.0,0.0,1.0,0.0,0.0],[1.0,582.0,0.0,40.0,0.0,448000.0,0.9,137.0,1.0,123.0,0.0,0.0,0.0,1.0,0.0],[0.0,196.0,0.0,60.0,0.0,220000.0,0.7,133.0,1.0,134.0,0.0,0.0,0.0,1.0,0.0],[0.0,582.0,1.0,40.0,0.0,270000.0,1.0,138.0,0.0,140.0,0.0,0.0,0.0,1.0,0.0],[0.0,835.0,0.0,35.0,1.0,305000.0,0.8,133.0,0.0,145.0,0.0,0.0,0.0,1.0,0.0],[1.0,582.0,1.0,35.0,0.0,263358.03,1.5,136.0,1.0,145.0,0.0,0.0,0.0,1.0,0.0],[0.0,3966.0,0.0,40.0,0.0,325000.0,0.9,140.0,1.0,146.0,0.0,0.0,0.0,1.0,0.0],[1.0,171.0,0.0,60.0,1.0,176000.0,1.1,145.0,1.0,146.0,0.0,0.0,0.0,1.0,0.0],[1.0,115.0,0.0,20.0,0.0,189000.0,0.8,139.0,0.0,146.0,0.0,0.0,1.0,0.0,0.0],[0.0,198.0,1.0,35.0,1.0,281000.0,0.9,137.0,1.0,146.0,0.0,0.0,0.0,1.0,0.0],[1.0,95.0,0.0,60.0,0.0,337000.0,1.0,138.0,1.0,146.0,0.0,0.0,0.0,1.0,0.0],[0.0,1419.0,0.0,40.0,0.0,105000.0,1.0,135.0,1.0,147.0,0.0,0.0,0.0,1.0,0.0],[1.0,69.0,0.0,50.0,0.0,132000.0,1.0,140.0,0.0,147.0,0.0,0.0,1.0,0.0,0.0],[1.0,122.0,1.0,60.0,0.0,267000.0,1.2,145.0,0.0,147.0,0.0,0.0,0.0,1.0,0.0],[0.0,835.0,0.0,40.0,0.0,279000.0,0.7,140.0,1.0,147.0,0.0,0.0,0.0,1.0,0.0],[0.0,478.0,1.0,30.0,0.0,303000.0,0.9,136.0,0.0,148.0,0.0,0.0,1.0,0.0,0.0],[1.0,151.0,1.0,40.0,1.0,201000.0,1.0,136.0,0.0,172.0,0.0,0.0,0.0,1.0,0.0],[0.0,244.0,0.0,45.0,1.0,275000.0,0.9,140.0,0.0,174.0,0.0,0.0,1.0,0.0,0.0],[0.0,582.0,1.0,35.0,0.0,350000.0,2.1,134.0,0.0,174.0,0.0,0.0,0.0,0.0,1.0],[1.0,62.0,0.0,60.0,0.0,309000.0,1.5,135.0,0.0,174.0,0.0,0.0,0.0,1.0,0.0],[1.0,121.0,1.0,40.0,0.0,260000.0,0.7,130.0,0.0,175.0,0.0,0.0,1.0,0.0,0.0],[1.0,231.0,1.0,30.0,0.0,160000.0,1.18,142.0,1.0,180.0,0.0,0.0,0.0,0.0,1.0],[0.0,582.0,1.0,38.0,1.0,263358.03,1.18,137.0,0.0,185.0,0.0,0.0,1.0,0.0,0.0],[0.0,167.0,0.0,30.0,0.0,259000.0,0.8,138.0,0.0,186.0,0.0,0.0,0.0,1.0,0.0],[1.0,582.0,1.0,20.0,1.0,279000.0,1.0,134.0,0.0,186.0,0.0,0.0,1.0,0.0,0.0],[0.0,1211.0,1.0,35.0,0.0,263358.03,1.8,113.0,1.0,186.0,0.0,0.0,0.0,1.0,0.0],[1.0,1767.0,0.0,45.0,0.0,73000.0,0.7,137.0,0.0,186.0,0.0,0.0,0.0,1.0,0.0],[0.0,308.0,1.0,60.0,1.0,377000.0,1.0,136.0,0.0,186.0,0.0,0.0,1.0,0.0,0.0],[0.0,97.0,0.0,60.0,1.0,220000.0,0.9,138.0,0.0,186.0,0.0,0.0,0.0,1.0,0.0],[0.0,59.0,0.0,25.0,1.0,212000.0,3.5,136.0,1.0,187.0,0.0,0.0,0.0,1.0,0.0],[1.0,64.0,0.0,40.0,0.0,277000.0,0.7,137.0,1.0,187.0,0.0,0.0,0.0,0.0,1.0],[1.0,167.0,1.0,45.0,0.0,362000.0,1.0,136.0,0.0,187.0,0.0,0.0,1.0,0.0,0.0],[1.0,101.0,0.0,40.0,0.0,226000.0,0.8,141.0,0.0,187.0,0.0,0.0,1.0,0.0,0.0],[0.0,212.0,0.0,38.0,0.0,186000.0,0.9,136.0,0.0,187.0,0.0,0.0,0.0,0.0,1.0],[1.0,2281.0,1.0,40.0,0.0,283000.0,1.0,141.0,0.0,187.0,0.0,0.0,0.0,1.0,0.0],[0.0,972.0,1.0,35.0,1.0,268000.0,0.8,130.0,0.0,187.0,0.0,0.0,1.0,0.0,0.0],[0.0,212.0,1.0,17.0,1.0,389000.0,1.0,136.0,1.0,188.0,0.0,0.0,0.0,1.0,0.0],[0.0,582.0,0.0,62.0,1.0,147000.0,0.8,140.0,1.0,192.0,0.0,0.0,1.0,0.0,0.0],[0.0,224.0,0.0,50.0,0.0,481000.0,1.4,138.0,1.0,192.0,0.0,0.0,0.0,0.0,1.0],[1.0,135.0,0.0,35.0,1.0,290000.0,0.8,134.0,0.0,194.0,0.0,0.0,0.0,1.0,0.0],[0.0,582.0,0.0,35.0,1.0,203000.0,1.3,134.0,0.0,195.0,0.0,0.0,0.0,0.0,1.0],[0.0,1202.0,0.0,50.0,1.0,358000.0,0.9,141.0,0.0,196.0,0.0,0.0,0.0,1.0,0.0],[1.0,1021.0,1.0,35.0,0.0,271000.0,1.1,134.0,0.0,197.0,0.0,0.0,0.0,1.0,0.0],[0.0,582.0,1.0,35.0,1.0,371000.0,0.7,140.0,0.0,197.0,0.0,0.0,0.0,1.0,0.0],[0.0,118.0,0.0,50.0,0.0,194000.0,1.1,145.0,1.0,200.0,0.0,0.0,0.0,1.0,0.0],[1.0,86.0,0.0,35.0,0.0,365000.0,1.1,139.0,1.0,201.0,0.0,0.0,1.0,0.0,0.0],[0.0,582.0,0.0,25.0,0.0,130000.0,0.8,134.0,0.0,201.0,0.0,0.0,1.0,0.0,0.0],[0.0,582.0,1.0,25.0,0.0,504000.0,1.0,138.0,0.0,205.0,0.0,0.0,0.0,1.0,0.0],[0.0,675.0,1.0,60.0,0.0,265000.0,1.4,125.0,0.0,205.0,0.0,0.0,0.0,0.0,1.0],[1.0,57.0,0.0,25.0,0.0,189000.0,1.3,132.0,1.0,205.0,0.0,0.0,0.0,1.0,0.0],[1.0,2794.0,0.0,35.0,1.0,141000.0,1.0,140.0,0.0,206.0,0.0,0.0,0.0,1.0,0.0],[0.0,56.0,0.0,25.0,0.0,237000.0,5.0,130.0,0.0,207.0,0.0,0.0,0.0,1.0,0.0],[0.0,211.0,0.0,25.0,0.0,274000.0,1.2,134.0,0.0,207.0,0.0,0.0,0.0,0.0,1.0],[0.0,93.0,0.0,35.0,0.0,185000.0,1.1,134.0,1.0,208.0,0.0,0.0,0.0,1.0,0.0],[1.0,129.0,0.0,35.0,0.0,255000.0,0.9,137.0,0.0,209.0,0.0,0.0,1.0,0.0,0.0],[1.0,707.0,0.0,38.0,0.0,330000.0,1.4,137.0,1.0,209.0,0.0,0.0,0.0,1.0,0.0],[1.0,582.0,0.0,45.0,0.0,305000.0,1.1,137.0,1.0,209.0,0.0,0.0,0.0,1.0,0.0],[1.0,109.0,0.0,50.0,1.0,406000.0,1.1,137.0,0.0,209.0,0.0,0.0,0.0,0.0,1.0],[0.0,119.0,0.0,50.0,1.0,248000.0,1.1,148.0,0.0,209.0,0.0,0.0,0.0,0.0,1.0],[0.0,232.0,0.0,30.0,0.0,173000.0,1.2,132.0,0.0,210.0,0.0,0.0,0.0,1.0,0.0],[1.0,720.0,1.0,40.0,0.0,257000.0,1.0,136.0,0.0,210.0,0.0,0.0,0.0,1.0,0.0],[1.0,180.0,0.0,45.0,0.0,263358.03,1.18,137.0,1.0,211.0,0.0,0.0,0.0,1.0,0.0],[0.0,81.0,1.0,35.0,1.0,533000.0,1.3,139.0,0.0,212.0,0.0,0.0,0.0,1.0,0.0],[0.0,582.0,1.0,30.0,0.0,249000.0,1.3,136.0,1.0,212.0,0.0,0.0,0.0,1.0,0.0],[0.0,90.0,0.0,35.0,0.0,255000.0,1.1,136.0,1.0,212.0,0.0,0.0,1.0,0.0,0.0],[1.0,1185.0,0.0,40.0,1.0,220000.0,0.9,141.0,0.0,213.0,0.0,0.0,0.0,0.0,1.0],[0.0,582.0,1.0,38.0,0.0,264000.0,1.8,134.0,0.0,213.0,0.0,0.0,0.0,1.0,0.0],[1.0,80.0,1.0,38.0,0.0,282000.0,1.4,137.0,0.0,213.0,0.0,0.0,0.0,1.0,0.0],[0.0,143.0,0.0,25.0,0.0,246000.0,2.4,135.0,0.0,214.0,0.0,0.0,0.0,1.0,0.0],[0.0,624.0,0.0,35.0,0.0,301000.0,1.0,142.0,1.0,214.0,0.0,0.0,1.0,0.0,0.0],[0.0,207.0,1.0,40.0,0.0,223000.0,1.2,130.0,0.0,214.0,0.0,0.0,0.0,1.0,0.0],[0.0,2522.0,0.0,30.0,1.0,404000.0,0.5,139.0,0.0,214.0,0.0,0.0,1.0,0.0,0.0],[0.0,572.0,1.0,35.0,0.0,231000.0,0.8,143.0,0.0,215.0,0.0,0.0,0.0,1.0,0.0],[0.0,245.0,0.0,45.0,1.0,274000.0,1.0,133.0,0.0,215.0,0.0,0.0,1.0,0.0,0.0],[0.0,88.0,1.0,35.0,1.0,236000.0,1.2,132.0,0.0,215.0,0.0,0.0,0.0,1.0,0.0],[1.0,446.0,0.0,60.0,1.0,263358.03,1.0,139.0,0.0,215.0,0.0,0.0,0.0,1.0,0.0],[1.0,191.0,1.0,30.0,1.0,334000.0,1.0,142.0,1.0,216.0,0.0,0.0,0.0,1.0,0.0],[0.0,326.0,0.0,38.0,0.0,294000.0,1.7,139.0,0.0,220.0,0.0,0.0,0.0,1.0,0.0],[0.0,132.0,1.0,38.0,1.0,253000.0,1.0,139.0,0.0,230.0,0.0,0.0,0.0,1.0,0.0],[1.0,66.0,1.0,25.0,0.0,233000.0,0.8,135.0,0.0,230.0,0.0,0.0,1.0,0.0,0.0],[0.0,56.0,0.0,50.0,0.0,308000.0,0.7,135.0,1.0,231.0,0.0,0.0,0.0,1.0,0.0],[0.0,66.0,0.0,40.0,0.0,203000.0,1.0,138.0,0.0,233.0,0.0,0.0,0.0,1.0,0.0],[1.0,655.0,0.0,40.0,0.0,283000.0,0.7,133.0,0.0,233.0,0.0,0.0,0.0,1.0,0.0],[1.0,157.0,1.0,60.0,0.0,208000.0,1.0,140.0,0.0,237.0,0.0,0.0,0.0,1.0,0.0],[0.0,582.0,1.0,38.0,0.0,147000.0,1.2,141.0,0.0,237.0,0.0,0.0,0.0,1.0,0.0],[1.0,298.0,0.0,35.0,0.0,362000.0,0.9,140.0,1.0,240.0,0.0,0.0,1.0,0.0,0.0],[1.0,135.0,1.0,38.0,0.0,133000.0,1.7,140.0,0.0,244.0,0.0,0.0,0.0,1.0,0.0],[0.0,582.0,1.0,38.0,0.0,302000.0,0.9,140.0,0.0,244.0,0.0,0.0,1.0,0.0,0.0],[0.0,582.0,1.0,35.0,0.0,222000.0,1.0,132.0,0.0,244.0,0.0,0.0,1.0,0.0,0.0],[0.0,582.0,1.0,30.0,1.0,263358.03,1.6,130.0,1.0,244.0,0.0,0.0,1.0,0.0,0.0],[0.0,582.0,1.0,40.0,0.0,221000.0,0.9,134.0,0.0,244.0,0.0,0.0,0.0,1.0,0.0],[0.0,213.0,0.0,38.0,0.0,215000.0,1.2,133.0,0.0,245.0,0.0,0.0,0.0,1.0,0.0],[0.0,64.0,0.0,40.0,0.0,189000.0,0.7,140.0,0.0,245.0,0.0,0.0,1.0,0.0,0.0],[1.0,257.0,1.0,30.0,0.0,150000.0,1.0,137.0,1.0,245.0,0.0,0.0,0.0,1.0,0.0],[0.0,582.0,0.0,38.0,1.0,422000.0,0.8,137.0,0.0,245.0,0.0,0.0,1.0,0.0,0.0],[0.0,618.0,0.0,35.0,0.0,327000.0,1.1,142.0,0.0,245.0,0.0,0.0,0.0,1.0,0.0],[0.0,582.0,1.0,38.0,0.0,25100.0,1.1,140.0,0.0,246.0,0.0,0.0,0.0,1.0,0.0],[1.0,1051.0,1.0,30.0,0.0,232000.0,0.7,136.0,0.0,246.0,0.0,0.0,1.0,0.0,0.0],[0.0,84.0,1.0,38.0,0.0,451000.0,1.3,136.0,0.0,246.0,0.0,0.0,0.0,1.0,0.0],[0.0,2695.0,1.0,40.0,0.0,241000.0,1.0,137.0,0.0,247.0,0.0,0.0,0.0,1.0,0.0],[0.0,582.0,0.0,40.0,0.0,51000.0,2.7,136.0,1.0,250.0,0.0,0.0,0.0,1.0,0.0],[0.0,64.0,0.0,30.0,0.0,215000.0,3.8,128.0,1.0,250.0,0.0,0.0,1.0,0.0,0.0],[0.0,1688.0,0.0,38.0,0.0,263358.03,1.1,138.0,1.0,250.0,0.0,0.0,0.0,1.0,0.0],[1.0,54.0,0.0,40.0,0.0,279000.0,0.8,141.0,0.0,250.0,0.0,0.0,1.0,0.0,0.0],[1.0,170.0,1.0,40.0,0.0,336000.0,1.2,135.0,0.0,250.0,0.0,0.0,0.0,1.0,0.0],[0.0,253.0,0.0,35.0,0.0,279000.0,1.7,140.0,0.0,250.0,0.0,0.0,0.0,1.0,0.0],[0.0,582.0,1.0,55.0,0.0,543000.0,1.0,132.0,0.0,250.0,0.0,0.0,1.0,0.0,0.0],[0.0,892.0,1.0,35.0,0.0,263358.03,1.1,142.0,0.0,256.0,0.0,0.0,0.0,1.0,0.0],[1.0,337.0,0.0,38.0,0.0,390000.0,0.9,144.0,0.0,256.0,0.0,0.0,0.0,0.0,1.0],[0.0,615.0,1.0,55.0,0.0,222000.0,0.8,141.0,0.0,257.0,0.0,0.0,1.0,0.0,0.0],[0.0,320.0,0.0,35.0,0.0,133000.0,1.4,139.0,0.0,258.0,0.0,0.0,0.0,1.0,0.0],[0.0,190.0,1.0,38.0,0.0,382000.0,1.0,140.0,1.0,258.0,0.0,0.0,0.0,1.0,0.0],[1.0,103.0,1.0,35.0,0.0,179000.0,0.9,136.0,1.0,270.0,0.0,0.0,0.0,1.0,0.0],[0.0,61.0,1.0,38.0,1.0,155000.0,1.1,143.0,1.0,270.0,0.0,0.0,0.0,1.0,0.0],[0.0,1820.0,0.0,38.0,0.0,270000.0,1.2,139.0,0.0,271.0,0.0,0.0,0.0,1.0,0.0],[0.0,2060.0,1.0,60.0,0.0,742000.0,0.8,138.0,0.0,278.0,0.0,0.0,1.0,0.0,0.0],[0.0,2413.0,0.0,38.0,0.0,140000.0,1.4,140.0,1.0,280.0,0.0,0.0,1.0,0.0,0.0],[0.0,196.0,0.0,45.0,0.0,395000.0,1.6,136.0,1.0,285.0,0.0,0.0,1.0,0.0,0.0]],\"hovertemplate\":\"death_event=%{customdata[10]}\\u003cbr\\u003esex=%{x}\\u003cbr\\u003eage=%{y}\\u003cbr\\u003eanaemia=%{customdata[0]}\\u003cbr\\u003ecpk=%{customdata[1]}\\u003cbr\\u003ediabetes=%{customdata[2]}\\u003cbr\\u003eejection_fraction=%{customdata[3]}\\u003cbr\\u003ehigh_blood_pressure=%{customdata[4]}\\u003cbr\\u003eplatelets=%{customdata[5]}\\u003cbr\\u003eserum_creatinine=%{customdata[6]}\\u003cbr\\u003eserum_sodium=%{customdata[7]}\\u003cbr\\u003esmoking=%{customdata[8]}\\u003cbr\\u003etime=%{customdata[9]}\\u003cbr\\u003eage_till_30=%{customdata[11]}\\u003cbr\\u003eage_bet_30_50=%{customdata[12]}\\u003cbr\\u003eage_bet_50_70=%{customdata[13]}\\u003cbr\\u003eage_gret_70=%{customdata[14]}\\u003cextra\\u003e\\u003c\\u002fextra\\u003e\",\"legendgroup\":\"0\",\"marker\":{\"color\":\"#EF553B\"},\"name\":\"0\",\"offsetgroup\":\"0\",\"orientation\":\"v\",\"points\":\"all\",\"scalegroup\":\"True\",\"showlegend\":true,\"x\":[0,0,1,0,1,1,1,1,1,0,1,1,1,0,1,1,0,0,1,1,1,1,1,1,1,1,1,0,0,1,1,0,0,0,1,1,1,1,0,1,1,1,1,1,1,1,0,0,0,0,1,0,0,0,0,0,1,1,1,1,0,1,1,1,0,1,0,1,0,0,0,1,1,1,1,1,1,1,0,1,0,1,1,1,1,1,1,1,0,0,1,1,1,1,1,1,1,0,1,1,1,0,0,1,0,1,1,0,0,0,1,1,1,1,1,1,0,0,1,0,0,1,1,1,1,1,0,1,0,1,1,1,1,0,1,1,0,0,1,1,1,1,1,1,1,0,1,0,1,1,0,1,1,1,1,0,0,0,1,0,1,1,0,1,1,1,1,0,0,1,1,1,0,1,1,0,0,1,1,0,0,1,0,0,1,1,1,1,1,1,1,0,0,0,0,1,1,1,1,0,0,1,1],\"x0\":\" \",\"xaxis\":\"x\",\"y\":[49.0,65.0,53.0,50.0,60.0,72.0,70.0,60.0,55.0,45.0,41.0,58.0,65.0,70.0,42.0,75.0,55.0,70.0,67.0,79.0,51.0,55.0,65.0,44.0,57.0,70.0,60.0,42.0,58.0,58.0,63.0,70.0,60.0,63.0,65.0,75.0,80.0,42.0,60.0,55.0,45.0,63.0,45.0,55.0,50.0,60.0,58.0,60.0,85.0,65.0,60.0,66.0,60.0,60.0,43.0,58.0,61.0,53.0,53.0,60.0,46.0,63.0,81.0,75.0,65.0,68.0,62.0,50.0,46.0,50.0,61.0,50.0,52.0,64.0,60.0,62.0,50.0,50.0,65.0,60.0,52.0,50.0,85.0,59.0,66.0,45.0,63.0,53.0,65.0,70.0,51.0,52.0,70.0,50.0,65.0,60.0,69.0,49.0,63.0,55.0,40.0,60.667,40.0,80.0,64.0,50.0,73.0,45.0,65.0,50.0,60.0,63.0,45.0,70.0,60.0,78.0,50.0,40.0,85.0,60.0,49.0,70.0,50.0,78.0,65.0,73.0,70.0,68.0,55.0,65.0,42.0,47.0,58.0,75.0,58.0,55.0,65.0,72.0,70.0,40.0,53.0,53.0,77.0,75.0,70.0,65.0,55.0,70.0,65.0,40.0,73.0,54.0,61.0,64.0,40.0,53.0,50.0,55.0,50.0,70.0,53.0,52.0,65.0,58.0,45.0,53.0,55.0,62.0,68.0,61.0,50.0,56.0,45.0,40.0,44.0,51.0,67.0,42.0,60.0,45.0,70.0,70.0,50.0,55.0,70.0,70.0,42.0,65.0,50.0,55.0,60.0,45.0,65.0,90.0,45.0,60.0,52.0,63.0,62.0,55.0,45.0,45.0,50.0],\"y0\":\" \",\"yaxis\":\"y\",\"type\":\"violin\"}],                        {\"template\":{\"data\":{\"histogram2dcontour\":[{\"type\":\"histogram2dcontour\",\"colorbar\":{\"outlinewidth\":0,\"ticks\":\"\"},\"colorscale\":[[0.0,\"#0d0887\"],[0.1111111111111111,\"#46039f\"],[0.2222222222222222,\"#7201a8\"],[0.3333333333333333,\"#9c179e\"],[0.4444444444444444,\"#bd3786\"],[0.5555555555555556,\"#d8576b\"],[0.6666666666666666,\"#ed7953\"],[0.7777777777777778,\"#fb9f3a\"],[0.8888888888888888,\"#fdca26\"],[1.0,\"#f0f921\"]]}],\"choropleth\":[{\"type\":\"choropleth\",\"colorbar\":{\"outlinewidth\":0,\"ticks\":\"\"}}],\"histogram2d\":[{\"type\":\"histogram2d\",\"colorbar\":{\"outlinewidth\":0,\"ticks\":\"\"},\"colorscale\":[[0.0,\"#0d0887\"],[0.1111111111111111,\"#46039f\"],[0.2222222222222222,\"#7201a8\"],[0.3333333333333333,\"#9c179e\"],[0.4444444444444444,\"#bd3786\"],[0.5555555555555556,\"#d8576b\"],[0.6666666666666666,\"#ed7953\"],[0.7777777777777778,\"#fb9f3a\"],[0.8888888888888888,\"#fdca26\"],[1.0,\"#f0f921\"]]}],\"heatmap\":[{\"type\":\"heatmap\",\"colorbar\":{\"outlinewidth\":0,\"ticks\":\"\"},\"colorscale\":[[0.0,\"#0d0887\"],[0.1111111111111111,\"#46039f\"],[0.2222222222222222,\"#7201a8\"],[0.3333333333333333,\"#9c179e\"],[0.4444444444444444,\"#bd3786\"],[0.5555555555555556,\"#d8576b\"],[0.6666666666666666,\"#ed7953\"],[0.7777777777777778,\"#fb9f3a\"],[0.8888888888888888,\"#fdca26\"],[1.0,\"#f0f921\"]]}],\"heatmapgl\":[{\"type\":\"heatmapgl\",\"colorbar\":{\"outlinewidth\":0,\"ticks\":\"\"},\"colorscale\":[[0.0,\"#0d0887\"],[0.1111111111111111,\"#46039f\"],[0.2222222222222222,\"#7201a8\"],[0.3333333333333333,\"#9c179e\"],[0.4444444444444444,\"#bd3786\"],[0.5555555555555556,\"#d8576b\"],[0.6666666666666666,\"#ed7953\"],[0.7777777777777778,\"#fb9f3a\"],[0.8888888888888888,\"#fdca26\"],[1.0,\"#f0f921\"]]}],\"contourcarpet\":[{\"type\":\"contourcarpet\",\"colorbar\":{\"outlinewidth\":0,\"ticks\":\"\"}}],\"contour\":[{\"type\":\"contour\",\"colorbar\":{\"outlinewidth\":0,\"ticks\":\"\"},\"colorscale\":[[0.0,\"#0d0887\"],[0.1111111111111111,\"#46039f\"],[0.2222222222222222,\"#7201a8\"],[0.3333333333333333,\"#9c179e\"],[0.4444444444444444,\"#bd3786\"],[0.5555555555555556,\"#d8576b\"],[0.6666666666666666,\"#ed7953\"],[0.7777777777777778,\"#fb9f3a\"],[0.8888888888888888,\"#fdca26\"],[1.0,\"#f0f921\"]]}],\"surface\":[{\"type\":\"surface\",\"colorbar\":{\"outlinewidth\":0,\"ticks\":\"\"},\"colorscale\":[[0.0,\"#0d0887\"],[0.1111111111111111,\"#46039f\"],[0.2222222222222222,\"#7201a8\"],[0.3333333333333333,\"#9c179e\"],[0.4444444444444444,\"#bd3786\"],[0.5555555555555556,\"#d8576b\"],[0.6666666666666666,\"#ed7953\"],[0.7777777777777778,\"#fb9f3a\"],[0.8888888888888888,\"#fdca26\"],[1.0,\"#f0f921\"]]}],\"mesh3d\":[{\"type\":\"mesh3d\",\"colorbar\":{\"outlinewidth\":0,\"ticks\":\"\"}}],\"scatter\":[{\"fillpattern\":{\"fillmode\":\"overlay\",\"size\":10,\"solidity\":0.2},\"type\":\"scatter\"}],\"parcoords\":[{\"type\":\"parcoords\",\"line\":{\"colorbar\":{\"outlinewidth\":0,\"ticks\":\"\"}}}],\"scatterpolargl\":[{\"type\":\"scatterpolargl\",\"marker\":{\"colorbar\":{\"outlinewidth\":0,\"ticks\":\"\"}}}],\"bar\":[{\"error_x\":{\"color\":\"#2a3f5f\"},\"error_y\":{\"color\":\"#2a3f5f\"},\"marker\":{\"line\":{\"color\":\"#E5ECF6\",\"width\":0.5},\"pattern\":{\"fillmode\":\"overlay\",\"size\":10,\"solidity\":0.2}},\"type\":\"bar\"}],\"scattergeo\":[{\"type\":\"scattergeo\",\"marker\":{\"colorbar\":{\"outlinewidth\":0,\"ticks\":\"\"}}}],\"scatterpolar\":[{\"type\":\"scatterpolar\",\"marker\":{\"colorbar\":{\"outlinewidth\":0,\"ticks\":\"\"}}}],\"histogram\":[{\"marker\":{\"pattern\":{\"fillmode\":\"overlay\",\"size\":10,\"solidity\":0.2}},\"type\":\"histogram\"}],\"scattergl\":[{\"type\":\"scattergl\",\"marker\":{\"colorbar\":{\"outlinewidth\":0,\"ticks\":\"\"}}}],\"scatter3d\":[{\"type\":\"scatter3d\",\"line\":{\"colorbar\":{\"outlinewidth\":0,\"ticks\":\"\"}},\"marker\":{\"colorbar\":{\"outlinewidth\":0,\"ticks\":\"\"}}}],\"scattermapbox\":[{\"type\":\"scattermapbox\",\"marker\":{\"colorbar\":{\"outlinewidth\":0,\"ticks\":\"\"}}}],\"scatterternary\":[{\"type\":\"scatterternary\",\"marker\":{\"colorbar\":{\"outlinewidth\":0,\"ticks\":\"\"}}}],\"scattercarpet\":[{\"type\":\"scattercarpet\",\"marker\":{\"colorbar\":{\"outlinewidth\":0,\"ticks\":\"\"}}}],\"carpet\":[{\"aaxis\":{\"endlinecolor\":\"#2a3f5f\",\"gridcolor\":\"white\",\"linecolor\":\"white\",\"minorgridcolor\":\"white\",\"startlinecolor\":\"#2a3f5f\"},\"baxis\":{\"endlinecolor\":\"#2a3f5f\",\"gridcolor\":\"white\",\"linecolor\":\"white\",\"minorgridcolor\":\"white\",\"startlinecolor\":\"#2a3f5f\"},\"type\":\"carpet\"}],\"table\":[{\"cells\":{\"fill\":{\"color\":\"#EBF0F8\"},\"line\":{\"color\":\"white\"}},\"header\":{\"fill\":{\"color\":\"#C8D4E3\"},\"line\":{\"color\":\"white\"}},\"type\":\"table\"}],\"barpolar\":[{\"marker\":{\"line\":{\"color\":\"#E5ECF6\",\"width\":0.5},\"pattern\":{\"fillmode\":\"overlay\",\"size\":10,\"solidity\":0.2}},\"type\":\"barpolar\"}],\"pie\":[{\"automargin\":true,\"type\":\"pie\"}]},\"layout\":{\"autotypenumbers\":\"strict\",\"colorway\":[\"#636efa\",\"#EF553B\",\"#00cc96\",\"#ab63fa\",\"#FFA15A\",\"#19d3f3\",\"#FF6692\",\"#B6E880\",\"#FF97FF\",\"#FECB52\"],\"font\":{\"color\":\"#2a3f5f\"},\"hovermode\":\"closest\",\"hoverlabel\":{\"align\":\"left\"},\"paper_bgcolor\":\"white\",\"plot_bgcolor\":\"#E5ECF6\",\"polar\":{\"bgcolor\":\"#E5ECF6\",\"angularaxis\":{\"gridcolor\":\"white\",\"linecolor\":\"white\",\"ticks\":\"\"},\"radialaxis\":{\"gridcolor\":\"white\",\"linecolor\":\"white\",\"ticks\":\"\"}},\"ternary\":{\"bgcolor\":\"#E5ECF6\",\"aaxis\":{\"gridcolor\":\"white\",\"linecolor\":\"white\",\"ticks\":\"\"},\"baxis\":{\"gridcolor\":\"white\",\"linecolor\":\"white\",\"ticks\":\"\"},\"caxis\":{\"gridcolor\":\"white\",\"linecolor\":\"white\",\"ticks\":\"\"}},\"coloraxis\":{\"colorbar\":{\"outlinewidth\":0,\"ticks\":\"\"}},\"colorscale\":{\"sequential\":[[0.0,\"#0d0887\"],[0.1111111111111111,\"#46039f\"],[0.2222222222222222,\"#7201a8\"],[0.3333333333333333,\"#9c179e\"],[0.4444444444444444,\"#bd3786\"],[0.5555555555555556,\"#d8576b\"],[0.6666666666666666,\"#ed7953\"],[0.7777777777777778,\"#fb9f3a\"],[0.8888888888888888,\"#fdca26\"],[1.0,\"#f0f921\"]],\"sequentialminus\":[[0.0,\"#0d0887\"],[0.1111111111111111,\"#46039f\"],[0.2222222222222222,\"#7201a8\"],[0.3333333333333333,\"#9c179e\"],[0.4444444444444444,\"#bd3786\"],[0.5555555555555556,\"#d8576b\"],[0.6666666666666666,\"#ed7953\"],[0.7777777777777778,\"#fb9f3a\"],[0.8888888888888888,\"#fdca26\"],[1.0,\"#f0f921\"]],\"diverging\":[[0,\"#8e0152\"],[0.1,\"#c51b7d\"],[0.2,\"#de77ae\"],[0.3,\"#f1b6da\"],[0.4,\"#fde0ef\"],[0.5,\"#f7f7f7\"],[0.6,\"#e6f5d0\"],[0.7,\"#b8e186\"],[0.8,\"#7fbc41\"],[0.9,\"#4d9221\"],[1,\"#276419\"]]},\"xaxis\":{\"gridcolor\":\"white\",\"linecolor\":\"white\",\"ticks\":\"\",\"title\":{\"standoff\":15},\"zerolinecolor\":\"white\",\"automargin\":true,\"zerolinewidth\":2},\"yaxis\":{\"gridcolor\":\"white\",\"linecolor\":\"white\",\"ticks\":\"\",\"title\":{\"standoff\":15},\"zerolinecolor\":\"white\",\"automargin\":true,\"zerolinewidth\":2},\"scene\":{\"xaxis\":{\"backgroundcolor\":\"#E5ECF6\",\"gridcolor\":\"white\",\"linecolor\":\"white\",\"showbackground\":true,\"ticks\":\"\",\"zerolinecolor\":\"white\",\"gridwidth\":2},\"yaxis\":{\"backgroundcolor\":\"#E5ECF6\",\"gridcolor\":\"white\",\"linecolor\":\"white\",\"showbackground\":true,\"ticks\":\"\",\"zerolinecolor\":\"white\",\"gridwidth\":2},\"zaxis\":{\"backgroundcolor\":\"#E5ECF6\",\"gridcolor\":\"white\",\"linecolor\":\"white\",\"showbackground\":true,\"ticks\":\"\",\"zerolinecolor\":\"white\",\"gridwidth\":2}},\"shapedefaults\":{\"line\":{\"color\":\"#2a3f5f\"}},\"annotationdefaults\":{\"arrowcolor\":\"#2a3f5f\",\"arrowhead\":0,\"arrowwidth\":1},\"geo\":{\"bgcolor\":\"white\",\"landcolor\":\"#E5ECF6\",\"subunitcolor\":\"white\",\"showland\":true,\"showlakes\":true,\"lakecolor\":\"white\"},\"title\":{\"x\":0.05},\"mapbox\":{\"style\":\"light\"}}},\"xaxis\":{\"anchor\":\"y\",\"domain\":[0.0,1.0],\"title\":{\"text\":\"sex\"}},\"yaxis\":{\"anchor\":\"x\",\"domain\":[0.0,1.0],\"title\":{\"text\":\"age\"}},\"legend\":{\"title\":{\"text\":\"death_event\"},\"tracegroupgap\":0},\"margin\":{\"t\":60},\"violinmode\":\"group\",\"title\":{\"text\":\"Analysis of Age and Sex on Death Event\"}},                        {\"responsive\": true}                    ).then(function(){\n",
              "                            \n",
              "var gd = document.getElementById('74d27a08-9240-40c2-8759-90425b1de285');\n",
              "var x = new MutationObserver(function (mutations, observer) {{\n",
              "        var display = window.getComputedStyle(gd).display;\n",
              "        if (!display || display === 'none') {{\n",
              "            console.log([gd, 'removed!']);\n",
              "            Plotly.purge(gd);\n",
              "            observer.disconnect();\n",
              "        }}\n",
              "}});\n",
              "\n",
              "// Listen for the removal of the full notebook cells\n",
              "var notebookContainer = gd.closest('#notebook-container');\n",
              "if (notebookContainer) {{\n",
              "    x.observe(notebookContainer, {childList: true});\n",
              "}}\n",
              "\n",
              "// Listen for the clearing of the current output cell\n",
              "var outputEl = gd.closest('.output');\n",
              "if (outputEl) {{\n",
              "    x.observe(outputEl, {childList: true});\n",
              "}}\n",
              "\n",
              "                        })                };                            </script>        </div>\n",
              "</body>\n",
              "</html>"
            ]
          },
          "metadata": {}
        }
      ]
    },
    {
      "cell_type": "code",
      "source": [
        "import plotly.express as px\n",
        "fig = px.violin(df, y=\"age\", x=\"smoking\", color=\"death_event\", box=True, points=\"all\", hover_data=df.columns)\n",
        "fig.update_layout(title_text=\"Analysis of Age and Smoking on Death Event\")\n",
        "fig.show()"
      ],
      "metadata": {
        "id": "JGiv9rjbwa4l",
        "outputId": "b19964c2-c951-4889-bd7f-db9c89572869",
        "colab": {
          "base_uri": "https://localhost:8080/",
          "height": 542
        }
      },
      "execution_count": 89,
      "outputs": [
        {
          "output_type": "display_data",
          "data": {
            "text/html": [
              "<html>\n",
              "<head><meta charset=\"utf-8\" /></head>\n",
              "<body>\n",
              "    <div>            <script src=\"https://cdnjs.cloudflare.com/ajax/libs/mathjax/2.7.5/MathJax.js?config=TeX-AMS-MML_SVG\"></script><script type=\"text/javascript\">if (window.MathJax && window.MathJax.Hub && window.MathJax.Hub.Config) {window.MathJax.Hub.Config({SVG: {font: \"STIX-Web\"}});}</script>                <script type=\"text/javascript\">window.PlotlyConfig = {MathJaxConfig: 'local'};</script>\n",
              "        <script charset=\"utf-8\" src=\"https://cdn.plot.ly/plotly-2.24.1.min.js\"></script>                <div id=\"c830d5b0-d32d-4bc8-a632-799779f326c2\" class=\"plotly-graph-div\" style=\"height:525px; width:100%;\"></div>            <script type=\"text/javascript\">                                    window.PLOTLYENV=window.PLOTLYENV || {};                                    if (document.getElementById(\"c830d5b0-d32d-4bc8-a632-799779f326c2\")) {                    Plotly.newPlot(                        \"c830d5b0-d32d-4bc8-a632-799779f326c2\",                        [{\"alignmentgroup\":\"True\",\"box\":{\"visible\":true},\"customdata\":[[0.0,582.0,0.0,20.0,1.0,265000.0,1.9,130.0,1.0,4.0,1.0,0.0,0.0,0.0,1.0],[0.0,7861.0,0.0,38.0,0.0,263358.03,1.1,136.0,1.0,6.0,1.0,0.0,0.0,1.0,0.0],[0.0,146.0,0.0,20.0,0.0,162000.0,1.3,129.0,1.0,7.0,1.0,0.0,0.0,1.0,0.0],[1.0,111.0,0.0,20.0,0.0,210000.0,1.9,137.0,1.0,7.0,1.0,0.0,1.0,0.0,0.0],[1.0,160.0,1.0,20.0,0.0,327000.0,2.7,116.0,0.0,8.0,1.0,0.0,0.0,1.0,0.0],[1.0,47.0,0.0,40.0,1.0,204000.0,2.1,132.0,1.0,8.0,1.0,0.0,0.0,0.0,1.0],[1.0,246.0,0.0,15.0,0.0,127000.0,1.2,137.0,1.0,10.0,1.0,0.0,0.0,0.0,1.0],[1.0,315.0,1.0,60.0,0.0,454000.0,1.1,131.0,1.0,10.0,1.0,0.0,0.0,1.0,0.0],[0.0,157.0,0.0,65.0,0.0,263358.03,1.5,138.0,0.0,10.0,1.0,0.0,0.0,1.0,0.0],[1.0,123.0,0.0,35.0,1.0,388000.0,9.4,133.0,1.0,10.0,1.0,0.0,0.0,0.0,1.0],[1.0,81.0,0.0,38.0,1.0,368000.0,4.0,131.0,1.0,10.0,1.0,0.0,0.0,0.0,1.0],[0.0,231.0,0.0,25.0,1.0,253000.0,0.9,140.0,1.0,10.0,1.0,0.0,0.0,1.0,0.0],[1.0,981.0,0.0,30.0,0.0,136000.0,1.1,137.0,1.0,11.0,1.0,0.0,1.0,0.0,0.0],[1.0,168.0,0.0,38.0,1.0,276000.0,1.1,137.0,1.0,11.0,1.0,0.0,1.0,0.0,0.0],[1.0,379.0,0.0,50.0,0.0,47000.0,1.3,136.0,1.0,13.0,1.0,0.0,0.0,0.0,1.0],[1.0,149.0,0.0,38.0,0.0,262000.0,0.9,140.0,1.0,14.0,1.0,0.0,0.0,0.0,1.0],[0.0,582.0,0.0,14.0,0.0,166000.0,0.8,127.0,1.0,14.0,1.0,0.0,1.0,0.0,0.0],[1.0,125.0,0.0,25.0,1.0,237000.0,1.0,140.0,0.0,15.0,1.0,0.0,0.0,1.0,0.0],[1.0,582.0,1.0,55.0,0.0,87000.0,1.9,121.0,0.0,15.0,1.0,0.0,1.0,0.0,0.0],[1.0,128.0,1.0,30.0,1.0,297000.0,1.6,136.0,0.0,20.0,1.0,0.0,0.0,1.0,0.0],[1.0,220.0,0.0,35.0,1.0,289000.0,0.9,140.0,1.0,20.0,1.0,0.0,0.0,1.0,0.0],[0.0,582.0,1.0,30.0,1.0,263358.03,1.83,134.0,0.0,23.0,1.0,0.0,0.0,0.0,1.0],[0.0,148.0,1.0,38.0,0.0,149000.0,1.9,144.0,1.0,23.0,1.0,0.0,0.0,0.0,1.0],[1.0,112.0,0.0,40.0,1.0,196000.0,1.0,138.0,0.0,24.0,1.0,0.0,0.0,0.0,1.0],[0.0,122.0,1.0,45.0,1.0,284000.0,1.3,136.0,1.0,26.0,1.0,0.0,0.0,1.0,0.0],[1.0,60.0,0.0,38.0,0.0,153000.0,5.8,134.0,1.0,26.0,1.0,0.0,0.0,1.0,0.0],[0.0,70.0,1.0,30.0,0.0,200000.0,1.2,132.0,1.0,26.0,1.0,0.0,0.0,0.0,1.0],[0.0,582.0,1.0,38.0,1.0,263358.03,1.83,134.0,1.0,27.0,1.0,0.0,0.0,0.0,1.0],[0.0,23.0,0.0,45.0,0.0,360000.0,3.0,132.0,1.0,28.0,1.0,0.0,0.0,0.0,1.0],[1.0,249.0,1.0,35.0,1.0,319000.0,1.0,128.0,0.0,28.0,1.0,0.0,1.0,0.0,0.0],[0.0,94.0,1.0,50.0,1.0,188000.0,1.0,140.0,1.0,29.0,1.0,0.0,0.0,1.0,0.0],[0.0,582.0,1.0,35.0,0.0,228000.0,3.5,134.0,1.0,30.0,1.0,0.0,0.0,1.0,0.0],[1.0,60.0,1.0,50.0,0.0,226000.0,1.0,134.0,1.0,30.0,1.0,0.0,0.0,0.0,1.0],[1.0,855.0,1.0,50.0,1.0,321000.0,1.0,145.0,0.0,30.0,1.0,0.0,0.0,0.0,1.0],[0.0,235.0,1.0,38.0,0.0,329000.0,3.0,142.0,0.0,30.0,1.0,0.0,0.0,1.0,0.0],[0.0,582.0,0.0,20.0,1.0,263358.03,1.83,134.0,1.0,31.0,1.0,0.0,0.0,1.0,0.0],[0.0,124.0,1.0,30.0,1.0,153000.0,1.2,136.0,0.0,32.0,1.0,0.0,1.0,0.0,0.0],[0.0,571.0,1.0,45.0,1.0,185000.0,1.2,139.0,1.0,33.0,1.0,0.0,0.0,1.0,0.0],[1.0,588.0,1.0,60.0,0.0,194000.0,1.1,142.0,0.0,33.0,1.0,0.0,0.0,1.0,0.0],[0.0,582.0,1.0,38.0,0.0,310000.0,1.9,135.0,1.0,35.0,1.0,0.0,1.0,0.0,0.0],[0.0,1380.0,0.0,25.0,1.0,271000.0,0.9,130.0,1.0,38.0,1.0,0.0,0.0,1.0,0.0],[0.0,582.0,1.0,38.0,1.0,451000.0,0.6,138.0,1.0,40.0,1.0,0.0,0.0,1.0,0.0],[1.0,553.0,0.0,20.0,1.0,140000.0,4.4,133.0,1.0,41.0,1.0,0.0,0.0,0.0,1.0],[1.0,129.0,0.0,30.0,0.0,395000.0,1.0,140.0,0.0,42.0,1.0,0.0,0.0,1.0,0.0],[1.0,577.0,0.0,25.0,1.0,166000.0,1.0,138.0,1.0,43.0,1.0,0.0,0.0,1.0,0.0],[1.0,91.0,0.0,20.0,1.0,418000.0,1.4,139.0,0.0,43.0,1.0,0.0,0.0,1.0,0.0],[0.0,3964.0,1.0,62.0,0.0,263358.03,6.8,146.0,0.0,43.0,1.0,0.0,0.0,1.0,0.0],[1.0,69.0,1.0,50.0,1.0,351000.0,1.0,134.0,0.0,44.0,1.0,0.0,0.0,1.0,0.0],[1.0,260.0,1.0,38.0,0.0,255000.0,2.2,132.0,0.0,45.0,1.0,0.0,0.0,1.0,0.0],[1.0,371.0,0.0,30.0,0.0,461000.0,2.0,132.0,1.0,50.0,1.0,0.0,0.0,0.0,1.0],[0.0,789.0,0.0,20.0,1.0,319000.0,1.1,136.0,1.0,55.0,1.0,0.0,1.0,0.0,0.0],[0.0,364.0,1.0,20.0,1.0,254000.0,1.3,136.0,1.0,59.0,1.0,0.0,0.0,0.0,1.0],[0.0,7702.0,1.0,25.0,1.0,390000.0,1.0,139.0,1.0,60.0,1.0,0.0,1.0,0.0,0.0],[0.0,318.0,0.0,40.0,1.0,216000.0,2.3,131.0,0.0,60.0,1.0,0.0,1.0,0.0,0.0],[0.0,582.0,0.0,35.0,0.0,385000.0,1.0,145.0,1.0,61.0,1.0,0.0,1.0,0.0,0.0],[0.0,68.0,0.0,20.0,0.0,119000.0,2.9,127.0,1.0,64.0,1.0,0.0,0.0,1.0,0.0],[1.0,250.0,1.0,15.0,0.0,213000.0,1.3,136.0,0.0,65.0,1.0,0.0,1.0,0.0,0.0],[1.0,110.0,0.0,25.0,0.0,274000.0,1.0,140.0,1.0,65.0,1.0,0.0,0.0,0.0,1.0],[0.0,161.0,0.0,25.0,0.0,244000.0,1.2,142.0,0.0,66.0,1.0,0.0,0.0,1.0,0.0],[0.0,113.0,1.0,25.0,0.0,497000.0,1.83,135.0,1.0,67.0,1.0,0.0,0.0,1.0,0.0],[0.0,5882.0,0.0,35.0,0.0,243000.0,1.0,132.0,1.0,72.0,1.0,0.0,0.0,0.0,1.0],[0.0,582.0,0.0,20.0,0.0,266000.0,1.2,134.0,1.0,73.0,1.0,0.0,0.0,1.0,0.0],[1.0,47.0,0.0,20.0,0.0,204000.0,0.7,139.0,1.0,73.0,1.0,0.0,0.0,1.0,0.0],[1.0,76.0,1.0,25.0,0.0,196000.0,2.5,132.0,0.0,77.0,1.0,0.0,0.0,1.0,0.0],[1.0,280.0,1.0,25.0,1.0,302000.0,1.0,141.0,0.0,78.0,1.0,0.0,0.0,1.0,0.0],[1.0,154.0,0.0,25.0,0.0,210000.0,1.7,135.0,1.0,82.0,1.0,0.0,0.0,1.0,0.0],[1.0,328.0,0.0,30.0,1.0,621000.0,1.7,138.0,0.0,88.0,1.0,0.0,0.0,0.0,1.0],[0.0,129.0,0.0,60.0,0.0,306000.0,1.2,132.0,1.0,90.0,1.0,0.0,0.0,0.0,1.0],[1.0,143.0,0.0,60.0,0.0,351000.0,1.3,137.0,0.0,90.0,1.0,0.0,0.0,1.0,0.0],[0.0,582.0,0.0,38.0,0.0,263358.03,1.83,134.0,0.0,95.0,1.0,0.0,0.0,0.0,1.0],[0.0,582.0,0.0,40.0,0.0,217000.0,3.7,134.0,1.0,96.0,1.0,0.0,0.0,1.0,0.0],[0.0,168.0,1.0,17.0,1.0,271000.0,2.1,124.0,0.0,100.0,1.0,0.0,1.0,0.0,0.0],[0.0,805.0,0.0,38.0,0.0,263358.03,1.1,134.0,1.0,109.0,1.0,0.0,0.0,0.0,1.0],[1.0,943.0,0.0,25.0,1.0,338000.0,1.7,139.0,1.0,111.0,1.0,0.0,0.0,0.0,1.0],[1.0,582.0,0.0,30.0,0.0,225000.0,1.83,134.0,1.0,113.0,1.0,0.0,0.0,0.0,1.0],[0.0,233.0,0.0,45.0,1.0,235000.0,2.5,135.0,0.0,115.0,1.0,0.0,0.0,0.0,1.0],[1.0,2334.0,1.0,35.0,0.0,75000.0,0.9,142.0,0.0,126.0,1.0,0.0,1.0,0.0,0.0],[0.0,2442.0,1.0,30.0,0.0,334000.0,1.1,139.0,1.0,129.0,1.0,0.0,1.0,0.0,0.0],[0.0,776.0,1.0,38.0,1.0,192000.0,1.3,135.0,0.0,130.0,1.0,0.0,0.0,0.0,1.0],[0.0,66.0,1.0,20.0,0.0,70000.0,2.4,134.0,1.0,135.0,1.0,0.0,0.0,1.0,0.0],[1.0,176.0,1.0,25.0,0.0,221000.0,1.0,136.0,1.0,150.0,1.0,0.0,0.0,1.0,0.0],[0.0,395.0,1.0,25.0,0.0,265000.0,1.2,136.0,1.0,154.0,1.0,0.0,0.0,1.0,0.0],[0.0,99.0,0.0,38.0,1.0,224000.0,2.5,134.0,1.0,162.0,1.0,0.0,0.0,0.0,1.0],[1.0,145.0,0.0,25.0,0.0,219000.0,1.2,137.0,1.0,170.0,1.0,0.0,0.0,1.0,0.0],[1.0,104.0,1.0,30.0,0.0,389000.0,1.5,136.0,1.0,171.0,1.0,0.0,0.0,1.0,0.0],[0.0,582.0,0.0,50.0,0.0,153000.0,0.6,134.0,0.0,172.0,1.0,0.0,1.0,0.0,0.0],[0.0,1896.0,1.0,25.0,0.0,365000.0,2.1,144.0,0.0,172.0,1.0,0.0,0.0,1.0,0.0],[0.0,582.0,0.0,20.0,1.0,126000.0,1.6,135.0,1.0,180.0,1.0,0.0,1.0,0.0,0.0],[1.0,418.0,0.0,45.0,0.0,223000.0,1.8,145.0,1.0,180.0,1.0,0.0,0.0,0.0,1.0],[1.0,131.0,1.0,30.0,1.0,244000.0,1.6,130.0,0.0,193.0,1.0,0.0,1.0,0.0,0.0],[1.0,427.0,0.0,70.0,1.0,151000.0,9.0,137.0,0.0,196.0,1.0,0.0,0.0,1.0,0.0],[0.0,582.0,0.0,20.0,0.0,263358.03,1.83,134.0,1.0,198.0,1.0,0.0,0.0,0.0,1.0],[0.0,166.0,0.0,30.0,0.0,62000.0,1.7,127.0,0.0,207.0,1.0,0.0,0.0,1.0,0.0],[0.0,2017.0,0.0,25.0,0.0,314000.0,1.1,138.0,1.0,214.0,1.0,0.0,0.0,1.0,0.0],[1.0,258.0,1.0,25.0,0.0,198000.0,1.4,129.0,1.0,235.0,1.0,0.0,0.0,1.0,0.0],[0.0,1199.0,0.0,20.0,0.0,263358.03,1.83,134.0,1.0,241.0,1.0,0.0,0.0,1.0,0.0]],\"hovertemplate\":\"death_event=%{customdata[10]}\\u003cbr\\u003esmoking=%{x}\\u003cbr\\u003eage=%{y}\\u003cbr\\u003eanaemia=%{customdata[0]}\\u003cbr\\u003ecpk=%{customdata[1]}\\u003cbr\\u003ediabetes=%{customdata[2]}\\u003cbr\\u003eejection_fraction=%{customdata[3]}\\u003cbr\\u003ehigh_blood_pressure=%{customdata[4]}\\u003cbr\\u003eplatelets=%{customdata[5]}\\u003cbr\\u003eserum_creatinine=%{customdata[6]}\\u003cbr\\u003eserum_sodium=%{customdata[7]}\\u003cbr\\u003esex=%{customdata[8]}\\u003cbr\\u003etime=%{customdata[9]}\\u003cbr\\u003eage_till_30=%{customdata[11]}\\u003cbr\\u003eage_bet_30_50=%{customdata[12]}\\u003cbr\\u003eage_bet_50_70=%{customdata[13]}\\u003cbr\\u003eage_gret_70=%{customdata[14]}\\u003cextra\\u003e\\u003c\\u002fextra\\u003e\",\"legendgroup\":\"1\",\"marker\":{\"color\":\"#636efa\"},\"name\":\"1\",\"offsetgroup\":\"1\",\"orientation\":\"v\",\"points\":\"all\",\"scalegroup\":\"True\",\"showlegend\":true,\"x\":[0,0,1,0,0,1,0,1,0,1,1,1,0,0,0,0,0,0,0,0,1,0,1,0,1,0,1,0,0,0,0,0,0,0,0,1,1,1,0,1,0,1,0,0,0,0,0,0,1,0,1,1,0,0,0,1,0,1,0,0,1,1,1,0,0,0,1,1,0,0,0,0,0,1,0,0,0,0,0,0,1,1,0,1,0,0,0,0,0,0,0,0,0,0,0,1],\"x0\":\" \",\"xaxis\":\"x\",\"y\":[75.0,55.0,65.0,50.0,65.0,90.0,75.0,60.0,65.0,80.0,75.0,62.0,45.0,50.0,82.0,87.0,45.0,70.0,48.0,65.0,68.0,75.0,80.0,95.0,70.0,58.0,82.0,94.0,85.0,50.0,65.0,69.0,90.0,82.0,60.0,70.0,50.0,70.0,60.0,50.0,51.0,60.0,80.0,57.0,68.0,53.0,60.0,70.0,60.0,95.0,49.0,72.0,45.0,50.0,45.0,60.0,42.0,72.0,70.0,65.0,85.0,69.0,60.0,60.0,59.0,60.0,72.0,85.0,70.0,86.0,60.0,46.0,80.0,72.0,75.0,72.0,50.0,45.0,80.0,59.0,59.0,65.0,75.0,58.0,60.667,50.0,60.0,45.0,77.0,48.0,54.0,73.0,60.0,55.0,65.0,55.0],\"y0\":\" \",\"yaxis\":\"y\",\"type\":\"violin\"},{\"alignmentgroup\":\"True\",\"box\":{\"visible\":true},\"customdata\":[[1.0,80.0,0.0,30.0,1.0,427000.0,1.0,138.0,0.0,12.0,0.0,0.0,1.0,0.0,0.0],[1.0,52.0,0.0,25.0,1.0,276000.0,1.3,137.0,0.0,16.0,0.0,0.0,0.0,1.0,0.0],[0.0,63.0,1.0,60.0,0.0,368000.0,0.8,135.0,1.0,22.0,0.0,0.0,0.0,1.0,0.0],[1.0,159.0,1.0,30.0,0.0,302000.0,1.2,138.0,0.0,29.0,0.0,0.0,1.0,0.0,0.0],[0.0,2656.0,1.0,30.0,0.0,305000.0,2.3,137.0,1.0,30.0,0.0,0.0,0.0,1.0,0.0],[0.0,127.0,1.0,50.0,1.0,218000.0,1.0,134.0,1.0,33.0,0.0,0.0,0.0,0.0,1.0],[1.0,75.0,0.0,35.0,0.0,223000.0,2.7,138.0,1.0,54.0,0.0,0.0,0.0,1.0,0.0],[1.0,607.0,0.0,40.0,0.0,216000.0,0.6,138.0,1.0,54.0,0.0,0.0,0.0,1.0,0.0],[0.0,109.0,0.0,35.0,0.0,254000.0,1.1,139.0,1.0,60.0,0.0,0.0,0.0,1.0,0.0],[0.0,582.0,0.0,80.0,0.0,263358.03,1.18,137.0,0.0,63.0,0.0,0.0,1.0,0.0,0.0],[0.0,148.0,0.0,40.0,0.0,374000.0,0.8,140.0,1.0,68.0,0.0,0.0,1.0,0.0,0.0],[0.0,582.0,1.0,35.0,0.0,122000.0,0.9,139.0,1.0,71.0,0.0,0.0,0.0,1.0,0.0],[0.0,224.0,1.0,50.0,0.0,149000.0,1.3,137.0,1.0,72.0,0.0,0.0,0.0,1.0,0.0],[0.0,92.0,0.0,60.0,1.0,317000.0,0.8,140.0,0.0,74.0,0.0,0.0,0.0,1.0,0.0],[0.0,102.0,1.0,40.0,0.0,237000.0,1.2,140.0,1.0,74.0,0.0,0.0,1.0,0.0,0.0],[1.0,203.0,1.0,38.0,1.0,283000.0,0.6,131.0,1.0,74.0,0.0,0.0,0.0,0.0,1.0],[0.0,336.0,0.0,45.0,1.0,324000.0,0.9,140.0,0.0,74.0,0.0,0.0,0.0,1.0,0.0],[0.0,69.0,0.0,40.0,0.0,293000.0,1.7,136.0,0.0,75.0,0.0,0.0,0.0,1.0,0.0],[0.0,582.0,0.0,50.0,0.0,263358.03,1.18,137.0,1.0,76.0,0.0,0.0,0.0,1.0,0.0],[1.0,55.0,0.0,50.0,1.0,172000.0,1.8,133.0,1.0,78.0,0.0,0.0,0.0,0.0,1.0],[0.0,78.0,0.0,50.0,0.0,406000.0,0.7,140.0,1.0,79.0,0.0,0.0,0.0,1.0,0.0],[0.0,47.0,0.0,35.0,1.0,173000.0,1.1,137.0,1.0,79.0,0.0,0.0,0.0,1.0,0.0],[1.0,68.0,1.0,60.0,1.0,304000.0,0.8,140.0,1.0,79.0,0.0,0.0,0.0,1.0,0.0],[0.0,84.0,1.0,40.0,1.0,235000.0,0.7,139.0,1.0,79.0,0.0,0.0,1.0,0.0,0.0],[1.0,115.0,0.0,25.0,1.0,181000.0,1.1,144.0,1.0,79.0,0.0,0.0,0.0,1.0,0.0],[0.0,66.0,1.0,45.0,0.0,249000.0,0.8,136.0,1.0,80.0,0.0,0.0,0.0,1.0,0.0],[0.0,897.0,1.0,45.0,0.0,297000.0,1.0,133.0,1.0,80.0,0.0,0.0,0.0,1.0,0.0],[0.0,582.0,0.0,60.0,0.0,263358.03,1.18,137.0,0.0,82.0,0.0,0.0,1.0,0.0,0.0],[0.0,144.0,1.0,38.0,1.0,327000.0,0.7,142.0,0.0,83.0,0.0,0.0,0.0,1.0,0.0],[1.0,133.0,0.0,60.0,1.0,219000.0,1.0,141.0,1.0,83.0,0.0,0.0,0.0,1.0,0.0],[1.0,514.0,1.0,25.0,1.0,254000.0,1.3,134.0,1.0,83.0,0.0,0.0,0.0,1.0,0.0],[1.0,59.0,0.0,60.0,0.0,255000.0,1.1,136.0,0.0,85.0,0.0,0.0,0.0,1.0,0.0],[1.0,156.0,1.0,25.0,1.0,318000.0,1.2,137.0,0.0,85.0,0.0,0.0,0.0,1.0,0.0],[1.0,61.0,1.0,40.0,0.0,221000.0,1.1,140.0,0.0,86.0,0.0,0.0,0.0,1.0,0.0],[1.0,305.0,0.0,25.0,0.0,298000.0,1.1,141.0,1.0,87.0,0.0,0.0,0.0,1.0,0.0],[0.0,582.0,0.0,45.0,1.0,263358.03,1.18,137.0,1.0,87.0,0.0,0.0,0.0,0.0,1.0],[0.0,898.0,0.0,25.0,0.0,149000.0,1.1,144.0,1.0,87.0,0.0,0.0,0.0,0.0,1.0],[0.0,5209.0,0.0,30.0,0.0,226000.0,1.0,140.0,1.0,87.0,0.0,0.0,1.0,0.0,0.0],[0.0,53.0,0.0,50.0,1.0,286000.0,2.3,143.0,0.0,87.0,0.0,0.0,0.0,1.0,0.0],[0.0,748.0,0.0,45.0,0.0,263000.0,1.3,137.0,1.0,88.0,0.0,0.0,0.0,1.0,0.0],[1.0,1876.0,1.0,35.0,0.0,226000.0,0.9,138.0,1.0,88.0,0.0,0.0,1.0,0.0,0.0],[0.0,936.0,0.0,38.0,0.0,304000.0,1.1,133.0,1.0,88.0,0.0,0.0,0.0,1.0,0.0],[0.0,292.0,1.0,35.0,0.0,850000.0,1.3,142.0,1.0,88.0,0.0,0.0,1.0,0.0,0.0],[0.0,60.0,0.0,35.0,0.0,228000.0,1.2,135.0,1.0,90.0,0.0,0.0,0.0,1.0,0.0],[0.0,369.0,1.0,25.0,0.0,252000.0,1.6,136.0,1.0,90.0,0.0,0.0,1.0,0.0,0.0],[1.0,754.0,1.0,40.0,1.0,328000.0,1.2,126.0,1.0,91.0,0.0,0.0,0.0,1.0,0.0],[1.0,400.0,0.0,40.0,0.0,164000.0,1.0,139.0,0.0,91.0,0.0,0.0,0.0,1.0,0.0],[1.0,96.0,1.0,60.0,1.0,271000.0,0.7,136.0,0.0,94.0,0.0,0.0,0.0,1.0,0.0],[1.0,102.0,0.0,60.0,0.0,507000.0,3.2,138.0,0.0,94.0,0.0,0.0,0.0,0.0,1.0],[1.0,113.0,1.0,60.0,1.0,203000.0,0.9,140.0,0.0,94.0,0.0,0.0,0.0,1.0,0.0],[1.0,737.0,0.0,60.0,1.0,210000.0,1.5,135.0,1.0,95.0,0.0,0.0,0.0,1.0,0.0],[1.0,68.0,1.0,38.0,1.0,162000.0,1.0,136.0,0.0,95.0,0.0,0.0,0.0,1.0,0.0],[0.0,96.0,1.0,38.0,0.0,228000.0,0.75,140.0,0.0,95.0,0.0,0.0,0.0,1.0,0.0],[1.0,582.0,0.0,30.0,1.0,127000.0,0.9,145.0,0.0,95.0,0.0,0.0,0.0,1.0,0.0],[1.0,358.0,0.0,50.0,0.0,237000.0,1.3,135.0,0.0,97.0,0.0,0.0,1.0,0.0,0.0],[1.0,200.0,1.0,60.0,0.0,300000.0,0.8,137.0,0.0,104.0,0.0,0.0,0.0,1.0,0.0],[0.0,248.0,0.0,30.0,1.0,267000.0,0.7,136.0,1.0,104.0,0.0,0.0,0.0,1.0,0.0],[1.0,270.0,1.0,35.0,0.0,227000.0,3.4,145.0,1.0,105.0,0.0,0.0,0.0,1.0,0.0],[1.0,1808.0,0.0,60.0,1.0,249000.0,0.7,138.0,1.0,106.0,0.0,0.0,0.0,1.0,0.0],[1.0,1082.0,1.0,45.0,0.0,250000.0,6.1,131.0,1.0,107.0,0.0,0.0,0.0,1.0,0.0],[0.0,719.0,0.0,40.0,1.0,263358.03,1.18,137.0,0.0,107.0,0.0,0.0,1.0,0.0,0.0],[0.0,193.0,0.0,60.0,1.0,295000.0,1.3,145.0,1.0,107.0,0.0,0.0,0.0,1.0,0.0],[0.0,4540.0,0.0,35.0,0.0,231000.0,1.18,137.0,1.0,107.0,0.0,0.0,0.0,0.0,1.0],[0.0,582.0,0.0,40.0,0.0,263358.03,1.18,137.0,1.0,107.0,0.0,0.0,0.0,0.0,1.0],[1.0,59.0,1.0,60.0,0.0,172000.0,0.9,137.0,0.0,107.0,0.0,0.0,0.0,1.0,0.0],[1.0,646.0,0.0,25.0,0.0,305000.0,2.1,130.0,1.0,108.0,0.0,0.0,0.0,1.0,0.0],[0.0,281.0,1.0,35.0,0.0,221000.0,1.0,136.0,0.0,108.0,0.0,0.0,0.0,1.0,0.0],[0.0,1548.0,0.0,30.0,1.0,211000.0,0.8,138.0,1.0,108.0,0.0,0.0,1.0,0.0,0.0],[1.0,291.0,0.0,35.0,0.0,348000.0,0.9,140.0,0.0,109.0,0.0,0.0,1.0,0.0,0.0],[0.0,482.0,1.0,30.0,0.0,329000.0,0.9,132.0,0.0,109.0,0.0,0.0,1.0,0.0,0.0],[1.0,84.0,0.0,40.0,1.0,229000.0,0.9,141.0,0.0,110.0,0.0,0.0,0.0,1.0,0.0],[0.0,185.0,0.0,30.0,0.0,266000.0,0.7,141.0,1.0,112.0,0.0,0.0,1.0,0.0,0.0],[0.0,132.0,0.0,30.0,0.0,218000.0,0.7,136.0,1.0,112.0,0.0,0.0,0.0,1.0,0.0],[0.0,1610.0,0.0,60.0,0.0,242000.0,1.0,137.0,1.0,113.0,0.0,0.0,0.0,1.0,0.0],[0.0,2261.0,0.0,35.0,1.0,228000.0,0.9,136.0,1.0,115.0,0.0,0.0,0.0,1.0,0.0],[0.0,30.0,1.0,60.0,1.0,244000.0,0.9,139.0,1.0,117.0,0.0,0.0,0.0,1.0,0.0],[0.0,115.0,0.0,45.0,1.0,184000.0,0.9,134.0,1.0,118.0,0.0,0.0,1.0,0.0,0.0],[0.0,1846.0,1.0,35.0,0.0,263358.03,1.18,137.0,1.0,119.0,0.0,0.0,1.0,0.0,0.0],[1.0,335.0,0.0,35.0,1.0,235000.0,0.8,136.0,0.0,120.0,0.0,0.0,0.0,1.0,0.0],[1.0,231.0,1.0,25.0,0.0,194000.0,1.7,140.0,1.0,120.0,0.0,0.0,0.0,1.0,0.0],[1.0,58.0,0.0,35.0,0.0,277000.0,1.4,136.0,0.0,120.0,0.0,0.0,0.0,1.0,0.0],[0.0,250.0,0.0,25.0,0.0,262000.0,1.0,136.0,1.0,120.0,0.0,0.0,1.0,0.0,0.0],[1.0,910.0,0.0,50.0,0.0,235000.0,1.3,134.0,1.0,121.0,0.0,0.0,0.0,0.0,1.0],[1.0,129.0,0.0,45.0,1.0,362000.0,1.1,139.0,1.0,121.0,0.0,0.0,0.0,1.0,0.0],[1.0,72.0,0.0,40.0,1.0,242000.0,1.2,134.0,1.0,121.0,0.0,0.0,0.0,1.0,0.0],[1.0,130.0,0.0,35.0,0.0,174000.0,0.8,139.0,1.0,121.0,0.0,0.0,1.0,0.0,0.0],[1.0,582.0,0.0,40.0,0.0,448000.0,0.9,137.0,1.0,123.0,0.0,0.0,0.0,1.0,0.0],[0.0,196.0,0.0,60.0,0.0,220000.0,0.7,133.0,1.0,134.0,0.0,0.0,0.0,1.0,0.0],[0.0,582.0,1.0,40.0,0.0,270000.0,1.0,138.0,0.0,140.0,0.0,0.0,0.0,1.0,0.0],[0.0,835.0,0.0,35.0,1.0,305000.0,0.8,133.0,0.0,145.0,0.0,0.0,0.0,1.0,0.0],[1.0,582.0,1.0,35.0,0.0,263358.03,1.5,136.0,1.0,145.0,0.0,0.0,0.0,1.0,0.0],[0.0,3966.0,0.0,40.0,0.0,325000.0,0.9,140.0,1.0,146.0,0.0,0.0,0.0,1.0,0.0],[1.0,171.0,0.0,60.0,1.0,176000.0,1.1,145.0,1.0,146.0,0.0,0.0,0.0,1.0,0.0],[1.0,115.0,0.0,20.0,0.0,189000.0,0.8,139.0,1.0,146.0,0.0,0.0,1.0,0.0,0.0],[0.0,198.0,1.0,35.0,1.0,281000.0,0.9,137.0,1.0,146.0,0.0,0.0,0.0,1.0,0.0],[1.0,95.0,0.0,60.0,0.0,337000.0,1.0,138.0,1.0,146.0,0.0,0.0,0.0,1.0,0.0],[0.0,1419.0,0.0,40.0,0.0,105000.0,1.0,135.0,1.0,147.0,0.0,0.0,0.0,1.0,0.0],[1.0,69.0,0.0,50.0,0.0,132000.0,1.0,140.0,0.0,147.0,0.0,0.0,1.0,0.0,0.0],[1.0,122.0,1.0,60.0,0.0,267000.0,1.2,145.0,1.0,147.0,0.0,0.0,0.0,1.0,0.0],[0.0,835.0,0.0,40.0,0.0,279000.0,0.7,140.0,1.0,147.0,0.0,0.0,0.0,1.0,0.0],[0.0,478.0,1.0,30.0,0.0,303000.0,0.9,136.0,1.0,148.0,0.0,0.0,1.0,0.0,0.0],[1.0,151.0,1.0,40.0,1.0,201000.0,1.0,136.0,0.0,172.0,0.0,0.0,0.0,1.0,0.0],[0.0,244.0,0.0,45.0,1.0,275000.0,0.9,140.0,0.0,174.0,0.0,0.0,1.0,0.0,0.0],[0.0,582.0,1.0,35.0,0.0,350000.0,2.1,134.0,1.0,174.0,0.0,0.0,0.0,0.0,1.0],[1.0,62.0,0.0,60.0,0.0,309000.0,1.5,135.0,0.0,174.0,0.0,0.0,0.0,1.0,0.0],[1.0,121.0,1.0,40.0,0.0,260000.0,0.7,130.0,1.0,175.0,0.0,0.0,1.0,0.0,0.0],[1.0,231.0,1.0,30.0,0.0,160000.0,1.18,142.0,1.0,180.0,0.0,0.0,0.0,0.0,1.0],[0.0,582.0,1.0,38.0,1.0,263358.03,1.18,137.0,0.0,185.0,0.0,0.0,1.0,0.0,0.0],[0.0,167.0,0.0,30.0,0.0,259000.0,0.8,138.0,0.0,186.0,0.0,0.0,0.0,1.0,0.0],[1.0,582.0,1.0,20.0,1.0,279000.0,1.0,134.0,0.0,186.0,0.0,0.0,1.0,0.0,0.0],[0.0,1211.0,1.0,35.0,0.0,263358.03,1.8,113.0,1.0,186.0,0.0,0.0,0.0,1.0,0.0],[1.0,1767.0,0.0,45.0,0.0,73000.0,0.7,137.0,1.0,186.0,0.0,0.0,0.0,1.0,0.0],[0.0,308.0,1.0,60.0,1.0,377000.0,1.0,136.0,1.0,186.0,0.0,0.0,1.0,0.0,0.0],[0.0,97.0,0.0,60.0,1.0,220000.0,0.9,138.0,1.0,186.0,0.0,0.0,0.0,1.0,0.0],[0.0,59.0,0.0,25.0,1.0,212000.0,3.5,136.0,1.0,187.0,0.0,0.0,0.0,1.0,0.0],[1.0,64.0,0.0,40.0,0.0,277000.0,0.7,137.0,1.0,187.0,0.0,0.0,0.0,0.0,1.0],[1.0,167.0,1.0,45.0,0.0,362000.0,1.0,136.0,0.0,187.0,0.0,0.0,1.0,0.0,0.0],[1.0,101.0,0.0,40.0,0.0,226000.0,0.8,141.0,0.0,187.0,0.0,0.0,1.0,0.0,0.0],[0.0,212.0,0.0,38.0,0.0,186000.0,0.9,136.0,1.0,187.0,0.0,0.0,0.0,0.0,1.0],[1.0,2281.0,1.0,40.0,0.0,283000.0,1.0,141.0,0.0,187.0,0.0,0.0,0.0,1.0,0.0],[0.0,972.0,1.0,35.0,1.0,268000.0,0.8,130.0,0.0,187.0,0.0,0.0,1.0,0.0,0.0],[0.0,212.0,1.0,17.0,1.0,389000.0,1.0,136.0,1.0,188.0,0.0,0.0,0.0,1.0,0.0],[0.0,582.0,0.0,62.0,1.0,147000.0,0.8,140.0,1.0,192.0,0.0,0.0,1.0,0.0,0.0],[0.0,224.0,0.0,50.0,0.0,481000.0,1.4,138.0,1.0,192.0,0.0,0.0,0.0,0.0,1.0],[1.0,135.0,0.0,35.0,1.0,290000.0,0.8,134.0,1.0,194.0,0.0,0.0,0.0,1.0,0.0],[0.0,582.0,0.0,35.0,1.0,203000.0,1.3,134.0,1.0,195.0,0.0,0.0,0.0,0.0,1.0],[0.0,1202.0,0.0,50.0,1.0,358000.0,0.9,141.0,0.0,196.0,0.0,0.0,0.0,1.0,0.0],[1.0,1021.0,1.0,35.0,0.0,271000.0,1.1,134.0,1.0,197.0,0.0,0.0,0.0,1.0,0.0],[0.0,582.0,1.0,35.0,1.0,371000.0,0.7,140.0,0.0,197.0,0.0,0.0,0.0,1.0,0.0],[0.0,118.0,0.0,50.0,0.0,194000.0,1.1,145.0,1.0,200.0,0.0,0.0,0.0,1.0,0.0],[1.0,86.0,0.0,35.0,0.0,365000.0,1.1,139.0,1.0,201.0,0.0,0.0,1.0,0.0,0.0],[0.0,582.0,0.0,25.0,0.0,130000.0,0.8,134.0,1.0,201.0,0.0,0.0,1.0,0.0,0.0],[0.0,582.0,1.0,25.0,0.0,504000.0,1.0,138.0,1.0,205.0,0.0,0.0,0.0,1.0,0.0],[0.0,675.0,1.0,60.0,0.0,265000.0,1.4,125.0,0.0,205.0,0.0,0.0,0.0,0.0,1.0],[1.0,57.0,0.0,25.0,0.0,189000.0,1.3,132.0,1.0,205.0,0.0,0.0,0.0,1.0,0.0],[1.0,2794.0,0.0,35.0,1.0,141000.0,1.0,140.0,1.0,206.0,0.0,0.0,0.0,1.0,0.0],[0.0,56.0,0.0,25.0,0.0,237000.0,5.0,130.0,0.0,207.0,0.0,0.0,0.0,1.0,0.0],[0.0,211.0,0.0,25.0,0.0,274000.0,1.2,134.0,0.0,207.0,0.0,0.0,0.0,0.0,1.0],[0.0,93.0,0.0,35.0,0.0,185000.0,1.1,134.0,1.0,208.0,0.0,0.0,0.0,1.0,0.0],[1.0,129.0,0.0,35.0,0.0,255000.0,0.9,137.0,1.0,209.0,0.0,0.0,1.0,0.0,0.0],[1.0,707.0,0.0,38.0,0.0,330000.0,1.4,137.0,1.0,209.0,0.0,0.0,0.0,1.0,0.0],[1.0,582.0,0.0,45.0,0.0,305000.0,1.1,137.0,1.0,209.0,0.0,0.0,0.0,1.0,0.0],[1.0,109.0,0.0,50.0,1.0,406000.0,1.1,137.0,1.0,209.0,0.0,0.0,0.0,0.0,1.0],[0.0,119.0,0.0,50.0,1.0,248000.0,1.1,148.0,1.0,209.0,0.0,0.0,0.0,0.0,1.0],[0.0,232.0,0.0,30.0,0.0,173000.0,1.2,132.0,1.0,210.0,0.0,0.0,0.0,1.0,0.0],[1.0,720.0,1.0,40.0,0.0,257000.0,1.0,136.0,0.0,210.0,0.0,0.0,0.0,1.0,0.0],[1.0,180.0,0.0,45.0,0.0,263358.03,1.18,137.0,1.0,211.0,0.0,0.0,0.0,1.0,0.0],[0.0,81.0,1.0,35.0,1.0,533000.0,1.3,139.0,0.0,212.0,0.0,0.0,0.0,1.0,0.0],[0.0,582.0,1.0,30.0,0.0,249000.0,1.3,136.0,1.0,212.0,0.0,0.0,0.0,1.0,0.0],[0.0,90.0,0.0,35.0,0.0,255000.0,1.1,136.0,1.0,212.0,0.0,0.0,1.0,0.0,0.0],[1.0,1185.0,0.0,40.0,1.0,220000.0,0.9,141.0,0.0,213.0,0.0,0.0,0.0,0.0,1.0],[0.0,582.0,1.0,38.0,0.0,264000.0,1.8,134.0,1.0,213.0,0.0,0.0,0.0,1.0,0.0],[1.0,80.0,1.0,38.0,0.0,282000.0,1.4,137.0,1.0,213.0,0.0,0.0,0.0,1.0,0.0],[0.0,143.0,0.0,25.0,0.0,246000.0,2.4,135.0,1.0,214.0,0.0,0.0,0.0,1.0,0.0],[0.0,624.0,0.0,35.0,0.0,301000.0,1.0,142.0,1.0,214.0,0.0,0.0,1.0,0.0,0.0],[0.0,207.0,1.0,40.0,0.0,223000.0,1.2,130.0,0.0,214.0,0.0,0.0,0.0,1.0,0.0],[0.0,2522.0,0.0,30.0,1.0,404000.0,0.5,139.0,0.0,214.0,0.0,0.0,1.0,0.0,0.0],[0.0,572.0,1.0,35.0,0.0,231000.0,0.8,143.0,0.0,215.0,0.0,0.0,0.0,1.0,0.0],[0.0,245.0,0.0,45.0,1.0,274000.0,1.0,133.0,1.0,215.0,0.0,0.0,1.0,0.0,0.0],[0.0,88.0,1.0,35.0,1.0,236000.0,1.2,132.0,0.0,215.0,0.0,0.0,0.0,1.0,0.0],[1.0,446.0,0.0,60.0,1.0,263358.03,1.0,139.0,1.0,215.0,0.0,0.0,0.0,1.0,0.0],[1.0,191.0,1.0,30.0,1.0,334000.0,1.0,142.0,1.0,216.0,0.0,0.0,0.0,1.0,0.0],[0.0,326.0,0.0,38.0,0.0,294000.0,1.7,139.0,0.0,220.0,0.0,0.0,0.0,1.0,0.0],[0.0,132.0,1.0,38.0,1.0,253000.0,1.0,139.0,1.0,230.0,0.0,0.0,0.0,1.0,0.0],[1.0,66.0,1.0,25.0,0.0,233000.0,0.8,135.0,1.0,230.0,0.0,0.0,1.0,0.0,0.0],[0.0,56.0,0.0,50.0,0.0,308000.0,0.7,135.0,1.0,231.0,0.0,0.0,0.0,1.0,0.0],[0.0,66.0,0.0,40.0,0.0,203000.0,1.0,138.0,1.0,233.0,0.0,0.0,0.0,1.0,0.0],[1.0,655.0,0.0,40.0,0.0,283000.0,0.7,133.0,0.0,233.0,0.0,0.0,0.0,1.0,0.0],[1.0,157.0,1.0,60.0,0.0,208000.0,1.0,140.0,0.0,237.0,0.0,0.0,0.0,1.0,0.0],[0.0,582.0,1.0,38.0,0.0,147000.0,1.2,141.0,1.0,237.0,0.0,0.0,0.0,1.0,0.0],[1.0,298.0,0.0,35.0,0.0,362000.0,0.9,140.0,1.0,240.0,0.0,0.0,1.0,0.0,0.0],[1.0,135.0,1.0,38.0,0.0,133000.0,1.7,140.0,1.0,244.0,0.0,0.0,0.0,1.0,0.0],[0.0,582.0,1.0,38.0,0.0,302000.0,0.9,140.0,0.0,244.0,0.0,0.0,1.0,0.0,0.0],[0.0,582.0,1.0,35.0,0.0,222000.0,1.0,132.0,1.0,244.0,0.0,0.0,1.0,0.0,0.0],[0.0,582.0,1.0,30.0,1.0,263358.03,1.6,130.0,1.0,244.0,0.0,0.0,1.0,0.0,0.0],[0.0,582.0,1.0,40.0,0.0,221000.0,0.9,134.0,0.0,244.0,0.0,0.0,0.0,1.0,0.0],[0.0,213.0,0.0,38.0,0.0,215000.0,1.2,133.0,0.0,245.0,0.0,0.0,0.0,1.0,0.0],[0.0,64.0,0.0,40.0,0.0,189000.0,0.7,140.0,1.0,245.0,0.0,0.0,1.0,0.0,0.0],[1.0,257.0,1.0,30.0,0.0,150000.0,1.0,137.0,1.0,245.0,0.0,0.0,0.0,1.0,0.0],[0.0,582.0,0.0,38.0,1.0,422000.0,0.8,137.0,0.0,245.0,0.0,0.0,1.0,0.0,0.0],[0.0,618.0,0.0,35.0,0.0,327000.0,1.1,142.0,0.0,245.0,0.0,0.0,0.0,1.0,0.0],[0.0,582.0,1.0,38.0,0.0,25100.0,1.1,140.0,1.0,246.0,0.0,0.0,0.0,1.0,0.0],[1.0,1051.0,1.0,30.0,0.0,232000.0,0.7,136.0,0.0,246.0,0.0,0.0,1.0,0.0,0.0],[0.0,84.0,1.0,38.0,0.0,451000.0,1.3,136.0,0.0,246.0,0.0,0.0,0.0,1.0,0.0],[0.0,2695.0,1.0,40.0,0.0,241000.0,1.0,137.0,1.0,247.0,0.0,0.0,0.0,1.0,0.0],[0.0,582.0,0.0,40.0,0.0,51000.0,2.7,136.0,1.0,250.0,0.0,0.0,0.0,1.0,0.0],[0.0,64.0,0.0,30.0,0.0,215000.0,3.8,128.0,1.0,250.0,0.0,0.0,1.0,0.0,0.0],[0.0,1688.0,0.0,38.0,0.0,263358.03,1.1,138.0,1.0,250.0,0.0,0.0,0.0,1.0,0.0],[1.0,54.0,0.0,40.0,0.0,279000.0,0.8,141.0,1.0,250.0,0.0,0.0,1.0,0.0,0.0],[1.0,170.0,1.0,40.0,0.0,336000.0,1.2,135.0,1.0,250.0,0.0,0.0,0.0,1.0,0.0],[0.0,253.0,0.0,35.0,0.0,279000.0,1.7,140.0,1.0,250.0,0.0,0.0,0.0,1.0,0.0],[0.0,582.0,1.0,55.0,0.0,543000.0,1.0,132.0,0.0,250.0,0.0,0.0,1.0,0.0,0.0],[0.0,892.0,1.0,35.0,0.0,263358.03,1.1,142.0,0.0,256.0,0.0,0.0,0.0,1.0,0.0],[1.0,337.0,0.0,38.0,0.0,390000.0,0.9,144.0,0.0,256.0,0.0,0.0,0.0,0.0,1.0],[0.0,615.0,1.0,55.0,0.0,222000.0,0.8,141.0,0.0,257.0,0.0,0.0,1.0,0.0,0.0],[0.0,320.0,0.0,35.0,0.0,133000.0,1.4,139.0,1.0,258.0,0.0,0.0,0.0,1.0,0.0],[0.0,190.0,1.0,38.0,0.0,382000.0,1.0,140.0,1.0,258.0,0.0,0.0,0.0,1.0,0.0],[1.0,103.0,1.0,35.0,0.0,179000.0,0.9,136.0,1.0,270.0,0.0,0.0,0.0,1.0,0.0],[0.0,61.0,1.0,38.0,1.0,155000.0,1.1,143.0,1.0,270.0,0.0,0.0,0.0,1.0,0.0],[0.0,1820.0,0.0,38.0,0.0,270000.0,1.2,139.0,0.0,271.0,0.0,0.0,0.0,1.0,0.0],[0.0,2060.0,1.0,60.0,0.0,742000.0,0.8,138.0,0.0,278.0,0.0,0.0,1.0,0.0,0.0],[0.0,2413.0,0.0,38.0,0.0,140000.0,1.4,140.0,1.0,280.0,0.0,0.0,1.0,0.0,0.0],[0.0,196.0,0.0,45.0,0.0,395000.0,1.6,136.0,1.0,285.0,0.0,0.0,1.0,0.0,0.0]],\"hovertemplate\":\"death_event=%{customdata[10]}\\u003cbr\\u003esmoking=%{x}\\u003cbr\\u003eage=%{y}\\u003cbr\\u003eanaemia=%{customdata[0]}\\u003cbr\\u003ecpk=%{customdata[1]}\\u003cbr\\u003ediabetes=%{customdata[2]}\\u003cbr\\u003eejection_fraction=%{customdata[3]}\\u003cbr\\u003ehigh_blood_pressure=%{customdata[4]}\\u003cbr\\u003eplatelets=%{customdata[5]}\\u003cbr\\u003eserum_creatinine=%{customdata[6]}\\u003cbr\\u003eserum_sodium=%{customdata[7]}\\u003cbr\\u003esex=%{customdata[8]}\\u003cbr\\u003etime=%{customdata[9]}\\u003cbr\\u003eage_till_30=%{customdata[11]}\\u003cbr\\u003eage_bet_30_50=%{customdata[12]}\\u003cbr\\u003eage_bet_50_70=%{customdata[13]}\\u003cbr\\u003eage_gret_70=%{customdata[14]}\\u003cextra\\u003e\\u003c\\u002fextra\\u003e\",\"legendgroup\":\"0\",\"marker\":{\"color\":\"#EF553B\"},\"name\":\"0\",\"offsetgroup\":\"0\",\"orientation\":\"v\",\"points\":\"all\",\"scalegroup\":\"True\",\"showlegend\":true,\"x\":[0,0,0,0,0,0,1,1,1,0,1,1,1,1,0,1,0,0,1,0,0,0,0,0,0,1,0,0,0,0,0,0,0,0,0,0,1,1,0,0,0,1,1,1,0,0,0,0,0,0,1,0,0,0,0,0,1,0,1,0,0,1,1,0,0,0,0,0,0,0,0,1,1,0,0,0,1,1,0,0,0,1,0,1,0,1,1,1,0,0,1,1,1,0,1,1,1,0,0,1,0,0,0,0,0,0,1,0,0,0,1,0,0,0,1,1,0,0,0,0,0,1,1,1,0,0,0,0,0,1,1,0,0,0,1,0,0,0,1,0,1,1,0,0,0,0,1,0,1,1,0,0,0,0,1,0,0,0,0,0,0,1,0,0,0,1,0,0,0,0,1,0,0,0,1,0,0,0,1,0,0,0,0,0,0,1,1,1,0,0,0,0,0,0,0,0,1,1,1,0,0,1,1],\"x0\":\" \",\"xaxis\":\"x\",\"y\":[49.0,65.0,53.0,50.0,60.0,72.0,70.0,60.0,55.0,45.0,41.0,58.0,65.0,70.0,42.0,75.0,55.0,70.0,67.0,79.0,51.0,55.0,65.0,44.0,57.0,70.0,60.0,42.0,58.0,58.0,63.0,70.0,60.0,63.0,65.0,75.0,80.0,42.0,60.0,55.0,45.0,63.0,45.0,55.0,50.0,60.0,58.0,60.0,85.0,65.0,60.0,66.0,60.0,60.0,43.0,58.0,61.0,53.0,53.0,60.0,46.0,63.0,81.0,75.0,65.0,68.0,62.0,50.0,46.0,50.0,61.0,50.0,52.0,64.0,60.0,62.0,50.0,50.0,65.0,60.0,52.0,50.0,85.0,59.0,66.0,45.0,63.0,53.0,65.0,70.0,51.0,52.0,70.0,50.0,65.0,60.0,69.0,49.0,63.0,55.0,40.0,60.667,40.0,80.0,64.0,50.0,73.0,45.0,65.0,50.0,60.0,63.0,45.0,70.0,60.0,78.0,50.0,40.0,85.0,60.0,49.0,70.0,50.0,78.0,65.0,73.0,70.0,68.0,55.0,65.0,42.0,47.0,58.0,75.0,58.0,55.0,65.0,72.0,70.0,40.0,53.0,53.0,77.0,75.0,70.0,65.0,55.0,70.0,65.0,40.0,73.0,54.0,61.0,64.0,40.0,53.0,50.0,55.0,50.0,70.0,53.0,52.0,65.0,58.0,45.0,53.0,55.0,62.0,68.0,61.0,50.0,56.0,45.0,40.0,44.0,51.0,67.0,42.0,60.0,45.0,70.0,70.0,50.0,55.0,70.0,70.0,42.0,65.0,50.0,55.0,60.0,45.0,65.0,90.0,45.0,60.0,52.0,63.0,62.0,55.0,45.0,45.0,50.0],\"y0\":\" \",\"yaxis\":\"y\",\"type\":\"violin\"}],                        {\"template\":{\"data\":{\"histogram2dcontour\":[{\"type\":\"histogram2dcontour\",\"colorbar\":{\"outlinewidth\":0,\"ticks\":\"\"},\"colorscale\":[[0.0,\"#0d0887\"],[0.1111111111111111,\"#46039f\"],[0.2222222222222222,\"#7201a8\"],[0.3333333333333333,\"#9c179e\"],[0.4444444444444444,\"#bd3786\"],[0.5555555555555556,\"#d8576b\"],[0.6666666666666666,\"#ed7953\"],[0.7777777777777778,\"#fb9f3a\"],[0.8888888888888888,\"#fdca26\"],[1.0,\"#f0f921\"]]}],\"choropleth\":[{\"type\":\"choropleth\",\"colorbar\":{\"outlinewidth\":0,\"ticks\":\"\"}}],\"histogram2d\":[{\"type\":\"histogram2d\",\"colorbar\":{\"outlinewidth\":0,\"ticks\":\"\"},\"colorscale\":[[0.0,\"#0d0887\"],[0.1111111111111111,\"#46039f\"],[0.2222222222222222,\"#7201a8\"],[0.3333333333333333,\"#9c179e\"],[0.4444444444444444,\"#bd3786\"],[0.5555555555555556,\"#d8576b\"],[0.6666666666666666,\"#ed7953\"],[0.7777777777777778,\"#fb9f3a\"],[0.8888888888888888,\"#fdca26\"],[1.0,\"#f0f921\"]]}],\"heatmap\":[{\"type\":\"heatmap\",\"colorbar\":{\"outlinewidth\":0,\"ticks\":\"\"},\"colorscale\":[[0.0,\"#0d0887\"],[0.1111111111111111,\"#46039f\"],[0.2222222222222222,\"#7201a8\"],[0.3333333333333333,\"#9c179e\"],[0.4444444444444444,\"#bd3786\"],[0.5555555555555556,\"#d8576b\"],[0.6666666666666666,\"#ed7953\"],[0.7777777777777778,\"#fb9f3a\"],[0.8888888888888888,\"#fdca26\"],[1.0,\"#f0f921\"]]}],\"heatmapgl\":[{\"type\":\"heatmapgl\",\"colorbar\":{\"outlinewidth\":0,\"ticks\":\"\"},\"colorscale\":[[0.0,\"#0d0887\"],[0.1111111111111111,\"#46039f\"],[0.2222222222222222,\"#7201a8\"],[0.3333333333333333,\"#9c179e\"],[0.4444444444444444,\"#bd3786\"],[0.5555555555555556,\"#d8576b\"],[0.6666666666666666,\"#ed7953\"],[0.7777777777777778,\"#fb9f3a\"],[0.8888888888888888,\"#fdca26\"],[1.0,\"#f0f921\"]]}],\"contourcarpet\":[{\"type\":\"contourcarpet\",\"colorbar\":{\"outlinewidth\":0,\"ticks\":\"\"}}],\"contour\":[{\"type\":\"contour\",\"colorbar\":{\"outlinewidth\":0,\"ticks\":\"\"},\"colorscale\":[[0.0,\"#0d0887\"],[0.1111111111111111,\"#46039f\"],[0.2222222222222222,\"#7201a8\"],[0.3333333333333333,\"#9c179e\"],[0.4444444444444444,\"#bd3786\"],[0.5555555555555556,\"#d8576b\"],[0.6666666666666666,\"#ed7953\"],[0.7777777777777778,\"#fb9f3a\"],[0.8888888888888888,\"#fdca26\"],[1.0,\"#f0f921\"]]}],\"surface\":[{\"type\":\"surface\",\"colorbar\":{\"outlinewidth\":0,\"ticks\":\"\"},\"colorscale\":[[0.0,\"#0d0887\"],[0.1111111111111111,\"#46039f\"],[0.2222222222222222,\"#7201a8\"],[0.3333333333333333,\"#9c179e\"],[0.4444444444444444,\"#bd3786\"],[0.5555555555555556,\"#d8576b\"],[0.6666666666666666,\"#ed7953\"],[0.7777777777777778,\"#fb9f3a\"],[0.8888888888888888,\"#fdca26\"],[1.0,\"#f0f921\"]]}],\"mesh3d\":[{\"type\":\"mesh3d\",\"colorbar\":{\"outlinewidth\":0,\"ticks\":\"\"}}],\"scatter\":[{\"fillpattern\":{\"fillmode\":\"overlay\",\"size\":10,\"solidity\":0.2},\"type\":\"scatter\"}],\"parcoords\":[{\"type\":\"parcoords\",\"line\":{\"colorbar\":{\"outlinewidth\":0,\"ticks\":\"\"}}}],\"scatterpolargl\":[{\"type\":\"scatterpolargl\",\"marker\":{\"colorbar\":{\"outlinewidth\":0,\"ticks\":\"\"}}}],\"bar\":[{\"error_x\":{\"color\":\"#2a3f5f\"},\"error_y\":{\"color\":\"#2a3f5f\"},\"marker\":{\"line\":{\"color\":\"#E5ECF6\",\"width\":0.5},\"pattern\":{\"fillmode\":\"overlay\",\"size\":10,\"solidity\":0.2}},\"type\":\"bar\"}],\"scattergeo\":[{\"type\":\"scattergeo\",\"marker\":{\"colorbar\":{\"outlinewidth\":0,\"ticks\":\"\"}}}],\"scatterpolar\":[{\"type\":\"scatterpolar\",\"marker\":{\"colorbar\":{\"outlinewidth\":0,\"ticks\":\"\"}}}],\"histogram\":[{\"marker\":{\"pattern\":{\"fillmode\":\"overlay\",\"size\":10,\"solidity\":0.2}},\"type\":\"histogram\"}],\"scattergl\":[{\"type\":\"scattergl\",\"marker\":{\"colorbar\":{\"outlinewidth\":0,\"ticks\":\"\"}}}],\"scatter3d\":[{\"type\":\"scatter3d\",\"line\":{\"colorbar\":{\"outlinewidth\":0,\"ticks\":\"\"}},\"marker\":{\"colorbar\":{\"outlinewidth\":0,\"ticks\":\"\"}}}],\"scattermapbox\":[{\"type\":\"scattermapbox\",\"marker\":{\"colorbar\":{\"outlinewidth\":0,\"ticks\":\"\"}}}],\"scatterternary\":[{\"type\":\"scatterternary\",\"marker\":{\"colorbar\":{\"outlinewidth\":0,\"ticks\":\"\"}}}],\"scattercarpet\":[{\"type\":\"scattercarpet\",\"marker\":{\"colorbar\":{\"outlinewidth\":0,\"ticks\":\"\"}}}],\"carpet\":[{\"aaxis\":{\"endlinecolor\":\"#2a3f5f\",\"gridcolor\":\"white\",\"linecolor\":\"white\",\"minorgridcolor\":\"white\",\"startlinecolor\":\"#2a3f5f\"},\"baxis\":{\"endlinecolor\":\"#2a3f5f\",\"gridcolor\":\"white\",\"linecolor\":\"white\",\"minorgridcolor\":\"white\",\"startlinecolor\":\"#2a3f5f\"},\"type\":\"carpet\"}],\"table\":[{\"cells\":{\"fill\":{\"color\":\"#EBF0F8\"},\"line\":{\"color\":\"white\"}},\"header\":{\"fill\":{\"color\":\"#C8D4E3\"},\"line\":{\"color\":\"white\"}},\"type\":\"table\"}],\"barpolar\":[{\"marker\":{\"line\":{\"color\":\"#E5ECF6\",\"width\":0.5},\"pattern\":{\"fillmode\":\"overlay\",\"size\":10,\"solidity\":0.2}},\"type\":\"barpolar\"}],\"pie\":[{\"automargin\":true,\"type\":\"pie\"}]},\"layout\":{\"autotypenumbers\":\"strict\",\"colorway\":[\"#636efa\",\"#EF553B\",\"#00cc96\",\"#ab63fa\",\"#FFA15A\",\"#19d3f3\",\"#FF6692\",\"#B6E880\",\"#FF97FF\",\"#FECB52\"],\"font\":{\"color\":\"#2a3f5f\"},\"hovermode\":\"closest\",\"hoverlabel\":{\"align\":\"left\"},\"paper_bgcolor\":\"white\",\"plot_bgcolor\":\"#E5ECF6\",\"polar\":{\"bgcolor\":\"#E5ECF6\",\"angularaxis\":{\"gridcolor\":\"white\",\"linecolor\":\"white\",\"ticks\":\"\"},\"radialaxis\":{\"gridcolor\":\"white\",\"linecolor\":\"white\",\"ticks\":\"\"}},\"ternary\":{\"bgcolor\":\"#E5ECF6\",\"aaxis\":{\"gridcolor\":\"white\",\"linecolor\":\"white\",\"ticks\":\"\"},\"baxis\":{\"gridcolor\":\"white\",\"linecolor\":\"white\",\"ticks\":\"\"},\"caxis\":{\"gridcolor\":\"white\",\"linecolor\":\"white\",\"ticks\":\"\"}},\"coloraxis\":{\"colorbar\":{\"outlinewidth\":0,\"ticks\":\"\"}},\"colorscale\":{\"sequential\":[[0.0,\"#0d0887\"],[0.1111111111111111,\"#46039f\"],[0.2222222222222222,\"#7201a8\"],[0.3333333333333333,\"#9c179e\"],[0.4444444444444444,\"#bd3786\"],[0.5555555555555556,\"#d8576b\"],[0.6666666666666666,\"#ed7953\"],[0.7777777777777778,\"#fb9f3a\"],[0.8888888888888888,\"#fdca26\"],[1.0,\"#f0f921\"]],\"sequentialminus\":[[0.0,\"#0d0887\"],[0.1111111111111111,\"#46039f\"],[0.2222222222222222,\"#7201a8\"],[0.3333333333333333,\"#9c179e\"],[0.4444444444444444,\"#bd3786\"],[0.5555555555555556,\"#d8576b\"],[0.6666666666666666,\"#ed7953\"],[0.7777777777777778,\"#fb9f3a\"],[0.8888888888888888,\"#fdca26\"],[1.0,\"#f0f921\"]],\"diverging\":[[0,\"#8e0152\"],[0.1,\"#c51b7d\"],[0.2,\"#de77ae\"],[0.3,\"#f1b6da\"],[0.4,\"#fde0ef\"],[0.5,\"#f7f7f7\"],[0.6,\"#e6f5d0\"],[0.7,\"#b8e186\"],[0.8,\"#7fbc41\"],[0.9,\"#4d9221\"],[1,\"#276419\"]]},\"xaxis\":{\"gridcolor\":\"white\",\"linecolor\":\"white\",\"ticks\":\"\",\"title\":{\"standoff\":15},\"zerolinecolor\":\"white\",\"automargin\":true,\"zerolinewidth\":2},\"yaxis\":{\"gridcolor\":\"white\",\"linecolor\":\"white\",\"ticks\":\"\",\"title\":{\"standoff\":15},\"zerolinecolor\":\"white\",\"automargin\":true,\"zerolinewidth\":2},\"scene\":{\"xaxis\":{\"backgroundcolor\":\"#E5ECF6\",\"gridcolor\":\"white\",\"linecolor\":\"white\",\"showbackground\":true,\"ticks\":\"\",\"zerolinecolor\":\"white\",\"gridwidth\":2},\"yaxis\":{\"backgroundcolor\":\"#E5ECF6\",\"gridcolor\":\"white\",\"linecolor\":\"white\",\"showbackground\":true,\"ticks\":\"\",\"zerolinecolor\":\"white\",\"gridwidth\":2},\"zaxis\":{\"backgroundcolor\":\"#E5ECF6\",\"gridcolor\":\"white\",\"linecolor\":\"white\",\"showbackground\":true,\"ticks\":\"\",\"zerolinecolor\":\"white\",\"gridwidth\":2}},\"shapedefaults\":{\"line\":{\"color\":\"#2a3f5f\"}},\"annotationdefaults\":{\"arrowcolor\":\"#2a3f5f\",\"arrowhead\":0,\"arrowwidth\":1},\"geo\":{\"bgcolor\":\"white\",\"landcolor\":\"#E5ECF6\",\"subunitcolor\":\"white\",\"showland\":true,\"showlakes\":true,\"lakecolor\":\"white\"},\"title\":{\"x\":0.05},\"mapbox\":{\"style\":\"light\"}}},\"xaxis\":{\"anchor\":\"y\",\"domain\":[0.0,1.0],\"title\":{\"text\":\"smoking\"}},\"yaxis\":{\"anchor\":\"x\",\"domain\":[0.0,1.0],\"title\":{\"text\":\"age\"}},\"legend\":{\"title\":{\"text\":\"death_event\"},\"tracegroupgap\":0},\"margin\":{\"t\":60},\"violinmode\":\"group\",\"title\":{\"text\":\"Analysis of Age and Smoking on Death Event\"}},                        {\"responsive\": true}                    ).then(function(){\n",
              "                            \n",
              "var gd = document.getElementById('c830d5b0-d32d-4bc8-a632-799779f326c2');\n",
              "var x = new MutationObserver(function (mutations, observer) {{\n",
              "        var display = window.getComputedStyle(gd).display;\n",
              "        if (!display || display === 'none') {{\n",
              "            console.log([gd, 'removed!']);\n",
              "            Plotly.purge(gd);\n",
              "            observer.disconnect();\n",
              "        }}\n",
              "}});\n",
              "\n",
              "// Listen for the removal of the full notebook cells\n",
              "var notebookContainer = gd.closest('#notebook-container');\n",
              "if (notebookContainer) {{\n",
              "    x.observe(notebookContainer, {childList: true});\n",
              "}}\n",
              "\n",
              "// Listen for the clearing of the current output cell\n",
              "var outputEl = gd.closest('.output');\n",
              "if (outputEl) {{\n",
              "    x.observe(outputEl, {childList: true});\n",
              "}}\n",
              "\n",
              "                        })                };                            </script>        </div>\n",
              "</body>\n",
              "</html>"
            ]
          },
          "metadata": {}
        }
      ]
    },
    {
      "cell_type": "code",
      "source": [
        "#CatBoost Model Training\n",
        "X = df.drop(columns=('death_event'),axis=1)\n",
        "y = df.death_event"
      ],
      "metadata": {
        "id": "cSpbsbWAwf0y"
      },
      "execution_count": 90,
      "outputs": []
    },
    {
      "cell_type": "code",
      "source": [
        "scaler = MinMaxScaler(feature_range=(0,100))\n",
        "X['platelets'] = scaler.fit_transform(X[['platelets']])\n",
        "X['cpk'] = scaler.fit_transform(X[['cpk']])\n",
        "X.head()"
      ],
      "metadata": {
        "id": "o-uQTfZUwkhq",
        "outputId": "01b6d9cd-71fe-4995-a216-3f381b00e711",
        "colab": {
          "base_uri": "https://localhost:8080/",
          "height": 226
        }
      },
      "execution_count": 91,
      "outputs": [
        {
          "output_type": "execute_result",
          "data": {
            "text/plain": [
              "    age  anaemia         cpk  diabetes  ejection_fraction  \\\n",
              "0  75.0        0    7.131921         0                 20   \n",
              "1  55.0        0  100.000000         0                 38   \n",
              "2  65.0        0    1.569278         0                 20   \n",
              "3  50.0        1    1.122735         0                 20   \n",
              "4  65.0        1    1.747895         1                 20   \n",
              "\n",
              "   high_blood_pressure  platelets  serum_creatinine  serum_sodium  sex  \\\n",
              "0                    1  29.082313               1.9           130    1   \n",
              "1                    0  28.883262               1.1           136    1   \n",
              "2                    0  16.595951               1.3           129    1   \n",
              "3                    0  22.414838               1.9           137    1   \n",
              "4                    0  36.598376               2.7           116    0   \n",
              "\n",
              "   smoking  time  age_till_30  age_bet_30_50  age_bet_50_70  age_gret_70  \n",
              "0        0     4            0              0              0            1  \n",
              "1        0     6            0              0              1            0  \n",
              "2        1     7            0              0              1            0  \n",
              "3        0     7            0              1              0            0  \n",
              "4        0     8            0              0              1            0  "
            ],
            "text/html": [
              "\n",
              "  <div id=\"df-d65d0b47-14a1-4e9a-8f27-a72287cb26f8\" class=\"colab-df-container\">\n",
              "    <div>\n",
              "<style scoped>\n",
              "    .dataframe tbody tr th:only-of-type {\n",
              "        vertical-align: middle;\n",
              "    }\n",
              "\n",
              "    .dataframe tbody tr th {\n",
              "        vertical-align: top;\n",
              "    }\n",
              "\n",
              "    .dataframe thead th {\n",
              "        text-align: right;\n",
              "    }\n",
              "</style>\n",
              "<table border=\"1\" class=\"dataframe\">\n",
              "  <thead>\n",
              "    <tr style=\"text-align: right;\">\n",
              "      <th></th>\n",
              "      <th>age</th>\n",
              "      <th>anaemia</th>\n",
              "      <th>cpk</th>\n",
              "      <th>diabetes</th>\n",
              "      <th>ejection_fraction</th>\n",
              "      <th>high_blood_pressure</th>\n",
              "      <th>platelets</th>\n",
              "      <th>serum_creatinine</th>\n",
              "      <th>serum_sodium</th>\n",
              "      <th>sex</th>\n",
              "      <th>smoking</th>\n",
              "      <th>time</th>\n",
              "      <th>age_till_30</th>\n",
              "      <th>age_bet_30_50</th>\n",
              "      <th>age_bet_50_70</th>\n",
              "      <th>age_gret_70</th>\n",
              "    </tr>\n",
              "  </thead>\n",
              "  <tbody>\n",
              "    <tr>\n",
              "      <th>0</th>\n",
              "      <td>75.0</td>\n",
              "      <td>0</td>\n",
              "      <td>7.131921</td>\n",
              "      <td>0</td>\n",
              "      <td>20</td>\n",
              "      <td>1</td>\n",
              "      <td>29.082313</td>\n",
              "      <td>1.9</td>\n",
              "      <td>130</td>\n",
              "      <td>1</td>\n",
              "      <td>0</td>\n",
              "      <td>4</td>\n",
              "      <td>0</td>\n",
              "      <td>0</td>\n",
              "      <td>0</td>\n",
              "      <td>1</td>\n",
              "    </tr>\n",
              "    <tr>\n",
              "      <th>1</th>\n",
              "      <td>55.0</td>\n",
              "      <td>0</td>\n",
              "      <td>100.000000</td>\n",
              "      <td>0</td>\n",
              "      <td>38</td>\n",
              "      <td>0</td>\n",
              "      <td>28.883262</td>\n",
              "      <td>1.1</td>\n",
              "      <td>136</td>\n",
              "      <td>1</td>\n",
              "      <td>0</td>\n",
              "      <td>6</td>\n",
              "      <td>0</td>\n",
              "      <td>0</td>\n",
              "      <td>1</td>\n",
              "      <td>0</td>\n",
              "    </tr>\n",
              "    <tr>\n",
              "      <th>2</th>\n",
              "      <td>65.0</td>\n",
              "      <td>0</td>\n",
              "      <td>1.569278</td>\n",
              "      <td>0</td>\n",
              "      <td>20</td>\n",
              "      <td>0</td>\n",
              "      <td>16.595951</td>\n",
              "      <td>1.3</td>\n",
              "      <td>129</td>\n",
              "      <td>1</td>\n",
              "      <td>1</td>\n",
              "      <td>7</td>\n",
              "      <td>0</td>\n",
              "      <td>0</td>\n",
              "      <td>1</td>\n",
              "      <td>0</td>\n",
              "    </tr>\n",
              "    <tr>\n",
              "      <th>3</th>\n",
              "      <td>50.0</td>\n",
              "      <td>1</td>\n",
              "      <td>1.122735</td>\n",
              "      <td>0</td>\n",
              "      <td>20</td>\n",
              "      <td>0</td>\n",
              "      <td>22.414838</td>\n",
              "      <td>1.9</td>\n",
              "      <td>137</td>\n",
              "      <td>1</td>\n",
              "      <td>0</td>\n",
              "      <td>7</td>\n",
              "      <td>0</td>\n",
              "      <td>1</td>\n",
              "      <td>0</td>\n",
              "      <td>0</td>\n",
              "    </tr>\n",
              "    <tr>\n",
              "      <th>4</th>\n",
              "      <td>65.0</td>\n",
              "      <td>1</td>\n",
              "      <td>1.747895</td>\n",
              "      <td>1</td>\n",
              "      <td>20</td>\n",
              "      <td>0</td>\n",
              "      <td>36.598376</td>\n",
              "      <td>2.7</td>\n",
              "      <td>116</td>\n",
              "      <td>0</td>\n",
              "      <td>0</td>\n",
              "      <td>8</td>\n",
              "      <td>0</td>\n",
              "      <td>0</td>\n",
              "      <td>1</td>\n",
              "      <td>0</td>\n",
              "    </tr>\n",
              "  </tbody>\n",
              "</table>\n",
              "</div>\n",
              "    <div class=\"colab-df-buttons\">\n",
              "\n",
              "  <div class=\"colab-df-container\">\n",
              "    <button class=\"colab-df-convert\" onclick=\"convertToInteractive('df-d65d0b47-14a1-4e9a-8f27-a72287cb26f8')\"\n",
              "            title=\"Convert this dataframe to an interactive table.\"\n",
              "            style=\"display:none;\">\n",
              "\n",
              "  <svg xmlns=\"http://www.w3.org/2000/svg\" height=\"24px\" viewBox=\"0 -960 960 960\">\n",
              "    <path d=\"M120-120v-720h720v720H120Zm60-500h600v-160H180v160Zm220 220h160v-160H400v160Zm0 220h160v-160H400v160ZM180-400h160v-160H180v160Zm440 0h160v-160H620v160ZM180-180h160v-160H180v160Zm440 0h160v-160H620v160Z\"/>\n",
              "  </svg>\n",
              "    </button>\n",
              "\n",
              "  <style>\n",
              "    .colab-df-container {\n",
              "      display:flex;\n",
              "      gap: 12px;\n",
              "    }\n",
              "\n",
              "    .colab-df-convert {\n",
              "      background-color: #E8F0FE;\n",
              "      border: none;\n",
              "      border-radius: 50%;\n",
              "      cursor: pointer;\n",
              "      display: none;\n",
              "      fill: #1967D2;\n",
              "      height: 32px;\n",
              "      padding: 0 0 0 0;\n",
              "      width: 32px;\n",
              "    }\n",
              "\n",
              "    .colab-df-convert:hover {\n",
              "      background-color: #E2EBFA;\n",
              "      box-shadow: 0px 1px 2px rgba(60, 64, 67, 0.3), 0px 1px 3px 1px rgba(60, 64, 67, 0.15);\n",
              "      fill: #174EA6;\n",
              "    }\n",
              "\n",
              "    .colab-df-buttons div {\n",
              "      margin-bottom: 4px;\n",
              "    }\n",
              "\n",
              "    [theme=dark] .colab-df-convert {\n",
              "      background-color: #3B4455;\n",
              "      fill: #D2E3FC;\n",
              "    }\n",
              "\n",
              "    [theme=dark] .colab-df-convert:hover {\n",
              "      background-color: #434B5C;\n",
              "      box-shadow: 0px 1px 3px 1px rgba(0, 0, 0, 0.15);\n",
              "      filter: drop-shadow(0px 1px 2px rgba(0, 0, 0, 0.3));\n",
              "      fill: #FFFFFF;\n",
              "    }\n",
              "  </style>\n",
              "\n",
              "    <script>\n",
              "      const buttonEl =\n",
              "        document.querySelector('#df-d65d0b47-14a1-4e9a-8f27-a72287cb26f8 button.colab-df-convert');\n",
              "      buttonEl.style.display =\n",
              "        google.colab.kernel.accessAllowed ? 'block' : 'none';\n",
              "\n",
              "      async function convertToInteractive(key) {\n",
              "        const element = document.querySelector('#df-d65d0b47-14a1-4e9a-8f27-a72287cb26f8');\n",
              "        const dataTable =\n",
              "          await google.colab.kernel.invokeFunction('convertToInteractive',\n",
              "                                                    [key], {});\n",
              "        if (!dataTable) return;\n",
              "\n",
              "        const docLinkHtml = 'Like what you see? Visit the ' +\n",
              "          '<a target=\"_blank\" href=https://colab.research.google.com/notebooks/data_table.ipynb>data table notebook</a>'\n",
              "          + ' to learn more about interactive tables.';\n",
              "        element.innerHTML = '';\n",
              "        dataTable['output_type'] = 'display_data';\n",
              "        await google.colab.output.renderOutput(dataTable, element);\n",
              "        const docLink = document.createElement('div');\n",
              "        docLink.innerHTML = docLinkHtml;\n",
              "        element.appendChild(docLink);\n",
              "      }\n",
              "    </script>\n",
              "  </div>\n",
              "\n",
              "\n",
              "<div id=\"df-8d47956d-5ae4-46d9-ab73-d3bcb7a63b9d\">\n",
              "  <button class=\"colab-df-quickchart\" onclick=\"quickchart('df-8d47956d-5ae4-46d9-ab73-d3bcb7a63b9d')\"\n",
              "            title=\"Suggest charts\"\n",
              "            style=\"display:none;\">\n",
              "\n",
              "<svg xmlns=\"http://www.w3.org/2000/svg\" height=\"24px\"viewBox=\"0 0 24 24\"\n",
              "     width=\"24px\">\n",
              "    <g>\n",
              "        <path d=\"M19 3H5c-1.1 0-2 .9-2 2v14c0 1.1.9 2 2 2h14c1.1 0 2-.9 2-2V5c0-1.1-.9-2-2-2zM9 17H7v-7h2v7zm4 0h-2V7h2v10zm4 0h-2v-4h2v4z\"/>\n",
              "    </g>\n",
              "</svg>\n",
              "  </button>\n",
              "\n",
              "<style>\n",
              "  .colab-df-quickchart {\n",
              "      --bg-color: #E8F0FE;\n",
              "      --fill-color: #1967D2;\n",
              "      --hover-bg-color: #E2EBFA;\n",
              "      --hover-fill-color: #174EA6;\n",
              "      --disabled-fill-color: #AAA;\n",
              "      --disabled-bg-color: #DDD;\n",
              "  }\n",
              "\n",
              "  [theme=dark] .colab-df-quickchart {\n",
              "      --bg-color: #3B4455;\n",
              "      --fill-color: #D2E3FC;\n",
              "      --hover-bg-color: #434B5C;\n",
              "      --hover-fill-color: #FFFFFF;\n",
              "      --disabled-bg-color: #3B4455;\n",
              "      --disabled-fill-color: #666;\n",
              "  }\n",
              "\n",
              "  .colab-df-quickchart {\n",
              "    background-color: var(--bg-color);\n",
              "    border: none;\n",
              "    border-radius: 50%;\n",
              "    cursor: pointer;\n",
              "    display: none;\n",
              "    fill: var(--fill-color);\n",
              "    height: 32px;\n",
              "    padding: 0;\n",
              "    width: 32px;\n",
              "  }\n",
              "\n",
              "  .colab-df-quickchart:hover {\n",
              "    background-color: var(--hover-bg-color);\n",
              "    box-shadow: 0 1px 2px rgba(60, 64, 67, 0.3), 0 1px 3px 1px rgba(60, 64, 67, 0.15);\n",
              "    fill: var(--button-hover-fill-color);\n",
              "  }\n",
              "\n",
              "  .colab-df-quickchart-complete:disabled,\n",
              "  .colab-df-quickchart-complete:disabled:hover {\n",
              "    background-color: var(--disabled-bg-color);\n",
              "    fill: var(--disabled-fill-color);\n",
              "    box-shadow: none;\n",
              "  }\n",
              "\n",
              "  .colab-df-spinner {\n",
              "    border: 2px solid var(--fill-color);\n",
              "    border-color: transparent;\n",
              "    border-bottom-color: var(--fill-color);\n",
              "    animation:\n",
              "      spin 1s steps(1) infinite;\n",
              "  }\n",
              "\n",
              "  @keyframes spin {\n",
              "    0% {\n",
              "      border-color: transparent;\n",
              "      border-bottom-color: var(--fill-color);\n",
              "      border-left-color: var(--fill-color);\n",
              "    }\n",
              "    20% {\n",
              "      border-color: transparent;\n",
              "      border-left-color: var(--fill-color);\n",
              "      border-top-color: var(--fill-color);\n",
              "    }\n",
              "    30% {\n",
              "      border-color: transparent;\n",
              "      border-left-color: var(--fill-color);\n",
              "      border-top-color: var(--fill-color);\n",
              "      border-right-color: var(--fill-color);\n",
              "    }\n",
              "    40% {\n",
              "      border-color: transparent;\n",
              "      border-right-color: var(--fill-color);\n",
              "      border-top-color: var(--fill-color);\n",
              "    }\n",
              "    60% {\n",
              "      border-color: transparent;\n",
              "      border-right-color: var(--fill-color);\n",
              "    }\n",
              "    80% {\n",
              "      border-color: transparent;\n",
              "      border-right-color: var(--fill-color);\n",
              "      border-bottom-color: var(--fill-color);\n",
              "    }\n",
              "    90% {\n",
              "      border-color: transparent;\n",
              "      border-bottom-color: var(--fill-color);\n",
              "    }\n",
              "  }\n",
              "</style>\n",
              "\n",
              "  <script>\n",
              "    async function quickchart(key) {\n",
              "      const quickchartButtonEl =\n",
              "        document.querySelector('#' + key + ' button');\n",
              "      quickchartButtonEl.disabled = true;  // To prevent multiple clicks.\n",
              "      quickchartButtonEl.classList.add('colab-df-spinner');\n",
              "      try {\n",
              "        const charts = await google.colab.kernel.invokeFunction(\n",
              "            'suggestCharts', [key], {});\n",
              "      } catch (error) {\n",
              "        console.error('Error during call to suggestCharts:', error);\n",
              "      }\n",
              "      quickchartButtonEl.classList.remove('colab-df-spinner');\n",
              "      quickchartButtonEl.classList.add('colab-df-quickchart-complete');\n",
              "    }\n",
              "    (() => {\n",
              "      let quickchartButtonEl =\n",
              "        document.querySelector('#df-8d47956d-5ae4-46d9-ab73-d3bcb7a63b9d button');\n",
              "      quickchartButtonEl.style.display =\n",
              "        google.colab.kernel.accessAllowed ? 'block' : 'none';\n",
              "    })();\n",
              "  </script>\n",
              "</div>\n",
              "\n",
              "    </div>\n",
              "  </div>\n"
            ],
            "application/vnd.google.colaboratory.intrinsic+json": {
              "type": "dataframe",
              "variable_name": "X",
              "summary": "{\n  \"name\": \"X\",\n  \"rows\": 299,\n  \"fields\": [\n    {\n      \"column\": \"age\",\n      \"properties\": {\n        \"dtype\": \"number\",\n        \"std\": 11.89480907404447,\n        \"min\": 40.0,\n        \"max\": 95.0,\n        \"num_unique_values\": 47,\n        \"samples\": [\n          79.0,\n          40.0,\n          67.0\n        ],\n        \"semantic_type\": \"\",\n        \"description\": \"\"\n      }\n    },\n    {\n      \"column\": \"anaemia\",\n      \"properties\": {\n        \"dtype\": \"number\",\n        \"std\": 0,\n        \"min\": 0,\n        \"max\": 1,\n        \"num_unique_values\": 2,\n        \"samples\": [\n          1,\n          0\n        ],\n        \"semantic_type\": \"\",\n        \"description\": \"\"\n      }\n    },\n    {\n      \"column\": \"cpk\",\n      \"properties\": {\n        \"dtype\": \"number\",\n        \"std\": 12.379278906767492,\n        \"min\": 0.0,\n        \"max\": 100.0,\n        \"num_unique_values\": 208,\n        \"samples\": [\n          0.8037764735902015,\n          4.541974993620822\n        ],\n        \"semantic_type\": \"\",\n        \"description\": \"\"\n      }\n    },\n    {\n      \"column\": \"diabetes\",\n      \"properties\": {\n        \"dtype\": \"number\",\n        \"std\": 0,\n        \"min\": 0,\n        \"max\": 1,\n        \"num_unique_values\": 2,\n        \"samples\": [\n          1,\n          0\n        ],\n        \"semantic_type\": \"\",\n        \"description\": \"\"\n      }\n    },\n    {\n      \"column\": \"ejection_fraction\",\n      \"properties\": {\n        \"dtype\": \"number\",\n        \"std\": 11,\n        \"min\": 14,\n        \"max\": 80,\n        \"num_unique_values\": 17,\n        \"samples\": [\n          20,\n          38\n        ],\n        \"semantic_type\": \"\",\n        \"description\": \"\"\n      }\n    },\n    {\n      \"column\": \"high_blood_pressure\",\n      \"properties\": {\n        \"dtype\": \"number\",\n        \"std\": 0,\n        \"min\": 0,\n        \"max\": 1,\n        \"num_unique_values\": 2,\n        \"samples\": [\n          0,\n          1\n        ],\n        \"semantic_type\": \"\",\n        \"description\": \"\"\n      }\n    },\n    {\n      \"column\": \"platelets\",\n      \"properties\": {\n        \"dtype\": \"number\",\n        \"std\": 11.856496165425904,\n        \"min\": 0.0,\n        \"max\": 100.0,\n        \"num_unique_values\": 176,\n        \"samples\": [\n          32.96157109952722,\n          27.87004485392169\n        ],\n        \"semantic_type\": \"\",\n        \"description\": \"\"\n      }\n    },\n    {\n      \"column\": \"serum_creatinine\",\n      \"properties\": {\n        \"dtype\": \"number\",\n        \"std\": 1.0345100640898541,\n        \"min\": 0.5,\n        \"max\": 9.4,\n        \"num_unique_values\": 40,\n        \"samples\": [\n          4.4,\n          3.5\n        ],\n        \"semantic_type\": \"\",\n        \"description\": \"\"\n      }\n    },\n    {\n      \"column\": \"serum_sodium\",\n      \"properties\": {\n        \"dtype\": \"number\",\n        \"std\": 4,\n        \"min\": 113,\n        \"max\": 148,\n        \"num_unique_values\": 27,\n        \"samples\": [\n          133,\n          134\n        ],\n        \"semantic_type\": \"\",\n        \"description\": \"\"\n      }\n    },\n    {\n      \"column\": \"sex\",\n      \"properties\": {\n        \"dtype\": \"number\",\n        \"std\": 0,\n        \"min\": 0,\n        \"max\": 1,\n        \"num_unique_values\": 2,\n        \"samples\": [\n          0,\n          1\n        ],\n        \"semantic_type\": \"\",\n        \"description\": \"\"\n      }\n    },\n    {\n      \"column\": \"smoking\",\n      \"properties\": {\n        \"dtype\": \"number\",\n        \"std\": 0,\n        \"min\": 0,\n        \"max\": 1,\n        \"num_unique_values\": 2,\n        \"samples\": [\n          1,\n          0\n        ],\n        \"semantic_type\": \"\",\n        \"description\": \"\"\n      }\n    },\n    {\n      \"column\": \"time\",\n      \"properties\": {\n        \"dtype\": \"number\",\n        \"std\": 77,\n        \"min\": 4,\n        \"max\": 285,\n        \"num_unique_values\": 148,\n        \"samples\": [\n          215,\n          79\n        ],\n        \"semantic_type\": \"\",\n        \"description\": \"\"\n      }\n    },\n    {\n      \"column\": \"age_till_30\",\n      \"properties\": {\n        \"dtype\": \"number\",\n        \"std\": 0,\n        \"min\": 0,\n        \"max\": 0,\n        \"num_unique_values\": 1,\n        \"samples\": [\n          0\n        ],\n        \"semantic_type\": \"\",\n        \"description\": \"\"\n      }\n    },\n    {\n      \"column\": \"age_bet_30_50\",\n      \"properties\": {\n        \"dtype\": \"number\",\n        \"std\": 0,\n        \"min\": 0,\n        \"max\": 1,\n        \"num_unique_values\": 2,\n        \"samples\": [\n          1\n        ],\n        \"semantic_type\": \"\",\n        \"description\": \"\"\n      }\n    },\n    {\n      \"column\": \"age_bet_50_70\",\n      \"properties\": {\n        \"dtype\": \"number\",\n        \"std\": 0,\n        \"min\": 0,\n        \"max\": 1,\n        \"num_unique_values\": 2,\n        \"samples\": [\n          1\n        ],\n        \"semantic_type\": \"\",\n        \"description\": \"\"\n      }\n    },\n    {\n      \"column\": \"age_gret_70\",\n      \"properties\": {\n        \"dtype\": \"number\",\n        \"std\": 0,\n        \"min\": 0,\n        \"max\": 1,\n        \"num_unique_values\": 2,\n        \"samples\": [\n          0\n        ],\n        \"semantic_type\": \"\",\n        \"description\": \"\"\n      }\n    }\n  ]\n}"
            }
          },
          "metadata": {},
          "execution_count": 91
        }
      ]
    },
    {
      "cell_type": "code",
      "source": [
        "#Splitting the data in train and test set\n",
        "X_train , X_test , y_train , y_test = train_test_split(X,y , test_size = 0.25, random_state=1 )"
      ],
      "metadata": {
        "id": "aL5yUjC5worG"
      },
      "execution_count": 92,
      "outputs": []
    },
    {
      "cell_type": "code",
      "source": [
        "#Fitting the model\n",
        "y.value_counts()"
      ],
      "metadata": {
        "id": "FyNiN-LqwtLn",
        "outputId": "b1be6b50-c076-4880-d9de-124b9526067f",
        "colab": {
          "base_uri": "https://localhost:8080/"
        }
      },
      "execution_count": 93,
      "outputs": [
        {
          "output_type": "execute_result",
          "data": {
            "text/plain": [
              "0    203\n",
              "1     96\n",
              "Name: death_event, dtype: int64"
            ]
          },
          "metadata": {},
          "execution_count": 93
        }
      ]
    },
    {
      "cell_type": "code",
      "source": [
        "#With Class Weights\n",
        "class_weight = {0:1 , 1:2}\n",
        "model = CatBoostClassifier(n_estimators=400  ,  depth = 4 , class_weights = class_weight)\n",
        "model.fit(X_train , y_train)"
      ],
      "metadata": {
        "id": "ly76EpUMwynN",
        "outputId": "878577be-d14c-47fc-a174-f00b17f2e019",
        "colab": {
          "base_uri": "https://localhost:8080/"
        }
      },
      "execution_count": 94,
      "outputs": [
        {
          "output_type": "stream",
          "name": "stdout",
          "text": [
            "Learning rate set to 0.012601\n",
            "0:\tlearn: 0.6836493\ttotal: 10.9ms\tremaining: 4.35s\n",
            "1:\tlearn: 0.6777521\ttotal: 13.9ms\tremaining: 2.77s\n",
            "2:\tlearn: 0.6697273\ttotal: 16.5ms\tremaining: 2.19s\n",
            "3:\tlearn: 0.6638958\ttotal: 18.7ms\tremaining: 1.85s\n",
            "4:\tlearn: 0.6559299\ttotal: 21.2ms\tremaining: 1.68s\n",
            "5:\tlearn: 0.6479998\ttotal: 23.7ms\tremaining: 1.55s\n",
            "6:\tlearn: 0.6421828\ttotal: 26.1ms\tremaining: 1.47s\n",
            "7:\tlearn: 0.6359627\ttotal: 28.8ms\tremaining: 1.41s\n",
            "8:\tlearn: 0.6300614\ttotal: 31.8ms\tremaining: 1.38s\n",
            "9:\tlearn: 0.6242975\ttotal: 34.3ms\tremaining: 1.34s\n",
            "10:\tlearn: 0.6175718\ttotal: 35.6ms\tremaining: 1.26s\n",
            "11:\tlearn: 0.6113117\ttotal: 40.9ms\tremaining: 1.32s\n",
            "12:\tlearn: 0.6045185\ttotal: 41.8ms\tremaining: 1.25s\n",
            "13:\tlearn: 0.5975860\ttotal: 44.3ms\tremaining: 1.22s\n",
            "14:\tlearn: 0.5927453\ttotal: 45.2ms\tremaining: 1.16s\n",
            "15:\tlearn: 0.5863724\ttotal: 46ms\tremaining: 1.1s\n",
            "16:\tlearn: 0.5800607\ttotal: 46.9ms\tremaining: 1.05s\n",
            "17:\tlearn: 0.5748893\ttotal: 47.8ms\tremaining: 1.01s\n",
            "18:\tlearn: 0.5686267\ttotal: 49.2ms\tremaining: 986ms\n",
            "19:\tlearn: 0.5638545\ttotal: 50ms\tremaining: 950ms\n",
            "20:\tlearn: 0.5592972\ttotal: 50.8ms\tremaining: 918ms\n",
            "21:\tlearn: 0.5545840\ttotal: 51.9ms\tremaining: 891ms\n",
            "22:\tlearn: 0.5491861\ttotal: 53.2ms\tremaining: 872ms\n",
            "23:\tlearn: 0.5474368\ttotal: 54.4ms\tremaining: 852ms\n",
            "24:\tlearn: 0.5431816\ttotal: 55.5ms\tremaining: 833ms\n",
            "25:\tlearn: 0.5389516\ttotal: 56.4ms\tremaining: 811ms\n",
            "26:\tlearn: 0.5358794\ttotal: 57.3ms\tremaining: 791ms\n",
            "27:\tlearn: 0.5325108\ttotal: 58.2ms\tremaining: 774ms\n",
            "28:\tlearn: 0.5283340\ttotal: 59.1ms\tremaining: 756ms\n",
            "29:\tlearn: 0.5242046\ttotal: 60ms\tremaining: 740ms\n",
            "30:\tlearn: 0.5201526\ttotal: 60.8ms\tremaining: 724ms\n",
            "31:\tlearn: 0.5167742\ttotal: 61.7ms\tremaining: 709ms\n",
            "32:\tlearn: 0.5125939\ttotal: 62.5ms\tremaining: 695ms\n",
            "33:\tlearn: 0.5091938\ttotal: 63.3ms\tremaining: 682ms\n",
            "34:\tlearn: 0.5046885\ttotal: 64.2ms\tremaining: 669ms\n",
            "35:\tlearn: 0.5016906\ttotal: 65.3ms\tremaining: 660ms\n",
            "36:\tlearn: 0.4971565\ttotal: 66.2ms\tremaining: 649ms\n",
            "37:\tlearn: 0.4944456\ttotal: 67ms\tremaining: 638ms\n",
            "38:\tlearn: 0.4909678\ttotal: 67.8ms\tremaining: 628ms\n",
            "39:\tlearn: 0.4879308\ttotal: 68.7ms\tremaining: 618ms\n",
            "40:\tlearn: 0.4855045\ttotal: 69.7ms\tremaining: 610ms\n",
            "41:\tlearn: 0.4837225\ttotal: 70.7ms\tremaining: 603ms\n",
            "42:\tlearn: 0.4799005\ttotal: 71.8ms\tremaining: 596ms\n",
            "43:\tlearn: 0.4770395\ttotal: 83.5ms\tremaining: 676ms\n",
            "44:\tlearn: 0.4742317\ttotal: 84.5ms\tremaining: 667ms\n",
            "45:\tlearn: 0.4716279\ttotal: 85.4ms\tremaining: 657ms\n",
            "46:\tlearn: 0.4668252\ttotal: 96.2ms\tremaining: 722ms\n",
            "47:\tlearn: 0.4649433\ttotal: 97.1ms\tremaining: 712ms\n",
            "48:\tlearn: 0.4624922\ttotal: 98ms\tremaining: 702ms\n",
            "49:\tlearn: 0.4597590\ttotal: 98.8ms\tremaining: 692ms\n",
            "50:\tlearn: 0.4567191\ttotal: 99.7ms\tremaining: 682ms\n",
            "51:\tlearn: 0.4538563\ttotal: 101ms\tremaining: 673ms\n",
            "52:\tlearn: 0.4528378\ttotal: 101ms\tremaining: 664ms\n",
            "53:\tlearn: 0.4504120\ttotal: 102ms\tremaining: 655ms\n",
            "54:\tlearn: 0.4480366\ttotal: 103ms\tremaining: 647ms\n",
            "55:\tlearn: 0.4448905\ttotal: 104ms\tremaining: 638ms\n",
            "56:\tlearn: 0.4427144\ttotal: 105ms\tremaining: 632ms\n",
            "57:\tlearn: 0.4410875\ttotal: 106ms\tremaining: 624ms\n",
            "58:\tlearn: 0.4392621\ttotal: 107ms\tremaining: 617ms\n",
            "59:\tlearn: 0.4368596\ttotal: 108ms\tremaining: 611ms\n",
            "60:\tlearn: 0.4348664\ttotal: 109ms\tremaining: 606ms\n",
            "61:\tlearn: 0.4328132\ttotal: 110ms\tremaining: 599ms\n",
            "62:\tlearn: 0.4312658\ttotal: 111ms\tremaining: 592ms\n",
            "63:\tlearn: 0.4299033\ttotal: 111ms\tremaining: 585ms\n",
            "64:\tlearn: 0.4277661\ttotal: 112ms\tremaining: 579ms\n",
            "65:\tlearn: 0.4256228\ttotal: 113ms\tremaining: 572ms\n",
            "66:\tlearn: 0.4232558\ttotal: 114ms\tremaining: 566ms\n",
            "67:\tlearn: 0.4213534\ttotal: 115ms\tremaining: 560ms\n",
            "68:\tlearn: 0.4190271\ttotal: 116ms\tremaining: 555ms\n",
            "69:\tlearn: 0.4171745\ttotal: 116ms\tremaining: 549ms\n",
            "70:\tlearn: 0.4148552\ttotal: 117ms\tremaining: 544ms\n",
            "71:\tlearn: 0.4134164\ttotal: 118ms\tremaining: 540ms\n",
            "72:\tlearn: 0.4114390\ttotal: 120ms\tremaining: 536ms\n",
            "73:\tlearn: 0.4106033\ttotal: 120ms\tremaining: 530ms\n",
            "74:\tlearn: 0.4091817\ttotal: 121ms\tremaining: 525ms\n",
            "75:\tlearn: 0.4079938\ttotal: 122ms\tremaining: 520ms\n",
            "76:\tlearn: 0.4070412\ttotal: 123ms\tremaining: 516ms\n",
            "77:\tlearn: 0.4057383\ttotal: 124ms\tremaining: 511ms\n",
            "78:\tlearn: 0.4038124\ttotal: 125ms\tremaining: 506ms\n",
            "79:\tlearn: 0.4020965\ttotal: 126ms\tremaining: 502ms\n",
            "80:\tlearn: 0.4002334\ttotal: 126ms\tremaining: 497ms\n",
            "81:\tlearn: 0.3979204\ttotal: 127ms\tremaining: 494ms\n",
            "82:\tlearn: 0.3963851\ttotal: 128ms\tremaining: 491ms\n",
            "83:\tlearn: 0.3954748\ttotal: 130ms\tremaining: 487ms\n",
            "84:\tlearn: 0.3947308\ttotal: 130ms\tremaining: 483ms\n",
            "85:\tlearn: 0.3934599\ttotal: 131ms\tremaining: 479ms\n",
            "86:\tlearn: 0.3921284\ttotal: 132ms\tremaining: 475ms\n",
            "87:\tlearn: 0.3907979\ttotal: 133ms\tremaining: 471ms\n",
            "88:\tlearn: 0.3899987\ttotal: 134ms\tremaining: 467ms\n",
            "89:\tlearn: 0.3878948\ttotal: 134ms\tremaining: 463ms\n",
            "90:\tlearn: 0.3866261\ttotal: 135ms\tremaining: 459ms\n",
            "91:\tlearn: 0.3852024\ttotal: 136ms\tremaining: 457ms\n",
            "92:\tlearn: 0.3835298\ttotal: 137ms\tremaining: 453ms\n",
            "93:\tlearn: 0.3814548\ttotal: 138ms\tremaining: 451ms\n",
            "94:\tlearn: 0.3799161\ttotal: 140ms\tremaining: 448ms\n",
            "95:\tlearn: 0.3783490\ttotal: 141ms\tremaining: 445ms\n",
            "96:\tlearn: 0.3768108\ttotal: 142ms\tremaining: 442ms\n",
            "97:\tlearn: 0.3754750\ttotal: 146ms\tremaining: 450ms\n",
            "98:\tlearn: 0.3740690\ttotal: 147ms\tremaining: 448ms\n",
            "99:\tlearn: 0.3733492\ttotal: 149ms\tremaining: 446ms\n",
            "100:\tlearn: 0.3718241\ttotal: 150ms\tremaining: 443ms\n",
            "101:\tlearn: 0.3698183\ttotal: 151ms\tremaining: 440ms\n",
            "102:\tlearn: 0.3683552\ttotal: 152ms\tremaining: 437ms\n",
            "103:\tlearn: 0.3674828\ttotal: 153ms\tremaining: 434ms\n",
            "104:\tlearn: 0.3667663\ttotal: 153ms\tremaining: 431ms\n",
            "105:\tlearn: 0.3660620\ttotal: 154ms\tremaining: 428ms\n",
            "106:\tlearn: 0.3652522\ttotal: 155ms\tremaining: 424ms\n",
            "107:\tlearn: 0.3637749\ttotal: 156ms\tremaining: 421ms\n",
            "108:\tlearn: 0.3627239\ttotal: 157ms\tremaining: 418ms\n",
            "109:\tlearn: 0.3616378\ttotal: 158ms\tremaining: 415ms\n",
            "110:\tlearn: 0.3605583\ttotal: 159ms\tremaining: 413ms\n",
            "111:\tlearn: 0.3592576\ttotal: 160ms\tremaining: 411ms\n",
            "112:\tlearn: 0.3580089\ttotal: 161ms\tremaining: 409ms\n",
            "113:\tlearn: 0.3570665\ttotal: 162ms\tremaining: 406ms\n",
            "114:\tlearn: 0.3555445\ttotal: 163ms\tremaining: 403ms\n",
            "115:\tlearn: 0.3544235\ttotal: 163ms\tremaining: 400ms\n",
            "116:\tlearn: 0.3528335\ttotal: 164ms\tremaining: 397ms\n",
            "117:\tlearn: 0.3517967\ttotal: 165ms\tremaining: 394ms\n",
            "118:\tlearn: 0.3512880\ttotal: 166ms\tremaining: 392ms\n",
            "119:\tlearn: 0.3497428\ttotal: 167ms\tremaining: 389ms\n",
            "120:\tlearn: 0.3485788\ttotal: 168ms\tremaining: 386ms\n",
            "121:\tlearn: 0.3468859\ttotal: 168ms\tremaining: 384ms\n",
            "122:\tlearn: 0.3462365\ttotal: 169ms\tremaining: 382ms\n",
            "123:\tlearn: 0.3449001\ttotal: 171ms\tremaining: 380ms\n",
            "124:\tlearn: 0.3440890\ttotal: 172ms\tremaining: 378ms\n",
            "125:\tlearn: 0.3432859\ttotal: 173ms\tremaining: 375ms\n",
            "126:\tlearn: 0.3425379\ttotal: 173ms\tremaining: 373ms\n",
            "127:\tlearn: 0.3415225\ttotal: 174ms\tremaining: 370ms\n",
            "128:\tlearn: 0.3405607\ttotal: 175ms\tremaining: 368ms\n",
            "129:\tlearn: 0.3392201\ttotal: 176ms\tremaining: 365ms\n",
            "130:\tlearn: 0.3381667\ttotal: 177ms\tremaining: 363ms\n",
            "131:\tlearn: 0.3371195\ttotal: 178ms\tremaining: 361ms\n",
            "132:\tlearn: 0.3359946\ttotal: 179ms\tremaining: 358ms\n",
            "133:\tlearn: 0.3353345\ttotal: 180ms\tremaining: 356ms\n",
            "134:\tlearn: 0.3350196\ttotal: 181ms\tremaining: 355ms\n",
            "135:\tlearn: 0.3343842\ttotal: 182ms\tremaining: 353ms\n",
            "136:\tlearn: 0.3336503\ttotal: 183ms\tremaining: 351ms\n",
            "137:\tlearn: 0.3321191\ttotal: 184ms\tremaining: 349ms\n",
            "138:\tlearn: 0.3311657\ttotal: 184ms\tremaining: 346ms\n",
            "139:\tlearn: 0.3302219\ttotal: 185ms\tremaining: 344ms\n",
            "140:\tlearn: 0.3288918\ttotal: 186ms\tremaining: 342ms\n",
            "141:\tlearn: 0.3280574\ttotal: 187ms\tremaining: 340ms\n",
            "142:\tlearn: 0.3268779\ttotal: 188ms\tremaining: 337ms\n",
            "143:\tlearn: 0.3262688\ttotal: 189ms\tremaining: 335ms\n",
            "144:\tlearn: 0.3258151\ttotal: 190ms\tremaining: 333ms\n",
            "145:\tlearn: 0.3248302\ttotal: 191ms\tremaining: 332ms\n",
            "146:\tlearn: 0.3237173\ttotal: 191ms\tremaining: 329ms\n",
            "147:\tlearn: 0.3231358\ttotal: 192ms\tremaining: 327ms\n",
            "148:\tlearn: 0.3221188\ttotal: 193ms\tremaining: 325ms\n",
            "149:\tlearn: 0.3216406\ttotal: 194ms\tremaining: 323ms\n",
            "150:\tlearn: 0.3206228\ttotal: 195ms\tremaining: 321ms\n",
            "151:\tlearn: 0.3200746\ttotal: 196ms\tremaining: 319ms\n",
            "152:\tlearn: 0.3191464\ttotal: 197ms\tremaining: 318ms\n",
            "153:\tlearn: 0.3185688\ttotal: 198ms\tremaining: 316ms\n",
            "154:\tlearn: 0.3177590\ttotal: 199ms\tremaining: 315ms\n",
            "155:\tlearn: 0.3171309\ttotal: 200ms\tremaining: 313ms\n",
            "156:\tlearn: 0.3161803\ttotal: 201ms\tremaining: 311ms\n",
            "157:\tlearn: 0.3151848\ttotal: 202ms\tremaining: 309ms\n",
            "158:\tlearn: 0.3147193\ttotal: 203ms\tremaining: 307ms\n",
            "159:\tlearn: 0.3136998\ttotal: 203ms\tremaining: 305ms\n",
            "160:\tlearn: 0.3126588\ttotal: 204ms\tremaining: 303ms\n",
            "161:\tlearn: 0.3120797\ttotal: 205ms\tremaining: 301ms\n",
            "162:\tlearn: 0.3116633\ttotal: 206ms\tremaining: 300ms\n",
            "163:\tlearn: 0.3101815\ttotal: 207ms\tremaining: 298ms\n",
            "164:\tlearn: 0.3094866\ttotal: 208ms\tremaining: 297ms\n",
            "165:\tlearn: 0.3090001\ttotal: 209ms\tremaining: 295ms\n",
            "166:\tlearn: 0.3080154\ttotal: 210ms\tremaining: 293ms\n",
            "167:\tlearn: 0.3075730\ttotal: 211ms\tremaining: 291ms\n",
            "168:\tlearn: 0.3068892\ttotal: 212ms\tremaining: 289ms\n",
            "169:\tlearn: 0.3060792\ttotal: 213ms\tremaining: 288ms\n",
            "170:\tlearn: 0.3051149\ttotal: 213ms\tremaining: 286ms\n",
            "171:\tlearn: 0.3046740\ttotal: 215ms\tremaining: 284ms\n",
            "172:\tlearn: 0.3039204\ttotal: 215ms\tremaining: 283ms\n",
            "173:\tlearn: 0.3033687\ttotal: 216ms\tremaining: 281ms\n",
            "174:\tlearn: 0.3027865\ttotal: 217ms\tremaining: 279ms\n",
            "175:\tlearn: 0.3022760\ttotal: 218ms\tremaining: 277ms\n",
            "176:\tlearn: 0.3018930\ttotal: 219ms\tremaining: 276ms\n",
            "177:\tlearn: 0.3014974\ttotal: 220ms\tremaining: 274ms\n",
            "178:\tlearn: 0.3008449\ttotal: 221ms\tremaining: 273ms\n",
            "179:\tlearn: 0.2999708\ttotal: 222ms\tremaining: 271ms\n",
            "180:\tlearn: 0.2994117\ttotal: 223ms\tremaining: 269ms\n",
            "181:\tlearn: 0.2985571\ttotal: 224ms\tremaining: 268ms\n",
            "182:\tlearn: 0.2978782\ttotal: 224ms\tremaining: 266ms\n",
            "183:\tlearn: 0.2973408\ttotal: 225ms\tremaining: 264ms\n",
            "184:\tlearn: 0.2966177\ttotal: 226ms\tremaining: 263ms\n",
            "185:\tlearn: 0.2958358\ttotal: 227ms\tremaining: 261ms\n",
            "186:\tlearn: 0.2951107\ttotal: 228ms\tremaining: 259ms\n",
            "187:\tlearn: 0.2947504\ttotal: 228ms\tremaining: 258ms\n",
            "188:\tlearn: 0.2933818\ttotal: 229ms\tremaining: 256ms\n",
            "189:\tlearn: 0.2929560\ttotal: 230ms\tremaining: 254ms\n",
            "190:\tlearn: 0.2922629\ttotal: 231ms\tremaining: 253ms\n",
            "191:\tlearn: 0.2916690\ttotal: 239ms\tremaining: 259ms\n",
            "192:\tlearn: 0.2910632\ttotal: 240ms\tremaining: 257ms\n",
            "193:\tlearn: 0.2904022\ttotal: 241ms\tremaining: 256ms\n",
            "194:\tlearn: 0.2901178\ttotal: 242ms\tremaining: 254ms\n",
            "195:\tlearn: 0.2897035\ttotal: 243ms\tremaining: 253ms\n",
            "196:\tlearn: 0.2893524\ttotal: 244ms\tremaining: 251ms\n",
            "197:\tlearn: 0.2891755\ttotal: 245ms\tremaining: 250ms\n",
            "198:\tlearn: 0.2885570\ttotal: 246ms\tremaining: 249ms\n",
            "199:\tlearn: 0.2879840\ttotal: 247ms\tremaining: 247ms\n",
            "200:\tlearn: 0.2875706\ttotal: 248ms\tremaining: 245ms\n",
            "201:\tlearn: 0.2867750\ttotal: 249ms\tremaining: 244ms\n",
            "202:\tlearn: 0.2861554\ttotal: 249ms\tremaining: 242ms\n",
            "203:\tlearn: 0.2856064\ttotal: 264ms\tremaining: 254ms\n",
            "204:\tlearn: 0.2852588\ttotal: 265ms\tremaining: 252ms\n",
            "205:\tlearn: 0.2847987\ttotal: 269ms\tremaining: 253ms\n",
            "206:\tlearn: 0.2841671\ttotal: 270ms\tremaining: 252ms\n",
            "207:\tlearn: 0.2833934\ttotal: 275ms\tremaining: 254ms\n",
            "208:\tlearn: 0.2823546\ttotal: 276ms\tremaining: 252ms\n",
            "209:\tlearn: 0.2817088\ttotal: 277ms\tremaining: 250ms\n",
            "210:\tlearn: 0.2808703\ttotal: 283ms\tremaining: 253ms\n",
            "211:\tlearn: 0.2798385\ttotal: 284ms\tremaining: 252ms\n",
            "212:\tlearn: 0.2795258\ttotal: 285ms\tremaining: 250ms\n",
            "213:\tlearn: 0.2790937\ttotal: 286ms\tremaining: 249ms\n",
            "214:\tlearn: 0.2787888\ttotal: 293ms\tremaining: 252ms\n",
            "215:\tlearn: 0.2781080\ttotal: 294ms\tremaining: 250ms\n",
            "216:\tlearn: 0.2777248\ttotal: 295ms\tremaining: 249ms\n",
            "217:\tlearn: 0.2773895\ttotal: 295ms\tremaining: 247ms\n",
            "218:\tlearn: 0.2763413\ttotal: 296ms\tremaining: 245ms\n",
            "219:\tlearn: 0.2756528\ttotal: 297ms\tremaining: 243ms\n",
            "220:\tlearn: 0.2748229\ttotal: 298ms\tremaining: 241ms\n",
            "221:\tlearn: 0.2744122\ttotal: 299ms\tremaining: 240ms\n",
            "222:\tlearn: 0.2735082\ttotal: 300ms\tremaining: 238ms\n",
            "223:\tlearn: 0.2731227\ttotal: 300ms\tremaining: 236ms\n",
            "224:\tlearn: 0.2728096\ttotal: 301ms\tremaining: 234ms\n",
            "225:\tlearn: 0.2722673\ttotal: 303ms\tremaining: 233ms\n",
            "226:\tlearn: 0.2718300\ttotal: 304ms\tremaining: 231ms\n",
            "227:\tlearn: 0.2713061\ttotal: 304ms\tremaining: 230ms\n",
            "228:\tlearn: 0.2706551\ttotal: 305ms\tremaining: 228ms\n",
            "229:\tlearn: 0.2697389\ttotal: 306ms\tremaining: 226ms\n",
            "230:\tlearn: 0.2689277\ttotal: 307ms\tremaining: 224ms\n",
            "231:\tlearn: 0.2682407\ttotal: 308ms\tremaining: 223ms\n",
            "232:\tlearn: 0.2678870\ttotal: 308ms\tremaining: 221ms\n",
            "233:\tlearn: 0.2667461\ttotal: 309ms\tremaining: 219ms\n",
            "234:\tlearn: 0.2664262\ttotal: 310ms\tremaining: 218ms\n",
            "235:\tlearn: 0.2655795\ttotal: 311ms\tremaining: 216ms\n",
            "236:\tlearn: 0.2651651\ttotal: 312ms\tremaining: 214ms\n",
            "237:\tlearn: 0.2647135\ttotal: 313ms\tremaining: 213ms\n",
            "238:\tlearn: 0.2639616\ttotal: 314ms\tremaining: 211ms\n",
            "239:\tlearn: 0.2634888\ttotal: 314ms\tremaining: 210ms\n",
            "240:\tlearn: 0.2631744\ttotal: 316ms\tremaining: 208ms\n",
            "241:\tlearn: 0.2627298\ttotal: 317ms\tremaining: 207ms\n",
            "242:\tlearn: 0.2622185\ttotal: 318ms\tremaining: 205ms\n",
            "243:\tlearn: 0.2613103\ttotal: 318ms\tremaining: 204ms\n",
            "244:\tlearn: 0.2606740\ttotal: 319ms\tremaining: 202ms\n",
            "245:\tlearn: 0.2600602\ttotal: 320ms\tremaining: 200ms\n",
            "246:\tlearn: 0.2598802\ttotal: 321ms\tremaining: 199ms\n",
            "247:\tlearn: 0.2594468\ttotal: 322ms\tremaining: 197ms\n",
            "248:\tlearn: 0.2586602\ttotal: 322ms\tremaining: 196ms\n",
            "249:\tlearn: 0.2582685\ttotal: 323ms\tremaining: 194ms\n",
            "250:\tlearn: 0.2576092\ttotal: 324ms\tremaining: 192ms\n",
            "251:\tlearn: 0.2571636\ttotal: 325ms\tremaining: 191ms\n",
            "252:\tlearn: 0.2568209\ttotal: 326ms\tremaining: 189ms\n",
            "253:\tlearn: 0.2565715\ttotal: 327ms\tremaining: 188ms\n",
            "254:\tlearn: 0.2561574\ttotal: 328ms\tremaining: 186ms\n",
            "255:\tlearn: 0.2558514\ttotal: 329ms\tremaining: 185ms\n",
            "256:\tlearn: 0.2550768\ttotal: 330ms\tremaining: 184ms\n",
            "257:\tlearn: 0.2546872\ttotal: 331ms\tremaining: 182ms\n",
            "258:\tlearn: 0.2544908\ttotal: 332ms\tremaining: 181ms\n",
            "259:\tlearn: 0.2539981\ttotal: 333ms\tremaining: 179ms\n",
            "260:\tlearn: 0.2536243\ttotal: 334ms\tremaining: 178ms\n",
            "261:\tlearn: 0.2531822\ttotal: 335ms\tremaining: 177ms\n",
            "262:\tlearn: 0.2528473\ttotal: 336ms\tremaining: 175ms\n",
            "263:\tlearn: 0.2523833\ttotal: 337ms\tremaining: 174ms\n",
            "264:\tlearn: 0.2519558\ttotal: 338ms\tremaining: 172ms\n",
            "265:\tlearn: 0.2515285\ttotal: 339ms\tremaining: 171ms\n",
            "266:\tlearn: 0.2511332\ttotal: 340ms\tremaining: 169ms\n",
            "267:\tlearn: 0.2505548\ttotal: 341ms\tremaining: 168ms\n",
            "268:\tlearn: 0.2502446\ttotal: 342ms\tremaining: 166ms\n",
            "269:\tlearn: 0.2498657\ttotal: 343ms\tremaining: 165ms\n",
            "270:\tlearn: 0.2495808\ttotal: 344ms\tremaining: 164ms\n",
            "271:\tlearn: 0.2490882\ttotal: 345ms\tremaining: 162ms\n",
            "272:\tlearn: 0.2485869\ttotal: 346ms\tremaining: 161ms\n",
            "273:\tlearn: 0.2478599\ttotal: 348ms\tremaining: 160ms\n",
            "274:\tlearn: 0.2475810\ttotal: 350ms\tremaining: 159ms\n",
            "275:\tlearn: 0.2471153\ttotal: 351ms\tremaining: 158ms\n",
            "276:\tlearn: 0.2464988\ttotal: 352ms\tremaining: 156ms\n",
            "277:\tlearn: 0.2457004\ttotal: 353ms\tremaining: 155ms\n",
            "278:\tlearn: 0.2452302\ttotal: 353ms\tremaining: 153ms\n",
            "279:\tlearn: 0.2447262\ttotal: 354ms\tremaining: 152ms\n",
            "280:\tlearn: 0.2444512\ttotal: 355ms\tremaining: 150ms\n",
            "281:\tlearn: 0.2441500\ttotal: 356ms\tremaining: 149ms\n",
            "282:\tlearn: 0.2438331\ttotal: 357ms\tremaining: 148ms\n",
            "283:\tlearn: 0.2436050\ttotal: 358ms\tremaining: 146ms\n",
            "284:\tlearn: 0.2431703\ttotal: 359ms\tremaining: 145ms\n",
            "285:\tlearn: 0.2425768\ttotal: 360ms\tremaining: 143ms\n",
            "286:\tlearn: 0.2421469\ttotal: 361ms\tremaining: 142ms\n",
            "287:\tlearn: 0.2418588\ttotal: 361ms\tremaining: 141ms\n",
            "288:\tlearn: 0.2412286\ttotal: 362ms\tremaining: 139ms\n",
            "289:\tlearn: 0.2403855\ttotal: 363ms\tremaining: 138ms\n",
            "290:\tlearn: 0.2401556\ttotal: 364ms\tremaining: 136ms\n",
            "291:\tlearn: 0.2397824\ttotal: 365ms\tremaining: 135ms\n",
            "292:\tlearn: 0.2391769\ttotal: 366ms\tremaining: 134ms\n",
            "293:\tlearn: 0.2388957\ttotal: 367ms\tremaining: 132ms\n",
            "294:\tlearn: 0.2380498\ttotal: 367ms\tremaining: 131ms\n",
            "295:\tlearn: 0.2375881\ttotal: 368ms\tremaining: 129ms\n",
            "296:\tlearn: 0.2372097\ttotal: 369ms\tremaining: 128ms\n",
            "297:\tlearn: 0.2370358\ttotal: 370ms\tremaining: 127ms\n",
            "298:\tlearn: 0.2366964\ttotal: 371ms\tremaining: 125ms\n",
            "299:\tlearn: 0.2365186\ttotal: 371ms\tremaining: 124ms\n",
            "300:\tlearn: 0.2361110\ttotal: 372ms\tremaining: 122ms\n",
            "301:\tlearn: 0.2355977\ttotal: 373ms\tremaining: 121ms\n",
            "302:\tlearn: 0.2351732\ttotal: 374ms\tremaining: 120ms\n",
            "303:\tlearn: 0.2347088\ttotal: 375ms\tremaining: 118ms\n",
            "304:\tlearn: 0.2344822\ttotal: 376ms\tremaining: 117ms\n",
            "305:\tlearn: 0.2340412\ttotal: 377ms\tremaining: 116ms\n",
            "306:\tlearn: 0.2335610\ttotal: 378ms\tremaining: 114ms\n",
            "307:\tlearn: 0.2332033\ttotal: 378ms\tremaining: 113ms\n",
            "308:\tlearn: 0.2326881\ttotal: 379ms\tremaining: 112ms\n",
            "309:\tlearn: 0.2324147\ttotal: 380ms\tremaining: 110ms\n",
            "310:\tlearn: 0.2320233\ttotal: 381ms\tremaining: 109ms\n",
            "311:\tlearn: 0.2314647\ttotal: 382ms\tremaining: 108ms\n",
            "312:\tlearn: 0.2313185\ttotal: 383ms\tremaining: 106ms\n",
            "313:\tlearn: 0.2310832\ttotal: 384ms\tremaining: 105ms\n",
            "314:\tlearn: 0.2306380\ttotal: 385ms\tremaining: 104ms\n",
            "315:\tlearn: 0.2304328\ttotal: 386ms\tremaining: 103ms\n",
            "316:\tlearn: 0.2301513\ttotal: 386ms\tremaining: 101ms\n",
            "317:\tlearn: 0.2298562\ttotal: 387ms\tremaining: 99.8ms\n",
            "318:\tlearn: 0.2293556\ttotal: 388ms\tremaining: 98.5ms\n",
            "319:\tlearn: 0.2290898\ttotal: 389ms\tremaining: 97.2ms\n",
            "320:\tlearn: 0.2288996\ttotal: 390ms\tremaining: 95.9ms\n",
            "321:\tlearn: 0.2286977\ttotal: 391ms\tremaining: 94.7ms\n",
            "322:\tlearn: 0.2283951\ttotal: 392ms\tremaining: 93.4ms\n",
            "323:\tlearn: 0.2279431\ttotal: 393ms\tremaining: 92.2ms\n",
            "324:\tlearn: 0.2275464\ttotal: 394ms\tremaining: 90.9ms\n",
            "325:\tlearn: 0.2270891\ttotal: 394ms\tremaining: 89.5ms\n",
            "326:\tlearn: 0.2265771\ttotal: 395ms\tremaining: 88.2ms\n",
            "327:\tlearn: 0.2259275\ttotal: 396ms\tremaining: 86.9ms\n",
            "328:\tlearn: 0.2257056\ttotal: 397ms\tremaining: 85.6ms\n",
            "329:\tlearn: 0.2254019\ttotal: 398ms\tremaining: 84.4ms\n",
            "330:\tlearn: 0.2249768\ttotal: 398ms\tremaining: 83.1ms\n",
            "331:\tlearn: 0.2247455\ttotal: 399ms\tremaining: 81.8ms\n",
            "332:\tlearn: 0.2240865\ttotal: 400ms\tremaining: 80.5ms\n",
            "333:\tlearn: 0.2237127\ttotal: 401ms\tremaining: 79.3ms\n",
            "334:\tlearn: 0.2233804\ttotal: 402ms\tremaining: 78ms\n",
            "335:\tlearn: 0.2228716\ttotal: 403ms\tremaining: 76.7ms\n",
            "336:\tlearn: 0.2224591\ttotal: 404ms\tremaining: 75.4ms\n",
            "337:\tlearn: 0.2220392\ttotal: 404ms\tremaining: 74.2ms\n",
            "338:\tlearn: 0.2215937\ttotal: 405ms\tremaining: 72.9ms\n",
            "339:\tlearn: 0.2213577\ttotal: 406ms\tremaining: 71.7ms\n",
            "340:\tlearn: 0.2208535\ttotal: 407ms\tremaining: 70.5ms\n",
            "341:\tlearn: 0.2205758\ttotal: 408ms\tremaining: 69.2ms\n",
            "342:\tlearn: 0.2198253\ttotal: 409ms\tremaining: 68ms\n",
            "343:\tlearn: 0.2195940\ttotal: 410ms\tremaining: 66.7ms\n",
            "344:\tlearn: 0.2195750\ttotal: 411ms\tremaining: 65.5ms\n",
            "345:\tlearn: 0.2193915\ttotal: 411ms\tremaining: 64.2ms\n",
            "346:\tlearn: 0.2189857\ttotal: 412ms\tremaining: 63ms\n",
            "347:\tlearn: 0.2188425\ttotal: 413ms\tremaining: 61.8ms\n",
            "348:\tlearn: 0.2185409\ttotal: 414ms\tremaining: 60.5ms\n",
            "349:\tlearn: 0.2184374\ttotal: 415ms\tremaining: 59.3ms\n",
            "350:\tlearn: 0.2181461\ttotal: 416ms\tremaining: 58.1ms\n",
            "351:\tlearn: 0.2180271\ttotal: 417ms\tremaining: 56.9ms\n",
            "352:\tlearn: 0.2174878\ttotal: 418ms\tremaining: 55.6ms\n",
            "353:\tlearn: 0.2171081\ttotal: 419ms\tremaining: 54.4ms\n",
            "354:\tlearn: 0.2168486\ttotal: 419ms\tremaining: 53.2ms\n",
            "355:\tlearn: 0.2167526\ttotal: 420ms\tremaining: 52ms\n",
            "356:\tlearn: 0.2163020\ttotal: 422ms\tremaining: 50.8ms\n",
            "357:\tlearn: 0.2158167\ttotal: 423ms\tremaining: 49.6ms\n",
            "358:\tlearn: 0.2153813\ttotal: 424ms\tremaining: 48.4ms\n",
            "359:\tlearn: 0.2147602\ttotal: 425ms\tremaining: 47.2ms\n",
            "360:\tlearn: 0.2143496\ttotal: 426ms\tremaining: 46ms\n",
            "361:\tlearn: 0.2141331\ttotal: 427ms\tremaining: 44.8ms\n",
            "362:\tlearn: 0.2137484\ttotal: 428ms\tremaining: 43.7ms\n",
            "363:\tlearn: 0.2131826\ttotal: 430ms\tremaining: 42.5ms\n",
            "364:\tlearn: 0.2130972\ttotal: 431ms\tremaining: 41.3ms\n",
            "365:\tlearn: 0.2126204\ttotal: 432ms\tremaining: 40.1ms\n",
            "366:\tlearn: 0.2122317\ttotal: 432ms\tremaining: 38.9ms\n",
            "367:\tlearn: 0.2119554\ttotal: 433ms\tremaining: 37.7ms\n",
            "368:\tlearn: 0.2117049\ttotal: 434ms\tremaining: 36.5ms\n",
            "369:\tlearn: 0.2111893\ttotal: 435ms\tremaining: 35.3ms\n",
            "370:\tlearn: 0.2109600\ttotal: 436ms\tremaining: 34.1ms\n",
            "371:\tlearn: 0.2104733\ttotal: 437ms\tremaining: 32.9ms\n",
            "372:\tlearn: 0.2099769\ttotal: 438ms\tremaining: 31.7ms\n",
            "373:\tlearn: 0.2096406\ttotal: 439ms\tremaining: 30.5ms\n",
            "374:\tlearn: 0.2095005\ttotal: 440ms\tremaining: 29.3ms\n",
            "375:\tlearn: 0.2091511\ttotal: 440ms\tremaining: 28.1ms\n",
            "376:\tlearn: 0.2086431\ttotal: 441ms\tremaining: 26.9ms\n",
            "377:\tlearn: 0.2084237\ttotal: 442ms\tremaining: 25.7ms\n",
            "378:\tlearn: 0.2080049\ttotal: 443ms\tremaining: 24.5ms\n",
            "379:\tlearn: 0.2074888\ttotal: 444ms\tremaining: 23.4ms\n",
            "380:\tlearn: 0.2072841\ttotal: 445ms\tremaining: 22.2ms\n",
            "381:\tlearn: 0.2071434\ttotal: 445ms\tremaining: 21ms\n",
            "382:\tlearn: 0.2067759\ttotal: 446ms\tremaining: 19.8ms\n",
            "383:\tlearn: 0.2064632\ttotal: 447ms\tremaining: 18.6ms\n",
            "384:\tlearn: 0.2063052\ttotal: 448ms\tremaining: 17.5ms\n",
            "385:\tlearn: 0.2059558\ttotal: 449ms\tremaining: 16.3ms\n",
            "386:\tlearn: 0.2056227\ttotal: 450ms\tremaining: 15.1ms\n",
            "387:\tlearn: 0.2052061\ttotal: 451ms\tremaining: 13.9ms\n",
            "388:\tlearn: 0.2049920\ttotal: 451ms\tremaining: 12.8ms\n",
            "389:\tlearn: 0.2048052\ttotal: 452ms\tremaining: 11.6ms\n",
            "390:\tlearn: 0.2044856\ttotal: 453ms\tremaining: 10.4ms\n",
            "391:\tlearn: 0.2037926\ttotal: 455ms\tremaining: 9.28ms\n",
            "392:\tlearn: 0.2033869\ttotal: 455ms\tremaining: 8.11ms\n",
            "393:\tlearn: 0.2032551\ttotal: 456ms\tremaining: 6.95ms\n",
            "394:\tlearn: 0.2029275\ttotal: 457ms\tremaining: 5.78ms\n",
            "395:\tlearn: 0.2021431\ttotal: 458ms\tremaining: 4.62ms\n",
            "396:\tlearn: 0.2019249\ttotal: 458ms\tremaining: 3.46ms\n",
            "397:\tlearn: 0.2015962\ttotal: 459ms\tremaining: 2.31ms\n",
            "398:\tlearn: 0.2011925\ttotal: 460ms\tremaining: 1.15ms\n",
            "399:\tlearn: 0.2009069\ttotal: 461ms\tremaining: 0us\n"
          ]
        },
        {
          "output_type": "execute_result",
          "data": {
            "text/plain": [
              "<catboost.core.CatBoostClassifier at 0x7855434fe980>"
            ]
          },
          "metadata": {},
          "execution_count": 94
        }
      ]
    },
    {
      "cell_type": "code",
      "source": [
        "print('Training Accuracy: {:.3f}'.format(accuracy_score(y_train, model.predict(X_train))))\n",
        "print('Testing Accuracy: {:.3f}'.format(accuracy_score(y_test, model.predict(X_test))))"
      ],
      "metadata": {
        "id": "nXtqtI0qw5st",
        "outputId": "646bdd01-c3fa-4afa-db65-a09fa98fe318",
        "colab": {
          "base_uri": "https://localhost:8080/"
        }
      },
      "execution_count": 95,
      "outputs": [
        {
          "output_type": "stream",
          "name": "stdout",
          "text": [
            "Training Accuracy: 0.955\n",
            "Testing Accuracy: 0.867\n"
          ]
        }
      ]
    },
    {
      "cell_type": "code",
      "source": [
        "#Without Class Weights\n",
        "model = CatBoostClassifier(n_estimators=400  ,  depth = 4)\n",
        "model.fit(X_train , y_train)"
      ],
      "metadata": {
        "id": "TZ-05bWXw7Dt",
        "outputId": "93676998-7101-4839-cdd8-70dfe2533fcb",
        "colab": {
          "base_uri": "https://localhost:8080/"
        }
      },
      "execution_count": 96,
      "outputs": [
        {
          "output_type": "stream",
          "name": "stdout",
          "text": [
            "Learning rate set to 0.012601\n",
            "0:\tlearn: 0.6864243\ttotal: 1.33ms\tremaining: 531ms\n",
            "1:\tlearn: 0.6793081\ttotal: 4.62ms\tremaining: 919ms\n",
            "2:\tlearn: 0.6700857\ttotal: 6.42ms\tremaining: 849ms\n",
            "3:\tlearn: 0.6633572\ttotal: 8.42ms\tremaining: 834ms\n",
            "4:\tlearn: 0.6541715\ttotal: 10.4ms\tremaining: 825ms\n",
            "5:\tlearn: 0.6436086\ttotal: 12.5ms\tremaining: 818ms\n",
            "6:\tlearn: 0.6369023\ttotal: 14.6ms\tremaining: 820ms\n",
            "7:\tlearn: 0.6299859\ttotal: 17ms\tremaining: 834ms\n",
            "8:\tlearn: 0.6233270\ttotal: 19ms\tremaining: 825ms\n",
            "9:\tlearn: 0.6167242\ttotal: 21ms\tremaining: 818ms\n",
            "10:\tlearn: 0.6103753\ttotal: 23.6ms\tremaining: 835ms\n",
            "11:\tlearn: 0.6045073\ttotal: 25.4ms\tremaining: 821ms\n",
            "12:\tlearn: 0.5969508\ttotal: 27.4ms\tremaining: 815ms\n",
            "13:\tlearn: 0.5888924\ttotal: 29.4ms\tremaining: 811ms\n",
            "14:\tlearn: 0.5834167\ttotal: 32.2ms\tremaining: 828ms\n",
            "15:\tlearn: 0.5763249\ttotal: 33.7ms\tremaining: 809ms\n",
            "16:\tlearn: 0.5700638\ttotal: 35.5ms\tremaining: 801ms\n",
            "17:\tlearn: 0.5642062\ttotal: 37.6ms\tremaining: 798ms\n",
            "18:\tlearn: 0.5593256\ttotal: 39.5ms\tremaining: 792ms\n",
            "19:\tlearn: 0.5539807\ttotal: 41.5ms\tremaining: 788ms\n",
            "20:\tlearn: 0.5486279\ttotal: 43.5ms\tremaining: 784ms\n",
            "21:\tlearn: 0.5432080\ttotal: 45.5ms\tremaining: 782ms\n",
            "22:\tlearn: 0.5373835\ttotal: 47.7ms\tremaining: 782ms\n",
            "23:\tlearn: 0.5331569\ttotal: 49.8ms\tremaining: 781ms\n",
            "24:\tlearn: 0.5286733\ttotal: 52ms\tremaining: 780ms\n",
            "25:\tlearn: 0.5239183\ttotal: 54ms\tremaining: 777ms\n",
            "26:\tlearn: 0.5204880\ttotal: 56.1ms\tremaining: 775ms\n",
            "27:\tlearn: 0.5165795\ttotal: 58.2ms\tremaining: 774ms\n",
            "28:\tlearn: 0.5142419\ttotal: 60.2ms\tremaining: 771ms\n",
            "29:\tlearn: 0.5097192\ttotal: 67.6ms\tremaining: 833ms\n",
            "30:\tlearn: 0.5051392\ttotal: 69.7ms\tremaining: 830ms\n",
            "31:\tlearn: 0.5011727\ttotal: 71.8ms\tremaining: 825ms\n",
            "32:\tlearn: 0.4964588\ttotal: 73.9ms\tremaining: 822ms\n",
            "33:\tlearn: 0.4924847\ttotal: 76ms\tremaining: 818ms\n",
            "34:\tlearn: 0.4875744\ttotal: 78.2ms\tremaining: 815ms\n",
            "35:\tlearn: 0.4841992\ttotal: 80.2ms\tremaining: 811ms\n",
            "36:\tlearn: 0.4802844\ttotal: 82.3ms\tremaining: 808ms\n",
            "37:\tlearn: 0.4774296\ttotal: 84.2ms\tremaining: 802ms\n",
            "38:\tlearn: 0.4737937\ttotal: 86.4ms\tremaining: 799ms\n",
            "39:\tlearn: 0.4692212\ttotal: 88.4ms\tremaining: 795ms\n",
            "40:\tlearn: 0.4658907\ttotal: 90.4ms\tremaining: 791ms\n",
            "41:\tlearn: 0.4626876\ttotal: 93.4ms\tremaining: 797ms\n",
            "42:\tlearn: 0.4586086\ttotal: 95ms\tremaining: 788ms\n",
            "43:\tlearn: 0.4556213\ttotal: 97.1ms\tremaining: 786ms\n",
            "44:\tlearn: 0.4530999\ttotal: 99.3ms\tremaining: 783ms\n",
            "45:\tlearn: 0.4513717\ttotal: 100ms\tremaining: 770ms\n",
            "46:\tlearn: 0.4462490\ttotal: 102ms\tremaining: 764ms\n",
            "47:\tlearn: 0.4442368\ttotal: 104ms\tremaining: 762ms\n",
            "48:\tlearn: 0.4417055\ttotal: 106ms\tremaining: 760ms\n",
            "49:\tlearn: 0.4388159\ttotal: 108ms\tremaining: 756ms\n",
            "50:\tlearn: 0.4365629\ttotal: 110ms\tremaining: 752ms\n",
            "51:\tlearn: 0.4335379\ttotal: 112ms\tremaining: 749ms\n",
            "52:\tlearn: 0.4313040\ttotal: 114ms\tremaining: 745ms\n",
            "53:\tlearn: 0.4286606\ttotal: 116ms\tremaining: 742ms\n",
            "54:\tlearn: 0.4262930\ttotal: 118ms\tremaining: 738ms\n",
            "55:\tlearn: 0.4231414\ttotal: 120ms\tremaining: 735ms\n",
            "56:\tlearn: 0.4209024\ttotal: 122ms\tremaining: 732ms\n",
            "57:\tlearn: 0.4191854\ttotal: 124ms\tremaining: 729ms\n",
            "58:\tlearn: 0.4169301\ttotal: 128ms\tremaining: 742ms\n",
            "59:\tlearn: 0.4143551\ttotal: 131ms\tremaining: 741ms\n",
            "60:\tlearn: 0.4117008\ttotal: 135ms\tremaining: 752ms\n",
            "61:\tlearn: 0.4096924\ttotal: 138ms\tremaining: 750ms\n",
            "62:\tlearn: 0.4073878\ttotal: 140ms\tremaining: 749ms\n",
            "63:\tlearn: 0.4059494\ttotal: 142ms\tremaining: 747ms\n",
            "64:\tlearn: 0.4042040\ttotal: 144ms\tremaining: 744ms\n",
            "65:\tlearn: 0.4028889\ttotal: 147ms\tremaining: 742ms\n",
            "66:\tlearn: 0.4012498\ttotal: 149ms\tremaining: 739ms\n",
            "67:\tlearn: 0.3989780\ttotal: 151ms\tremaining: 737ms\n",
            "68:\tlearn: 0.3967578\ttotal: 153ms\tremaining: 734ms\n",
            "69:\tlearn: 0.3948702\ttotal: 158ms\tremaining: 743ms\n",
            "70:\tlearn: 0.3929344\ttotal: 159ms\tremaining: 736ms\n",
            "71:\tlearn: 0.3913236\ttotal: 161ms\tremaining: 734ms\n",
            "72:\tlearn: 0.3893164\ttotal: 163ms\tremaining: 731ms\n",
            "73:\tlearn: 0.3884067\ttotal: 165ms\tremaining: 728ms\n",
            "74:\tlearn: 0.3870361\ttotal: 167ms\tremaining: 725ms\n",
            "75:\tlearn: 0.3858323\ttotal: 169ms\tremaining: 722ms\n",
            "76:\tlearn: 0.3847546\ttotal: 171ms\tremaining: 719ms\n",
            "77:\tlearn: 0.3834283\ttotal: 173ms\tremaining: 716ms\n",
            "78:\tlearn: 0.3818436\ttotal: 176ms\tremaining: 713ms\n",
            "79:\tlearn: 0.3801400\ttotal: 178ms\tremaining: 710ms\n",
            "80:\tlearn: 0.3782199\ttotal: 180ms\tremaining: 708ms\n",
            "81:\tlearn: 0.3760334\ttotal: 182ms\tremaining: 704ms\n",
            "82:\tlearn: 0.3745708\ttotal: 184ms\tremaining: 701ms\n",
            "83:\tlearn: 0.3736108\ttotal: 186ms\tremaining: 699ms\n",
            "84:\tlearn: 0.3723460\ttotal: 188ms\tremaining: 696ms\n",
            "85:\tlearn: 0.3706727\ttotal: 190ms\tremaining: 693ms\n",
            "86:\tlearn: 0.3693686\ttotal: 191ms\tremaining: 686ms\n",
            "87:\tlearn: 0.3680827\ttotal: 191ms\tremaining: 679ms\n",
            "88:\tlearn: 0.3672403\ttotal: 192ms\tremaining: 672ms\n",
            "89:\tlearn: 0.3653158\ttotal: 193ms\tremaining: 666ms\n",
            "90:\tlearn: 0.3640463\ttotal: 195ms\tremaining: 660ms\n",
            "91:\tlearn: 0.3625829\ttotal: 195ms\tremaining: 654ms\n",
            "92:\tlearn: 0.3615380\ttotal: 196ms\tremaining: 647ms\n",
            "93:\tlearn: 0.3595398\ttotal: 197ms\tremaining: 641ms\n",
            "94:\tlearn: 0.3585452\ttotal: 198ms\tremaining: 635ms\n",
            "95:\tlearn: 0.3569453\ttotal: 198ms\tremaining: 628ms\n",
            "96:\tlearn: 0.3554528\ttotal: 199ms\tremaining: 622ms\n",
            "97:\tlearn: 0.3541760\ttotal: 200ms\tremaining: 617ms\n",
            "98:\tlearn: 0.3528396\ttotal: 201ms\tremaining: 611ms\n",
            "99:\tlearn: 0.3517878\ttotal: 202ms\tremaining: 605ms\n",
            "100:\tlearn: 0.3514378\ttotal: 202ms\tremaining: 599ms\n",
            "101:\tlearn: 0.3502174\ttotal: 203ms\tremaining: 594ms\n",
            "102:\tlearn: 0.3494524\ttotal: 204ms\tremaining: 589ms\n",
            "103:\tlearn: 0.3481380\ttotal: 205ms\tremaining: 584ms\n",
            "104:\tlearn: 0.3472426\ttotal: 206ms\tremaining: 578ms\n",
            "105:\tlearn: 0.3459643\ttotal: 207ms\tremaining: 573ms\n",
            "106:\tlearn: 0.3447754\ttotal: 207ms\tremaining: 568ms\n",
            "107:\tlearn: 0.3440783\ttotal: 208ms\tremaining: 563ms\n",
            "108:\tlearn: 0.3429710\ttotal: 209ms\tremaining: 558ms\n",
            "109:\tlearn: 0.3414018\ttotal: 210ms\tremaining: 553ms\n",
            "110:\tlearn: 0.3400727\ttotal: 211ms\tremaining: 548ms\n",
            "111:\tlearn: 0.3386777\ttotal: 211ms\tremaining: 543ms\n",
            "112:\tlearn: 0.3369276\ttotal: 212ms\tremaining: 539ms\n",
            "113:\tlearn: 0.3360081\ttotal: 213ms\tremaining: 535ms\n",
            "114:\tlearn: 0.3348659\ttotal: 214ms\tremaining: 531ms\n",
            "115:\tlearn: 0.3341404\ttotal: 215ms\tremaining: 527ms\n",
            "116:\tlearn: 0.3330077\ttotal: 216ms\tremaining: 522ms\n",
            "117:\tlearn: 0.3314170\ttotal: 217ms\tremaining: 518ms\n",
            "118:\tlearn: 0.3302839\ttotal: 217ms\tremaining: 514ms\n",
            "119:\tlearn: 0.3294700\ttotal: 218ms\tremaining: 509ms\n",
            "120:\tlearn: 0.3288200\ttotal: 219ms\tremaining: 505ms\n",
            "121:\tlearn: 0.3271791\ttotal: 220ms\tremaining: 501ms\n",
            "122:\tlearn: 0.3266710\ttotal: 221ms\tremaining: 497ms\n",
            "123:\tlearn: 0.3260869\ttotal: 221ms\tremaining: 493ms\n",
            "124:\tlearn: 0.3249665\ttotal: 222ms\tremaining: 489ms\n",
            "125:\tlearn: 0.3242036\ttotal: 223ms\tremaining: 485ms\n",
            "126:\tlearn: 0.3237384\ttotal: 224ms\tremaining: 481ms\n",
            "127:\tlearn: 0.3232463\ttotal: 225ms\tremaining: 477ms\n",
            "128:\tlearn: 0.3224692\ttotal: 225ms\tremaining: 473ms\n",
            "129:\tlearn: 0.3210250\ttotal: 226ms\tremaining: 470ms\n",
            "130:\tlearn: 0.3205494\ttotal: 227ms\tremaining: 467ms\n",
            "131:\tlearn: 0.3195029\ttotal: 228ms\tremaining: 464ms\n",
            "132:\tlearn: 0.3181909\ttotal: 229ms\tremaining: 460ms\n",
            "133:\tlearn: 0.3171095\ttotal: 230ms\tremaining: 456ms\n",
            "134:\tlearn: 0.3162789\ttotal: 231ms\tremaining: 453ms\n",
            "135:\tlearn: 0.3158301\ttotal: 231ms\tremaining: 449ms\n",
            "136:\tlearn: 0.3150719\ttotal: 232ms\tremaining: 446ms\n",
            "137:\tlearn: 0.3142950\ttotal: 233ms\tremaining: 442ms\n",
            "138:\tlearn: 0.3136937\ttotal: 234ms\tremaining: 439ms\n",
            "139:\tlearn: 0.3125458\ttotal: 234ms\tremaining: 435ms\n",
            "140:\tlearn: 0.3115307\ttotal: 235ms\tremaining: 432ms\n",
            "141:\tlearn: 0.3109541\ttotal: 236ms\tremaining: 430ms\n",
            "142:\tlearn: 0.3103704\ttotal: 237ms\tremaining: 427ms\n",
            "143:\tlearn: 0.3096624\ttotal: 238ms\tremaining: 424ms\n",
            "144:\tlearn: 0.3089301\ttotal: 239ms\tremaining: 420ms\n",
            "145:\tlearn: 0.3085270\ttotal: 240ms\tremaining: 417ms\n",
            "146:\tlearn: 0.3079376\ttotal: 244ms\tremaining: 419ms\n",
            "147:\tlearn: 0.3072606\ttotal: 245ms\tremaining: 416ms\n",
            "148:\tlearn: 0.3064970\ttotal: 246ms\tremaining: 414ms\n",
            "149:\tlearn: 0.3062518\ttotal: 247ms\tremaining: 411ms\n",
            "150:\tlearn: 0.3053156\ttotal: 248ms\tremaining: 408ms\n",
            "151:\tlearn: 0.3047062\ttotal: 248ms\tremaining: 405ms\n",
            "152:\tlearn: 0.3038306\ttotal: 249ms\tremaining: 402ms\n",
            "153:\tlearn: 0.3021872\ttotal: 250ms\tremaining: 399ms\n",
            "154:\tlearn: 0.3014201\ttotal: 251ms\tremaining: 396ms\n",
            "155:\tlearn: 0.3007437\ttotal: 252ms\tremaining: 393ms\n",
            "156:\tlearn: 0.2997322\ttotal: 253ms\tremaining: 391ms\n",
            "157:\tlearn: 0.2987605\ttotal: 253ms\tremaining: 388ms\n",
            "158:\tlearn: 0.2983712\ttotal: 254ms\tremaining: 385ms\n",
            "159:\tlearn: 0.2974135\ttotal: 255ms\tremaining: 383ms\n",
            "160:\tlearn: 0.2964493\ttotal: 256ms\tremaining: 380ms\n",
            "161:\tlearn: 0.2958353\ttotal: 257ms\tremaining: 378ms\n",
            "162:\tlearn: 0.2954414\ttotal: 258ms\tremaining: 375ms\n",
            "163:\tlearn: 0.2941557\ttotal: 259ms\tremaining: 372ms\n",
            "164:\tlearn: 0.2931120\ttotal: 260ms\tremaining: 370ms\n",
            "165:\tlearn: 0.2925377\ttotal: 260ms\tremaining: 367ms\n",
            "166:\tlearn: 0.2920296\ttotal: 261ms\tremaining: 364ms\n",
            "167:\tlearn: 0.2915269\ttotal: 262ms\tremaining: 362ms\n",
            "168:\tlearn: 0.2908224\ttotal: 263ms\tremaining: 359ms\n",
            "169:\tlearn: 0.2900615\ttotal: 264ms\tremaining: 357ms\n",
            "170:\tlearn: 0.2891502\ttotal: 265ms\tremaining: 355ms\n",
            "171:\tlearn: 0.2884891\ttotal: 266ms\tremaining: 352ms\n",
            "172:\tlearn: 0.2879291\ttotal: 267ms\tremaining: 350ms\n",
            "173:\tlearn: 0.2874030\ttotal: 268ms\tremaining: 348ms\n",
            "174:\tlearn: 0.2866398\ttotal: 269ms\tremaining: 345ms\n",
            "175:\tlearn: 0.2861535\ttotal: 269ms\tremaining: 343ms\n",
            "176:\tlearn: 0.2857955\ttotal: 270ms\tremaining: 340ms\n",
            "177:\tlearn: 0.2853905\ttotal: 271ms\tremaining: 338ms\n",
            "178:\tlearn: 0.2844453\ttotal: 272ms\tremaining: 336ms\n",
            "179:\tlearn: 0.2837386\ttotal: 273ms\tremaining: 333ms\n",
            "180:\tlearn: 0.2833865\ttotal: 274ms\tremaining: 331ms\n",
            "181:\tlearn: 0.2825919\ttotal: 274ms\tremaining: 329ms\n",
            "182:\tlearn: 0.2819703\ttotal: 276ms\tremaining: 327ms\n",
            "183:\tlearn: 0.2814962\ttotal: 277ms\tremaining: 325ms\n",
            "184:\tlearn: 0.2807783\ttotal: 278ms\tremaining: 323ms\n",
            "185:\tlearn: 0.2799917\ttotal: 278ms\tremaining: 320ms\n",
            "186:\tlearn: 0.2788380\ttotal: 279ms\tremaining: 318ms\n",
            "187:\tlearn: 0.2783718\ttotal: 280ms\tremaining: 316ms\n",
            "188:\tlearn: 0.2771379\ttotal: 281ms\tremaining: 313ms\n",
            "189:\tlearn: 0.2766493\ttotal: 282ms\tremaining: 311ms\n",
            "190:\tlearn: 0.2760570\ttotal: 282ms\tremaining: 309ms\n",
            "191:\tlearn: 0.2755051\ttotal: 283ms\tremaining: 307ms\n",
            "192:\tlearn: 0.2749518\ttotal: 284ms\tremaining: 304ms\n",
            "193:\tlearn: 0.2745214\ttotal: 285ms\tremaining: 303ms\n",
            "194:\tlearn: 0.2742611\ttotal: 286ms\tremaining: 301ms\n",
            "195:\tlearn: 0.2736955\ttotal: 287ms\tremaining: 299ms\n",
            "196:\tlearn: 0.2731316\ttotal: 288ms\tremaining: 296ms\n",
            "197:\tlearn: 0.2729864\ttotal: 288ms\tremaining: 294ms\n",
            "198:\tlearn: 0.2724633\ttotal: 289ms\tremaining: 292ms\n",
            "199:\tlearn: 0.2719193\ttotal: 290ms\tremaining: 290ms\n",
            "200:\tlearn: 0.2711715\ttotal: 291ms\tremaining: 288ms\n",
            "201:\tlearn: 0.2703447\ttotal: 292ms\tremaining: 286ms\n",
            "202:\tlearn: 0.2695761\ttotal: 292ms\tremaining: 284ms\n",
            "203:\tlearn: 0.2689686\ttotal: 293ms\tremaining: 282ms\n",
            "204:\tlearn: 0.2685742\ttotal: 294ms\tremaining: 280ms\n",
            "205:\tlearn: 0.2682669\ttotal: 295ms\tremaining: 278ms\n",
            "206:\tlearn: 0.2673367\ttotal: 296ms\tremaining: 276ms\n",
            "207:\tlearn: 0.2665690\ttotal: 297ms\tremaining: 274ms\n",
            "208:\tlearn: 0.2655202\ttotal: 298ms\tremaining: 272ms\n",
            "209:\tlearn: 0.2647975\ttotal: 299ms\tremaining: 270ms\n",
            "210:\tlearn: 0.2642096\ttotal: 300ms\tremaining: 268ms\n",
            "211:\tlearn: 0.2632174\ttotal: 301ms\tremaining: 267ms\n",
            "212:\tlearn: 0.2628977\ttotal: 302ms\tremaining: 265ms\n",
            "213:\tlearn: 0.2624981\ttotal: 303ms\tremaining: 263ms\n",
            "214:\tlearn: 0.2622523\ttotal: 304ms\tremaining: 261ms\n",
            "215:\tlearn: 0.2616605\ttotal: 305ms\tremaining: 259ms\n",
            "216:\tlearn: 0.2612895\ttotal: 305ms\tremaining: 258ms\n",
            "217:\tlearn: 0.2607760\ttotal: 306ms\tremaining: 256ms\n",
            "218:\tlearn: 0.2599134\ttotal: 307ms\tremaining: 254ms\n",
            "219:\tlearn: 0.2592511\ttotal: 308ms\tremaining: 252ms\n",
            "220:\tlearn: 0.2584882\ttotal: 309ms\tremaining: 250ms\n",
            "221:\tlearn: 0.2581783\ttotal: 310ms\tremaining: 248ms\n",
            "222:\tlearn: 0.2573372\ttotal: 310ms\tremaining: 246ms\n",
            "223:\tlearn: 0.2569232\ttotal: 311ms\tremaining: 244ms\n",
            "224:\tlearn: 0.2567451\ttotal: 312ms\tremaining: 243ms\n",
            "225:\tlearn: 0.2562467\ttotal: 313ms\tremaining: 241ms\n",
            "226:\tlearn: 0.2557473\ttotal: 314ms\tremaining: 239ms\n",
            "227:\tlearn: 0.2553677\ttotal: 314ms\tremaining: 237ms\n",
            "228:\tlearn: 0.2548326\ttotal: 315ms\tremaining: 235ms\n",
            "229:\tlearn: 0.2541009\ttotal: 316ms\tremaining: 233ms\n",
            "230:\tlearn: 0.2533966\ttotal: 317ms\tremaining: 232ms\n",
            "231:\tlearn: 0.2525746\ttotal: 318ms\tremaining: 231ms\n",
            "232:\tlearn: 0.2522081\ttotal: 320ms\tremaining: 230ms\n",
            "233:\tlearn: 0.2512552\ttotal: 322ms\tremaining: 229ms\n",
            "234:\tlearn: 0.2509668\ttotal: 324ms\tremaining: 228ms\n",
            "235:\tlearn: 0.2501782\ttotal: 326ms\tremaining: 227ms\n",
            "236:\tlearn: 0.2497963\ttotal: 328ms\tremaining: 226ms\n",
            "237:\tlearn: 0.2493911\ttotal: 331ms\tremaining: 225ms\n",
            "238:\tlearn: 0.2486939\ttotal: 333ms\tremaining: 224ms\n",
            "239:\tlearn: 0.2483467\ttotal: 335ms\tremaining: 223ms\n",
            "240:\tlearn: 0.2480468\ttotal: 337ms\tremaining: 222ms\n",
            "241:\tlearn: 0.2475028\ttotal: 339ms\tremaining: 221ms\n",
            "242:\tlearn: 0.2469541\ttotal: 341ms\tremaining: 220ms\n",
            "243:\tlearn: 0.2460743\ttotal: 343ms\tremaining: 219ms\n",
            "244:\tlearn: 0.2455025\ttotal: 345ms\tremaining: 218ms\n",
            "245:\tlearn: 0.2449118\ttotal: 349ms\tremaining: 219ms\n",
            "246:\tlearn: 0.2442578\ttotal: 351ms\tremaining: 218ms\n",
            "247:\tlearn: 0.2438579\ttotal: 352ms\tremaining: 216ms\n",
            "248:\tlearn: 0.2431364\ttotal: 355ms\tremaining: 215ms\n",
            "249:\tlearn: 0.2427872\ttotal: 356ms\tremaining: 214ms\n",
            "250:\tlearn: 0.2421842\ttotal: 357ms\tremaining: 212ms\n",
            "251:\tlearn: 0.2417198\ttotal: 358ms\tremaining: 210ms\n",
            "252:\tlearn: 0.2410341\ttotal: 359ms\tremaining: 208ms\n",
            "253:\tlearn: 0.2407853\ttotal: 360ms\tremaining: 207ms\n",
            "254:\tlearn: 0.2403887\ttotal: 361ms\tremaining: 205ms\n",
            "255:\tlearn: 0.2398785\ttotal: 361ms\tremaining: 203ms\n",
            "256:\tlearn: 0.2391807\ttotal: 362ms\tremaining: 202ms\n",
            "257:\tlearn: 0.2388483\ttotal: 363ms\tremaining: 200ms\n",
            "258:\tlearn: 0.2385050\ttotal: 364ms\tremaining: 198ms\n",
            "259:\tlearn: 0.2380910\ttotal: 364ms\tremaining: 196ms\n",
            "260:\tlearn: 0.2377268\ttotal: 365ms\tremaining: 195ms\n",
            "261:\tlearn: 0.2370978\ttotal: 366ms\tremaining: 193ms\n",
            "262:\tlearn: 0.2363755\ttotal: 372ms\tremaining: 194ms\n",
            "263:\tlearn: 0.2360353\ttotal: 373ms\tremaining: 192ms\n",
            "264:\tlearn: 0.2356436\ttotal: 374ms\tremaining: 191ms\n",
            "265:\tlearn: 0.2348490\ttotal: 375ms\tremaining: 189ms\n",
            "266:\tlearn: 0.2345051\ttotal: 376ms\tremaining: 187ms\n",
            "267:\tlearn: 0.2339188\ttotal: 381ms\tremaining: 188ms\n",
            "268:\tlearn: 0.2334489\ttotal: 382ms\tremaining: 186ms\n",
            "269:\tlearn: 0.2330976\ttotal: 383ms\tremaining: 185ms\n",
            "270:\tlearn: 0.2326362\ttotal: 384ms\tremaining: 183ms\n",
            "271:\tlearn: 0.2322445\ttotal: 385ms\tremaining: 181ms\n",
            "272:\tlearn: 0.2317988\ttotal: 386ms\tremaining: 179ms\n",
            "273:\tlearn: 0.2311354\ttotal: 394ms\tremaining: 181ms\n",
            "274:\tlearn: 0.2308784\ttotal: 394ms\tremaining: 179ms\n",
            "275:\tlearn: 0.2303546\ttotal: 395ms\tremaining: 178ms\n",
            "276:\tlearn: 0.2299711\ttotal: 396ms\tremaining: 176ms\n",
            "277:\tlearn: 0.2291851\ttotal: 400ms\tremaining: 176ms\n",
            "278:\tlearn: 0.2287284\ttotal: 401ms\tremaining: 174ms\n",
            "279:\tlearn: 0.2280095\ttotal: 402ms\tremaining: 172ms\n",
            "280:\tlearn: 0.2277992\ttotal: 404ms\tremaining: 171ms\n",
            "281:\tlearn: 0.2274119\ttotal: 405ms\tremaining: 169ms\n",
            "282:\tlearn: 0.2269599\ttotal: 406ms\tremaining: 168ms\n",
            "283:\tlearn: 0.2263810\ttotal: 407ms\tremaining: 166ms\n",
            "284:\tlearn: 0.2259666\ttotal: 408ms\tremaining: 164ms\n",
            "285:\tlearn: 0.2251454\ttotal: 409ms\tremaining: 163ms\n",
            "286:\tlearn: 0.2248417\ttotal: 413ms\tremaining: 163ms\n",
            "287:\tlearn: 0.2244737\ttotal: 414ms\tremaining: 161ms\n",
            "288:\tlearn: 0.2240910\ttotal: 420ms\tremaining: 161ms\n",
            "289:\tlearn: 0.2232955\ttotal: 421ms\tremaining: 160ms\n",
            "290:\tlearn: 0.2230383\ttotal: 421ms\tremaining: 158ms\n",
            "291:\tlearn: 0.2227078\ttotal: 429ms\tremaining: 159ms\n",
            "292:\tlearn: 0.2224120\ttotal: 430ms\tremaining: 157ms\n",
            "293:\tlearn: 0.2221673\ttotal: 431ms\tremaining: 155ms\n",
            "294:\tlearn: 0.2214285\ttotal: 431ms\tremaining: 154ms\n",
            "295:\tlearn: 0.2208774\ttotal: 435ms\tremaining: 153ms\n",
            "296:\tlearn: 0.2203984\ttotal: 436ms\tremaining: 151ms\n",
            "297:\tlearn: 0.2198233\ttotal: 438ms\tremaining: 150ms\n",
            "298:\tlearn: 0.2194919\ttotal: 440ms\tremaining: 148ms\n",
            "299:\tlearn: 0.2192896\ttotal: 441ms\tremaining: 147ms\n",
            "300:\tlearn: 0.2189372\ttotal: 446ms\tremaining: 147ms\n",
            "301:\tlearn: 0.2185956\ttotal: 447ms\tremaining: 145ms\n",
            "302:\tlearn: 0.2182261\ttotal: 449ms\tremaining: 144ms\n",
            "303:\tlearn: 0.2178745\ttotal: 450ms\tremaining: 142ms\n",
            "304:\tlearn: 0.2175218\ttotal: 451ms\tremaining: 141ms\n",
            "305:\tlearn: 0.2168835\ttotal: 452ms\tremaining: 139ms\n",
            "306:\tlearn: 0.2164448\ttotal: 458ms\tremaining: 139ms\n",
            "307:\tlearn: 0.2161307\ttotal: 460ms\tremaining: 137ms\n",
            "308:\tlearn: 0.2156731\ttotal: 461ms\tremaining: 136ms\n",
            "309:\tlearn: 0.2154069\ttotal: 463ms\tremaining: 135ms\n",
            "310:\tlearn: 0.2149683\ttotal: 466ms\tremaining: 133ms\n",
            "311:\tlearn: 0.2145128\ttotal: 468ms\tremaining: 132ms\n",
            "312:\tlearn: 0.2143618\ttotal: 471ms\tremaining: 131ms\n",
            "313:\tlearn: 0.2141726\ttotal: 474ms\tremaining: 130ms\n",
            "314:\tlearn: 0.2137531\ttotal: 476ms\tremaining: 128ms\n",
            "315:\tlearn: 0.2131975\ttotal: 477ms\tremaining: 127ms\n",
            "316:\tlearn: 0.2126976\ttotal: 479ms\tremaining: 125ms\n",
            "317:\tlearn: 0.2124374\ttotal: 481ms\tremaining: 124ms\n",
            "318:\tlearn: 0.2119332\ttotal: 483ms\tremaining: 123ms\n",
            "319:\tlearn: 0.2115077\ttotal: 487ms\tremaining: 122ms\n",
            "320:\tlearn: 0.2113186\ttotal: 491ms\tremaining: 121ms\n",
            "321:\tlearn: 0.2108250\ttotal: 495ms\tremaining: 120ms\n",
            "322:\tlearn: 0.2106449\ttotal: 497ms\tremaining: 119ms\n",
            "323:\tlearn: 0.2102954\ttotal: 500ms\tremaining: 117ms\n",
            "324:\tlearn: 0.2099427\ttotal: 502ms\tremaining: 116ms\n",
            "325:\tlearn: 0.2095510\ttotal: 504ms\tremaining: 114ms\n",
            "326:\tlearn: 0.2089047\ttotal: 506ms\tremaining: 113ms\n",
            "327:\tlearn: 0.2082499\ttotal: 508ms\tremaining: 112ms\n",
            "328:\tlearn: 0.2080379\ttotal: 510ms\tremaining: 110ms\n",
            "329:\tlearn: 0.2078324\ttotal: 512ms\tremaining: 109ms\n",
            "330:\tlearn: 0.2074396\ttotal: 514ms\tremaining: 107ms\n",
            "331:\tlearn: 0.2070475\ttotal: 516ms\tremaining: 106ms\n",
            "332:\tlearn: 0.2064792\ttotal: 518ms\tremaining: 104ms\n",
            "333:\tlearn: 0.2061599\ttotal: 520ms\tremaining: 103ms\n",
            "334:\tlearn: 0.2058658\ttotal: 523ms\tremaining: 101ms\n",
            "335:\tlearn: 0.2051917\ttotal: 525ms\tremaining: 100ms\n",
            "336:\tlearn: 0.2046419\ttotal: 529ms\tremaining: 98.9ms\n",
            "337:\tlearn: 0.2041971\ttotal: 531ms\tremaining: 97.4ms\n",
            "338:\tlearn: 0.2036739\ttotal: 533ms\tremaining: 95.9ms\n",
            "339:\tlearn: 0.2034506\ttotal: 535ms\tremaining: 94.4ms\n",
            "340:\tlearn: 0.2029511\ttotal: 537ms\tremaining: 92.8ms\n",
            "341:\tlearn: 0.2026722\ttotal: 539ms\tremaining: 91.3ms\n",
            "342:\tlearn: 0.2021559\ttotal: 541ms\tremaining: 89.8ms\n",
            "343:\tlearn: 0.2016204\ttotal: 542ms\tremaining: 88.3ms\n",
            "344:\tlearn: 0.2016037\ttotal: 544ms\tremaining: 86.8ms\n",
            "345:\tlearn: 0.2012812\ttotal: 548ms\tremaining: 85.5ms\n",
            "346:\tlearn: 0.2008896\ttotal: 549ms\tremaining: 83.9ms\n",
            "347:\tlearn: 0.2005433\ttotal: 551ms\tremaining: 82.4ms\n",
            "348:\tlearn: 0.2003020\ttotal: 553ms\tremaining: 80.8ms\n",
            "349:\tlearn: 0.2000048\ttotal: 555ms\tremaining: 79.3ms\n",
            "350:\tlearn: 0.1995944\ttotal: 557ms\tremaining: 77.8ms\n",
            "351:\tlearn: 0.1992149\ttotal: 559ms\tremaining: 76.2ms\n",
            "352:\tlearn: 0.1987375\ttotal: 562ms\tremaining: 74.8ms\n",
            "353:\tlearn: 0.1981121\ttotal: 566ms\tremaining: 73.5ms\n",
            "354:\tlearn: 0.1978720\ttotal: 568ms\tremaining: 72ms\n",
            "355:\tlearn: 0.1975224\ttotal: 570ms\tremaining: 70.5ms\n",
            "356:\tlearn: 0.1970909\ttotal: 572ms\tremaining: 68.9ms\n",
            "357:\tlearn: 0.1966722\ttotal: 575ms\tremaining: 67.5ms\n",
            "358:\tlearn: 0.1964419\ttotal: 577ms\tremaining: 65.9ms\n",
            "359:\tlearn: 0.1958496\ttotal: 592ms\tremaining: 65.8ms\n",
            "360:\tlearn: 0.1954971\ttotal: 595ms\tremaining: 64.2ms\n",
            "361:\tlearn: 0.1954285\ttotal: 596ms\tremaining: 62.6ms\n",
            "362:\tlearn: 0.1950246\ttotal: 598ms\tremaining: 61ms\n",
            "363:\tlearn: 0.1947426\ttotal: 600ms\tremaining: 59.4ms\n",
            "364:\tlearn: 0.1942845\ttotal: 602ms\tremaining: 57.8ms\n",
            "365:\tlearn: 0.1938648\ttotal: 606ms\tremaining: 56.3ms\n",
            "366:\tlearn: 0.1934478\ttotal: 608ms\tremaining: 54.7ms\n",
            "367:\tlearn: 0.1932300\ttotal: 615ms\tremaining: 53.4ms\n",
            "368:\tlearn: 0.1929636\ttotal: 616ms\tremaining: 51.8ms\n",
            "369:\tlearn: 0.1927111\ttotal: 620ms\tremaining: 50.3ms\n",
            "370:\tlearn: 0.1923017\ttotal: 627ms\tremaining: 49ms\n",
            "371:\tlearn: 0.1921991\ttotal: 631ms\tremaining: 47.5ms\n",
            "372:\tlearn: 0.1920679\ttotal: 634ms\tremaining: 45.9ms\n",
            "373:\tlearn: 0.1919565\ttotal: 636ms\tremaining: 44.2ms\n",
            "374:\tlearn: 0.1915338\ttotal: 638ms\tremaining: 42.5ms\n",
            "375:\tlearn: 0.1911298\ttotal: 645ms\tremaining: 41.2ms\n",
            "376:\tlearn: 0.1908939\ttotal: 649ms\tremaining: 39.6ms\n",
            "377:\tlearn: 0.1904023\ttotal: 651ms\tremaining: 37.9ms\n",
            "378:\tlearn: 0.1900191\ttotal: 655ms\tremaining: 36.3ms\n",
            "379:\tlearn: 0.1898292\ttotal: 657ms\tremaining: 34.6ms\n",
            "380:\tlearn: 0.1893759\ttotal: 660ms\tremaining: 32.9ms\n",
            "381:\tlearn: 0.1892281\ttotal: 663ms\tremaining: 31.2ms\n",
            "382:\tlearn: 0.1890239\ttotal: 665ms\tremaining: 29.5ms\n",
            "383:\tlearn: 0.1888047\ttotal: 668ms\tremaining: 27.8ms\n",
            "384:\tlearn: 0.1883255\ttotal: 675ms\tremaining: 26.3ms\n",
            "385:\tlearn: 0.1877952\ttotal: 677ms\tremaining: 24.6ms\n",
            "386:\tlearn: 0.1872962\ttotal: 680ms\tremaining: 22.8ms\n",
            "387:\tlearn: 0.1869242\ttotal: 682ms\tremaining: 21.1ms\n",
            "388:\tlearn: 0.1865864\ttotal: 684ms\tremaining: 19.3ms\n",
            "389:\tlearn: 0.1864725\ttotal: 687ms\tremaining: 17.6ms\n",
            "390:\tlearn: 0.1862651\ttotal: 689ms\tremaining: 15.9ms\n",
            "391:\tlearn: 0.1859095\ttotal: 692ms\tremaining: 14.1ms\n",
            "392:\tlearn: 0.1855657\ttotal: 697ms\tremaining: 12.4ms\n",
            "393:\tlearn: 0.1853522\ttotal: 699ms\tremaining: 10.6ms\n",
            "394:\tlearn: 0.1851416\ttotal: 701ms\tremaining: 8.87ms\n",
            "395:\tlearn: 0.1847633\ttotal: 703ms\tremaining: 7.1ms\n",
            "396:\tlearn: 0.1844901\ttotal: 705ms\tremaining: 5.33ms\n",
            "397:\tlearn: 0.1842482\ttotal: 707ms\tremaining: 3.55ms\n",
            "398:\tlearn: 0.1841487\ttotal: 709ms\tremaining: 1.77ms\n",
            "399:\tlearn: 0.1837917\ttotal: 710ms\tremaining: 0us\n"
          ]
        },
        {
          "output_type": "execute_result",
          "data": {
            "text/plain": [
              "<catboost.core.CatBoostClassifier at 0x78555251e050>"
            ]
          },
          "metadata": {},
          "execution_count": 96
        }
      ]
    },
    {
      "cell_type": "code",
      "source": [
        "print('Training Accuracy: {:.3f}'.format(accuracy_score(y_train, model.predict(X_train))))\n",
        "print('Testing Accuracy: {:.3f}'.format(accuracy_score(y_test, model.predict(X_test))))"
      ],
      "metadata": {
        "id": "GhKlQ9qRxBPa",
        "outputId": "3c762c4b-983e-4a08-8a6c-47359ce0bcca",
        "colab": {
          "base_uri": "https://localhost:8080/"
        }
      },
      "execution_count": 97,
      "outputs": [
        {
          "output_type": "stream",
          "name": "stdout",
          "text": [
            "Training Accuracy: 0.942\n",
            "Testing Accuracy: 0.933\n"
          ]
        }
      ]
    },
    {
      "cell_type": "code",
      "source": [
        "#Classification Report\n",
        "pred = model.predict(X_test)\n",
        "print(classification_report(y_test, pred))"
      ],
      "metadata": {
        "id": "9KaNHmC8xNAn",
        "outputId": "225c5d50-2162-4752-b4fd-48a80d5788ad",
        "colab": {
          "base_uri": "https://localhost:8080/"
        }
      },
      "execution_count": 99,
      "outputs": [
        {
          "output_type": "stream",
          "name": "stdout",
          "text": [
            "              precision    recall  f1-score   support\n",
            "\n",
            "           0       0.92      1.00      0.96        55\n",
            "           1       1.00      0.75      0.86        20\n",
            "\n",
            "    accuracy                           0.93        75\n",
            "   macro avg       0.96      0.88      0.91        75\n",
            "weighted avg       0.94      0.93      0.93        75\n",
            "\n"
          ]
        }
      ]
    },
    {
      "cell_type": "code",
      "source": [
        "#Confusion Matrix\n",
        "cm = confusion_matrix(y_test, pred)\n",
        "print(cm)\n",
        "print('True Positive' , cm[0,0])\n",
        "print('False Positive' , cm[0,1])\n",
        "print('True Negative' , cm[1,1])\n",
        "print('False Negative' , cm[1,0])"
      ],
      "metadata": {
        "id": "zptZt2yPxHBi",
        "outputId": "9280cd6c-4bb9-474f-8a43-8319332170f6",
        "colab": {
          "base_uri": "https://localhost:8080/"
        }
      },
      "execution_count": 100,
      "outputs": [
        {
          "output_type": "stream",
          "name": "stdout",
          "text": [
            "[[55  0]\n",
            " [ 5 15]]\n",
            "True Positive 55\n",
            "False Positive 0\n",
            "True Negative 15\n",
            "False Negative 5\n"
          ]
        }
      ]
    },
    {
      "cell_type": "code",
      "source": [
        "ConfusionMatrixDisplay(confusion_matrix=cm,display_labels=model.classes_).plot()\n"
      ],
      "metadata": {
        "id": "e1j-px6SxRO_",
        "outputId": "2dac1dfd-9743-4934-dac9-1333a1c0d900",
        "colab": {
          "base_uri": "https://localhost:8080/",
          "height": 466
        }
      },
      "execution_count": 108,
      "outputs": [
        {
          "output_type": "execute_result",
          "data": {
            "text/plain": [
              "<sklearn.metrics._plot.confusion_matrix.ConfusionMatrixDisplay at 0x78555251c8b0>"
            ]
          },
          "metadata": {},
          "execution_count": 108
        },
        {
          "output_type": "display_data",
          "data": {
            "text/plain": [
              "<Figure size 640x480 with 2 Axes>"
            ],
            "image/png": "[encoded data removed]"
          },
          "metadata": {}
        }
      ]
    }
  ],
  "metadata": {
    "colab": {
      "name": "歡迎使用 Colaboratory",
      "provenance": [],
      "include_colab_link": true
    },
    "kernelspec": {
      "display_name": "Python 3",
      "name": "python3"
    }
  },
  "nbformat": 4,
  "nbformat_minor": 0
}